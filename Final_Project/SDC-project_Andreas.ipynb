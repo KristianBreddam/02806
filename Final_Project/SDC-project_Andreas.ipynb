{
 "cells": [
  {
   "cell_type": "markdown",
   "metadata": {},
   "source": [
    "# Project in Social Data Analysis\n",
    "\n",
    "Data links:\n",
    "- https://www.opendata.dk/city-of-copenhagen/trae_basis \n",
    "- https://www.opendata.dk/city-of-copenhagen/gadetraeer\n",
    "\n",
    "Inspiration til vores illustration:\n",
    "https://www.cloudred.com/labprojects/nyctrees/\n",
    "\n",
    "\n",
    "### Things we need to do\n",
    "- How to make a webpage - "
   ]
  },
  {
   "cell_type": "code",
   "execution_count": 1,
   "metadata": {},
   "outputs": [],
   "source": [
    "import pandas as pd\n",
    "import numpy as np\n",
    "import matplotlib.pyplot as plt\n",
    "plt.style.use('ggplot')\n",
    "%matplotlib inline"
   ]
  },
  {
   "cell_type": "code",
   "execution_count": 45,
   "metadata": {},
   "outputs": [],
   "source": [
    "# Standard plotly imports\n",
    "import chart_studio.plotly as py\n",
    "import plotly.graph_objs as go\n",
    "from plotly.offline import iplot, init_notebook_mode\n",
    "import plotly.express as px"
   ]
  },
  {
   "cell_type": "code",
   "execution_count": 4,
   "metadata": {},
   "outputs": [
    {
     "data": {
      "text/html": [
       "<div>\n",
       "<style scoped>\n",
       "    .dataframe tbody tr th:only-of-type {\n",
       "        vertical-align: middle;\n",
       "    }\n",
       "\n",
       "    .dataframe tbody tr th {\n",
       "        vertical-align: top;\n",
       "    }\n",
       "\n",
       "    .dataframe thead th {\n",
       "        text-align: right;\n",
       "    }\n",
       "</style>\n",
       "<table border=\"1\" class=\"dataframe\">\n",
       "  <thead>\n",
       "    <tr style=\"text-align: right;\">\n",
       "      <th></th>\n",
       "      <th>FID</th>\n",
       "      <th>id</th>\n",
       "      <th>traeart</th>\n",
       "      <th>slaegt</th>\n",
       "      <th>dansk_navn</th>\n",
       "      <th>slaegtsnavn</th>\n",
       "      <th>planteaar</th>\n",
       "      <th>plantet_halvaar</th>\n",
       "      <th>garantiperioden_udloeber</th>\n",
       "      <th>plantemetode</th>\n",
       "      <th>...</th>\n",
       "      <th>trae_historie</th>\n",
       "      <th>botanisk_interesse</th>\n",
       "      <th>donor</th>\n",
       "      <th>anledning</th>\n",
       "      <th>saerligt_trae</th>\n",
       "      <th>saerlig_trae_bem</th>\n",
       "      <th>bydelsnavn</th>\n",
       "      <th>fredet_trae_foto</th>\n",
       "      <th>vejstatus</th>\n",
       "      <th>wkb_geometry</th>\n",
       "    </tr>\n",
       "  </thead>\n",
       "  <tbody>\n",
       "    <tr>\n",
       "      <th>0</th>\n",
       "      <td>gadetraer.1</td>\n",
       "      <td>18611</td>\n",
       "      <td>Tilia platyphyllos</td>\n",
       "      <td>Tilia sp.</td>\n",
       "      <td>Storbladet lind</td>\n",
       "      <td>Lind</td>\n",
       "      <td>1953.0</td>\n",
       "      <td>Ikke registreret</td>\n",
       "      <td>Ikke registreret</td>\n",
       "      <td>Muld</td>\n",
       "      <td>...</td>\n",
       "      <td>Ikke registreret</td>\n",
       "      <td>Ikke registreret</td>\n",
       "      <td>NaN</td>\n",
       "      <td>NaN</td>\n",
       "      <td>nej</td>\n",
       "      <td>NaN</td>\n",
       "      <td>Vesterbro-Kongens Enghave</td>\n",
       "      <td>NaN</td>\n",
       "      <td>2.0</td>\n",
       "      <td>POINT (12.5370471883976 55.6486340745573)</td>\n",
       "    </tr>\n",
       "    <tr>\n",
       "      <th>1</th>\n",
       "      <td>gadetraer.2</td>\n",
       "      <td>21291</td>\n",
       "      <td>Tilia platyphyllos</td>\n",
       "      <td>Tilia sp.</td>\n",
       "      <td>Storbladet lind</td>\n",
       "      <td>Lind</td>\n",
       "      <td>1953.0</td>\n",
       "      <td>Ikke registreret</td>\n",
       "      <td>Ikke registreret</td>\n",
       "      <td>Muld</td>\n",
       "      <td>...</td>\n",
       "      <td>Ikke registreret</td>\n",
       "      <td>Ikke registreret</td>\n",
       "      <td>NaN</td>\n",
       "      <td>NaN</td>\n",
       "      <td>nej</td>\n",
       "      <td>NaN</td>\n",
       "      <td>Vesterbro-Kongens Enghave</td>\n",
       "      <td>NaN</td>\n",
       "      <td>2.0</td>\n",
       "      <td>POINT (12.536925020477707 55.64867988581558)</td>\n",
       "    </tr>\n",
       "    <tr>\n",
       "      <th>2</th>\n",
       "      <td>gadetraer.3</td>\n",
       "      <td>21292</td>\n",
       "      <td>Tilia platyphyllos</td>\n",
       "      <td>Tilia sp.</td>\n",
       "      <td>Storbladet lind</td>\n",
       "      <td>Lind</td>\n",
       "      <td>1953.0</td>\n",
       "      <td>Ikke registreret</td>\n",
       "      <td>Ikke registreret</td>\n",
       "      <td>Muld</td>\n",
       "      <td>...</td>\n",
       "      <td>Ikke registreret</td>\n",
       "      <td>Ikke registreret</td>\n",
       "      <td>NaN</td>\n",
       "      <td>NaN</td>\n",
       "      <td>nej</td>\n",
       "      <td>NaN</td>\n",
       "      <td>Vesterbro-Kongens Enghave</td>\n",
       "      <td>NaN</td>\n",
       "      <td>2.0</td>\n",
       "      <td>POINT (12.537000905330974 55.64876361021244)</td>\n",
       "    </tr>\n",
       "    <tr>\n",
       "      <th>3</th>\n",
       "      <td>gadetraer.4</td>\n",
       "      <td>21293</td>\n",
       "      <td>Tilia platyphyllos</td>\n",
       "      <td>Tilia sp.</td>\n",
       "      <td>Storbladet lind</td>\n",
       "      <td>Lind</td>\n",
       "      <td>1953.0</td>\n",
       "      <td>Ikke registreret</td>\n",
       "      <td>Ikke registreret</td>\n",
       "      <td>Muld</td>\n",
       "      <td>...</td>\n",
       "      <td>Ikke registreret</td>\n",
       "      <td>Ikke registreret</td>\n",
       "      <td>NaN</td>\n",
       "      <td>NaN</td>\n",
       "      <td>nej</td>\n",
       "      <td>NaN</td>\n",
       "      <td>Vesterbro-Kongens Enghave</td>\n",
       "      <td>NaN</td>\n",
       "      <td>2.0</td>\n",
       "      <td>POINT (12.537133269649273 55.64872321507861)</td>\n",
       "    </tr>\n",
       "    <tr>\n",
       "      <th>4</th>\n",
       "      <td>gadetraer.5</td>\n",
       "      <td>21294</td>\n",
       "      <td>Tilia platyphyllos</td>\n",
       "      <td>Tilia sp.</td>\n",
       "      <td>Storbladet lind</td>\n",
       "      <td>Lind</td>\n",
       "      <td>1953.0</td>\n",
       "      <td>Ikke registreret</td>\n",
       "      <td>Ikke registreret</td>\n",
       "      <td>Muld</td>\n",
       "      <td>...</td>\n",
       "      <td>Ikke registreret</td>\n",
       "      <td>Ikke registreret</td>\n",
       "      <td>NaN</td>\n",
       "      <td>NaN</td>\n",
       "      <td>nej</td>\n",
       "      <td>NaN</td>\n",
       "      <td>Vesterbro-Kongens Enghave</td>\n",
       "      <td>NaN</td>\n",
       "      <td>2.0</td>\n",
       "      <td>POINT (12.537399549194998 55.648992732825036)</td>\n",
       "    </tr>\n",
       "  </tbody>\n",
       "</table>\n",
       "<p>5 rows × 28 columns</p>\n",
       "</div>"
      ],
      "text/plain": [
       "           FID     id              traeart     slaegt       dansk_navn  \\\n",
       "0  gadetraer.1  18611  Tilia platyphyllos   Tilia sp.  Storbladet lind   \n",
       "1  gadetraer.2  21291  Tilia platyphyllos   Tilia sp.  Storbladet lind   \n",
       "2  gadetraer.3  21292  Tilia platyphyllos   Tilia sp.  Storbladet lind   \n",
       "3  gadetraer.4  21293  Tilia platyphyllos   Tilia sp.  Storbladet lind   \n",
       "4  gadetraer.5  21294  Tilia platyphyllos   Tilia sp.  Storbladet lind   \n",
       "\n",
       "  slaegtsnavn  planteaar   plantet_halvaar garantiperioden_udloeber  \\\n",
       "0        Lind     1953.0  Ikke registreret         Ikke registreret   \n",
       "1        Lind     1953.0  Ikke registreret         Ikke registreret   \n",
       "2        Lind     1953.0  Ikke registreret         Ikke registreret   \n",
       "3        Lind     1953.0  Ikke registreret         Ikke registreret   \n",
       "4        Lind     1953.0  Ikke registreret         Ikke registreret   \n",
       "\n",
       "  plantemetode  ...     trae_historie botanisk_interesse donor anledning  \\\n",
       "0         Muld  ...  Ikke registreret   Ikke registreret   NaN       NaN   \n",
       "1         Muld  ...  Ikke registreret   Ikke registreret   NaN       NaN   \n",
       "2         Muld  ...  Ikke registreret   Ikke registreret   NaN       NaN   \n",
       "3         Muld  ...  Ikke registreret   Ikke registreret   NaN       NaN   \n",
       "4         Muld  ...  Ikke registreret   Ikke registreret   NaN       NaN   \n",
       "\n",
       "  saerligt_trae saerlig_trae_bem                 bydelsnavn fredet_trae_foto  \\\n",
       "0           nej              NaN  Vesterbro-Kongens Enghave              NaN   \n",
       "1           nej              NaN  Vesterbro-Kongens Enghave              NaN   \n",
       "2           nej              NaN  Vesterbro-Kongens Enghave              NaN   \n",
       "3           nej              NaN  Vesterbro-Kongens Enghave              NaN   \n",
       "4           nej              NaN  Vesterbro-Kongens Enghave              NaN   \n",
       "\n",
       "  vejstatus                                   wkb_geometry  \n",
       "0       2.0      POINT (12.5370471883976 55.6486340745573)  \n",
       "1       2.0   POINT (12.536925020477707 55.64867988581558)  \n",
       "2       2.0   POINT (12.537000905330974 55.64876361021244)  \n",
       "3       2.0   POINT (12.537133269649273 55.64872321507861)  \n",
       "4       2.0  POINT (12.537399549194998 55.648992732825036)  \n",
       "\n",
       "[5 rows x 28 columns]"
      ]
     },
     "execution_count": 4,
     "metadata": {},
     "output_type": "execute_result"
    }
   ],
   "source": [
    "df1 = pd.read_csv(\"gadetraer.csv\")\n",
    "df1.head()"
   ]
  },
  {
   "cell_type": "code",
   "execution_count": 5,
   "metadata": {},
   "outputs": [
    {
     "data": {
      "text/plain": [
       "(19956, 28)"
      ]
     },
     "execution_count": 5,
     "metadata": {},
     "output_type": "execute_result"
    }
   ],
   "source": [
    "df1.shape"
   ]
  },
  {
   "cell_type": "markdown",
   "metadata": {},
   "source": [
    "# Analyse af df1, *gadetraer.csv*"
   ]
  },
  {
   "cell_type": "code",
   "execution_count": 13,
   "metadata": {},
   "outputs": [],
   "source": [
    "traer = df1.groupby(['slaegtsnavn']).count().id\n",
    "traer = traer.sort_values(ascending=False)"
   ]
  },
  {
   "cell_type": "code",
   "execution_count": 20,
   "metadata": {},
   "outputs": [
    {
     "data": {
      "image/png": "[encoded data removed]",
      "text/plain": [
       "<Figure size 864x360 with 1 Axes>"
      ]
     },
     "metadata": {
      "needs_background": "light"
     },
     "output_type": "display_data"
    }
   ],
   "source": [
    "plt.rcParams['figure.figsize'] = (12, 5)\n",
    "plt.bar(traer.index,traer.values)\n",
    "plt.title(\"Tree familyname\")\n",
    "plt.ylabel(\"Tree counts\")\n",
    "plt.xticks(rotation=90)\n",
    "plt.show()"
   ]
  },
  {
   "cell_type": "code",
   "execution_count": 21,
   "metadata": {},
   "outputs": [
    {
     "data": {
      "image/png": "[encoded data removed]",
      "text/plain": [
       "<Figure size 864x360 with 1 Axes>"
      ]
     },
     "metadata": {
      "needs_background": "light"
     },
     "output_type": "display_data"
    }
   ],
   "source": [
    "plt.rcParams['figure.figsize'] = (12, 5)\n",
    "plt.bar(traer.index[:10],traer.values[:10])\n",
    "plt.title(\"Tree familyname top 10\")\n",
    "plt.ylabel(\"Tree counts\")\n",
    "plt.xticks(rotation=45)\n",
    "plt.show()"
   ]
  },
  {
   "cell_type": "code",
   "execution_count": 52,
   "metadata": {},
   "outputs": [
    {
     "data": {
      "application/vnd.plotly.v1+json": {
       "config": {
        "plotlyServerURL": "https://plot.ly"
       },
       "data": [
        {
         "text": [
          5527,
          2298,
          1882,
          1481,
          1394,
          1314,
          1294,
          928,
          487,
          404
         ],
         "textposition": "auto",
         "type": "bar",
         "x": [
          "Lind",
          "Platan",
          "Røn",
          "Løn",
          "Ask",
          "Eg",
          "Robinie",
          "Kirsebær/Blomme",
          "Tjørn",
          "Elm"
         ],
         "y": [
          5527,
          2298,
          1882,
          1481,
          1394,
          1314,
          1294,
          928,
          487,
          404
         ]
        }
       ],
       "layout": {
        "template": {
         "data": {
          "bar": [
           {
            "error_x": {
             "color": "#2a3f5f"
            },
            "error_y": {
             "color": "#2a3f5f"
            },
            "marker": {
             "line": {
              "color": "#E5ECF6",
              "width": 0.5
             }
            },
            "type": "bar"
           }
          ],
          "barpolar": [
           {
            "marker": {
             "line": {
              "color": "#E5ECF6",
              "width": 0.5
             }
            },
            "type": "barpolar"
           }
          ],
          "carpet": [
           {
            "aaxis": {
             "endlinecolor": "#2a3f5f",
             "gridcolor": "white",
             "linecolor": "white",
             "minorgridcolor": "white",
             "startlinecolor": "#2a3f5f"
            },
            "baxis": {
             "endlinecolor": "#2a3f5f",
             "gridcolor": "white",
             "linecolor": "white",
             "minorgridcolor": "white",
             "startlinecolor": "#2a3f5f"
            },
            "type": "carpet"
           }
          ],
          "choropleth": [
           {
            "colorbar": {
             "outlinewidth": 0,
             "ticks": ""
            },
            "type": "choropleth"
           }
          ],
          "contour": [
           {
            "colorbar": {
             "outlinewidth": 0,
             "ticks": ""
            },
            "colorscale": [
             [
              0,
              "#0d0887"
             ],
             [
              0.1111111111111111,
              "#46039f"
             ],
             [
              0.2222222222222222,
              "#7201a8"
             ],
             [
              0.3333333333333333,
              "#9c179e"
             ],
             [
              0.4444444444444444,
              "#bd3786"
             ],
             [
              0.5555555555555556,
              "#d8576b"
             ],
             [
              0.6666666666666666,
              "#ed7953"
             ],
             [
              0.7777777777777778,
              "#fb9f3a"
             ],
             [
              0.8888888888888888,
              "#fdca26"
             ],
             [
              1,
              "#f0f921"
             ]
            ],
            "type": "contour"
           }
          ],
          "contourcarpet": [
           {
            "colorbar": {
             "outlinewidth": 0,
             "ticks": ""
            },
            "type": "contourcarpet"
           }
          ],
          "heatmap": [
           {
            "colorbar": {
             "outlinewidth": 0,
             "ticks": ""
            },
            "colorscale": [
             [
              0,
              "#0d0887"
             ],
             [
              0.1111111111111111,
              "#46039f"
             ],
             [
              0.2222222222222222,
              "#7201a8"
             ],
             [
              0.3333333333333333,
              "#9c179e"
             ],
             [
              0.4444444444444444,
              "#bd3786"
             ],
             [
              0.5555555555555556,
              "#d8576b"
             ],
             [
              0.6666666666666666,
              "#ed7953"
             ],
             [
              0.7777777777777778,
              "#fb9f3a"
             ],
             [
              0.8888888888888888,
              "#fdca26"
             ],
             [
              1,
              "#f0f921"
             ]
            ],
            "type": "heatmap"
           }
          ],
          "heatmapgl": [
           {
            "colorbar": {
             "outlinewidth": 0,
             "ticks": ""
            },
            "colorscale": [
             [
              0,
              "#0d0887"
             ],
             [
              0.1111111111111111,
              "#46039f"
             ],
             [
              0.2222222222222222,
              "#7201a8"
             ],
             [
              0.3333333333333333,
              "#9c179e"
             ],
             [
              0.4444444444444444,
              "#bd3786"
             ],
             [
              0.5555555555555556,
              "#d8576b"
             ],
             [
              0.6666666666666666,
              "#ed7953"
             ],
             [
              0.7777777777777778,
              "#fb9f3a"
             ],
             [
              0.8888888888888888,
              "#fdca26"
             ],
             [
              1,
              "#f0f921"
             ]
            ],
            "type": "heatmapgl"
           }
          ],
          "histogram": [
           {
            "marker": {
             "colorbar": {
              "outlinewidth": 0,
              "ticks": ""
             }
            },
            "type": "histogram"
           }
          ],
          "histogram2d": [
           {
            "colorbar": {
             "outlinewidth": 0,
             "ticks": ""
            },
            "colorscale": [
             [
              0,
              "#0d0887"
             ],
             [
              0.1111111111111111,
              "#46039f"
             ],
             [
              0.2222222222222222,
              "#7201a8"
             ],
             [
              0.3333333333333333,
              "#9c179e"
             ],
             [
              0.4444444444444444,
              "#bd3786"
             ],
             [
              0.5555555555555556,
              "#d8576b"
             ],
             [
              0.6666666666666666,
              "#ed7953"
             ],
             [
              0.7777777777777778,
              "#fb9f3a"
             ],
             [
              0.8888888888888888,
              "#fdca26"
             ],
             [
              1,
              "#f0f921"
             ]
            ],
            "type": "histogram2d"
           }
          ],
          "histogram2dcontour": [
           {
            "colorbar": {
             "outlinewidth": 0,
             "ticks": ""
            },
            "colorscale": [
             [
              0,
              "#0d0887"
             ],
             [
              0.1111111111111111,
              "#46039f"
             ],
             [
              0.2222222222222222,
              "#7201a8"
             ],
             [
              0.3333333333333333,
              "#9c179e"
             ],
             [
              0.4444444444444444,
              "#bd3786"
             ],
             [
              0.5555555555555556,
              "#d8576b"
             ],
             [
              0.6666666666666666,
              "#ed7953"
             ],
             [
              0.7777777777777778,
              "#fb9f3a"
             ],
             [
              0.8888888888888888,
              "#fdca26"
             ],
             [
              1,
              "#f0f921"
             ]
            ],
            "type": "histogram2dcontour"
           }
          ],
          "mesh3d": [
           {
            "colorbar": {
             "outlinewidth": 0,
             "ticks": ""
            },
            "type": "mesh3d"
           }
          ],
          "parcoords": [
           {
            "line": {
             "colorbar": {
              "outlinewidth": 0,
              "ticks": ""
             }
            },
            "type": "parcoords"
           }
          ],
          "pie": [
           {
            "automargin": true,
            "type": "pie"
           }
          ],
          "scatter": [
           {
            "marker": {
             "colorbar": {
              "outlinewidth": 0,
              "ticks": ""
             }
            },
            "type": "scatter"
           }
          ],
          "scatter3d": [
           {
            "line": {
             "colorbar": {
              "outlinewidth": 0,
              "ticks": ""
             }
            },
            "marker": {
             "colorbar": {
              "outlinewidth": 0,
              "ticks": ""
             }
            },
            "type": "scatter3d"
           }
          ],
          "scattercarpet": [
           {
            "marker": {
             "colorbar": {
              "outlinewidth": 0,
              "ticks": ""
             }
            },
            "type": "scattercarpet"
           }
          ],
          "scattergeo": [
           {
            "marker": {
             "colorbar": {
              "outlinewidth": 0,
              "ticks": ""
             }
            },
            "type": "scattergeo"
           }
          ],
          "scattergl": [
           {
            "marker": {
             "colorbar": {
              "outlinewidth": 0,
              "ticks": ""
             }
            },
            "type": "scattergl"
           }
          ],
          "scattermapbox": [
           {
            "marker": {
             "colorbar": {
              "outlinewidth": 0,
              "ticks": ""
             }
            },
            "type": "scattermapbox"
           }
          ],
          "scatterpolar": [
           {
            "marker": {
             "colorbar": {
              "outlinewidth": 0,
              "ticks": ""
             }
            },
            "type": "scatterpolar"
           }
          ],
          "scatterpolargl": [
           {
            "marker": {
             "colorbar": {
              "outlinewidth": 0,
              "ticks": ""
             }
            },
            "type": "scatterpolargl"
           }
          ],
          "scatterternary": [
           {
            "marker": {
             "colorbar": {
              "outlinewidth": 0,
              "ticks": ""
             }
            },
            "type": "scatterternary"
           }
          ],
          "surface": [
           {
            "colorbar": {
             "outlinewidth": 0,
             "ticks": ""
            },
            "colorscale": [
             [
              0,
              "#0d0887"
             ],
             [
              0.1111111111111111,
              "#46039f"
             ],
             [
              0.2222222222222222,
              "#7201a8"
             ],
             [
              0.3333333333333333,
              "#9c179e"
             ],
             [
              0.4444444444444444,
              "#bd3786"
             ],
             [
              0.5555555555555556,
              "#d8576b"
             ],
             [
              0.6666666666666666,
              "#ed7953"
             ],
             [
              0.7777777777777778,
              "#fb9f3a"
             ],
             [
              0.8888888888888888,
              "#fdca26"
             ],
             [
              1,
              "#f0f921"
             ]
            ],
            "type": "surface"
           }
          ],
          "table": [
           {
            "cells": {
             "fill": {
              "color": "#EBF0F8"
             },
             "line": {
              "color": "white"
             }
            },
            "header": {
             "fill": {
              "color": "#C8D4E3"
             },
             "line": {
              "color": "white"
             }
            },
            "type": "table"
           }
          ]
         },
         "layout": {
          "annotationdefaults": {
           "arrowcolor": "#2a3f5f",
           "arrowhead": 0,
           "arrowwidth": 1
          },
          "coloraxis": {
           "colorbar": {
            "outlinewidth": 0,
            "ticks": ""
           }
          },
          "colorscale": {
           "diverging": [
            [
             0,
             "#8e0152"
            ],
            [
             0.1,
             "#c51b7d"
            ],
            [
             0.2,
             "#de77ae"
            ],
            [
             0.3,
             "#f1b6da"
            ],
            [
             0.4,
             "#fde0ef"
            ],
            [
             0.5,
             "#f7f7f7"
            ],
            [
             0.6,
             "#e6f5d0"
            ],
            [
             0.7,
             "#b8e186"
            ],
            [
             0.8,
             "#7fbc41"
            ],
            [
             0.9,
             "#4d9221"
            ],
            [
             1,
             "#276419"
            ]
           ],
           "sequential": [
            [
             0,
             "#0d0887"
            ],
            [
             0.1111111111111111,
             "#46039f"
            ],
            [
             0.2222222222222222,
             "#7201a8"
            ],
            [
             0.3333333333333333,
             "#9c179e"
            ],
            [
             0.4444444444444444,
             "#bd3786"
            ],
            [
             0.5555555555555556,
             "#d8576b"
            ],
            [
             0.6666666666666666,
             "#ed7953"
            ],
            [
             0.7777777777777778,
             "#fb9f3a"
            ],
            [
             0.8888888888888888,
             "#fdca26"
            ],
            [
             1,
             "#f0f921"
            ]
           ],
           "sequentialminus": [
            [
             0,
             "#0d0887"
            ],
            [
             0.1111111111111111,
             "#46039f"
            ],
            [
             0.2222222222222222,
             "#7201a8"
            ],
            [
             0.3333333333333333,
             "#9c179e"
            ],
            [
             0.4444444444444444,
             "#bd3786"
            ],
            [
             0.5555555555555556,
             "#d8576b"
            ],
            [
             0.6666666666666666,
             "#ed7953"
            ],
            [
             0.7777777777777778,
             "#fb9f3a"
            ],
            [
             0.8888888888888888,
             "#fdca26"
            ],
            [
             1,
             "#f0f921"
            ]
           ]
          },
          "colorway": [
           "#636efa",
           "#EF553B",
           "#00cc96",
           "#ab63fa",
           "#FFA15A",
           "#19d3f3",
           "#FF6692",
           "#B6E880",
           "#FF97FF",
           "#FECB52"
          ],
          "font": {
           "color": "#2a3f5f"
          },
          "geo": {
           "bgcolor": "white",
           "lakecolor": "white",
           "landcolor": "#E5ECF6",
           "showlakes": true,
           "showland": true,
           "subunitcolor": "white"
          },
          "hoverlabel": {
           "align": "left"
          },
          "hovermode": "closest",
          "mapbox": {
           "style": "light"
          },
          "paper_bgcolor": "white",
          "plot_bgcolor": "#E5ECF6",
          "polar": {
           "angularaxis": {
            "gridcolor": "white",
            "linecolor": "white",
            "ticks": ""
           },
           "bgcolor": "#E5ECF6",
           "radialaxis": {
            "gridcolor": "white",
            "linecolor": "white",
            "ticks": ""
           }
          },
          "scene": {
           "xaxis": {
            "backgroundcolor": "#E5ECF6",
            "gridcolor": "white",
            "gridwidth": 2,
            "linecolor": "white",
            "showbackground": true,
            "ticks": "",
            "zerolinecolor": "white"
           },
           "yaxis": {
            "backgroundcolor": "#E5ECF6",
            "gridcolor": "white",
            "gridwidth": 2,
            "linecolor": "white",
            "showbackground": true,
            "ticks": "",
            "zerolinecolor": "white"
           },
           "zaxis": {
            "backgroundcolor": "#E5ECF6",
            "gridcolor": "white",
            "gridwidth": 2,
            "linecolor": "white",
            "showbackground": true,
            "ticks": "",
            "zerolinecolor": "white"
           }
          },
          "shapedefaults": {
           "line": {
            "color": "#2a3f5f"
           }
          },
          "ternary": {
           "aaxis": {
            "gridcolor": "white",
            "linecolor": "white",
            "ticks": ""
           },
           "baxis": {
            "gridcolor": "white",
            "linecolor": "white",
            "ticks": ""
           },
           "bgcolor": "#E5ECF6",
           "caxis": {
            "gridcolor": "white",
            "linecolor": "white",
            "ticks": ""
           }
          },
          "title": {
           "x": 0.05
          },
          "xaxis": {
           "automargin": true,
           "gridcolor": "white",
           "linecolor": "white",
           "ticks": "",
           "title": {
            "standoff": 15
           },
           "zerolinecolor": "white",
           "zerolinewidth": 2
          },
          "yaxis": {
           "automargin": true,
           "gridcolor": "white",
           "linecolor": "white",
           "ticks": "",
           "title": {
            "standoff": 15
           },
           "zerolinecolor": "white",
           "zerolinewidth": 2
          }
         }
        }
       }
      },
      "text/html": [
       "<div>\n",
       "        \n",
       "        \n",
       "            <div id=\"2f55cbe6-842d-43dd-ae0e-c50be577aeaf\" class=\"plotly-graph-div\" style=\"height:525px; width:100%;\"></div>\n",
       "            <script type=\"text/javascript\">\n",
       "                require([\"plotly\"], function(Plotly) {\n",
       "                    window.PLOTLYENV=window.PLOTLYENV || {};\n",
       "                    \n",
       "                if (document.getElementById(\"2f55cbe6-842d-43dd-ae0e-c50be577aeaf\")) {\n",
       "                    Plotly.newPlot(\n",
       "                        '2f55cbe6-842d-43dd-ae0e-c50be577aeaf',\n",
       "                        [{\"text\": [5527.0, 2298.0, 1882.0, 1481.0, 1394.0, 1314.0, 1294.0, 928.0, 487.0, 404.0], \"textposition\": \"auto\", \"type\": \"bar\", \"x\": [\"Lind\", \"Platan\", \"R\\u00f8n\", \"L\\u00f8n\", \"Ask\", \"Eg\", \"Robinie\", \"Kirseb\\u00e6r/Blomme\", \"Tj\\u00f8rn\", \"Elm\"], \"y\": [5527, 2298, 1882, 1481, 1394, 1314, 1294, 928, 487, 404]}],\n",
       "                        {\"template\": {\"data\": {\"bar\": [{\"error_x\": {\"color\": \"#2a3f5f\"}, \"error_y\": {\"color\": \"#2a3f5f\"}, \"marker\": {\"line\": {\"color\": \"#E5ECF6\", \"width\": 0.5}}, \"type\": \"bar\"}], \"barpolar\": [{\"marker\": {\"line\": {\"color\": \"#E5ECF6\", \"width\": 0.5}}, \"type\": \"barpolar\"}], \"carpet\": [{\"aaxis\": {\"endlinecolor\": \"#2a3f5f\", \"gridcolor\": \"white\", \"linecolor\": \"white\", \"minorgridcolor\": \"white\", \"startlinecolor\": \"#2a3f5f\"}, \"baxis\": {\"endlinecolor\": \"#2a3f5f\", \"gridcolor\": \"white\", \"linecolor\": \"white\", \"minorgridcolor\": \"white\", \"startlinecolor\": \"#2a3f5f\"}, \"type\": \"carpet\"}], \"choropleth\": [{\"colorbar\": {\"outlinewidth\": 0, \"ticks\": \"\"}, \"type\": \"choropleth\"}], \"contour\": [{\"colorbar\": {\"outlinewidth\": 0, \"ticks\": \"\"}, \"colorscale\": [[0.0, \"#0d0887\"], [0.1111111111111111, \"#46039f\"], [0.2222222222222222, \"#7201a8\"], [0.3333333333333333, \"#9c179e\"], [0.4444444444444444, \"#bd3786\"], [0.5555555555555556, \"#d8576b\"], [0.6666666666666666, \"#ed7953\"], [0.7777777777777778, \"#fb9f3a\"], [0.8888888888888888, \"#fdca26\"], [1.0, \"#f0f921\"]], \"type\": \"contour\"}], \"contourcarpet\": [{\"colorbar\": {\"outlinewidth\": 0, \"ticks\": \"\"}, \"type\": \"contourcarpet\"}], \"heatmap\": [{\"colorbar\": {\"outlinewidth\": 0, \"ticks\": \"\"}, \"colorscale\": [[0.0, \"#0d0887\"], [0.1111111111111111, \"#46039f\"], [0.2222222222222222, \"#7201a8\"], [0.3333333333333333, \"#9c179e\"], [0.4444444444444444, \"#bd3786\"], [0.5555555555555556, \"#d8576b\"], [0.6666666666666666, \"#ed7953\"], [0.7777777777777778, \"#fb9f3a\"], [0.8888888888888888, \"#fdca26\"], [1.0, \"#f0f921\"]], \"type\": \"heatmap\"}], \"heatmapgl\": [{\"colorbar\": {\"outlinewidth\": 0, \"ticks\": \"\"}, \"colorscale\": [[0.0, \"#0d0887\"], [0.1111111111111111, \"#46039f\"], [0.2222222222222222, \"#7201a8\"], [0.3333333333333333, \"#9c179e\"], [0.4444444444444444, \"#bd3786\"], [0.5555555555555556, \"#d8576b\"], [0.6666666666666666, \"#ed7953\"], [0.7777777777777778, \"#fb9f3a\"], [0.8888888888888888, \"#fdca26\"], [1.0, \"#f0f921\"]], \"type\": \"heatmapgl\"}], \"histogram\": [{\"marker\": {\"colorbar\": {\"outlinewidth\": 0, \"ticks\": \"\"}}, \"type\": \"histogram\"}], \"histogram2d\": [{\"colorbar\": {\"outlinewidth\": 0, \"ticks\": \"\"}, \"colorscale\": [[0.0, \"#0d0887\"], [0.1111111111111111, \"#46039f\"], [0.2222222222222222, \"#7201a8\"], [0.3333333333333333, \"#9c179e\"], [0.4444444444444444, \"#bd3786\"], [0.5555555555555556, \"#d8576b\"], [0.6666666666666666, \"#ed7953\"], [0.7777777777777778, \"#fb9f3a\"], [0.8888888888888888, \"#fdca26\"], [1.0, \"#f0f921\"]], \"type\": \"histogram2d\"}], \"histogram2dcontour\": [{\"colorbar\": {\"outlinewidth\": 0, \"ticks\": \"\"}, \"colorscale\": [[0.0, \"#0d0887\"], [0.1111111111111111, \"#46039f\"], [0.2222222222222222, \"#7201a8\"], [0.3333333333333333, \"#9c179e\"], [0.4444444444444444, \"#bd3786\"], [0.5555555555555556, \"#d8576b\"], [0.6666666666666666, \"#ed7953\"], [0.7777777777777778, \"#fb9f3a\"], [0.8888888888888888, \"#fdca26\"], [1.0, \"#f0f921\"]], \"type\": \"histogram2dcontour\"}], \"mesh3d\": [{\"colorbar\": {\"outlinewidth\": 0, \"ticks\": \"\"}, \"type\": \"mesh3d\"}], \"parcoords\": [{\"line\": {\"colorbar\": {\"outlinewidth\": 0, \"ticks\": \"\"}}, \"type\": \"parcoords\"}], \"pie\": [{\"automargin\": true, \"type\": \"pie\"}], \"scatter\": [{\"marker\": {\"colorbar\": {\"outlinewidth\": 0, \"ticks\": \"\"}}, \"type\": \"scatter\"}], \"scatter3d\": [{\"line\": {\"colorbar\": {\"outlinewidth\": 0, \"ticks\": \"\"}}, \"marker\": {\"colorbar\": {\"outlinewidth\": 0, \"ticks\": \"\"}}, \"type\": \"scatter3d\"}], \"scattercarpet\": [{\"marker\": {\"colorbar\": {\"outlinewidth\": 0, \"ticks\": \"\"}}, \"type\": \"scattercarpet\"}], \"scattergeo\": [{\"marker\": {\"colorbar\": {\"outlinewidth\": 0, \"ticks\": \"\"}}, \"type\": \"scattergeo\"}], \"scattergl\": [{\"marker\": {\"colorbar\": {\"outlinewidth\": 0, \"ticks\": \"\"}}, \"type\": \"scattergl\"}], \"scattermapbox\": [{\"marker\": {\"colorbar\": {\"outlinewidth\": 0, \"ticks\": \"\"}}, \"type\": \"scattermapbox\"}], \"scatterpolar\": [{\"marker\": {\"colorbar\": {\"outlinewidth\": 0, \"ticks\": \"\"}}, \"type\": \"scatterpolar\"}], \"scatterpolargl\": [{\"marker\": {\"colorbar\": {\"outlinewidth\": 0, \"ticks\": \"\"}}, \"type\": \"scatterpolargl\"}], \"scatterternary\": [{\"marker\": {\"colorbar\": {\"outlinewidth\": 0, \"ticks\": \"\"}}, \"type\": \"scatterternary\"}], \"surface\": [{\"colorbar\": {\"outlinewidth\": 0, \"ticks\": \"\"}, \"colorscale\": [[0.0, \"#0d0887\"], [0.1111111111111111, \"#46039f\"], [0.2222222222222222, \"#7201a8\"], [0.3333333333333333, \"#9c179e\"], [0.4444444444444444, \"#bd3786\"], [0.5555555555555556, \"#d8576b\"], [0.6666666666666666, \"#ed7953\"], [0.7777777777777778, \"#fb9f3a\"], [0.8888888888888888, \"#fdca26\"], [1.0, \"#f0f921\"]], \"type\": \"surface\"}], \"table\": [{\"cells\": {\"fill\": {\"color\": \"#EBF0F8\"}, \"line\": {\"color\": \"white\"}}, \"header\": {\"fill\": {\"color\": \"#C8D4E3\"}, \"line\": {\"color\": \"white\"}}, \"type\": \"table\"}]}, \"layout\": {\"annotationdefaults\": {\"arrowcolor\": \"#2a3f5f\", \"arrowhead\": 0, \"arrowwidth\": 1}, \"coloraxis\": {\"colorbar\": {\"outlinewidth\": 0, \"ticks\": \"\"}}, \"colorscale\": {\"diverging\": [[0, \"#8e0152\"], [0.1, \"#c51b7d\"], [0.2, \"#de77ae\"], [0.3, \"#f1b6da\"], [0.4, \"#fde0ef\"], [0.5, \"#f7f7f7\"], [0.6, \"#e6f5d0\"], [0.7, \"#b8e186\"], [0.8, \"#7fbc41\"], [0.9, \"#4d9221\"], [1, \"#276419\"]], \"sequential\": [[0.0, \"#0d0887\"], [0.1111111111111111, \"#46039f\"], [0.2222222222222222, \"#7201a8\"], [0.3333333333333333, \"#9c179e\"], [0.4444444444444444, \"#bd3786\"], [0.5555555555555556, \"#d8576b\"], [0.6666666666666666, \"#ed7953\"], [0.7777777777777778, \"#fb9f3a\"], [0.8888888888888888, \"#fdca26\"], [1.0, \"#f0f921\"]], \"sequentialminus\": [[0.0, \"#0d0887\"], [0.1111111111111111, \"#46039f\"], [0.2222222222222222, \"#7201a8\"], [0.3333333333333333, \"#9c179e\"], [0.4444444444444444, \"#bd3786\"], [0.5555555555555556, \"#d8576b\"], [0.6666666666666666, \"#ed7953\"], [0.7777777777777778, \"#fb9f3a\"], [0.8888888888888888, \"#fdca26\"], [1.0, \"#f0f921\"]]}, \"colorway\": [\"#636efa\", \"#EF553B\", \"#00cc96\", \"#ab63fa\", \"#FFA15A\", \"#19d3f3\", \"#FF6692\", \"#B6E880\", \"#FF97FF\", \"#FECB52\"], \"font\": {\"color\": \"#2a3f5f\"}, \"geo\": {\"bgcolor\": \"white\", \"lakecolor\": \"white\", \"landcolor\": \"#E5ECF6\", \"showlakes\": true, \"showland\": true, \"subunitcolor\": \"white\"}, \"hoverlabel\": {\"align\": \"left\"}, \"hovermode\": \"closest\", \"mapbox\": {\"style\": \"light\"}, \"paper_bgcolor\": \"white\", \"plot_bgcolor\": \"#E5ECF6\", \"polar\": {\"angularaxis\": {\"gridcolor\": \"white\", \"linecolor\": \"white\", \"ticks\": \"\"}, \"bgcolor\": \"#E5ECF6\", \"radialaxis\": {\"gridcolor\": \"white\", \"linecolor\": \"white\", \"ticks\": \"\"}}, \"scene\": {\"xaxis\": {\"backgroundcolor\": \"#E5ECF6\", \"gridcolor\": \"white\", \"gridwidth\": 2, \"linecolor\": \"white\", \"showbackground\": true, \"ticks\": \"\", \"zerolinecolor\": \"white\"}, \"yaxis\": {\"backgroundcolor\": \"#E5ECF6\", \"gridcolor\": \"white\", \"gridwidth\": 2, \"linecolor\": \"white\", \"showbackground\": true, \"ticks\": \"\", \"zerolinecolor\": \"white\"}, \"zaxis\": {\"backgroundcolor\": \"#E5ECF6\", \"gridcolor\": \"white\", \"gridwidth\": 2, \"linecolor\": \"white\", \"showbackground\": true, \"ticks\": \"\", \"zerolinecolor\": \"white\"}}, \"shapedefaults\": {\"line\": {\"color\": \"#2a3f5f\"}}, \"ternary\": {\"aaxis\": {\"gridcolor\": \"white\", \"linecolor\": \"white\", \"ticks\": \"\"}, \"baxis\": {\"gridcolor\": \"white\", \"linecolor\": \"white\", \"ticks\": \"\"}, \"bgcolor\": \"#E5ECF6\", \"caxis\": {\"gridcolor\": \"white\", \"linecolor\": \"white\", \"ticks\": \"\"}}, \"title\": {\"x\": 0.05}, \"xaxis\": {\"automargin\": true, \"gridcolor\": \"white\", \"linecolor\": \"white\", \"ticks\": \"\", \"title\": {\"standoff\": 15}, \"zerolinecolor\": \"white\", \"zerolinewidth\": 2}, \"yaxis\": {\"automargin\": true, \"gridcolor\": \"white\", \"linecolor\": \"white\", \"ticks\": \"\", \"title\": {\"standoff\": 15}, \"zerolinecolor\": \"white\", \"zerolinewidth\": 2}}}},\n",
       "                        {\"responsive\": true}\n",
       "                    ).then(function(){\n",
       "                            \n",
       "var gd = document.getElementById('2f55cbe6-842d-43dd-ae0e-c50be577aeaf');\n",
       "var x = new MutationObserver(function (mutations, observer) {{\n",
       "        var display = window.getComputedStyle(gd).display;\n",
       "        if (!display || display === 'none') {{\n",
       "            console.log([gd, 'removed!']);\n",
       "            Plotly.purge(gd);\n",
       "            observer.disconnect();\n",
       "        }}\n",
       "}});\n",
       "\n",
       "// Listen for the removal of the full notebook cells\n",
       "var notebookContainer = gd.closest('#notebook-container');\n",
       "if (notebookContainer) {{\n",
       "    x.observe(notebookContainer, {childList: true});\n",
       "}}\n",
       "\n",
       "// Listen for the clearing of the current output cell\n",
       "var outputEl = gd.closest('.output');\n",
       "if (outputEl) {{\n",
       "    x.observe(outputEl, {childList: true});\n",
       "}}\n",
       "\n",
       "                        })\n",
       "                };\n",
       "                });\n",
       "            </script>\n",
       "        </div>"
      ]
     },
     "metadata": {},
     "output_type": "display_data"
    }
   ],
   "source": [
    "fig = go.Figure([go.Bar(x=traer.index[:10], y=traer.values[:10],\n",
    "                 text=traer.values[:10],textposition=\"auto\")])\n",
    "fig.show()"
   ]
  },
  {
   "cell_type": "code",
   "execution_count": 24,
   "metadata": {},
   "outputs": [],
   "source": [
    "byer = df1.groupby(['bydelsnavn']).count().id\n",
    "byer = byer.sort_values(ascending=False)"
   ]
  },
  {
   "cell_type": "code",
   "execution_count": 25,
   "metadata": {},
   "outputs": [
    {
     "data": {
      "image/png": "[encoded data removed]",
      "text/plain": [
       "<Figure size 864x360 with 1 Axes>"
      ]
     },
     "metadata": {
      "needs_background": "light"
     },
     "output_type": "display_data"
    }
   ],
   "source": [
    "plt.rcParams['figure.figsize'] = (12, 5)\n",
    "plt.bar(byer.index,byer.values)\n",
    "plt.title(\"Districts\")\n",
    "plt.ylabel(\"Tree counts\")\n",
    "plt.xticks(rotation=45)\n",
    "plt.show()"
   ]
  },
  {
   "cell_type": "markdown",
   "metadata": {},
   "source": [
    "Let's make a plot of the top 10 most common trees in each district of Copenhagen"
   ]
  },
  {
   "cell_type": "code",
   "execution_count": 38,
   "metadata": {},
   "outputs": [
    {
     "data": {
      "text/plain": [
       "10"
      ]
     },
     "execution_count": 38,
     "metadata": {},
     "output_type": "execute_result"
    }
   ],
   "source": [
    "len(districts)\n"
   ]
  },
  {
   "cell_type": "code",
   "execution_count": 43,
   "metadata": {},
   "outputs": [
    {
     "data": {
      "image/png": "[encoded data removed]",
      "text/plain": [
       "<Figure size 1080x1800 with 10 Axes>"
      ]
     },
     "metadata": {
      "needs_background": "light"
     },
     "output_type": "display_data"
    }
   ],
   "source": [
    "# Define district names\n",
    "districts = byer.index\n",
    "# Figure size\n",
    "plt.rcParams['figure.figsize'] = (15, 25)\n",
    "# Initialize the figure\n",
    "fig, axs = plt.subplots(5,2)\n",
    "p=0\n",
    "\n",
    "for i in range(0,5):\n",
    "    for j in range(0,2):\n",
    "        # slice dataframe to only the districs\n",
    "        temp = df1[df1['bydelsnavn'] == districts[p]]\n",
    "        treeTemp = temp.groupby(['slaegtsnavn']).count().id\n",
    "        treeTemp = treeTemp.sort_values(ascending=False) \n",
    "        # Plot\n",
    "        axs[i,j].bar(treeTemp.index[:10],treeTemp.values[:10])\n",
    "        axs[i,j].set_title(districts[p])\n",
    "        axs[i,j].set_ylabel(\"Tree counts\")\n",
    "        axs[i,j].set_xticklabels(treeTemp.index[:10],rotation=45)\n",
    "        p += 1\n",
    "\n",
    "plt.suptitle(\"Top 10 most commen trees in each district\", size = 20)\n",
    "# Tight fit\n",
    "plt.tight_layout(rect = [0,0.03,1,0.95])\n",
    "plt.show()"
   ]
  },
  {
   "cell_type": "markdown",
   "metadata": {},
   "source": [
    "Lets now make a stacked barchart"
   ]
  },
  {
   "cell_type": "code",
   "execution_count": 138,
   "metadata": {},
   "outputs": [
    {
     "data": {
      "text/html": [
       "<div>\n",
       "<style scoped>\n",
       "    .dataframe tbody tr th:only-of-type {\n",
       "        vertical-align: middle;\n",
       "    }\n",
       "\n",
       "    .dataframe tbody tr th {\n",
       "        vertical-align: top;\n",
       "    }\n",
       "\n",
       "    .dataframe thead th {\n",
       "        text-align: right;\n",
       "    }\n",
       "</style>\n",
       "<table border=\"1\" class=\"dataframe\">\n",
       "  <thead>\n",
       "    <tr style=\"text-align: right;\">\n",
       "      <th>bydelsnavn</th>\n",
       "      <th>Amager Vest</th>\n",
       "      <th>Amager Øst</th>\n",
       "      <th>Bispebjerg</th>\n",
       "      <th>Brønshøj-Husum</th>\n",
       "      <th>Indre By</th>\n",
       "      <th>Nørrebro</th>\n",
       "      <th>Valby</th>\n",
       "      <th>Vanløse</th>\n",
       "      <th>Vesterbro-Kongens Enghave</th>\n",
       "      <th>Østerbro</th>\n",
       "    </tr>\n",
       "    <tr>\n",
       "      <th>slaegtsnavn</th>\n",
       "      <th></th>\n",
       "      <th></th>\n",
       "      <th></th>\n",
       "      <th></th>\n",
       "      <th></th>\n",
       "      <th></th>\n",
       "      <th></th>\n",
       "      <th></th>\n",
       "      <th></th>\n",
       "      <th></th>\n",
       "    </tr>\n",
       "  </thead>\n",
       "  <tbody>\n",
       "    <tr>\n",
       "      <th>Albizia (Ærteblomst-fam,)</th>\n",
       "      <td>0.0</td>\n",
       "      <td>0.0</td>\n",
       "      <td>0.0</td>\n",
       "      <td>0.0</td>\n",
       "      <td>0.0</td>\n",
       "      <td>0.0</td>\n",
       "      <td>0.0</td>\n",
       "      <td>0.0</td>\n",
       "      <td>0.0</td>\n",
       "      <td>10.0</td>\n",
       "    </tr>\n",
       "    <tr>\n",
       "      <th>Ambratræ</th>\n",
       "      <td>0.0</td>\n",
       "      <td>0.0</td>\n",
       "      <td>0.0</td>\n",
       "      <td>0.0</td>\n",
       "      <td>0.0</td>\n",
       "      <td>2.0</td>\n",
       "      <td>2.0</td>\n",
       "      <td>0.0</td>\n",
       "      <td>15.0</td>\n",
       "      <td>27.0</td>\n",
       "    </tr>\n",
       "    <tr>\n",
       "      <th>Ask</th>\n",
       "      <td>169.0</td>\n",
       "      <td>98.0</td>\n",
       "      <td>9.0</td>\n",
       "      <td>128.0</td>\n",
       "      <td>59.0</td>\n",
       "      <td>139.0</td>\n",
       "      <td>414.0</td>\n",
       "      <td>120.0</td>\n",
       "      <td>48.0</td>\n",
       "      <td>210.0</td>\n",
       "    </tr>\n",
       "    <tr>\n",
       "      <th>Avnbøg</th>\n",
       "      <td>5.0</td>\n",
       "      <td>11.0</td>\n",
       "      <td>3.0</td>\n",
       "      <td>0.0</td>\n",
       "      <td>43.0</td>\n",
       "      <td>50.0</td>\n",
       "      <td>33.0</td>\n",
       "      <td>7.0</td>\n",
       "      <td>17.0</td>\n",
       "      <td>24.0</td>\n",
       "    </tr>\n",
       "    <tr>\n",
       "      <th>Birk</th>\n",
       "      <td>6.0</td>\n",
       "      <td>20.0</td>\n",
       "      <td>14.0</td>\n",
       "      <td>99.0</td>\n",
       "      <td>1.0</td>\n",
       "      <td>99.0</td>\n",
       "      <td>6.0</td>\n",
       "      <td>6.0</td>\n",
       "      <td>16.0</td>\n",
       "      <td>8.0</td>\n",
       "    </tr>\n",
       "  </tbody>\n",
       "</table>\n",
       "</div>"
      ],
      "text/plain": [
       "bydelsnavn                 Amager Vest  Amager Øst  Bispebjerg  \\\n",
       "slaegtsnavn                                                      \n",
       "Albizia (Ærteblomst-fam,)          0.0         0.0         0.0   \n",
       "Ambratræ                           0.0         0.0         0.0   \n",
       "Ask                              169.0        98.0         9.0   \n",
       "Avnbøg                             5.0        11.0         3.0   \n",
       "Birk                               6.0        20.0        14.0   \n",
       "\n",
       "bydelsnavn                 Brønshøj-Husum  Indre By  Nørrebro  Valby  Vanløse  \\\n",
       "slaegtsnavn                                                                     \n",
       "Albizia (Ærteblomst-fam,)             0.0       0.0       0.0    0.0      0.0   \n",
       "Ambratræ                              0.0       0.0       2.0    2.0      0.0   \n",
       "Ask                                 128.0      59.0     139.0  414.0    120.0   \n",
       "Avnbøg                                0.0      43.0      50.0   33.0      7.0   \n",
       "Birk                                 99.0       1.0      99.0    6.0      6.0   \n",
       "\n",
       "bydelsnavn                 Vesterbro-Kongens Enghave  Østerbro  \n",
       "slaegtsnavn                                                     \n",
       "Albizia (Ærteblomst-fam,)                        0.0      10.0  \n",
       "Ambratræ                                        15.0      27.0  \n",
       "Ask                                             48.0     210.0  \n",
       "Avnbøg                                          17.0      24.0  \n",
       "Birk                                            16.0       8.0  "
      ]
     },
     "execution_count": 138,
     "metadata": {},
     "output_type": "execute_result"
    }
   ],
   "source": [
    "temp = df1.groupby(['slaegtsnavn','bydelsnavn']).count()['FID']\n",
    "temp = temp.unstack()\n",
    "temp = temp.fillna(0)\n",
    "temp.head()"
   ]
  },
  {
   "cell_type": "markdown",
   "metadata": {},
   "source": [
    "## OBS farverne skal lige tilpasses, slet ikke nok her."
   ]
  },
  {
   "cell_type": "code",
   "execution_count": 151,
   "metadata": {},
   "outputs": [
    {
     "data": {
      "application/vnd.plotly.v1+json": {
       "config": {
        "plotlyServerURL": "https://plot.ly"
       },
       "data": [
        {
         "name": "Albizia (Ærteblomst-fam,)",
         "type": "bar",
         "x": [
          "Amager Vest",
          "Amager Øst",
          "Bispebjerg",
          "Brønshøj-Husum",
          "Indre By",
          "Nørrebro",
          "Valby",
          "Vanløse",
          "Vesterbro-Kongens Enghave",
          "Østerbro"
         ],
         "y": [
          0,
          0,
          0,
          0,
          0,
          0,
          0,
          0,
          0,
          10
         ]
        },
        {
         "name": "Ambratræ",
         "type": "bar",
         "x": [
          "Amager Vest",
          "Amager Øst",
          "Bispebjerg",
          "Brønshøj-Husum",
          "Indre By",
          "Nørrebro",
          "Valby",
          "Vanløse",
          "Vesterbro-Kongens Enghave",
          "Østerbro"
         ],
         "y": [
          0,
          0,
          0,
          0,
          0,
          2,
          2,
          0,
          15,
          27
         ]
        },
        {
         "name": "Ask",
         "type": "bar",
         "x": [
          "Amager Vest",
          "Amager Øst",
          "Bispebjerg",
          "Brønshøj-Husum",
          "Indre By",
          "Nørrebro",
          "Valby",
          "Vanløse",
          "Vesterbro-Kongens Enghave",
          "Østerbro"
         ],
         "y": [
          169,
          98,
          9,
          128,
          59,
          139,
          414,
          120,
          48,
          210
         ]
        },
        {
         "name": "Avnbøg",
         "type": "bar",
         "x": [
          "Amager Vest",
          "Amager Øst",
          "Bispebjerg",
          "Brønshøj-Husum",
          "Indre By",
          "Nørrebro",
          "Valby",
          "Vanløse",
          "Vesterbro-Kongens Enghave",
          "Østerbro"
         ],
         "y": [
          5,
          11,
          3,
          0,
          43,
          50,
          33,
          7,
          17,
          24
         ]
        },
        {
         "name": "Birk",
         "type": "bar",
         "x": [
          "Amager Vest",
          "Amager Øst",
          "Bispebjerg",
          "Brønshøj-Husum",
          "Indre By",
          "Nørrebro",
          "Valby",
          "Vanløse",
          "Vesterbro-Kongens Enghave",
          "Østerbro"
         ],
         "y": [
          6,
          20,
          14,
          99,
          1,
          99,
          6,
          6,
          16,
          8
         ]
        },
        {
         "name": "Bjergthe",
         "type": "bar",
         "x": [
          "Amager Vest",
          "Amager Øst",
          "Bispebjerg",
          "Brønshøj-Husum",
          "Indre By",
          "Nørrebro",
          "Valby",
          "Vanløse",
          "Vesterbro-Kongens Enghave",
          "Østerbro"
         ],
         "y": [
          0,
          0,
          0,
          0,
          0,
          0,
          0,
          0,
          0,
          3
         ]
        },
        {
         "name": "Bærmispel",
         "type": "bar",
         "x": [
          "Amager Vest",
          "Amager Øst",
          "Bispebjerg",
          "Brønshøj-Husum",
          "Indre By",
          "Nørrebro",
          "Valby",
          "Vanløse",
          "Vesterbro-Kongens Enghave",
          "Østerbro"
         ],
         "y": [
          0,
          0,
          0,
          0,
          3,
          6,
          8,
          0,
          7,
          14
         ]
        },
        {
         "name": "Bøg",
         "type": "bar",
         "x": [
          "Amager Vest",
          "Amager Øst",
          "Bispebjerg",
          "Brønshøj-Husum",
          "Indre By",
          "Nørrebro",
          "Valby",
          "Vanløse",
          "Vesterbro-Kongens Enghave",
          "Østerbro"
         ],
         "y": [
          0,
          0,
          0,
          0,
          0,
          3,
          0,
          2,
          1,
          2
         ]
        },
        {
         "name": "Ceder",
         "type": "bar",
         "x": [
          "Amager Vest",
          "Amager Øst",
          "Bispebjerg",
          "Brønshøj-Husum",
          "Indre By",
          "Nørrebro",
          "Valby",
          "Vanløse",
          "Vesterbro-Kongens Enghave",
          "Østerbro"
         ],
         "y": [
          0,
          0,
          0,
          0,
          0,
          0,
          0,
          0,
          0,
          23
         ]
        },
        {
         "name": "Eg",
         "type": "bar",
         "x": [
          "Amager Vest",
          "Amager Øst",
          "Bispebjerg",
          "Brønshøj-Husum",
          "Indre By",
          "Nørrebro",
          "Valby",
          "Vanløse",
          "Vesterbro-Kongens Enghave",
          "Østerbro"
         ],
         "y": [
          77,
          122,
          29,
          57,
          57,
          146,
          143,
          84,
          195,
          404
         ]
        },
        {
         "name": "El",
         "type": "bar",
         "x": [
          "Amager Vest",
          "Amager Øst",
          "Bispebjerg",
          "Brønshøj-Husum",
          "Indre By",
          "Nørrebro",
          "Valby",
          "Vanløse",
          "Vesterbro-Kongens Enghave",
          "Østerbro"
         ],
         "y": [
          53,
          21,
          0,
          3,
          4,
          2,
          2,
          30,
          45,
          59
         ]
        },
        {
         "name": "Elm",
         "type": "bar",
         "x": [
          "Amager Vest",
          "Amager Øst",
          "Bispebjerg",
          "Brønshøj-Husum",
          "Indre By",
          "Nørrebro",
          "Valby",
          "Vanløse",
          "Vesterbro-Kongens Enghave",
          "Østerbro"
         ],
         "y": [
          59,
          32,
          48,
          13,
          41,
          54,
          104,
          0,
          50,
          3
         ]
        },
        {
         "name": "Fyr",
         "type": "bar",
         "x": [
          "Amager Vest",
          "Amager Øst",
          "Bispebjerg",
          "Brønshøj-Husum",
          "Indre By",
          "Nørrebro",
          "Valby",
          "Vanløse",
          "Vesterbro-Kongens Enghave",
          "Østerbro"
         ],
         "y": [
          0,
          16,
          0,
          0,
          2,
          0,
          0,
          2,
          0,
          47
         ]
        },
        {
         "name": "Gingko",
         "type": "bar",
         "x": [
          "Amager Vest",
          "Amager Øst",
          "Bispebjerg",
          "Brønshøj-Husum",
          "Indre By",
          "Nørrebro",
          "Valby",
          "Vanløse",
          "Vesterbro-Kongens Enghave",
          "Østerbro"
         ],
         "y": [
          0,
          13,
          31,
          0,
          4,
          9,
          3,
          2,
          3,
          21
         ]
        },
        {
         "name": "Gran",
         "type": "bar",
         "x": [
          "Amager Vest",
          "Amager Øst",
          "Bispebjerg",
          "Brønshøj-Husum",
          "Indre By",
          "Nørrebro",
          "Valby",
          "Vanløse",
          "Vesterbro-Kongens Enghave",
          "Østerbro"
         ],
         "y": [
          0,
          0,
          0,
          0,
          0,
          0,
          0,
          0,
          2,
          6
         ]
        },
        {
         "name": "Guldregn",
         "type": "bar",
         "x": [
          "Amager Vest",
          "Amager Øst",
          "Bispebjerg",
          "Brønshøj-Husum",
          "Indre By",
          "Nørrebro",
          "Valby",
          "Vanløse",
          "Vesterbro-Kongens Enghave",
          "Østerbro"
         ],
         "y": [
          1,
          0,
          0,
          0,
          0,
          0,
          0,
          0,
          0,
          7
         ]
        },
        {
         "name": "Hassel",
         "type": "bar",
         "x": [
          "Amager Vest",
          "Amager Øst",
          "Bispebjerg",
          "Brønshøj-Husum",
          "Indre By",
          "Nørrebro",
          "Valby",
          "Vanløse",
          "Vesterbro-Kongens Enghave",
          "Østerbro"
         ],
         "y": [
          15,
          16,
          1,
          0,
          3,
          12,
          3,
          7,
          3,
          11
         ]
        },
        {
         "name": "Hemlock",
         "type": "bar",
         "x": [
          "Amager Vest",
          "Amager Øst",
          "Bispebjerg",
          "Brønshøj-Husum",
          "Indre By",
          "Nørrebro",
          "Valby",
          "Vanløse",
          "Vesterbro-Kongens Enghave",
          "Østerbro"
         ],
         "y": [
          0,
          0,
          0,
          0,
          0,
          7,
          0,
          0,
          0,
          0
         ]
        },
        {
         "name": "Hestekastanie",
         "type": "bar",
         "x": [
          "Amager Vest",
          "Amager Øst",
          "Bispebjerg",
          "Brønshøj-Husum",
          "Indre By",
          "Nørrebro",
          "Valby",
          "Vanløse",
          "Vesterbro-Kongens Enghave",
          "Østerbro"
         ],
         "y": [
          3,
          8,
          33,
          112,
          105,
          44,
          17,
          24,
          0,
          43
         ]
        },
        {
         "name": "Hibiscus-slægten",
         "type": "bar",
         "x": [
          "Amager Vest",
          "Amager Øst",
          "Bispebjerg",
          "Brønshøj-Husum",
          "Indre By",
          "Nørrebro",
          "Valby",
          "Vanløse",
          "Vesterbro-Kongens Enghave",
          "Østerbro"
         ],
         "y": [
          0,
          0,
          0,
          0,
          0,
          0,
          0,
          0,
          0,
          3
         ]
        },
        {
         "name": "Hjertetræ",
         "type": "bar",
         "x": [
          "Amager Vest",
          "Amager Øst",
          "Bispebjerg",
          "Brønshøj-Husum",
          "Indre By",
          "Nørrebro",
          "Valby",
          "Vanløse",
          "Vesterbro-Kongens Enghave",
          "Østerbro"
         ],
         "y": [
          0,
          0,
          0,
          0,
          0,
          3,
          0,
          0,
          0,
          0
         ]
        },
        {
         "name": "Humlebøg",
         "type": "bar",
         "x": [
          "Amager Vest",
          "Amager Øst",
          "Bispebjerg",
          "Brønshøj-Husum",
          "Indre By",
          "Nørrebro",
          "Valby",
          "Vanløse",
          "Vesterbro-Kongens Enghave",
          "Østerbro"
         ],
         "y": [
          0,
          0,
          0,
          0,
          0,
          0,
          0,
          0,
          0,
          9
         ]
        },
        {
         "name": "Ikke registreret",
         "type": "bar",
         "x": [
          "Amager Vest",
          "Amager Øst",
          "Bispebjerg",
          "Brønshøj-Husum",
          "Indre By",
          "Nørrebro",
          "Valby",
          "Vanløse",
          "Vesterbro-Kongens Enghave",
          "Østerbro"
         ],
         "y": [
          0,
          55,
          0,
          0,
          20,
          0,
          6,
          1,
          0,
          24
         ]
        },
        {
         "name": "Kastanie",
         "type": "bar",
         "x": [
          "Amager Vest",
          "Amager Øst",
          "Bispebjerg",
          "Brønshøj-Husum",
          "Indre By",
          "Nørrebro",
          "Valby",
          "Vanløse",
          "Vesterbro-Kongens Enghave",
          "Østerbro"
         ],
         "y": [
          0,
          0,
          0,
          0,
          0,
          0,
          0,
          0,
          0,
          3
         ]
        },
        {
         "name": "Kirsebær/Blomme",
         "type": "bar",
         "x": [
          "Amager Vest",
          "Amager Øst",
          "Bispebjerg",
          "Brønshøj-Husum",
          "Indre By",
          "Nørrebro",
          "Valby",
          "Vanløse",
          "Vesterbro-Kongens Enghave",
          "Østerbro"
         ],
         "y": [
          60,
          113,
          19,
          129,
          185,
          90,
          127,
          14,
          86,
          105
         ]
        },
        {
         "name": "Kornel",
         "type": "bar",
         "x": [
          "Amager Vest",
          "Amager Øst",
          "Bispebjerg",
          "Brønshøj-Husum",
          "Indre By",
          "Nørrebro",
          "Valby",
          "Vanløse",
          "Vesterbro-Kongens Enghave",
          "Østerbro"
         ],
         "y": [
          0,
          7,
          0,
          0,
          0,
          4,
          0,
          2,
          0,
          13
         ]
        },
        {
         "name": "Kristtorn",
         "type": "bar",
         "x": [
          "Amager Vest",
          "Amager Øst",
          "Bispebjerg",
          "Brønshøj-Husum",
          "Indre By",
          "Nørrebro",
          "Valby",
          "Vanløse",
          "Vesterbro-Kongens Enghave",
          "Østerbro"
         ],
         "y": [
          0,
          0,
          0,
          0,
          0,
          0,
          0,
          0,
          0,
          19
         ]
        },
        {
         "name": "Lind",
         "type": "bar",
         "x": [
          "Amager Vest",
          "Amager Øst",
          "Bispebjerg",
          "Brønshøj-Husum",
          "Indre By",
          "Nørrebro",
          "Valby",
          "Vanløse",
          "Vesterbro-Kongens Enghave",
          "Østerbro"
         ],
         "y": [
          470,
          98,
          219,
          112,
          1482,
          816,
          282,
          117,
          567,
          1364
         ]
        },
        {
         "name": "Lærk",
         "type": "bar",
         "x": [
          "Amager Vest",
          "Amager Øst",
          "Bispebjerg",
          "Brønshøj-Husum",
          "Indre By",
          "Nørrebro",
          "Valby",
          "Vanløse",
          "Vesterbro-Kongens Enghave",
          "Østerbro"
         ],
         "y": [
          0,
          0,
          0,
          0,
          0,
          1,
          0,
          0,
          7,
          1
         ]
        },
        {
         "name": "Løn",
         "type": "bar",
         "x": [
          "Amager Vest",
          "Amager Øst",
          "Bispebjerg",
          "Brønshøj-Husum",
          "Indre By",
          "Nørrebro",
          "Valby",
          "Vanløse",
          "Vesterbro-Kongens Enghave",
          "Østerbro"
         ],
         "y": [
          303,
          86,
          47,
          31,
          94,
          105,
          80,
          137,
          403,
          195
         ]
        },
        {
         "name": "Mispel",
         "type": "bar",
         "x": [
          "Amager Vest",
          "Amager Øst",
          "Bispebjerg",
          "Brønshøj-Husum",
          "Indre By",
          "Nørrebro",
          "Valby",
          "Vanløse",
          "Vesterbro-Kongens Enghave",
          "Østerbro"
         ],
         "y": [
          0,
          0,
          0,
          0,
          0,
          0,
          0,
          0,
          0,
          2
         ]
        },
        {
         "name": "Morbær",
         "type": "bar",
         "x": [
          "Amager Vest",
          "Amager Øst",
          "Bispebjerg",
          "Brønshøj-Husum",
          "Indre By",
          "Nørrebro",
          "Valby",
          "Vanløse",
          "Vesterbro-Kongens Enghave",
          "Østerbro"
         ],
         "y": [
          0,
          0,
          0,
          0,
          0,
          0,
          0,
          0,
          0,
          1
         ]
        },
        {
         "name": "Nyssa",
         "type": "bar",
         "x": [
          "Amager Vest",
          "Amager Øst",
          "Bispebjerg",
          "Brønshøj-Husum",
          "Indre By",
          "Nørrebro",
          "Valby",
          "Vanløse",
          "Vesterbro-Kongens Enghave",
          "Østerbro"
         ],
         "y": [
          0,
          0,
          0,
          0,
          0,
          0,
          0,
          0,
          0,
          18
         ]
        },
        {
         "name": "Osagetorn",
         "type": "bar",
         "x": [
          "Amager Vest",
          "Amager Øst",
          "Bispebjerg",
          "Brønshøj-Husum",
          "Indre By",
          "Nørrebro",
          "Valby",
          "Vanløse",
          "Vesterbro-Kongens Enghave",
          "Østerbro"
         ],
         "y": [
          0,
          0,
          0,
          0,
          0,
          0,
          0,
          0,
          0,
          2
         ]
        },
        {
         "name": "Parrotia, ikke navngivet på dansk",
         "type": "bar",
         "x": [
          "Amager Vest",
          "Amager Øst",
          "Bispebjerg",
          "Brønshøj-Husum",
          "Indre By",
          "Nørrebro",
          "Valby",
          "Vanløse",
          "Vesterbro-Kongens Enghave",
          "Østerbro"
         ],
         "y": [
          0,
          0,
          0,
          0,
          0,
          0,
          0,
          0,
          0,
          6
         ]
        },
        {
         "name": "Paulównia",
         "type": "bar",
         "x": [
          "Amager Vest",
          "Amager Øst",
          "Bispebjerg",
          "Brønshøj-Husum",
          "Indre By",
          "Nørrebro",
          "Valby",
          "Vanløse",
          "Vesterbro-Kongens Enghave",
          "Østerbro"
         ],
         "y": [
          0,
          10,
          1,
          0,
          0,
          0,
          0,
          4,
          0,
          4
         ]
        },
        {
         "name": "Pil",
         "type": "bar",
         "x": [
          "Amager Vest",
          "Amager Øst",
          "Bispebjerg",
          "Brønshøj-Husum",
          "Indre By",
          "Nørrebro",
          "Valby",
          "Vanløse",
          "Vesterbro-Kongens Enghave",
          "Østerbro"
         ],
         "y": [
          0,
          28,
          0,
          0,
          6,
          19,
          0,
          31,
          5,
          42
         ]
        },
        {
         "name": "Platan",
         "type": "bar",
         "x": [
          "Amager Vest",
          "Amager Øst",
          "Bispebjerg",
          "Brønshøj-Husum",
          "Indre By",
          "Nørrebro",
          "Valby",
          "Vanløse",
          "Vesterbro-Kongens Enghave",
          "Østerbro"
         ],
         "y": [
          310,
          204,
          336,
          36,
          302,
          149,
          148,
          180,
          129,
          504
         ]
        },
        {
         "name": "Poppel",
         "type": "bar",
         "x": [
          "Amager Vest",
          "Amager Øst",
          "Bispebjerg",
          "Brønshøj-Husum",
          "Indre By",
          "Nørrebro",
          "Valby",
          "Vanløse",
          "Vesterbro-Kongens Enghave",
          "Østerbro"
         ],
         "y": [
          7,
          28,
          5,
          0,
          11,
          5,
          78,
          36,
          106,
          2
         ]
        },
        {
         "name": "Pære",
         "type": "bar",
         "x": [
          "Amager Vest",
          "Amager Øst",
          "Bispebjerg",
          "Brønshøj-Husum",
          "Indre By",
          "Nørrebro",
          "Valby",
          "Vanløse",
          "Vesterbro-Kongens Enghave",
          "Østerbro"
         ],
         "y": [
          6,
          9,
          21,
          0,
          31,
          7,
          22,
          0,
          30,
          22
         ]
        },
        {
         "name": "Robinie",
         "type": "bar",
         "x": [
          "Amager Vest",
          "Amager Øst",
          "Bispebjerg",
          "Brønshøj-Husum",
          "Indre By",
          "Nørrebro",
          "Valby",
          "Vanløse",
          "Vesterbro-Kongens Enghave",
          "Østerbro"
         ],
         "y": [
          176,
          46,
          69,
          121,
          232,
          237,
          55,
          131,
          115,
          112
         ]
        },
        {
         "name": "Røn",
         "type": "bar",
         "x": [
          "Amager Vest",
          "Amager Øst",
          "Bispebjerg",
          "Brønshøj-Husum",
          "Indre By",
          "Nørrebro",
          "Valby",
          "Vanløse",
          "Vesterbro-Kongens Enghave",
          "Østerbro"
         ],
         "y": [
          879,
          142,
          4,
          37,
          14,
          116,
          156,
          56,
          112,
          366
         ]
        },
        {
         "name": "Skyrækker",
         "type": "bar",
         "x": [
          "Amager Vest",
          "Amager Øst",
          "Bispebjerg",
          "Brønshøj-Husum",
          "Indre By",
          "Nørrebro",
          "Valby",
          "Vanløse",
          "Vesterbro-Kongens Enghave",
          "Østerbro"
         ],
         "y": [
          0,
          0,
          0,
          0,
          2,
          17,
          16,
          0,
          17,
          25
         ]
        },
        {
         "name": "Snebolle",
         "type": "bar",
         "x": [
          "Amager Vest",
          "Amager Øst",
          "Bispebjerg",
          "Brønshøj-Husum",
          "Indre By",
          "Nørrebro",
          "Valby",
          "Vanløse",
          "Vesterbro-Kongens Enghave",
          "Østerbro"
         ],
         "y": [
          0,
          0,
          0,
          0,
          0,
          4,
          0,
          0,
          0,
          0
         ]
        },
        {
         "name": "Sophora",
         "type": "bar",
         "x": [
          "Amager Vest",
          "Amager Øst",
          "Bispebjerg",
          "Brønshøj-Husum",
          "Indre By",
          "Nørrebro",
          "Valby",
          "Vanløse",
          "Vesterbro-Kongens Enghave",
          "Østerbro"
         ],
         "y": [
          0,
          0,
          0,
          0,
          0,
          0,
          1,
          0,
          2,
          0
         ]
        },
        {
         "name": "Storaks",
         "type": "bar",
         "x": [
          "Amager Vest",
          "Amager Øst",
          "Bispebjerg",
          "Brønshøj-Husum",
          "Indre By",
          "Nørrebro",
          "Valby",
          "Vanløse",
          "Vesterbro-Kongens Enghave",
          "Østerbro"
         ],
         "y": [
          0,
          0,
          0,
          0,
          0,
          0,
          0,
          0,
          0,
          6
         ]
        },
        {
         "name": "Sydbøg",
         "type": "bar",
         "x": [
          "Amager Vest",
          "Amager Øst",
          "Bispebjerg",
          "Brønshøj-Husum",
          "Indre By",
          "Nørrebro",
          "Valby",
          "Vanløse",
          "Vesterbro-Kongens Enghave",
          "Østerbro"
         ],
         "y": [
          0,
          0,
          0,
          0,
          0,
          1,
          0,
          0,
          0,
          0
         ]
        },
        {
         "name": "Sølvblad ",
         "type": "bar",
         "x": [
          "Amager Vest",
          "Amager Øst",
          "Bispebjerg",
          "Brønshøj-Husum",
          "Indre By",
          "Nørrebro",
          "Valby",
          "Vanløse",
          "Vesterbro-Kongens Enghave",
          "Østerbro"
         ],
         "y": [
          0,
          0,
          0,
          0,
          0,
          0,
          0,
          0,
          0,
          2
         ]
        },
        {
         "name": "Taks",
         "type": "bar",
         "x": [
          "Amager Vest",
          "Amager Øst",
          "Bispebjerg",
          "Brønshøj-Husum",
          "Indre By",
          "Nørrebro",
          "Valby",
          "Vanløse",
          "Vesterbro-Kongens Enghave",
          "Østerbro"
         ],
         "y": [
          0,
          0,
          0,
          0,
          0,
          0,
          1,
          0,
          0,
          0
         ]
        },
        {
         "name": "Taxodium, ikke navngivet på dansk",
         "type": "bar",
         "x": [
          "Amager Vest",
          "Amager Øst",
          "Bispebjerg",
          "Brønshøj-Husum",
          "Indre By",
          "Nørrebro",
          "Valby",
          "Vanløse",
          "Vesterbro-Kongens Enghave",
          "Østerbro"
         ],
         "y": [
          0,
          0,
          0,
          0,
          0,
          0,
          0,
          0,
          0,
          21
         ]
        },
        {
         "name": "Thuja",
         "type": "bar",
         "x": [
          "Amager Vest",
          "Amager Øst",
          "Bispebjerg",
          "Brønshøj-Husum",
          "Indre By",
          "Nørrebro",
          "Valby",
          "Vanløse",
          "Vesterbro-Kongens Enghave",
          "Østerbro"
         ],
         "y": [
          0,
          0,
          0,
          0,
          0,
          1,
          0,
          0,
          0,
          0
         ]
        },
        {
         "name": "Tjørn",
         "type": "bar",
         "x": [
          "Amager Vest",
          "Amager Øst",
          "Bispebjerg",
          "Brønshøj-Husum",
          "Indre By",
          "Nørrebro",
          "Valby",
          "Vanløse",
          "Vesterbro-Kongens Enghave",
          "Østerbro"
         ],
         "y": [
          70,
          14,
          52,
          68,
          40,
          24,
          10,
          30,
          17,
          162
         ]
        },
        {
         "name": "Tretorn",
         "type": "bar",
         "x": [
          "Amager Vest",
          "Amager Øst",
          "Bispebjerg",
          "Brønshøj-Husum",
          "Indre By",
          "Nørrebro",
          "Valby",
          "Vanløse",
          "Vesterbro-Kongens Enghave",
          "Østerbro"
         ],
         "y": [
          0,
          16,
          0,
          0,
          28,
          18,
          5,
          0,
          21,
          45
         ]
        },
        {
         "name": "Tulipantræ",
         "type": "bar",
         "x": [
          "Amager Vest",
          "Amager Øst",
          "Bispebjerg",
          "Brønshøj-Husum",
          "Indre By",
          "Nørrebro",
          "Valby",
          "Vanløse",
          "Vesterbro-Kongens Enghave",
          "Østerbro"
         ],
         "y": [
          3,
          8,
          0,
          0,
          1,
          2,
          23,
          0,
          3,
          10
         ]
        },
        {
         "name": "Valnød",
         "type": "bar",
         "x": [
          "Amager Vest",
          "Amager Øst",
          "Bispebjerg",
          "Brønshøj-Husum",
          "Indre By",
          "Nørrebro",
          "Valby",
          "Vanløse",
          "Vesterbro-Kongens Enghave",
          "Østerbro"
         ],
         "y": [
          0,
          0,
          0,
          0,
          0,
          2,
          0,
          0,
          3,
          10
         ]
        },
        {
         "name": "Vandgran",
         "type": "bar",
         "x": [
          "Amager Vest",
          "Amager Øst",
          "Bispebjerg",
          "Brønshøj-Husum",
          "Indre By",
          "Nørrebro",
          "Valby",
          "Vanløse",
          "Vesterbro-Kongens Enghave",
          "Østerbro"
         ],
         "y": [
          0,
          0,
          0,
          0,
          14,
          1,
          0,
          0,
          56,
          17
         ]
        },
        {
         "name": "Vingevalnød",
         "type": "bar",
         "x": [
          "Amager Vest",
          "Amager Øst",
          "Bispebjerg",
          "Brønshøj-Husum",
          "Indre By",
          "Nørrebro",
          "Valby",
          "Vanløse",
          "Vesterbro-Kongens Enghave",
          "Østerbro"
         ],
         "y": [
          0,
          0,
          0,
          0,
          0,
          2,
          0,
          0,
          0,
          11
         ]
        },
        {
         "name": "Zelkova, ikke navngivet på dansk",
         "type": "bar",
         "x": [
          "Amager Vest",
          "Amager Øst",
          "Bispebjerg",
          "Brønshøj-Husum",
          "Indre By",
          "Nørrebro",
          "Valby",
          "Vanløse",
          "Vesterbro-Kongens Enghave",
          "Østerbro"
         ],
         "y": [
          0,
          0,
          0,
          0,
          0,
          0,
          0,
          0,
          0,
          5
         ]
        },
        {
         "name": "Æble",
         "type": "bar",
         "x": [
          "Amager Vest",
          "Amager Øst",
          "Bispebjerg",
          "Brønshøj-Husum",
          "Indre By",
          "Nørrebro",
          "Valby",
          "Vanløse",
          "Vesterbro-Kongens Enghave",
          "Østerbro"
         ],
         "y": [
          29,
          11,
          12,
          0,
          19,
          41,
          33,
          3,
          78,
          51
         ]
        }
       ],
       "layout": {
        "barmode": "stack",
        "template": {
         "data": {
          "bar": [
           {
            "error_x": {
             "color": "#2a3f5f"
            },
            "error_y": {
             "color": "#2a3f5f"
            },
            "marker": {
             "line": {
              "color": "#E5ECF6",
              "width": 0.5
             }
            },
            "type": "bar"
           }
          ],
          "barpolar": [
           {
            "marker": {
             "line": {
              "color": "#E5ECF6",
              "width": 0.5
             }
            },
            "type": "barpolar"
           }
          ],
          "carpet": [
           {
            "aaxis": {
             "endlinecolor": "#2a3f5f",
             "gridcolor": "white",
             "linecolor": "white",
             "minorgridcolor": "white",
             "startlinecolor": "#2a3f5f"
            },
            "baxis": {
             "endlinecolor": "#2a3f5f",
             "gridcolor": "white",
             "linecolor": "white",
             "minorgridcolor": "white",
             "startlinecolor": "#2a3f5f"
            },
            "type": "carpet"
           }
          ],
          "choropleth": [
           {
            "colorbar": {
             "outlinewidth": 0,
             "ticks": ""
            },
            "type": "choropleth"
           }
          ],
          "contour": [
           {
            "colorbar": {
             "outlinewidth": 0,
             "ticks": ""
            },
            "colorscale": [
             [
              0,
              "#0d0887"
             ],
             [
              0.1111111111111111,
              "#46039f"
             ],
             [
              0.2222222222222222,
              "#7201a8"
             ],
             [
              0.3333333333333333,
              "#9c179e"
             ],
             [
              0.4444444444444444,
              "#bd3786"
             ],
             [
              0.5555555555555556,
              "#d8576b"
             ],
             [
              0.6666666666666666,
              "#ed7953"
             ],
             [
              0.7777777777777778,
              "#fb9f3a"
             ],
             [
              0.8888888888888888,
              "#fdca26"
             ],
             [
              1,
              "#f0f921"
             ]
            ],
            "type": "contour"
           }
          ],
          "contourcarpet": [
           {
            "colorbar": {
             "outlinewidth": 0,
             "ticks": ""
            },
            "type": "contourcarpet"
           }
          ],
          "heatmap": [
           {
            "colorbar": {
             "outlinewidth": 0,
             "ticks": ""
            },
            "colorscale": [
             [
              0,
              "#0d0887"
             ],
             [
              0.1111111111111111,
              "#46039f"
             ],
             [
              0.2222222222222222,
              "#7201a8"
             ],
             [
              0.3333333333333333,
              "#9c179e"
             ],
             [
              0.4444444444444444,
              "#bd3786"
             ],
             [
              0.5555555555555556,
              "#d8576b"
             ],
             [
              0.6666666666666666,
              "#ed7953"
             ],
             [
              0.7777777777777778,
              "#fb9f3a"
             ],
             [
              0.8888888888888888,
              "#fdca26"
             ],
             [
              1,
              "#f0f921"
             ]
            ],
            "type": "heatmap"
           }
          ],
          "heatmapgl": [
           {
            "colorbar": {
             "outlinewidth": 0,
             "ticks": ""
            },
            "colorscale": [
             [
              0,
              "#0d0887"
             ],
             [
              0.1111111111111111,
              "#46039f"
             ],
             [
              0.2222222222222222,
              "#7201a8"
             ],
             [
              0.3333333333333333,
              "#9c179e"
             ],
             [
              0.4444444444444444,
              "#bd3786"
             ],
             [
              0.5555555555555556,
              "#d8576b"
             ],
             [
              0.6666666666666666,
              "#ed7953"
             ],
             [
              0.7777777777777778,
              "#fb9f3a"
             ],
             [
              0.8888888888888888,
              "#fdca26"
             ],
             [
              1,
              "#f0f921"
             ]
            ],
            "type": "heatmapgl"
           }
          ],
          "histogram": [
           {
            "marker": {
             "colorbar": {
              "outlinewidth": 0,
              "ticks": ""
             }
            },
            "type": "histogram"
           }
          ],
          "histogram2d": [
           {
            "colorbar": {
             "outlinewidth": 0,
             "ticks": ""
            },
            "colorscale": [
             [
              0,
              "#0d0887"
             ],
             [
              0.1111111111111111,
              "#46039f"
             ],
             [
              0.2222222222222222,
              "#7201a8"
             ],
             [
              0.3333333333333333,
              "#9c179e"
             ],
             [
              0.4444444444444444,
              "#bd3786"
             ],
             [
              0.5555555555555556,
              "#d8576b"
             ],
             [
              0.6666666666666666,
              "#ed7953"
             ],
             [
              0.7777777777777778,
              "#fb9f3a"
             ],
             [
              0.8888888888888888,
              "#fdca26"
             ],
             [
              1,
              "#f0f921"
             ]
            ],
            "type": "histogram2d"
           }
          ],
          "histogram2dcontour": [
           {
            "colorbar": {
             "outlinewidth": 0,
             "ticks": ""
            },
            "colorscale": [
             [
              0,
              "#0d0887"
             ],
             [
              0.1111111111111111,
              "#46039f"
             ],
             [
              0.2222222222222222,
              "#7201a8"
             ],
             [
              0.3333333333333333,
              "#9c179e"
             ],
             [
              0.4444444444444444,
              "#bd3786"
             ],
             [
              0.5555555555555556,
              "#d8576b"
             ],
             [
              0.6666666666666666,
              "#ed7953"
             ],
             [
              0.7777777777777778,
              "#fb9f3a"
             ],
             [
              0.8888888888888888,
              "#fdca26"
             ],
             [
              1,
              "#f0f921"
             ]
            ],
            "type": "histogram2dcontour"
           }
          ],
          "mesh3d": [
           {
            "colorbar": {
             "outlinewidth": 0,
             "ticks": ""
            },
            "type": "mesh3d"
           }
          ],
          "parcoords": [
           {
            "line": {
             "colorbar": {
              "outlinewidth": 0,
              "ticks": ""
             }
            },
            "type": "parcoords"
           }
          ],
          "pie": [
           {
            "automargin": true,
            "type": "pie"
           }
          ],
          "scatter": [
           {
            "marker": {
             "colorbar": {
              "outlinewidth": 0,
              "ticks": ""
             }
            },
            "type": "scatter"
           }
          ],
          "scatter3d": [
           {
            "line": {
             "colorbar": {
              "outlinewidth": 0,
              "ticks": ""
             }
            },
            "marker": {
             "colorbar": {
              "outlinewidth": 0,
              "ticks": ""
             }
            },
            "type": "scatter3d"
           }
          ],
          "scattercarpet": [
           {
            "marker": {
             "colorbar": {
              "outlinewidth": 0,
              "ticks": ""
             }
            },
            "type": "scattercarpet"
           }
          ],
          "scattergeo": [
           {
            "marker": {
             "colorbar": {
              "outlinewidth": 0,
              "ticks": ""
             }
            },
            "type": "scattergeo"
           }
          ],
          "scattergl": [
           {
            "marker": {
             "colorbar": {
              "outlinewidth": 0,
              "ticks": ""
             }
            },
            "type": "scattergl"
           }
          ],
          "scattermapbox": [
           {
            "marker": {
             "colorbar": {
              "outlinewidth": 0,
              "ticks": ""
             }
            },
            "type": "scattermapbox"
           }
          ],
          "scatterpolar": [
           {
            "marker": {
             "colorbar": {
              "outlinewidth": 0,
              "ticks": ""
             }
            },
            "type": "scatterpolar"
           }
          ],
          "scatterpolargl": [
           {
            "marker": {
             "colorbar": {
              "outlinewidth": 0,
              "ticks": ""
             }
            },
            "type": "scatterpolargl"
           }
          ],
          "scatterternary": [
           {
            "marker": {
             "colorbar": {
              "outlinewidth": 0,
              "ticks": ""
             }
            },
            "type": "scatterternary"
           }
          ],
          "surface": [
           {
            "colorbar": {
             "outlinewidth": 0,
             "ticks": ""
            },
            "colorscale": [
             [
              0,
              "#0d0887"
             ],
             [
              0.1111111111111111,
              "#46039f"
             ],
             [
              0.2222222222222222,
              "#7201a8"
             ],
             [
              0.3333333333333333,
              "#9c179e"
             ],
             [
              0.4444444444444444,
              "#bd3786"
             ],
             [
              0.5555555555555556,
              "#d8576b"
             ],
             [
              0.6666666666666666,
              "#ed7953"
             ],
             [
              0.7777777777777778,
              "#fb9f3a"
             ],
             [
              0.8888888888888888,
              "#fdca26"
             ],
             [
              1,
              "#f0f921"
             ]
            ],
            "type": "surface"
           }
          ],
          "table": [
           {
            "cells": {
             "fill": {
              "color": "#EBF0F8"
             },
             "line": {
              "color": "white"
             }
            },
            "header": {
             "fill": {
              "color": "#C8D4E3"
             },
             "line": {
              "color": "white"
             }
            },
            "type": "table"
           }
          ]
         },
         "layout": {
          "annotationdefaults": {
           "arrowcolor": "#2a3f5f",
           "arrowhead": 0,
           "arrowwidth": 1
          },
          "coloraxis": {
           "colorbar": {
            "outlinewidth": 0,
            "ticks": ""
           }
          },
          "colorscale": {
           "diverging": [
            [
             0,
             "#8e0152"
            ],
            [
             0.1,
             "#c51b7d"
            ],
            [
             0.2,
             "#de77ae"
            ],
            [
             0.3,
             "#f1b6da"
            ],
            [
             0.4,
             "#fde0ef"
            ],
            [
             0.5,
             "#f7f7f7"
            ],
            [
             0.6,
             "#e6f5d0"
            ],
            [
             0.7,
             "#b8e186"
            ],
            [
             0.8,
             "#7fbc41"
            ],
            [
             0.9,
             "#4d9221"
            ],
            [
             1,
             "#276419"
            ]
           ],
           "sequential": [
            [
             0,
             "#0d0887"
            ],
            [
             0.1111111111111111,
             "#46039f"
            ],
            [
             0.2222222222222222,
             "#7201a8"
            ],
            [
             0.3333333333333333,
             "#9c179e"
            ],
            [
             0.4444444444444444,
             "#bd3786"
            ],
            [
             0.5555555555555556,
             "#d8576b"
            ],
            [
             0.6666666666666666,
             "#ed7953"
            ],
            [
             0.7777777777777778,
             "#fb9f3a"
            ],
            [
             0.8888888888888888,
             "#fdca26"
            ],
            [
             1,
             "#f0f921"
            ]
           ],
           "sequentialminus": [
            [
             0,
             "#0d0887"
            ],
            [
             0.1111111111111111,
             "#46039f"
            ],
            [
             0.2222222222222222,
             "#7201a8"
            ],
            [
             0.3333333333333333,
             "#9c179e"
            ],
            [
             0.4444444444444444,
             "#bd3786"
            ],
            [
             0.5555555555555556,
             "#d8576b"
            ],
            [
             0.6666666666666666,
             "#ed7953"
            ],
            [
             0.7777777777777778,
             "#fb9f3a"
            ],
            [
             0.8888888888888888,
             "#fdca26"
            ],
            [
             1,
             "#f0f921"
            ]
           ]
          },
          "colorway": [
           "#636efa",
           "#EF553B",
           "#00cc96",
           "#ab63fa",
           "#FFA15A",
           "#19d3f3",
           "#FF6692",
           "#B6E880",
           "#FF97FF",
           "#FECB52"
          ],
          "font": {
           "color": "#2a3f5f"
          },
          "geo": {
           "bgcolor": "white",
           "lakecolor": "white",
           "landcolor": "#E5ECF6",
           "showlakes": true,
           "showland": true,
           "subunitcolor": "white"
          },
          "hoverlabel": {
           "align": "left"
          },
          "hovermode": "closest",
          "mapbox": {
           "style": "light"
          },
          "paper_bgcolor": "white",
          "plot_bgcolor": "#E5ECF6",
          "polar": {
           "angularaxis": {
            "gridcolor": "white",
            "linecolor": "white",
            "ticks": ""
           },
           "bgcolor": "#E5ECF6",
           "radialaxis": {
            "gridcolor": "white",
            "linecolor": "white",
            "ticks": ""
           }
          },
          "scene": {
           "xaxis": {
            "backgroundcolor": "#E5ECF6",
            "gridcolor": "white",
            "gridwidth": 2,
            "linecolor": "white",
            "showbackground": true,
            "ticks": "",
            "zerolinecolor": "white"
           },
           "yaxis": {
            "backgroundcolor": "#E5ECF6",
            "gridcolor": "white",
            "gridwidth": 2,
            "linecolor": "white",
            "showbackground": true,
            "ticks": "",
            "zerolinecolor": "white"
           },
           "zaxis": {
            "backgroundcolor": "#E5ECF6",
            "gridcolor": "white",
            "gridwidth": 2,
            "linecolor": "white",
            "showbackground": true,
            "ticks": "",
            "zerolinecolor": "white"
           }
          },
          "shapedefaults": {
           "line": {
            "color": "#2a3f5f"
           }
          },
          "ternary": {
           "aaxis": {
            "gridcolor": "white",
            "linecolor": "white",
            "ticks": ""
           },
           "baxis": {
            "gridcolor": "white",
            "linecolor": "white",
            "ticks": ""
           },
           "bgcolor": "#E5ECF6",
           "caxis": {
            "gridcolor": "white",
            "linecolor": "white",
            "ticks": ""
           }
          },
          "title": {
           "x": 0.05
          },
          "xaxis": {
           "automargin": true,
           "gridcolor": "white",
           "linecolor": "white",
           "ticks": "",
           "title": {
            "standoff": 15
           },
           "zerolinecolor": "white",
           "zerolinewidth": 2
          },
          "yaxis": {
           "automargin": true,
           "gridcolor": "white",
           "linecolor": "white",
           "ticks": "",
           "title": {
            "standoff": 15
           },
           "zerolinecolor": "white",
           "zerolinewidth": 2
          }
         }
        }
       }
      },
      "text/html": [
       "<div>\n",
       "        \n",
       "        \n",
       "            <div id=\"6eb9e8aa-ca72-4bcb-8d7d-5bf4484b4eb0\" class=\"plotly-graph-div\" style=\"height:525px; width:100%;\"></div>\n",
       "            <script type=\"text/javascript\">\n",
       "                require([\"plotly\"], function(Plotly) {\n",
       "                    window.PLOTLYENV=window.PLOTLYENV || {};\n",
       "                    \n",
       "                if (document.getElementById(\"6eb9e8aa-ca72-4bcb-8d7d-5bf4484b4eb0\")) {\n",
       "                    Plotly.newPlot(\n",
       "                        '6eb9e8aa-ca72-4bcb-8d7d-5bf4484b4eb0',\n",
       "                        [{\"name\": \"Albizia (\\u00c6rteblomst-fam,)\", \"type\": \"bar\", \"x\": [\"Amager Vest\", \"Amager \\u00d8st\", \"Bispebjerg\", \"Br\\u00f8nsh\\u00f8j-Husum\", \"Indre By\", \"N\\u00f8rrebro\", \"Valby\", \"Vanl\\u00f8se\", \"Vesterbro-Kongens Enghave\", \"\\u00d8sterbro\"], \"y\": [0.0, 0.0, 0.0, 0.0, 0.0, 0.0, 0.0, 0.0, 0.0, 10.0]}, {\"name\": \"Ambratr\\u00e6\", \"type\": \"bar\", \"x\": [\"Amager Vest\", \"Amager \\u00d8st\", \"Bispebjerg\", \"Br\\u00f8nsh\\u00f8j-Husum\", \"Indre By\", \"N\\u00f8rrebro\", \"Valby\", \"Vanl\\u00f8se\", \"Vesterbro-Kongens Enghave\", \"\\u00d8sterbro\"], \"y\": [0.0, 0.0, 0.0, 0.0, 0.0, 2.0, 2.0, 0.0, 15.0, 27.0]}, {\"name\": \"Ask\", \"type\": \"bar\", \"x\": [\"Amager Vest\", \"Amager \\u00d8st\", \"Bispebjerg\", \"Br\\u00f8nsh\\u00f8j-Husum\", \"Indre By\", \"N\\u00f8rrebro\", \"Valby\", \"Vanl\\u00f8se\", \"Vesterbro-Kongens Enghave\", \"\\u00d8sterbro\"], \"y\": [169.0, 98.0, 9.0, 128.0, 59.0, 139.0, 414.0, 120.0, 48.0, 210.0]}, {\"name\": \"Avnb\\u00f8g\", \"type\": \"bar\", \"x\": [\"Amager Vest\", \"Amager \\u00d8st\", \"Bispebjerg\", \"Br\\u00f8nsh\\u00f8j-Husum\", \"Indre By\", \"N\\u00f8rrebro\", \"Valby\", \"Vanl\\u00f8se\", \"Vesterbro-Kongens Enghave\", \"\\u00d8sterbro\"], \"y\": [5.0, 11.0, 3.0, 0.0, 43.0, 50.0, 33.0, 7.0, 17.0, 24.0]}, {\"name\": \"Birk\", \"type\": \"bar\", \"x\": [\"Amager Vest\", \"Amager \\u00d8st\", \"Bispebjerg\", \"Br\\u00f8nsh\\u00f8j-Husum\", \"Indre By\", \"N\\u00f8rrebro\", \"Valby\", \"Vanl\\u00f8se\", \"Vesterbro-Kongens Enghave\", \"\\u00d8sterbro\"], \"y\": [6.0, 20.0, 14.0, 99.0, 1.0, 99.0, 6.0, 6.0, 16.0, 8.0]}, {\"name\": \"Bjergthe\", \"type\": \"bar\", \"x\": [\"Amager Vest\", \"Amager \\u00d8st\", \"Bispebjerg\", \"Br\\u00f8nsh\\u00f8j-Husum\", \"Indre By\", \"N\\u00f8rrebro\", \"Valby\", \"Vanl\\u00f8se\", \"Vesterbro-Kongens Enghave\", \"\\u00d8sterbro\"], \"y\": [0.0, 0.0, 0.0, 0.0, 0.0, 0.0, 0.0, 0.0, 0.0, 3.0]}, {\"name\": \"B\\u00e6rmispel\", \"type\": \"bar\", \"x\": [\"Amager Vest\", \"Amager \\u00d8st\", \"Bispebjerg\", \"Br\\u00f8nsh\\u00f8j-Husum\", \"Indre By\", \"N\\u00f8rrebro\", \"Valby\", \"Vanl\\u00f8se\", \"Vesterbro-Kongens Enghave\", \"\\u00d8sterbro\"], \"y\": [0.0, 0.0, 0.0, 0.0, 3.0, 6.0, 8.0, 0.0, 7.0, 14.0]}, {\"name\": \"B\\u00f8g\", \"type\": \"bar\", \"x\": [\"Amager Vest\", \"Amager \\u00d8st\", \"Bispebjerg\", \"Br\\u00f8nsh\\u00f8j-Husum\", \"Indre By\", \"N\\u00f8rrebro\", \"Valby\", \"Vanl\\u00f8se\", \"Vesterbro-Kongens Enghave\", \"\\u00d8sterbro\"], \"y\": [0.0, 0.0, 0.0, 0.0, 0.0, 3.0, 0.0, 2.0, 1.0, 2.0]}, {\"name\": \"Ceder\", \"type\": \"bar\", \"x\": [\"Amager Vest\", \"Amager \\u00d8st\", \"Bispebjerg\", \"Br\\u00f8nsh\\u00f8j-Husum\", \"Indre By\", \"N\\u00f8rrebro\", \"Valby\", \"Vanl\\u00f8se\", \"Vesterbro-Kongens Enghave\", \"\\u00d8sterbro\"], \"y\": [0.0, 0.0, 0.0, 0.0, 0.0, 0.0, 0.0, 0.0, 0.0, 23.0]}, {\"name\": \"Eg\", \"type\": \"bar\", \"x\": [\"Amager Vest\", \"Amager \\u00d8st\", \"Bispebjerg\", \"Br\\u00f8nsh\\u00f8j-Husum\", \"Indre By\", \"N\\u00f8rrebro\", \"Valby\", \"Vanl\\u00f8se\", \"Vesterbro-Kongens Enghave\", \"\\u00d8sterbro\"], \"y\": [77.0, 122.0, 29.0, 57.0, 57.0, 146.0, 143.0, 84.0, 195.0, 404.0]}, {\"name\": \"El\", \"type\": \"bar\", \"x\": [\"Amager Vest\", \"Amager \\u00d8st\", \"Bispebjerg\", \"Br\\u00f8nsh\\u00f8j-Husum\", \"Indre By\", \"N\\u00f8rrebro\", \"Valby\", \"Vanl\\u00f8se\", \"Vesterbro-Kongens Enghave\", \"\\u00d8sterbro\"], \"y\": [53.0, 21.0, 0.0, 3.0, 4.0, 2.0, 2.0, 30.0, 45.0, 59.0]}, {\"name\": \"Elm\", \"type\": \"bar\", \"x\": [\"Amager Vest\", \"Amager \\u00d8st\", \"Bispebjerg\", \"Br\\u00f8nsh\\u00f8j-Husum\", \"Indre By\", \"N\\u00f8rrebro\", \"Valby\", \"Vanl\\u00f8se\", \"Vesterbro-Kongens Enghave\", \"\\u00d8sterbro\"], \"y\": [59.0, 32.0, 48.0, 13.0, 41.0, 54.0, 104.0, 0.0, 50.0, 3.0]}, {\"name\": \"Fyr\", \"type\": \"bar\", \"x\": [\"Amager Vest\", \"Amager \\u00d8st\", \"Bispebjerg\", \"Br\\u00f8nsh\\u00f8j-Husum\", \"Indre By\", \"N\\u00f8rrebro\", \"Valby\", \"Vanl\\u00f8se\", \"Vesterbro-Kongens Enghave\", \"\\u00d8sterbro\"], \"y\": [0.0, 16.0, 0.0, 0.0, 2.0, 0.0, 0.0, 2.0, 0.0, 47.0]}, {\"name\": \"Gingko\", \"type\": \"bar\", \"x\": [\"Amager Vest\", \"Amager \\u00d8st\", \"Bispebjerg\", \"Br\\u00f8nsh\\u00f8j-Husum\", \"Indre By\", \"N\\u00f8rrebro\", \"Valby\", \"Vanl\\u00f8se\", \"Vesterbro-Kongens Enghave\", \"\\u00d8sterbro\"], \"y\": [0.0, 13.0, 31.0, 0.0, 4.0, 9.0, 3.0, 2.0, 3.0, 21.0]}, {\"name\": \"Gran\", \"type\": \"bar\", \"x\": [\"Amager Vest\", \"Amager \\u00d8st\", \"Bispebjerg\", \"Br\\u00f8nsh\\u00f8j-Husum\", \"Indre By\", \"N\\u00f8rrebro\", \"Valby\", \"Vanl\\u00f8se\", \"Vesterbro-Kongens Enghave\", \"\\u00d8sterbro\"], \"y\": [0.0, 0.0, 0.0, 0.0, 0.0, 0.0, 0.0, 0.0, 2.0, 6.0]}, {\"name\": \"Guldregn\", \"type\": \"bar\", \"x\": [\"Amager Vest\", \"Amager \\u00d8st\", \"Bispebjerg\", \"Br\\u00f8nsh\\u00f8j-Husum\", \"Indre By\", \"N\\u00f8rrebro\", \"Valby\", \"Vanl\\u00f8se\", \"Vesterbro-Kongens Enghave\", \"\\u00d8sterbro\"], \"y\": [1.0, 0.0, 0.0, 0.0, 0.0, 0.0, 0.0, 0.0, 0.0, 7.0]}, {\"name\": \"Hassel\", \"type\": \"bar\", \"x\": [\"Amager Vest\", \"Amager \\u00d8st\", \"Bispebjerg\", \"Br\\u00f8nsh\\u00f8j-Husum\", \"Indre By\", \"N\\u00f8rrebro\", \"Valby\", \"Vanl\\u00f8se\", \"Vesterbro-Kongens Enghave\", \"\\u00d8sterbro\"], \"y\": [15.0, 16.0, 1.0, 0.0, 3.0, 12.0, 3.0, 7.0, 3.0, 11.0]}, {\"name\": \"Hemlock\", \"type\": \"bar\", \"x\": [\"Amager Vest\", \"Amager \\u00d8st\", \"Bispebjerg\", \"Br\\u00f8nsh\\u00f8j-Husum\", \"Indre By\", \"N\\u00f8rrebro\", \"Valby\", \"Vanl\\u00f8se\", \"Vesterbro-Kongens Enghave\", \"\\u00d8sterbro\"], \"y\": [0.0, 0.0, 0.0, 0.0, 0.0, 7.0, 0.0, 0.0, 0.0, 0.0]}, {\"name\": \"Hestekastanie\", \"type\": \"bar\", \"x\": [\"Amager Vest\", \"Amager \\u00d8st\", \"Bispebjerg\", \"Br\\u00f8nsh\\u00f8j-Husum\", \"Indre By\", \"N\\u00f8rrebro\", \"Valby\", \"Vanl\\u00f8se\", \"Vesterbro-Kongens Enghave\", \"\\u00d8sterbro\"], \"y\": [3.0, 8.0, 33.0, 112.0, 105.0, 44.0, 17.0, 24.0, 0.0, 43.0]}, {\"name\": \"Hibiscus-sl\\u00e6gten\", \"type\": \"bar\", \"x\": [\"Amager Vest\", \"Amager \\u00d8st\", \"Bispebjerg\", \"Br\\u00f8nsh\\u00f8j-Husum\", \"Indre By\", \"N\\u00f8rrebro\", \"Valby\", \"Vanl\\u00f8se\", \"Vesterbro-Kongens Enghave\", \"\\u00d8sterbro\"], \"y\": [0.0, 0.0, 0.0, 0.0, 0.0, 0.0, 0.0, 0.0, 0.0, 3.0]}, {\"name\": \"Hjertetr\\u00e6\", \"type\": \"bar\", \"x\": [\"Amager Vest\", \"Amager \\u00d8st\", \"Bispebjerg\", \"Br\\u00f8nsh\\u00f8j-Husum\", \"Indre By\", \"N\\u00f8rrebro\", \"Valby\", \"Vanl\\u00f8se\", \"Vesterbro-Kongens Enghave\", \"\\u00d8sterbro\"], \"y\": [0.0, 0.0, 0.0, 0.0, 0.0, 3.0, 0.0, 0.0, 0.0, 0.0]}, {\"name\": \"Humleb\\u00f8g\", \"type\": \"bar\", \"x\": [\"Amager Vest\", \"Amager \\u00d8st\", \"Bispebjerg\", \"Br\\u00f8nsh\\u00f8j-Husum\", \"Indre By\", \"N\\u00f8rrebro\", \"Valby\", \"Vanl\\u00f8se\", \"Vesterbro-Kongens Enghave\", \"\\u00d8sterbro\"], \"y\": [0.0, 0.0, 0.0, 0.0, 0.0, 0.0, 0.0, 0.0, 0.0, 9.0]}, {\"name\": \"Ikke registreret\", \"type\": \"bar\", \"x\": [\"Amager Vest\", \"Amager \\u00d8st\", \"Bispebjerg\", \"Br\\u00f8nsh\\u00f8j-Husum\", \"Indre By\", \"N\\u00f8rrebro\", \"Valby\", \"Vanl\\u00f8se\", \"Vesterbro-Kongens Enghave\", \"\\u00d8sterbro\"], \"y\": [0.0, 55.0, 0.0, 0.0, 20.0, 0.0, 6.0, 1.0, 0.0, 24.0]}, {\"name\": \"Kastanie\", \"type\": \"bar\", \"x\": [\"Amager Vest\", \"Amager \\u00d8st\", \"Bispebjerg\", \"Br\\u00f8nsh\\u00f8j-Husum\", \"Indre By\", \"N\\u00f8rrebro\", \"Valby\", \"Vanl\\u00f8se\", \"Vesterbro-Kongens Enghave\", \"\\u00d8sterbro\"], \"y\": [0.0, 0.0, 0.0, 0.0, 0.0, 0.0, 0.0, 0.0, 0.0, 3.0]}, {\"name\": \"Kirseb\\u00e6r/Blomme\", \"type\": \"bar\", \"x\": [\"Amager Vest\", \"Amager \\u00d8st\", \"Bispebjerg\", \"Br\\u00f8nsh\\u00f8j-Husum\", \"Indre By\", \"N\\u00f8rrebro\", \"Valby\", \"Vanl\\u00f8se\", \"Vesterbro-Kongens Enghave\", \"\\u00d8sterbro\"], \"y\": [60.0, 113.0, 19.0, 129.0, 185.0, 90.0, 127.0, 14.0, 86.0, 105.0]}, {\"name\": \"Kornel\", \"type\": \"bar\", \"x\": [\"Amager Vest\", \"Amager \\u00d8st\", \"Bispebjerg\", \"Br\\u00f8nsh\\u00f8j-Husum\", \"Indre By\", \"N\\u00f8rrebro\", \"Valby\", \"Vanl\\u00f8se\", \"Vesterbro-Kongens Enghave\", \"\\u00d8sterbro\"], \"y\": [0.0, 7.0, 0.0, 0.0, 0.0, 4.0, 0.0, 2.0, 0.0, 13.0]}, {\"name\": \"Kristtorn\", \"type\": \"bar\", \"x\": [\"Amager Vest\", \"Amager \\u00d8st\", \"Bispebjerg\", \"Br\\u00f8nsh\\u00f8j-Husum\", \"Indre By\", \"N\\u00f8rrebro\", \"Valby\", \"Vanl\\u00f8se\", \"Vesterbro-Kongens Enghave\", \"\\u00d8sterbro\"], \"y\": [0.0, 0.0, 0.0, 0.0, 0.0, 0.0, 0.0, 0.0, 0.0, 19.0]}, {\"name\": \"Lind\", \"type\": \"bar\", \"x\": [\"Amager Vest\", \"Amager \\u00d8st\", \"Bispebjerg\", \"Br\\u00f8nsh\\u00f8j-Husum\", \"Indre By\", \"N\\u00f8rrebro\", \"Valby\", \"Vanl\\u00f8se\", \"Vesterbro-Kongens Enghave\", \"\\u00d8sterbro\"], \"y\": [470.0, 98.0, 219.0, 112.0, 1482.0, 816.0, 282.0, 117.0, 567.0, 1364.0]}, {\"name\": \"L\\u00e6rk\", \"type\": \"bar\", \"x\": [\"Amager Vest\", \"Amager \\u00d8st\", \"Bispebjerg\", \"Br\\u00f8nsh\\u00f8j-Husum\", \"Indre By\", \"N\\u00f8rrebro\", \"Valby\", \"Vanl\\u00f8se\", \"Vesterbro-Kongens Enghave\", \"\\u00d8sterbro\"], \"y\": [0.0, 0.0, 0.0, 0.0, 0.0, 1.0, 0.0, 0.0, 7.0, 1.0]}, {\"name\": \"L\\u00f8n\", \"type\": \"bar\", \"x\": [\"Amager Vest\", \"Amager \\u00d8st\", \"Bispebjerg\", \"Br\\u00f8nsh\\u00f8j-Husum\", \"Indre By\", \"N\\u00f8rrebro\", \"Valby\", \"Vanl\\u00f8se\", \"Vesterbro-Kongens Enghave\", \"\\u00d8sterbro\"], \"y\": [303.0, 86.0, 47.0, 31.0, 94.0, 105.0, 80.0, 137.0, 403.0, 195.0]}, {\"name\": \"Mispel\", \"type\": \"bar\", \"x\": [\"Amager Vest\", \"Amager \\u00d8st\", \"Bispebjerg\", \"Br\\u00f8nsh\\u00f8j-Husum\", \"Indre By\", \"N\\u00f8rrebro\", \"Valby\", \"Vanl\\u00f8se\", \"Vesterbro-Kongens Enghave\", \"\\u00d8sterbro\"], \"y\": [0.0, 0.0, 0.0, 0.0, 0.0, 0.0, 0.0, 0.0, 0.0, 2.0]}, {\"name\": \"Morb\\u00e6r\", \"type\": \"bar\", \"x\": [\"Amager Vest\", \"Amager \\u00d8st\", \"Bispebjerg\", \"Br\\u00f8nsh\\u00f8j-Husum\", \"Indre By\", \"N\\u00f8rrebro\", \"Valby\", \"Vanl\\u00f8se\", \"Vesterbro-Kongens Enghave\", \"\\u00d8sterbro\"], \"y\": [0.0, 0.0, 0.0, 0.0, 0.0, 0.0, 0.0, 0.0, 0.0, 1.0]}, {\"name\": \"Nyssa\", \"type\": \"bar\", \"x\": [\"Amager Vest\", \"Amager \\u00d8st\", \"Bispebjerg\", \"Br\\u00f8nsh\\u00f8j-Husum\", \"Indre By\", \"N\\u00f8rrebro\", \"Valby\", \"Vanl\\u00f8se\", \"Vesterbro-Kongens Enghave\", \"\\u00d8sterbro\"], \"y\": [0.0, 0.0, 0.0, 0.0, 0.0, 0.0, 0.0, 0.0, 0.0, 18.0]}, {\"name\": \"Osagetorn\", \"type\": \"bar\", \"x\": [\"Amager Vest\", \"Amager \\u00d8st\", \"Bispebjerg\", \"Br\\u00f8nsh\\u00f8j-Husum\", \"Indre By\", \"N\\u00f8rrebro\", \"Valby\", \"Vanl\\u00f8se\", \"Vesterbro-Kongens Enghave\", \"\\u00d8sterbro\"], \"y\": [0.0, 0.0, 0.0, 0.0, 0.0, 0.0, 0.0, 0.0, 0.0, 2.0]}, {\"name\": \"Parrotia, ikke navngivet p\\u00e5 dansk\", \"type\": \"bar\", \"x\": [\"Amager Vest\", \"Amager \\u00d8st\", \"Bispebjerg\", \"Br\\u00f8nsh\\u00f8j-Husum\", \"Indre By\", \"N\\u00f8rrebro\", \"Valby\", \"Vanl\\u00f8se\", \"Vesterbro-Kongens Enghave\", \"\\u00d8sterbro\"], \"y\": [0.0, 0.0, 0.0, 0.0, 0.0, 0.0, 0.0, 0.0, 0.0, 6.0]}, {\"name\": \"Paul\\u00f3wnia\", \"type\": \"bar\", \"x\": [\"Amager Vest\", \"Amager \\u00d8st\", \"Bispebjerg\", \"Br\\u00f8nsh\\u00f8j-Husum\", \"Indre By\", \"N\\u00f8rrebro\", \"Valby\", \"Vanl\\u00f8se\", \"Vesterbro-Kongens Enghave\", \"\\u00d8sterbro\"], \"y\": [0.0, 10.0, 1.0, 0.0, 0.0, 0.0, 0.0, 4.0, 0.0, 4.0]}, {\"name\": \"Pil\", \"type\": \"bar\", \"x\": [\"Amager Vest\", \"Amager \\u00d8st\", \"Bispebjerg\", \"Br\\u00f8nsh\\u00f8j-Husum\", \"Indre By\", \"N\\u00f8rrebro\", \"Valby\", \"Vanl\\u00f8se\", \"Vesterbro-Kongens Enghave\", \"\\u00d8sterbro\"], \"y\": [0.0, 28.0, 0.0, 0.0, 6.0, 19.0, 0.0, 31.0, 5.0, 42.0]}, {\"name\": \"Platan\", \"type\": \"bar\", \"x\": [\"Amager Vest\", \"Amager \\u00d8st\", \"Bispebjerg\", \"Br\\u00f8nsh\\u00f8j-Husum\", \"Indre By\", \"N\\u00f8rrebro\", \"Valby\", \"Vanl\\u00f8se\", \"Vesterbro-Kongens Enghave\", \"\\u00d8sterbro\"], \"y\": [310.0, 204.0, 336.0, 36.0, 302.0, 149.0, 148.0, 180.0, 129.0, 504.0]}, {\"name\": \"Poppel\", \"type\": \"bar\", \"x\": [\"Amager Vest\", \"Amager \\u00d8st\", \"Bispebjerg\", \"Br\\u00f8nsh\\u00f8j-Husum\", \"Indre By\", \"N\\u00f8rrebro\", \"Valby\", \"Vanl\\u00f8se\", \"Vesterbro-Kongens Enghave\", \"\\u00d8sterbro\"], \"y\": [7.0, 28.0, 5.0, 0.0, 11.0, 5.0, 78.0, 36.0, 106.0, 2.0]}, {\"name\": \"P\\u00e6re\", \"type\": \"bar\", \"x\": [\"Amager Vest\", \"Amager \\u00d8st\", \"Bispebjerg\", \"Br\\u00f8nsh\\u00f8j-Husum\", \"Indre By\", \"N\\u00f8rrebro\", \"Valby\", \"Vanl\\u00f8se\", \"Vesterbro-Kongens Enghave\", \"\\u00d8sterbro\"], \"y\": [6.0, 9.0, 21.0, 0.0, 31.0, 7.0, 22.0, 0.0, 30.0, 22.0]}, {\"name\": \"Robinie\", \"type\": \"bar\", \"x\": [\"Amager Vest\", \"Amager \\u00d8st\", \"Bispebjerg\", \"Br\\u00f8nsh\\u00f8j-Husum\", \"Indre By\", \"N\\u00f8rrebro\", \"Valby\", \"Vanl\\u00f8se\", \"Vesterbro-Kongens Enghave\", \"\\u00d8sterbro\"], \"y\": [176.0, 46.0, 69.0, 121.0, 232.0, 237.0, 55.0, 131.0, 115.0, 112.0]}, {\"name\": \"R\\u00f8n\", \"type\": \"bar\", \"x\": [\"Amager Vest\", \"Amager \\u00d8st\", \"Bispebjerg\", \"Br\\u00f8nsh\\u00f8j-Husum\", \"Indre By\", \"N\\u00f8rrebro\", \"Valby\", \"Vanl\\u00f8se\", \"Vesterbro-Kongens Enghave\", \"\\u00d8sterbro\"], \"y\": [879.0, 142.0, 4.0, 37.0, 14.0, 116.0, 156.0, 56.0, 112.0, 366.0]}, {\"name\": \"Skyr\\u00e6kker\", \"type\": \"bar\", \"x\": [\"Amager Vest\", \"Amager \\u00d8st\", \"Bispebjerg\", \"Br\\u00f8nsh\\u00f8j-Husum\", \"Indre By\", \"N\\u00f8rrebro\", \"Valby\", \"Vanl\\u00f8se\", \"Vesterbro-Kongens Enghave\", \"\\u00d8sterbro\"], \"y\": [0.0, 0.0, 0.0, 0.0, 2.0, 17.0, 16.0, 0.0, 17.0, 25.0]}, {\"name\": \"Snebolle\", \"type\": \"bar\", \"x\": [\"Amager Vest\", \"Amager \\u00d8st\", \"Bispebjerg\", \"Br\\u00f8nsh\\u00f8j-Husum\", \"Indre By\", \"N\\u00f8rrebro\", \"Valby\", \"Vanl\\u00f8se\", \"Vesterbro-Kongens Enghave\", \"\\u00d8sterbro\"], \"y\": [0.0, 0.0, 0.0, 0.0, 0.0, 4.0, 0.0, 0.0, 0.0, 0.0]}, {\"name\": \"Sophora\", \"type\": \"bar\", \"x\": [\"Amager Vest\", \"Amager \\u00d8st\", \"Bispebjerg\", \"Br\\u00f8nsh\\u00f8j-Husum\", \"Indre By\", \"N\\u00f8rrebro\", \"Valby\", \"Vanl\\u00f8se\", \"Vesterbro-Kongens Enghave\", \"\\u00d8sterbro\"], \"y\": [0.0, 0.0, 0.0, 0.0, 0.0, 0.0, 1.0, 0.0, 2.0, 0.0]}, {\"name\": \"Storaks\", \"type\": \"bar\", \"x\": [\"Amager Vest\", \"Amager \\u00d8st\", \"Bispebjerg\", \"Br\\u00f8nsh\\u00f8j-Husum\", \"Indre By\", \"N\\u00f8rrebro\", \"Valby\", \"Vanl\\u00f8se\", \"Vesterbro-Kongens Enghave\", \"\\u00d8sterbro\"], \"y\": [0.0, 0.0, 0.0, 0.0, 0.0, 0.0, 0.0, 0.0, 0.0, 6.0]}, {\"name\": \"Sydb\\u00f8g\", \"type\": \"bar\", \"x\": [\"Amager Vest\", \"Amager \\u00d8st\", \"Bispebjerg\", \"Br\\u00f8nsh\\u00f8j-Husum\", \"Indre By\", \"N\\u00f8rrebro\", \"Valby\", \"Vanl\\u00f8se\", \"Vesterbro-Kongens Enghave\", \"\\u00d8sterbro\"], \"y\": [0.0, 0.0, 0.0, 0.0, 0.0, 1.0, 0.0, 0.0, 0.0, 0.0]}, {\"name\": \"S\\u00f8lvblad \", \"type\": \"bar\", \"x\": [\"Amager Vest\", \"Amager \\u00d8st\", \"Bispebjerg\", \"Br\\u00f8nsh\\u00f8j-Husum\", \"Indre By\", \"N\\u00f8rrebro\", \"Valby\", \"Vanl\\u00f8se\", \"Vesterbro-Kongens Enghave\", \"\\u00d8sterbro\"], \"y\": [0.0, 0.0, 0.0, 0.0, 0.0, 0.0, 0.0, 0.0, 0.0, 2.0]}, {\"name\": \"Taks\", \"type\": \"bar\", \"x\": [\"Amager Vest\", \"Amager \\u00d8st\", \"Bispebjerg\", \"Br\\u00f8nsh\\u00f8j-Husum\", \"Indre By\", \"N\\u00f8rrebro\", \"Valby\", \"Vanl\\u00f8se\", \"Vesterbro-Kongens Enghave\", \"\\u00d8sterbro\"], \"y\": [0.0, 0.0, 0.0, 0.0, 0.0, 0.0, 1.0, 0.0, 0.0, 0.0]}, {\"name\": \"Taxodium, ikke navngivet p\\u00e5 dansk\", \"type\": \"bar\", \"x\": [\"Amager Vest\", \"Amager \\u00d8st\", \"Bispebjerg\", \"Br\\u00f8nsh\\u00f8j-Husum\", \"Indre By\", \"N\\u00f8rrebro\", \"Valby\", \"Vanl\\u00f8se\", \"Vesterbro-Kongens Enghave\", \"\\u00d8sterbro\"], \"y\": [0.0, 0.0, 0.0, 0.0, 0.0, 0.0, 0.0, 0.0, 0.0, 21.0]}, {\"name\": \"Thuja\", \"type\": \"bar\", \"x\": [\"Amager Vest\", \"Amager \\u00d8st\", \"Bispebjerg\", \"Br\\u00f8nsh\\u00f8j-Husum\", \"Indre By\", \"N\\u00f8rrebro\", \"Valby\", \"Vanl\\u00f8se\", \"Vesterbro-Kongens Enghave\", \"\\u00d8sterbro\"], \"y\": [0.0, 0.0, 0.0, 0.0, 0.0, 1.0, 0.0, 0.0, 0.0, 0.0]}, {\"name\": \"Tj\\u00f8rn\", \"type\": \"bar\", \"x\": [\"Amager Vest\", \"Amager \\u00d8st\", \"Bispebjerg\", \"Br\\u00f8nsh\\u00f8j-Husum\", \"Indre By\", \"N\\u00f8rrebro\", \"Valby\", \"Vanl\\u00f8se\", \"Vesterbro-Kongens Enghave\", \"\\u00d8sterbro\"], \"y\": [70.0, 14.0, 52.0, 68.0, 40.0, 24.0, 10.0, 30.0, 17.0, 162.0]}, {\"name\": \"Tretorn\", \"type\": \"bar\", \"x\": [\"Amager Vest\", \"Amager \\u00d8st\", \"Bispebjerg\", \"Br\\u00f8nsh\\u00f8j-Husum\", \"Indre By\", \"N\\u00f8rrebro\", \"Valby\", \"Vanl\\u00f8se\", \"Vesterbro-Kongens Enghave\", \"\\u00d8sterbro\"], \"y\": [0.0, 16.0, 0.0, 0.0, 28.0, 18.0, 5.0, 0.0, 21.0, 45.0]}, {\"name\": \"Tulipantr\\u00e6\", \"type\": \"bar\", \"x\": [\"Amager Vest\", \"Amager \\u00d8st\", \"Bispebjerg\", \"Br\\u00f8nsh\\u00f8j-Husum\", \"Indre By\", \"N\\u00f8rrebro\", \"Valby\", \"Vanl\\u00f8se\", \"Vesterbro-Kongens Enghave\", \"\\u00d8sterbro\"], \"y\": [3.0, 8.0, 0.0, 0.0, 1.0, 2.0, 23.0, 0.0, 3.0, 10.0]}, {\"name\": \"Valn\\u00f8d\", \"type\": \"bar\", \"x\": [\"Amager Vest\", \"Amager \\u00d8st\", \"Bispebjerg\", \"Br\\u00f8nsh\\u00f8j-Husum\", \"Indre By\", \"N\\u00f8rrebro\", \"Valby\", \"Vanl\\u00f8se\", \"Vesterbro-Kongens Enghave\", \"\\u00d8sterbro\"], \"y\": [0.0, 0.0, 0.0, 0.0, 0.0, 2.0, 0.0, 0.0, 3.0, 10.0]}, {\"name\": \"Vandgran\", \"type\": \"bar\", \"x\": [\"Amager Vest\", \"Amager \\u00d8st\", \"Bispebjerg\", \"Br\\u00f8nsh\\u00f8j-Husum\", \"Indre By\", \"N\\u00f8rrebro\", \"Valby\", \"Vanl\\u00f8se\", \"Vesterbro-Kongens Enghave\", \"\\u00d8sterbro\"], \"y\": [0.0, 0.0, 0.0, 0.0, 14.0, 1.0, 0.0, 0.0, 56.0, 17.0]}, {\"name\": \"Vingevaln\\u00f8d\", \"type\": \"bar\", \"x\": [\"Amager Vest\", \"Amager \\u00d8st\", \"Bispebjerg\", \"Br\\u00f8nsh\\u00f8j-Husum\", \"Indre By\", \"N\\u00f8rrebro\", \"Valby\", \"Vanl\\u00f8se\", \"Vesterbro-Kongens Enghave\", \"\\u00d8sterbro\"], \"y\": [0.0, 0.0, 0.0, 0.0, 0.0, 2.0, 0.0, 0.0, 0.0, 11.0]}, {\"name\": \"Zelkova, ikke navngivet p\\u00e5 dansk\", \"type\": \"bar\", \"x\": [\"Amager Vest\", \"Amager \\u00d8st\", \"Bispebjerg\", \"Br\\u00f8nsh\\u00f8j-Husum\", \"Indre By\", \"N\\u00f8rrebro\", \"Valby\", \"Vanl\\u00f8se\", \"Vesterbro-Kongens Enghave\", \"\\u00d8sterbro\"], \"y\": [0.0, 0.0, 0.0, 0.0, 0.0, 0.0, 0.0, 0.0, 0.0, 5.0]}, {\"name\": \"\\u00c6ble\", \"type\": \"bar\", \"x\": [\"Amager Vest\", \"Amager \\u00d8st\", \"Bispebjerg\", \"Br\\u00f8nsh\\u00f8j-Husum\", \"Indre By\", \"N\\u00f8rrebro\", \"Valby\", \"Vanl\\u00f8se\", \"Vesterbro-Kongens Enghave\", \"\\u00d8sterbro\"], \"y\": [29.0, 11.0, 12.0, 0.0, 19.0, 41.0, 33.0, 3.0, 78.0, 51.0]}],\n",
       "                        {\"barmode\": \"stack\", \"template\": {\"data\": {\"bar\": [{\"error_x\": {\"color\": \"#2a3f5f\"}, \"error_y\": {\"color\": \"#2a3f5f\"}, \"marker\": {\"line\": {\"color\": \"#E5ECF6\", \"width\": 0.5}}, \"type\": \"bar\"}], \"barpolar\": [{\"marker\": {\"line\": {\"color\": \"#E5ECF6\", \"width\": 0.5}}, \"type\": \"barpolar\"}], \"carpet\": [{\"aaxis\": {\"endlinecolor\": \"#2a3f5f\", \"gridcolor\": \"white\", \"linecolor\": \"white\", \"minorgridcolor\": \"white\", \"startlinecolor\": \"#2a3f5f\"}, \"baxis\": {\"endlinecolor\": \"#2a3f5f\", \"gridcolor\": \"white\", \"linecolor\": \"white\", \"minorgridcolor\": \"white\", \"startlinecolor\": \"#2a3f5f\"}, \"type\": \"carpet\"}], \"choropleth\": [{\"colorbar\": {\"outlinewidth\": 0, \"ticks\": \"\"}, \"type\": \"choropleth\"}], \"contour\": [{\"colorbar\": {\"outlinewidth\": 0, \"ticks\": \"\"}, \"colorscale\": [[0.0, \"#0d0887\"], [0.1111111111111111, \"#46039f\"], [0.2222222222222222, \"#7201a8\"], [0.3333333333333333, \"#9c179e\"], [0.4444444444444444, \"#bd3786\"], [0.5555555555555556, \"#d8576b\"], [0.6666666666666666, \"#ed7953\"], [0.7777777777777778, \"#fb9f3a\"], [0.8888888888888888, \"#fdca26\"], [1.0, \"#f0f921\"]], \"type\": \"contour\"}], \"contourcarpet\": [{\"colorbar\": {\"outlinewidth\": 0, \"ticks\": \"\"}, \"type\": \"contourcarpet\"}], \"heatmap\": [{\"colorbar\": {\"outlinewidth\": 0, \"ticks\": \"\"}, \"colorscale\": [[0.0, \"#0d0887\"], [0.1111111111111111, \"#46039f\"], [0.2222222222222222, \"#7201a8\"], [0.3333333333333333, \"#9c179e\"], [0.4444444444444444, \"#bd3786\"], [0.5555555555555556, \"#d8576b\"], [0.6666666666666666, \"#ed7953\"], [0.7777777777777778, \"#fb9f3a\"], [0.8888888888888888, \"#fdca26\"], [1.0, \"#f0f921\"]], \"type\": \"heatmap\"}], \"heatmapgl\": [{\"colorbar\": {\"outlinewidth\": 0, \"ticks\": \"\"}, \"colorscale\": [[0.0, \"#0d0887\"], [0.1111111111111111, \"#46039f\"], [0.2222222222222222, \"#7201a8\"], [0.3333333333333333, \"#9c179e\"], [0.4444444444444444, \"#bd3786\"], [0.5555555555555556, \"#d8576b\"], [0.6666666666666666, \"#ed7953\"], [0.7777777777777778, \"#fb9f3a\"], [0.8888888888888888, \"#fdca26\"], [1.0, \"#f0f921\"]], \"type\": \"heatmapgl\"}], \"histogram\": [{\"marker\": {\"colorbar\": {\"outlinewidth\": 0, \"ticks\": \"\"}}, \"type\": \"histogram\"}], \"histogram2d\": [{\"colorbar\": {\"outlinewidth\": 0, \"ticks\": \"\"}, \"colorscale\": [[0.0, \"#0d0887\"], [0.1111111111111111, \"#46039f\"], [0.2222222222222222, \"#7201a8\"], [0.3333333333333333, \"#9c179e\"], [0.4444444444444444, \"#bd3786\"], [0.5555555555555556, \"#d8576b\"], [0.6666666666666666, \"#ed7953\"], [0.7777777777777778, \"#fb9f3a\"], [0.8888888888888888, \"#fdca26\"], [1.0, \"#f0f921\"]], \"type\": \"histogram2d\"}], \"histogram2dcontour\": [{\"colorbar\": {\"outlinewidth\": 0, \"ticks\": \"\"}, \"colorscale\": [[0.0, \"#0d0887\"], [0.1111111111111111, \"#46039f\"], [0.2222222222222222, \"#7201a8\"], [0.3333333333333333, \"#9c179e\"], [0.4444444444444444, \"#bd3786\"], [0.5555555555555556, \"#d8576b\"], [0.6666666666666666, \"#ed7953\"], [0.7777777777777778, \"#fb9f3a\"], [0.8888888888888888, \"#fdca26\"], [1.0, \"#f0f921\"]], \"type\": \"histogram2dcontour\"}], \"mesh3d\": [{\"colorbar\": {\"outlinewidth\": 0, \"ticks\": \"\"}, \"type\": \"mesh3d\"}], \"parcoords\": [{\"line\": {\"colorbar\": {\"outlinewidth\": 0, \"ticks\": \"\"}}, \"type\": \"parcoords\"}], \"pie\": [{\"automargin\": true, \"type\": \"pie\"}], \"scatter\": [{\"marker\": {\"colorbar\": {\"outlinewidth\": 0, \"ticks\": \"\"}}, \"type\": \"scatter\"}], \"scatter3d\": [{\"line\": {\"colorbar\": {\"outlinewidth\": 0, \"ticks\": \"\"}}, \"marker\": {\"colorbar\": {\"outlinewidth\": 0, \"ticks\": \"\"}}, \"type\": \"scatter3d\"}], \"scattercarpet\": [{\"marker\": {\"colorbar\": {\"outlinewidth\": 0, \"ticks\": \"\"}}, \"type\": \"scattercarpet\"}], \"scattergeo\": [{\"marker\": {\"colorbar\": {\"outlinewidth\": 0, \"ticks\": \"\"}}, \"type\": \"scattergeo\"}], \"scattergl\": [{\"marker\": {\"colorbar\": {\"outlinewidth\": 0, \"ticks\": \"\"}}, \"type\": \"scattergl\"}], \"scattermapbox\": [{\"marker\": {\"colorbar\": {\"outlinewidth\": 0, \"ticks\": \"\"}}, \"type\": \"scattermapbox\"}], \"scatterpolar\": [{\"marker\": {\"colorbar\": {\"outlinewidth\": 0, \"ticks\": \"\"}}, \"type\": \"scatterpolar\"}], \"scatterpolargl\": [{\"marker\": {\"colorbar\": {\"outlinewidth\": 0, \"ticks\": \"\"}}, \"type\": \"scatterpolargl\"}], \"scatterternary\": [{\"marker\": {\"colorbar\": {\"outlinewidth\": 0, \"ticks\": \"\"}}, \"type\": \"scatterternary\"}], \"surface\": [{\"colorbar\": {\"outlinewidth\": 0, \"ticks\": \"\"}, \"colorscale\": [[0.0, \"#0d0887\"], [0.1111111111111111, \"#46039f\"], [0.2222222222222222, \"#7201a8\"], [0.3333333333333333, \"#9c179e\"], [0.4444444444444444, \"#bd3786\"], [0.5555555555555556, \"#d8576b\"], [0.6666666666666666, \"#ed7953\"], [0.7777777777777778, \"#fb9f3a\"], [0.8888888888888888, \"#fdca26\"], [1.0, \"#f0f921\"]], \"type\": \"surface\"}], \"table\": [{\"cells\": {\"fill\": {\"color\": \"#EBF0F8\"}, \"line\": {\"color\": \"white\"}}, \"header\": {\"fill\": {\"color\": \"#C8D4E3\"}, \"line\": {\"color\": \"white\"}}, \"type\": \"table\"}]}, \"layout\": {\"annotationdefaults\": {\"arrowcolor\": \"#2a3f5f\", \"arrowhead\": 0, \"arrowwidth\": 1}, \"coloraxis\": {\"colorbar\": {\"outlinewidth\": 0, \"ticks\": \"\"}}, \"colorscale\": {\"diverging\": [[0, \"#8e0152\"], [0.1, \"#c51b7d\"], [0.2, \"#de77ae\"], [0.3, \"#f1b6da\"], [0.4, \"#fde0ef\"], [0.5, \"#f7f7f7\"], [0.6, \"#e6f5d0\"], [0.7, \"#b8e186\"], [0.8, \"#7fbc41\"], [0.9, \"#4d9221\"], [1, \"#276419\"]], \"sequential\": [[0.0, \"#0d0887\"], [0.1111111111111111, \"#46039f\"], [0.2222222222222222, \"#7201a8\"], [0.3333333333333333, \"#9c179e\"], [0.4444444444444444, \"#bd3786\"], [0.5555555555555556, \"#d8576b\"], [0.6666666666666666, \"#ed7953\"], [0.7777777777777778, \"#fb9f3a\"], [0.8888888888888888, \"#fdca26\"], [1.0, \"#f0f921\"]], \"sequentialminus\": [[0.0, \"#0d0887\"], [0.1111111111111111, \"#46039f\"], [0.2222222222222222, \"#7201a8\"], [0.3333333333333333, \"#9c179e\"], [0.4444444444444444, \"#bd3786\"], [0.5555555555555556, \"#d8576b\"], [0.6666666666666666, \"#ed7953\"], [0.7777777777777778, \"#fb9f3a\"], [0.8888888888888888, \"#fdca26\"], [1.0, \"#f0f921\"]]}, \"colorway\": [\"#636efa\", \"#EF553B\", \"#00cc96\", \"#ab63fa\", \"#FFA15A\", \"#19d3f3\", \"#FF6692\", \"#B6E880\", \"#FF97FF\", \"#FECB52\"], \"font\": {\"color\": \"#2a3f5f\"}, \"geo\": {\"bgcolor\": \"white\", \"lakecolor\": \"white\", \"landcolor\": \"#E5ECF6\", \"showlakes\": true, \"showland\": true, \"subunitcolor\": \"white\"}, \"hoverlabel\": {\"align\": \"left\"}, \"hovermode\": \"closest\", \"mapbox\": {\"style\": \"light\"}, \"paper_bgcolor\": \"white\", \"plot_bgcolor\": \"#E5ECF6\", \"polar\": {\"angularaxis\": {\"gridcolor\": \"white\", \"linecolor\": \"white\", \"ticks\": \"\"}, \"bgcolor\": \"#E5ECF6\", \"radialaxis\": {\"gridcolor\": \"white\", \"linecolor\": \"white\", \"ticks\": \"\"}}, \"scene\": {\"xaxis\": {\"backgroundcolor\": \"#E5ECF6\", \"gridcolor\": \"white\", \"gridwidth\": 2, \"linecolor\": \"white\", \"showbackground\": true, \"ticks\": \"\", \"zerolinecolor\": \"white\"}, \"yaxis\": {\"backgroundcolor\": \"#E5ECF6\", \"gridcolor\": \"white\", \"gridwidth\": 2, \"linecolor\": \"white\", \"showbackground\": true, \"ticks\": \"\", \"zerolinecolor\": \"white\"}, \"zaxis\": {\"backgroundcolor\": \"#E5ECF6\", \"gridcolor\": \"white\", \"gridwidth\": 2, \"linecolor\": \"white\", \"showbackground\": true, \"ticks\": \"\", \"zerolinecolor\": \"white\"}}, \"shapedefaults\": {\"line\": {\"color\": \"#2a3f5f\"}}, \"ternary\": {\"aaxis\": {\"gridcolor\": \"white\", \"linecolor\": \"white\", \"ticks\": \"\"}, \"baxis\": {\"gridcolor\": \"white\", \"linecolor\": \"white\", \"ticks\": \"\"}, \"bgcolor\": \"#E5ECF6\", \"caxis\": {\"gridcolor\": \"white\", \"linecolor\": \"white\", \"ticks\": \"\"}}, \"title\": {\"x\": 0.05}, \"xaxis\": {\"automargin\": true, \"gridcolor\": \"white\", \"linecolor\": \"white\", \"ticks\": \"\", \"title\": {\"standoff\": 15}, \"zerolinecolor\": \"white\", \"zerolinewidth\": 2}, \"yaxis\": {\"automargin\": true, \"gridcolor\": \"white\", \"linecolor\": \"white\", \"ticks\": \"\", \"title\": {\"standoff\": 15}, \"zerolinecolor\": \"white\", \"zerolinewidth\": 2}}}},\n",
       "                        {\"responsive\": true}\n",
       "                    ).then(function(){\n",
       "                            \n",
       "var gd = document.getElementById('6eb9e8aa-ca72-4bcb-8d7d-5bf4484b4eb0');\n",
       "var x = new MutationObserver(function (mutations, observer) {{\n",
       "        var display = window.getComputedStyle(gd).display;\n",
       "        if (!display || display === 'none') {{\n",
       "            console.log([gd, 'removed!']);\n",
       "            Plotly.purge(gd);\n",
       "            observer.disconnect();\n",
       "        }}\n",
       "}});\n",
       "\n",
       "// Listen for the removal of the full notebook cells\n",
       "var notebookContainer = gd.closest('#notebook-container');\n",
       "if (notebookContainer) {{\n",
       "    x.observe(notebookContainer, {childList: true});\n",
       "}}\n",
       "\n",
       "// Listen for the clearing of the current output cell\n",
       "var outputEl = gd.closest('.output');\n",
       "if (outputEl) {{\n",
       "    x.observe(outputEl, {childList: true});\n",
       "}}\n",
       "\n",
       "                        })\n",
       "                };\n",
       "                });\n",
       "            </script>\n",
       "        </div>"
      ]
     },
     "metadata": {},
     "output_type": "display_data"
    }
   ],
   "source": [
    "x = temp.columns\n",
    "trees = temp.index\n",
    "\n",
    "for i in range(0,len(trees)):\n",
    "    if i == 0:\n",
    "        fig = go.Figure(go.Bar(x=x, y=temp.iloc[i,:].values, name = trees[i]))\n",
    "    else:\n",
    "        fig.add_trace(go.Bar(x=x, y=temp.iloc[i,:].values, name = trees[i]))\n",
    "\n",
    "fig.update_layout(barmode='stack')\n",
    "fig.show()"
   ]
  },
  {
   "cell_type": "markdown",
   "metadata": {},
   "source": [
    "# Analyse af df2, *trae_basis.csv*"
   ]
  },
  {
   "cell_type": "code",
   "execution_count": null,
   "metadata": {},
   "outputs": [],
   "source": [
    "# So all columns can be viewed\n",
    "\n",
    "pd.set_option('display.max_columns', None)"
   ]
  },
  {
   "cell_type": "code",
   "execution_count": 117,
   "metadata": {},
   "outputs": [
    {
     "data": {
      "text/html": [
       "<div>\n",
       "<style scoped>\n",
       "    .dataframe tbody tr th:only-of-type {\n",
       "        vertical-align: middle;\n",
       "    }\n",
       "\n",
       "    .dataframe tbody tr th {\n",
       "        vertical-align: top;\n",
       "    }\n",
       "\n",
       "    .dataframe thead th {\n",
       "        text-align: right;\n",
       "    }\n",
       "</style>\n",
       "<table border=\"1\" class=\"dataframe\">\n",
       "  <thead>\n",
       "    <tr style=\"text-align: right;\">\n",
       "      <th></th>\n",
       "      <th>FID</th>\n",
       "      <th>kategori</th>\n",
       "      <th>saerligt_trae</th>\n",
       "      <th>id</th>\n",
       "      <th>type</th>\n",
       "      <th>element</th>\n",
       "      <th>under_element</th>\n",
       "      <th>ny_dm_element</th>\n",
       "      <th>ny_dm_under_element</th>\n",
       "      <th>arbsted_tekst_id</th>\n",
       "      <th>driftsplan_navn</th>\n",
       "      <th>enhedsomraade</th>\n",
       "      <th>traeart</th>\n",
       "      <th>dansk_navn</th>\n",
       "      <th>slaegtsnavn</th>\n",
       "      <th>planteaar</th>\n",
       "      <th>plantet_halvaar</th>\n",
       "      <th>faeldningsaar</th>\n",
       "      <th>bydelsnavn</th>\n",
       "      <th>omraade</th>\n",
       "      <th>vejnavn</th>\n",
       "      <th>vejklasse</th>\n",
       "      <th>vejstatus</th>\n",
       "      <th>fritrumsprofil</th>\n",
       "      <th>stammeomfang</th>\n",
       "      <th>kronediameter</th>\n",
       "      <th>placering</th>\n",
       "      <th>afgraensning</th>\n",
       "      <th>plantemetode</th>\n",
       "      <th>omgivelse</th>\n",
       "      <th>vaekstmedie</th>\n",
       "      <th>beskyttelse</th>\n",
       "      <th>sundhed</th>\n",
       "      <th>skudtilvaekst</th>\n",
       "      <th>andre_vaekstforhold</th>\n",
       "      <th>bevaringsvaerdi</th>\n",
       "      <th>registrering_type</th>\n",
       "      <th>driftstatus_gadetrae</th>\n",
       "      <th>ejer</th>\n",
       "      <th>driftsorganisation</th>\n",
       "      <th>garantiperioden_udloeber</th>\n",
       "      <th>driftsaftale_edoc_nr</th>\n",
       "      <th>fredet_beskyttet_trae</th>\n",
       "      <th>fredningsmyndighed</th>\n",
       "      <th>trae_historie</th>\n",
       "      <th>botanisk_interesse</th>\n",
       "      <th>fredet_trae_foto</th>\n",
       "      <th>donor</th>\n",
       "      <th>anledning</th>\n",
       "      <th>saerlig_trae_bem</th>\n",
       "      <th>fredning_edoc_nr</th>\n",
       "      <th>ikonisk_trae</th>\n",
       "      <th>evighedstrae</th>\n",
       "      <th>bemaerkning</th>\n",
       "      <th>reg_dato</th>\n",
       "      <th>opdateret_dato</th>\n",
       "      <th>r_tidsstempel</th>\n",
       "      <th>r_risikofaktor</th>\n",
       "      <th>r_vaerdi</th>\n",
       "      <th>r_omgivelser</th>\n",
       "      <th>r_registrant</th>\n",
       "      <th>r_registreringsnummer</th>\n",
       "      <th>r_aendringer_rodzone_andet</th>\n",
       "      <th>r_gravearbejde_i_rodzonen</th>\n",
       "      <th>r_gravearbejde_dato</th>\n",
       "      <th>r_graveansvarlig</th>\n",
       "      <th>r_terraenaendring</th>\n",
       "      <th>r_terraenaendring_dato</th>\n",
       "      <th>r_belaegningsaendring_rodzonen</th>\n",
       "      <th>r_belaegningsaendring_dato</th>\n",
       "      <th>r_beplantningsaendring</th>\n",
       "      <th>r_beplantningsaendring_dato</th>\n",
       "      <th>r_aendring_i_graespleje</th>\n",
       "      <th>r_aendring_i_graespleje_dato</th>\n",
       "      <th>r_grundvandsaendring</th>\n",
       "      <th>r_grundvandsaendring_dato</th>\n",
       "      <th>r_sygdomme_skadedyr_andet</th>\n",
       "      <th>r_sygdomme</th>\n",
       "      <th>r_skadedyr</th>\n",
       "      <th>r_stammestruktur_andet</th>\n",
       "      <th>r_tvege</th>\n",
       "      <th>r_flerstammet</th>\n",
       "      <th>r_haeldning</th>\n",
       "      <th>r_kronestruktur_andet</th>\n",
       "      <th>r_ensidig</th>\n",
       "      <th>r_spidse_grenvinkler</th>\n",
       "      <th>r_lange_tunge_grene</th>\n",
       "      <th>r_stammeagtige_sidegrene</th>\n",
       "      <th>r_svag_grensammenhaeftning</th>\n",
       "      <th>r_kronen_andet</th>\n",
       "      <th>r_unormal_bladstoerrelse</th>\n",
       "      <th>r_tidligt_bladtab_hoestfarver</th>\n",
       "      <th>r_grene_mange_saar</th>\n",
       "      <th>r_saar_kritiske_steder_krone</th>\n",
       "      <th>r_daarlig_saarheling_krone</th>\n",
       "      <th>r_doede_grene_braekket_revne</th>\n",
       "      <th>r_revner_i_grene</th>\n",
       "      <th>r_maengden_af_doede_grene</th>\n",
       "      <th>r_stoerrelse_defekte_grene</th>\n",
       "      <th>r_toptoerhed</th>\n",
       "      <th>r_tyndloevet</th>\n",
       "      <th>r_beskaering</th>\n",
       "      <th>r_doedt_trae_staaende</th>\n",
       "      <th>r_stammen_andet</th>\n",
       "      <th>r_doed_bark</th>\n",
       "      <th>r_unormal_bark</th>\n",
       "      <th>r_slimflaad</th>\n",
       "      <th>r_indsunken_bark</th>\n",
       "      <th>r_indvokset_bark</th>\n",
       "      <th>r_store_gamle_saar</th>\n",
       "      <th>r_mange_saar_paa_stammen</th>\n",
       "      <th>r_saar_kritiske_steder_stamme</th>\n",
       "      <th>r_daarlig_saarheling_stamme</th>\n",
       "      <th>r_revner</th>\n",
       "      <th>r_defekter</th>\n",
       "      <th>r_stammeraad_hulhed_aaben</th>\n",
       "      <th>r_stammeraad_hulhed_lukket</th>\n",
       "      <th>r_rodzonen_andet</th>\n",
       "      <th>r_overfladisk_rodnet</th>\n",
       "      <th>r_omvoksende_roedder</th>\n",
       "      <th>r_rodskader</th>\n",
       "      <th>r_rodkageloesning</th>\n",
       "      <th>r_svamp_andet</th>\n",
       "      <th>r_honningsvamp</th>\n",
       "      <th>r_krumskaellet_skaelhat</th>\n",
       "      <th>r_kulsvamp</th>\n",
       "      <th>r_kaempe_poresvamp</th>\n",
       "      <th>r_lakporesvamp</th>\n",
       "      <th>r_skaellet_stilkporesvamp</th>\n",
       "      <th>r_svovlporesvamp</th>\n",
       "      <th>r_toendersvamp</th>\n",
       "      <th>r_oestershat</th>\n",
       "      <th>r_floejlsfod</th>\n",
       "      <th>r_laedersvamp</th>\n",
       "      <th>r_ukendt_svamp</th>\n",
       "      <th>r_ukendt_svamp_beskrivelse</th>\n",
       "      <th>r_birkeporesvamp</th>\n",
       "      <th>r_tilsynsaarsag_andet</th>\n",
       "      <th>r_kronesymptomer</th>\n",
       "      <th>r_struktur</th>\n",
       "      <th>r_svamp</th>\n",
       "      <th>r_skade_paa_roedder</th>\n",
       "      <th>r_raadmaaling_andet</th>\n",
       "      <th>r_raadmaaling_dato</th>\n",
       "      <th>r_naeste_raadmaaling_aar</th>\n",
       "      <th>r_undersoegelse_lift_andet</th>\n",
       "      <th>r_undersoegelse_lift_dato</th>\n",
       "      <th>r_handling_andet</th>\n",
       "      <th>r_handling</th>\n",
       "      <th>r_tid_for_handling</th>\n",
       "      <th>r_beskaeringsaar</th>\n",
       "      <th>r_tilsynsfrekvens</th>\n",
       "      <th>r_naeste_tilsyn_halvaar</th>\n",
       "      <th>r_skader_andet</th>\n",
       "      <th>r_materiel</th>\n",
       "      <th>r_person</th>\n",
       "      <th>r_link_til_edoc_sag</th>\n",
       "      <th>r_generelt_beplantning_andet</th>\n",
       "      <th>r_handling_for_beplantning</th>\n",
       "      <th>r_img01</th>\n",
       "      <th>r_img02</th>\n",
       "      <th>r_img03</th>\n",
       "      <th>r_img04</th>\n",
       "      <th>r_img05</th>\n",
       "      <th>r_img06</th>\n",
       "      <th>r_img07</th>\n",
       "      <th>r_img08</th>\n",
       "      <th>r_img09</th>\n",
       "      <th>r_img10</th>\n",
       "      <th>r_img11</th>\n",
       "      <th>r_img12</th>\n",
       "      <th>r_img13</th>\n",
       "      <th>r_img14</th>\n",
       "      <th>r_img15</th>\n",
       "      <th>torso_hoejde</th>\n",
       "      <th>torso_omkreds</th>\n",
       "      <th>torso_stamme</th>\n",
       "      <th>torso_sidst_stynet</th>\n",
       "      <th>torso_frekvens_styning</th>\n",
       "      <th>torso_naeste_styning</th>\n",
       "      <th>torso_skaeres_ned_til</th>\n",
       "      <th>torso_bemaerkning</th>\n",
       "      <th>wkb_geometry</th>\n",
       "    </tr>\n",
       "  </thead>\n",
       "  <tbody>\n",
       "    <tr>\n",
       "      <th>0</th>\n",
       "      <td>trae_basis.1</td>\n",
       "      <td>gadetræ</td>\n",
       "      <td>nej</td>\n",
       "      <td>18611</td>\n",
       "      <td>2 Træer</td>\n",
       "      <td>2.3 Parktræer</td>\n",
       "      <td>NaN</td>\n",
       "      <td>Gadetræer</td>\n",
       "      <td>Gadetræ</td>\n",
       "      <td>Gadet_Gadet_3421</td>\n",
       "      <td>Gadetræer Vesterbro-Kgs Enghave</td>\n",
       "      <td>Valby</td>\n",
       "      <td>Tilia platyphyllos</td>\n",
       "      <td>Storbladet lind</td>\n",
       "      <td>Lind</td>\n",
       "      <td>1953.0</td>\n",
       "      <td>Ikke registreret</td>\n",
       "      <td>Ikke registreret</td>\n",
       "      <td>Vesterbro-Kongens Enghave</td>\n",
       "      <td>Center Drift Syd CDS</td>\n",
       "      <td>Scandiagade</td>\n",
       "      <td>regional vej</td>\n",
       "      <td>Kommunevej</td>\n",
       "      <td>4,5 m</td>\n",
       "      <td>30 - 40</td>\n",
       "      <td>Ikke registreret</td>\n",
       "      <td>Midterrabat</td>\n",
       "      <td>Med kant</td>\n",
       "      <td>Muld</td>\n",
       "      <td>Græs</td>\n",
       "      <td>&gt; 15 m2</td>\n",
       "      <td>Ikke registreret</td>\n",
       "      <td>God</td>\n",
       "      <td>Ikke registreret</td>\n",
       "      <td>NaN</td>\n",
       "      <td>Ikke registreret</td>\n",
       "      <td>Gadetræ registreret før sommer 2009</td>\n",
       "      <td>Ikke registreret</td>\n",
       "      <td>TMF</td>\n",
       "      <td>TMF-Byens Drift</td>\n",
       "      <td>Ikke registreret</td>\n",
       "      <td>NaN</td>\n",
       "      <td>Ikke registreret</td>\n",
       "      <td>Ikke registreret</td>\n",
       "      <td>Ikke registreret</td>\n",
       "      <td>Ikke registreret</td>\n",
       "      <td>NaN</td>\n",
       "      <td>NaN</td>\n",
       "      <td>NaN</td>\n",
       "      <td>NaN</td>\n",
       "      <td>NaN</td>\n",
       "      <td>NaN</td>\n",
       "      <td>Ikke registreret</td>\n",
       "      <td>NaN</td>\n",
       "      <td>2007-09-21T00:00:00</td>\n",
       "      <td>2020-02-11T09:34:00.102</td>\n",
       "      <td>NaN</td>\n",
       "      <td>NaN</td>\n",
       "      <td>NaN</td>\n",
       "      <td>NaN</td>\n",
       "      <td>NaN</td>\n",
       "      <td>NaN</td>\n",
       "      <td>NaN</td>\n",
       "      <td>NaN</td>\n",
       "      <td>NaN</td>\n",
       "      <td>NaN</td>\n",
       "      <td>NaN</td>\n",
       "      <td>NaN</td>\n",
       "      <td>NaN</td>\n",
       "      <td>NaN</td>\n",
       "      <td>NaN</td>\n",
       "      <td>NaN</td>\n",
       "      <td>NaN</td>\n",
       "      <td>NaN</td>\n",
       "      <td>NaN</td>\n",
       "      <td>NaN</td>\n",
       "      <td>NaN</td>\n",
       "      <td>NaN</td>\n",
       "      <td>NaN</td>\n",
       "      <td>NaN</td>\n",
       "      <td>NaN</td>\n",
       "      <td>NaN</td>\n",
       "      <td>NaN</td>\n",
       "      <td>NaN</td>\n",
       "      <td>NaN</td>\n",
       "      <td>NaN</td>\n",
       "      <td>NaN</td>\n",
       "      <td>NaN</td>\n",
       "      <td>NaN</td>\n",
       "      <td>NaN</td>\n",
       "      <td>NaN</td>\n",
       "      <td>NaN</td>\n",
       "      <td>NaN</td>\n",
       "      <td>NaN</td>\n",
       "      <td>NaN</td>\n",
       "      <td>NaN</td>\n",
       "      <td>NaN</td>\n",
       "      <td>NaN</td>\n",
       "      <td>NaN</td>\n",
       "      <td>NaN</td>\n",
       "      <td>NaN</td>\n",
       "      <td>NaN</td>\n",
       "      <td>NaN</td>\n",
       "      <td>NaN</td>\n",
       "      <td>NaN</td>\n",
       "      <td>NaN</td>\n",
       "      <td>NaN</td>\n",
       "      <td>NaN</td>\n",
       "      <td>NaN</td>\n",
       "      <td>NaN</td>\n",
       "      <td>NaN</td>\n",
       "      <td>NaN</td>\n",
       "      <td>NaN</td>\n",
       "      <td>NaN</td>\n",
       "      <td>NaN</td>\n",
       "      <td>NaN</td>\n",
       "      <td>NaN</td>\n",
       "      <td>NaN</td>\n",
       "      <td>NaN</td>\n",
       "      <td>NaN</td>\n",
       "      <td>NaN</td>\n",
       "      <td>NaN</td>\n",
       "      <td>NaN</td>\n",
       "      <td>NaN</td>\n",
       "      <td>NaN</td>\n",
       "      <td>NaN</td>\n",
       "      <td>NaN</td>\n",
       "      <td>NaN</td>\n",
       "      <td>NaN</td>\n",
       "      <td>NaN</td>\n",
       "      <td>NaN</td>\n",
       "      <td>NaN</td>\n",
       "      <td>NaN</td>\n",
       "      <td>NaN</td>\n",
       "      <td>NaN</td>\n",
       "      <td>NaN</td>\n",
       "      <td>NaN</td>\n",
       "      <td>NaN</td>\n",
       "      <td>NaN</td>\n",
       "      <td>NaN</td>\n",
       "      <td>NaN</td>\n",
       "      <td>NaN</td>\n",
       "      <td>NaN</td>\n",
       "      <td>NaN</td>\n",
       "      <td>NaN</td>\n",
       "      <td>NaN</td>\n",
       "      <td>NaN</td>\n",
       "      <td>NaN</td>\n",
       "      <td>NaN</td>\n",
       "      <td>NaN</td>\n",
       "      <td>NaN</td>\n",
       "      <td>NaN</td>\n",
       "      <td>NaN</td>\n",
       "      <td>NaN</td>\n",
       "      <td>NaN</td>\n",
       "      <td>NaN</td>\n",
       "      <td>NaN</td>\n",
       "      <td>NaN</td>\n",
       "      <td>NaN</td>\n",
       "      <td>NaN</td>\n",
       "      <td>NaN</td>\n",
       "      <td>NaN</td>\n",
       "      <td>NaN</td>\n",
       "      <td>NaN</td>\n",
       "      <td>NaN</td>\n",
       "      <td>NaN</td>\n",
       "      <td>NaN</td>\n",
       "      <td>NaN</td>\n",
       "      <td>NaN</td>\n",
       "      <td>NaN</td>\n",
       "      <td>NaN</td>\n",
       "      <td>NaN</td>\n",
       "      <td>NaN</td>\n",
       "      <td>NaN</td>\n",
       "      <td>NaN</td>\n",
       "      <td>NaN</td>\n",
       "      <td>NaN</td>\n",
       "      <td>NaN</td>\n",
       "      <td>NaN</td>\n",
       "      <td>NaN</td>\n",
       "      <td>NaN</td>\n",
       "      <td>NaN</td>\n",
       "      <td>POINT (12.5370471883976 55.6486340745573)</td>\n",
       "    </tr>\n",
       "    <tr>\n",
       "      <th>1</th>\n",
       "      <td>trae_basis.2</td>\n",
       "      <td>gadetræ</td>\n",
       "      <td>nej</td>\n",
       "      <td>21291</td>\n",
       "      <td>2 Træer</td>\n",
       "      <td>2.3 Parktræer</td>\n",
       "      <td>NaN</td>\n",
       "      <td>Gadetræer</td>\n",
       "      <td>Gadetræ</td>\n",
       "      <td>Gadet_Gadet_3421</td>\n",
       "      <td>Gadetræer Vesterbro-Kgs Enghave</td>\n",
       "      <td>Valby</td>\n",
       "      <td>Tilia platyphyllos</td>\n",
       "      <td>Storbladet lind</td>\n",
       "      <td>Lind</td>\n",
       "      <td>1953.0</td>\n",
       "      <td>Ikke registreret</td>\n",
       "      <td>Ikke registreret</td>\n",
       "      <td>Vesterbro-Kongens Enghave</td>\n",
       "      <td>Center Drift Syd CDS</td>\n",
       "      <td>Scandiagade</td>\n",
       "      <td>regional vej</td>\n",
       "      <td>Kommunevej</td>\n",
       "      <td>4,5 m</td>\n",
       "      <td>30 - 40</td>\n",
       "      <td>Ikke registreret</td>\n",
       "      <td>Midterrabat</td>\n",
       "      <td>Med kant</td>\n",
       "      <td>Muld</td>\n",
       "      <td>Græs</td>\n",
       "      <td>&gt; 15 m2</td>\n",
       "      <td>Ikke registreret</td>\n",
       "      <td>God</td>\n",
       "      <td>Ikke registreret</td>\n",
       "      <td>NaN</td>\n",
       "      <td>Ikke registreret</td>\n",
       "      <td>Gadetræ registreret før sommer 2009</td>\n",
       "      <td>Ikke registreret</td>\n",
       "      <td>TMF</td>\n",
       "      <td>TMF-Byens Drift</td>\n",
       "      <td>Ikke registreret</td>\n",
       "      <td>NaN</td>\n",
       "      <td>Ikke registreret</td>\n",
       "      <td>Ikke registreret</td>\n",
       "      <td>Ikke registreret</td>\n",
       "      <td>Ikke registreret</td>\n",
       "      <td>NaN</td>\n",
       "      <td>NaN</td>\n",
       "      <td>NaN</td>\n",
       "      <td>NaN</td>\n",
       "      <td>NaN</td>\n",
       "      <td>NaN</td>\n",
       "      <td>Ikke registreret</td>\n",
       "      <td>NaN</td>\n",
       "      <td>2007-09-21T00:00:00</td>\n",
       "      <td>2020-02-11T09:34:00.102</td>\n",
       "      <td>NaN</td>\n",
       "      <td>NaN</td>\n",
       "      <td>NaN</td>\n",
       "      <td>NaN</td>\n",
       "      <td>NaN</td>\n",
       "      <td>NaN</td>\n",
       "      <td>NaN</td>\n",
       "      <td>NaN</td>\n",
       "      <td>NaN</td>\n",
       "      <td>NaN</td>\n",
       "      <td>NaN</td>\n",
       "      <td>NaN</td>\n",
       "      <td>NaN</td>\n",
       "      <td>NaN</td>\n",
       "      <td>NaN</td>\n",
       "      <td>NaN</td>\n",
       "      <td>NaN</td>\n",
       "      <td>NaN</td>\n",
       "      <td>NaN</td>\n",
       "      <td>NaN</td>\n",
       "      <td>NaN</td>\n",
       "      <td>NaN</td>\n",
       "      <td>NaN</td>\n",
       "      <td>NaN</td>\n",
       "      <td>NaN</td>\n",
       "      <td>NaN</td>\n",
       "      <td>NaN</td>\n",
       "      <td>NaN</td>\n",
       "      <td>NaN</td>\n",
       "      <td>NaN</td>\n",
       "      <td>NaN</td>\n",
       "      <td>NaN</td>\n",
       "      <td>NaN</td>\n",
       "      <td>NaN</td>\n",
       "      <td>NaN</td>\n",
       "      <td>NaN</td>\n",
       "      <td>NaN</td>\n",
       "      <td>NaN</td>\n",
       "      <td>NaN</td>\n",
       "      <td>NaN</td>\n",
       "      <td>NaN</td>\n",
       "      <td>NaN</td>\n",
       "      <td>NaN</td>\n",
       "      <td>NaN</td>\n",
       "      <td>NaN</td>\n",
       "      <td>NaN</td>\n",
       "      <td>NaN</td>\n",
       "      <td>NaN</td>\n",
       "      <td>NaN</td>\n",
       "      <td>NaN</td>\n",
       "      <td>NaN</td>\n",
       "      <td>NaN</td>\n",
       "      <td>NaN</td>\n",
       "      <td>NaN</td>\n",
       "      <td>NaN</td>\n",
       "      <td>NaN</td>\n",
       "      <td>NaN</td>\n",
       "      <td>NaN</td>\n",
       "      <td>NaN</td>\n",
       "      <td>NaN</td>\n",
       "      <td>NaN</td>\n",
       "      <td>NaN</td>\n",
       "      <td>NaN</td>\n",
       "      <td>NaN</td>\n",
       "      <td>NaN</td>\n",
       "      <td>NaN</td>\n",
       "      <td>NaN</td>\n",
       "      <td>NaN</td>\n",
       "      <td>NaN</td>\n",
       "      <td>NaN</td>\n",
       "      <td>NaN</td>\n",
       "      <td>NaN</td>\n",
       "      <td>NaN</td>\n",
       "      <td>NaN</td>\n",
       "      <td>NaN</td>\n",
       "      <td>NaN</td>\n",
       "      <td>NaN</td>\n",
       "      <td>NaN</td>\n",
       "      <td>NaN</td>\n",
       "      <td>NaN</td>\n",
       "      <td>NaN</td>\n",
       "      <td>NaN</td>\n",
       "      <td>NaN</td>\n",
       "      <td>NaN</td>\n",
       "      <td>NaN</td>\n",
       "      <td>NaN</td>\n",
       "      <td>NaN</td>\n",
       "      <td>NaN</td>\n",
       "      <td>NaN</td>\n",
       "      <td>NaN</td>\n",
       "      <td>NaN</td>\n",
       "      <td>NaN</td>\n",
       "      <td>NaN</td>\n",
       "      <td>NaN</td>\n",
       "      <td>NaN</td>\n",
       "      <td>NaN</td>\n",
       "      <td>NaN</td>\n",
       "      <td>NaN</td>\n",
       "      <td>NaN</td>\n",
       "      <td>NaN</td>\n",
       "      <td>NaN</td>\n",
       "      <td>NaN</td>\n",
       "      <td>NaN</td>\n",
       "      <td>NaN</td>\n",
       "      <td>NaN</td>\n",
       "      <td>NaN</td>\n",
       "      <td>NaN</td>\n",
       "      <td>NaN</td>\n",
       "      <td>NaN</td>\n",
       "      <td>NaN</td>\n",
       "      <td>NaN</td>\n",
       "      <td>NaN</td>\n",
       "      <td>NaN</td>\n",
       "      <td>NaN</td>\n",
       "      <td>NaN</td>\n",
       "      <td>NaN</td>\n",
       "      <td>NaN</td>\n",
       "      <td>NaN</td>\n",
       "      <td>NaN</td>\n",
       "      <td>NaN</td>\n",
       "      <td>NaN</td>\n",
       "      <td>NaN</td>\n",
       "      <td>NaN</td>\n",
       "      <td>NaN</td>\n",
       "      <td>NaN</td>\n",
       "      <td>NaN</td>\n",
       "      <td>POINT (12.536925020477707 55.64867988581558)</td>\n",
       "    </tr>\n",
       "    <tr>\n",
       "      <th>2</th>\n",
       "      <td>trae_basis.3</td>\n",
       "      <td>gadetræ</td>\n",
       "      <td>nej</td>\n",
       "      <td>21292</td>\n",
       "      <td>2 Træer</td>\n",
       "      <td>2.3 Parktræer</td>\n",
       "      <td>NaN</td>\n",
       "      <td>Gadetræer</td>\n",
       "      <td>Gadetræ</td>\n",
       "      <td>Gadet_Gadet_3421</td>\n",
       "      <td>Gadetræer Vesterbro-Kgs Enghave</td>\n",
       "      <td>Valby</td>\n",
       "      <td>Tilia platyphyllos</td>\n",
       "      <td>Storbladet lind</td>\n",
       "      <td>Lind</td>\n",
       "      <td>1953.0</td>\n",
       "      <td>Ikke registreret</td>\n",
       "      <td>Ikke registreret</td>\n",
       "      <td>Vesterbro-Kongens Enghave</td>\n",
       "      <td>Center Drift Syd CDS</td>\n",
       "      <td>Scandiagade</td>\n",
       "      <td>regional vej</td>\n",
       "      <td>Kommunevej</td>\n",
       "      <td>4,5 m</td>\n",
       "      <td>30 - 40</td>\n",
       "      <td>Ikke registreret</td>\n",
       "      <td>Midterrabat</td>\n",
       "      <td>Med kant</td>\n",
       "      <td>Muld</td>\n",
       "      <td>Græs</td>\n",
       "      <td>&gt; 15 m2</td>\n",
       "      <td>Ikke registreret</td>\n",
       "      <td>God</td>\n",
       "      <td>Ikke registreret</td>\n",
       "      <td>NaN</td>\n",
       "      <td>Ikke registreret</td>\n",
       "      <td>Gadetræ registreret før sommer 2009</td>\n",
       "      <td>Ikke registreret</td>\n",
       "      <td>TMF</td>\n",
       "      <td>TMF-Byens Drift</td>\n",
       "      <td>Ikke registreret</td>\n",
       "      <td>NaN</td>\n",
       "      <td>Ikke registreret</td>\n",
       "      <td>Ikke registreret</td>\n",
       "      <td>Ikke registreret</td>\n",
       "      <td>Ikke registreret</td>\n",
       "      <td>NaN</td>\n",
       "      <td>NaN</td>\n",
       "      <td>NaN</td>\n",
       "      <td>NaN</td>\n",
       "      <td>NaN</td>\n",
       "      <td>NaN</td>\n",
       "      <td>Ikke registreret</td>\n",
       "      <td>NaN</td>\n",
       "      <td>2007-09-21T00:00:00</td>\n",
       "      <td>2020-02-11T09:34:00.102</td>\n",
       "      <td>NaN</td>\n",
       "      <td>NaN</td>\n",
       "      <td>NaN</td>\n",
       "      <td>NaN</td>\n",
       "      <td>NaN</td>\n",
       "      <td>NaN</td>\n",
       "      <td>NaN</td>\n",
       "      <td>NaN</td>\n",
       "      <td>NaN</td>\n",
       "      <td>NaN</td>\n",
       "      <td>NaN</td>\n",
       "      <td>NaN</td>\n",
       "      <td>NaN</td>\n",
       "      <td>NaN</td>\n",
       "      <td>NaN</td>\n",
       "      <td>NaN</td>\n",
       "      <td>NaN</td>\n",
       "      <td>NaN</td>\n",
       "      <td>NaN</td>\n",
       "      <td>NaN</td>\n",
       "      <td>NaN</td>\n",
       "      <td>NaN</td>\n",
       "      <td>NaN</td>\n",
       "      <td>NaN</td>\n",
       "      <td>NaN</td>\n",
       "      <td>NaN</td>\n",
       "      <td>NaN</td>\n",
       "      <td>NaN</td>\n",
       "      <td>NaN</td>\n",
       "      <td>NaN</td>\n",
       "      <td>NaN</td>\n",
       "      <td>NaN</td>\n",
       "      <td>NaN</td>\n",
       "      <td>NaN</td>\n",
       "      <td>NaN</td>\n",
       "      <td>NaN</td>\n",
       "      <td>NaN</td>\n",
       "      <td>NaN</td>\n",
       "      <td>NaN</td>\n",
       "      <td>NaN</td>\n",
       "      <td>NaN</td>\n",
       "      <td>NaN</td>\n",
       "      <td>NaN</td>\n",
       "      <td>NaN</td>\n",
       "      <td>NaN</td>\n",
       "      <td>NaN</td>\n",
       "      <td>NaN</td>\n",
       "      <td>NaN</td>\n",
       "      <td>NaN</td>\n",
       "      <td>NaN</td>\n",
       "      <td>NaN</td>\n",
       "      <td>NaN</td>\n",
       "      <td>NaN</td>\n",
       "      <td>NaN</td>\n",
       "      <td>NaN</td>\n",
       "      <td>NaN</td>\n",
       "      <td>NaN</td>\n",
       "      <td>NaN</td>\n",
       "      <td>NaN</td>\n",
       "      <td>NaN</td>\n",
       "      <td>NaN</td>\n",
       "      <td>NaN</td>\n",
       "      <td>NaN</td>\n",
       "      <td>NaN</td>\n",
       "      <td>NaN</td>\n",
       "      <td>NaN</td>\n",
       "      <td>NaN</td>\n",
       "      <td>NaN</td>\n",
       "      <td>NaN</td>\n",
       "      <td>NaN</td>\n",
       "      <td>NaN</td>\n",
       "      <td>NaN</td>\n",
       "      <td>NaN</td>\n",
       "      <td>NaN</td>\n",
       "      <td>NaN</td>\n",
       "      <td>NaN</td>\n",
       "      <td>NaN</td>\n",
       "      <td>NaN</td>\n",
       "      <td>NaN</td>\n",
       "      <td>NaN</td>\n",
       "      <td>NaN</td>\n",
       "      <td>NaN</td>\n",
       "      <td>NaN</td>\n",
       "      <td>NaN</td>\n",
       "      <td>NaN</td>\n",
       "      <td>NaN</td>\n",
       "      <td>NaN</td>\n",
       "      <td>NaN</td>\n",
       "      <td>NaN</td>\n",
       "      <td>NaN</td>\n",
       "      <td>NaN</td>\n",
       "      <td>NaN</td>\n",
       "      <td>NaN</td>\n",
       "      <td>NaN</td>\n",
       "      <td>NaN</td>\n",
       "      <td>NaN</td>\n",
       "      <td>NaN</td>\n",
       "      <td>NaN</td>\n",
       "      <td>NaN</td>\n",
       "      <td>NaN</td>\n",
       "      <td>NaN</td>\n",
       "      <td>NaN</td>\n",
       "      <td>NaN</td>\n",
       "      <td>NaN</td>\n",
       "      <td>NaN</td>\n",
       "      <td>NaN</td>\n",
       "      <td>NaN</td>\n",
       "      <td>NaN</td>\n",
       "      <td>NaN</td>\n",
       "      <td>NaN</td>\n",
       "      <td>NaN</td>\n",
       "      <td>NaN</td>\n",
       "      <td>NaN</td>\n",
       "      <td>NaN</td>\n",
       "      <td>NaN</td>\n",
       "      <td>NaN</td>\n",
       "      <td>NaN</td>\n",
       "      <td>NaN</td>\n",
       "      <td>NaN</td>\n",
       "      <td>NaN</td>\n",
       "      <td>NaN</td>\n",
       "      <td>NaN</td>\n",
       "      <td>NaN</td>\n",
       "      <td>NaN</td>\n",
       "      <td>NaN</td>\n",
       "      <td>NaN</td>\n",
       "      <td>POINT (12.537000905330974 55.64876361021244)</td>\n",
       "    </tr>\n",
       "    <tr>\n",
       "      <th>3</th>\n",
       "      <td>trae_basis.4</td>\n",
       "      <td>gadetræ</td>\n",
       "      <td>nej</td>\n",
       "      <td>21293</td>\n",
       "      <td>2 Træer</td>\n",
       "      <td>2.3 Parktræer</td>\n",
       "      <td>NaN</td>\n",
       "      <td>Gadetræer</td>\n",
       "      <td>Gadetræ</td>\n",
       "      <td>Gadet_Gadet_3421</td>\n",
       "      <td>Gadetræer Vesterbro-Kgs Enghave</td>\n",
       "      <td>Valby</td>\n",
       "      <td>Tilia platyphyllos</td>\n",
       "      <td>Storbladet lind</td>\n",
       "      <td>Lind</td>\n",
       "      <td>1953.0</td>\n",
       "      <td>Ikke registreret</td>\n",
       "      <td>Ikke registreret</td>\n",
       "      <td>Vesterbro-Kongens Enghave</td>\n",
       "      <td>Center Drift Syd CDS</td>\n",
       "      <td>Scandiagade</td>\n",
       "      <td>regional vej</td>\n",
       "      <td>Kommunevej</td>\n",
       "      <td>4,5 m</td>\n",
       "      <td>30 - 40</td>\n",
       "      <td>Ikke registreret</td>\n",
       "      <td>Midterrabat</td>\n",
       "      <td>Med kant</td>\n",
       "      <td>Muld</td>\n",
       "      <td>Græs</td>\n",
       "      <td>&gt; 15 m2</td>\n",
       "      <td>Ikke registreret</td>\n",
       "      <td>God</td>\n",
       "      <td>Ikke registreret</td>\n",
       "      <td>NaN</td>\n",
       "      <td>Ikke registreret</td>\n",
       "      <td>Gadetræ registreret før sommer 2009</td>\n",
       "      <td>Ikke registreret</td>\n",
       "      <td>TMF</td>\n",
       "      <td>TMF-Byens Drift</td>\n",
       "      <td>Ikke registreret</td>\n",
       "      <td>NaN</td>\n",
       "      <td>Ikke registreret</td>\n",
       "      <td>Ikke registreret</td>\n",
       "      <td>Ikke registreret</td>\n",
       "      <td>Ikke registreret</td>\n",
       "      <td>NaN</td>\n",
       "      <td>NaN</td>\n",
       "      <td>NaN</td>\n",
       "      <td>NaN</td>\n",
       "      <td>NaN</td>\n",
       "      <td>NaN</td>\n",
       "      <td>Ikke registreret</td>\n",
       "      <td>NaN</td>\n",
       "      <td>2007-09-21T00:00:00</td>\n",
       "      <td>2020-02-11T09:34:00.102</td>\n",
       "      <td>NaN</td>\n",
       "      <td>NaN</td>\n",
       "      <td>NaN</td>\n",
       "      <td>NaN</td>\n",
       "      <td>NaN</td>\n",
       "      <td>NaN</td>\n",
       "      <td>NaN</td>\n",
       "      <td>NaN</td>\n",
       "      <td>NaN</td>\n",
       "      <td>NaN</td>\n",
       "      <td>NaN</td>\n",
       "      <td>NaN</td>\n",
       "      <td>NaN</td>\n",
       "      <td>NaN</td>\n",
       "      <td>NaN</td>\n",
       "      <td>NaN</td>\n",
       "      <td>NaN</td>\n",
       "      <td>NaN</td>\n",
       "      <td>NaN</td>\n",
       "      <td>NaN</td>\n",
       "      <td>NaN</td>\n",
       "      <td>NaN</td>\n",
       "      <td>NaN</td>\n",
       "      <td>NaN</td>\n",
       "      <td>NaN</td>\n",
       "      <td>NaN</td>\n",
       "      <td>NaN</td>\n",
       "      <td>NaN</td>\n",
       "      <td>NaN</td>\n",
       "      <td>NaN</td>\n",
       "      <td>NaN</td>\n",
       "      <td>NaN</td>\n",
       "      <td>NaN</td>\n",
       "      <td>NaN</td>\n",
       "      <td>NaN</td>\n",
       "      <td>NaN</td>\n",
       "      <td>NaN</td>\n",
       "      <td>NaN</td>\n",
       "      <td>NaN</td>\n",
       "      <td>NaN</td>\n",
       "      <td>NaN</td>\n",
       "      <td>NaN</td>\n",
       "      <td>NaN</td>\n",
       "      <td>NaN</td>\n",
       "      <td>NaN</td>\n",
       "      <td>NaN</td>\n",
       "      <td>NaN</td>\n",
       "      <td>NaN</td>\n",
       "      <td>NaN</td>\n",
       "      <td>NaN</td>\n",
       "      <td>NaN</td>\n",
       "      <td>NaN</td>\n",
       "      <td>NaN</td>\n",
       "      <td>NaN</td>\n",
       "      <td>NaN</td>\n",
       "      <td>NaN</td>\n",
       "      <td>NaN</td>\n",
       "      <td>NaN</td>\n",
       "      <td>NaN</td>\n",
       "      <td>NaN</td>\n",
       "      <td>NaN</td>\n",
       "      <td>NaN</td>\n",
       "      <td>NaN</td>\n",
       "      <td>NaN</td>\n",
       "      <td>NaN</td>\n",
       "      <td>NaN</td>\n",
       "      <td>NaN</td>\n",
       "      <td>NaN</td>\n",
       "      <td>NaN</td>\n",
       "      <td>NaN</td>\n",
       "      <td>NaN</td>\n",
       "      <td>NaN</td>\n",
       "      <td>NaN</td>\n",
       "      <td>NaN</td>\n",
       "      <td>NaN</td>\n",
       "      <td>NaN</td>\n",
       "      <td>NaN</td>\n",
       "      <td>NaN</td>\n",
       "      <td>NaN</td>\n",
       "      <td>NaN</td>\n",
       "      <td>NaN</td>\n",
       "      <td>NaN</td>\n",
       "      <td>NaN</td>\n",
       "      <td>NaN</td>\n",
       "      <td>NaN</td>\n",
       "      <td>NaN</td>\n",
       "      <td>NaN</td>\n",
       "      <td>NaN</td>\n",
       "      <td>NaN</td>\n",
       "      <td>NaN</td>\n",
       "      <td>NaN</td>\n",
       "      <td>NaN</td>\n",
       "      <td>NaN</td>\n",
       "      <td>NaN</td>\n",
       "      <td>NaN</td>\n",
       "      <td>NaN</td>\n",
       "      <td>NaN</td>\n",
       "      <td>NaN</td>\n",
       "      <td>NaN</td>\n",
       "      <td>NaN</td>\n",
       "      <td>NaN</td>\n",
       "      <td>NaN</td>\n",
       "      <td>NaN</td>\n",
       "      <td>NaN</td>\n",
       "      <td>NaN</td>\n",
       "      <td>NaN</td>\n",
       "      <td>NaN</td>\n",
       "      <td>NaN</td>\n",
       "      <td>NaN</td>\n",
       "      <td>NaN</td>\n",
       "      <td>NaN</td>\n",
       "      <td>NaN</td>\n",
       "      <td>NaN</td>\n",
       "      <td>NaN</td>\n",
       "      <td>NaN</td>\n",
       "      <td>NaN</td>\n",
       "      <td>NaN</td>\n",
       "      <td>NaN</td>\n",
       "      <td>NaN</td>\n",
       "      <td>NaN</td>\n",
       "      <td>NaN</td>\n",
       "      <td>NaN</td>\n",
       "      <td>NaN</td>\n",
       "      <td>NaN</td>\n",
       "      <td>NaN</td>\n",
       "      <td>NaN</td>\n",
       "      <td>POINT (12.537133269649273 55.64872321507861)</td>\n",
       "    </tr>\n",
       "    <tr>\n",
       "      <th>4</th>\n",
       "      <td>trae_basis.5</td>\n",
       "      <td>gadetræ</td>\n",
       "      <td>nej</td>\n",
       "      <td>21294</td>\n",
       "      <td>2 Træer</td>\n",
       "      <td>2.3 Parktræer</td>\n",
       "      <td>NaN</td>\n",
       "      <td>Gadetræer</td>\n",
       "      <td>Gadetræ</td>\n",
       "      <td>Gadet_Gadet_3421</td>\n",
       "      <td>Gadetræer Vesterbro-Kgs Enghave</td>\n",
       "      <td>Valby</td>\n",
       "      <td>Tilia platyphyllos</td>\n",
       "      <td>Storbladet lind</td>\n",
       "      <td>Lind</td>\n",
       "      <td>1953.0</td>\n",
       "      <td>Ikke registreret</td>\n",
       "      <td>Ikke registreret</td>\n",
       "      <td>Vesterbro-Kongens Enghave</td>\n",
       "      <td>Center Drift Syd CDS</td>\n",
       "      <td>Scandiagade</td>\n",
       "      <td>regional vej</td>\n",
       "      <td>Kommunevej</td>\n",
       "      <td>4,5 m</td>\n",
       "      <td>30 - 40</td>\n",
       "      <td>Ikke registreret</td>\n",
       "      <td>Midterrabat</td>\n",
       "      <td>Med kant</td>\n",
       "      <td>Muld</td>\n",
       "      <td>Græs</td>\n",
       "      <td>&gt; 15 m2</td>\n",
       "      <td>Ikke registreret</td>\n",
       "      <td>God</td>\n",
       "      <td>Ikke registreret</td>\n",
       "      <td>NaN</td>\n",
       "      <td>Ikke registreret</td>\n",
       "      <td>Gadetræ registreret før sommer 2009</td>\n",
       "      <td>Ikke registreret</td>\n",
       "      <td>TMF</td>\n",
       "      <td>TMF-Byens Drift</td>\n",
       "      <td>Ikke registreret</td>\n",
       "      <td>NaN</td>\n",
       "      <td>Ikke registreret</td>\n",
       "      <td>Ikke registreret</td>\n",
       "      <td>Ikke registreret</td>\n",
       "      <td>Ikke registreret</td>\n",
       "      <td>NaN</td>\n",
       "      <td>NaN</td>\n",
       "      <td>NaN</td>\n",
       "      <td>NaN</td>\n",
       "      <td>NaN</td>\n",
       "      <td>NaN</td>\n",
       "      <td>Ikke registreret</td>\n",
       "      <td>NaN</td>\n",
       "      <td>2007-09-21T00:00:00</td>\n",
       "      <td>2020-02-11T09:34:00.102</td>\n",
       "      <td>NaN</td>\n",
       "      <td>NaN</td>\n",
       "      <td>NaN</td>\n",
       "      <td>NaN</td>\n",
       "      <td>NaN</td>\n",
       "      <td>NaN</td>\n",
       "      <td>NaN</td>\n",
       "      <td>NaN</td>\n",
       "      <td>NaN</td>\n",
       "      <td>NaN</td>\n",
       "      <td>NaN</td>\n",
       "      <td>NaN</td>\n",
       "      <td>NaN</td>\n",
       "      <td>NaN</td>\n",
       "      <td>NaN</td>\n",
       "      <td>NaN</td>\n",
       "      <td>NaN</td>\n",
       "      <td>NaN</td>\n",
       "      <td>NaN</td>\n",
       "      <td>NaN</td>\n",
       "      <td>NaN</td>\n",
       "      <td>NaN</td>\n",
       "      <td>NaN</td>\n",
       "      <td>NaN</td>\n",
       "      <td>NaN</td>\n",
       "      <td>NaN</td>\n",
       "      <td>NaN</td>\n",
       "      <td>NaN</td>\n",
       "      <td>NaN</td>\n",
       "      <td>NaN</td>\n",
       "      <td>NaN</td>\n",
       "      <td>NaN</td>\n",
       "      <td>NaN</td>\n",
       "      <td>NaN</td>\n",
       "      <td>NaN</td>\n",
       "      <td>NaN</td>\n",
       "      <td>NaN</td>\n",
       "      <td>NaN</td>\n",
       "      <td>NaN</td>\n",
       "      <td>NaN</td>\n",
       "      <td>NaN</td>\n",
       "      <td>NaN</td>\n",
       "      <td>NaN</td>\n",
       "      <td>NaN</td>\n",
       "      <td>NaN</td>\n",
       "      <td>NaN</td>\n",
       "      <td>NaN</td>\n",
       "      <td>NaN</td>\n",
       "      <td>NaN</td>\n",
       "      <td>NaN</td>\n",
       "      <td>NaN</td>\n",
       "      <td>NaN</td>\n",
       "      <td>NaN</td>\n",
       "      <td>NaN</td>\n",
       "      <td>NaN</td>\n",
       "      <td>NaN</td>\n",
       "      <td>NaN</td>\n",
       "      <td>NaN</td>\n",
       "      <td>NaN</td>\n",
       "      <td>NaN</td>\n",
       "      <td>NaN</td>\n",
       "      <td>NaN</td>\n",
       "      <td>NaN</td>\n",
       "      <td>NaN</td>\n",
       "      <td>NaN</td>\n",
       "      <td>NaN</td>\n",
       "      <td>NaN</td>\n",
       "      <td>NaN</td>\n",
       "      <td>NaN</td>\n",
       "      <td>NaN</td>\n",
       "      <td>NaN</td>\n",
       "      <td>NaN</td>\n",
       "      <td>NaN</td>\n",
       "      <td>NaN</td>\n",
       "      <td>NaN</td>\n",
       "      <td>NaN</td>\n",
       "      <td>NaN</td>\n",
       "      <td>NaN</td>\n",
       "      <td>NaN</td>\n",
       "      <td>NaN</td>\n",
       "      <td>NaN</td>\n",
       "      <td>NaN</td>\n",
       "      <td>NaN</td>\n",
       "      <td>NaN</td>\n",
       "      <td>NaN</td>\n",
       "      <td>NaN</td>\n",
       "      <td>NaN</td>\n",
       "      <td>NaN</td>\n",
       "      <td>NaN</td>\n",
       "      <td>NaN</td>\n",
       "      <td>NaN</td>\n",
       "      <td>NaN</td>\n",
       "      <td>NaN</td>\n",
       "      <td>NaN</td>\n",
       "      <td>NaN</td>\n",
       "      <td>NaN</td>\n",
       "      <td>NaN</td>\n",
       "      <td>NaN</td>\n",
       "      <td>NaN</td>\n",
       "      <td>NaN</td>\n",
       "      <td>NaN</td>\n",
       "      <td>NaN</td>\n",
       "      <td>NaN</td>\n",
       "      <td>NaN</td>\n",
       "      <td>NaN</td>\n",
       "      <td>NaN</td>\n",
       "      <td>NaN</td>\n",
       "      <td>NaN</td>\n",
       "      <td>NaN</td>\n",
       "      <td>NaN</td>\n",
       "      <td>NaN</td>\n",
       "      <td>NaN</td>\n",
       "      <td>NaN</td>\n",
       "      <td>NaN</td>\n",
       "      <td>NaN</td>\n",
       "      <td>NaN</td>\n",
       "      <td>NaN</td>\n",
       "      <td>NaN</td>\n",
       "      <td>NaN</td>\n",
       "      <td>NaN</td>\n",
       "      <td>NaN</td>\n",
       "      <td>NaN</td>\n",
       "      <td>NaN</td>\n",
       "      <td>NaN</td>\n",
       "      <td>NaN</td>\n",
       "      <td>NaN</td>\n",
       "      <td>POINT (12.537399549194998 55.648992732825036)</td>\n",
       "    </tr>\n",
       "  </tbody>\n",
       "</table>\n",
       "</div>"
      ],
      "text/plain": [
       "            FID kategori saerligt_trae     id     type        element  \\\n",
       "0  trae_basis.1  gadetræ           nej  18611  2 Træer  2.3 Parktræer   \n",
       "1  trae_basis.2  gadetræ           nej  21291  2 Træer  2.3 Parktræer   \n",
       "2  trae_basis.3  gadetræ           nej  21292  2 Træer  2.3 Parktræer   \n",
       "3  trae_basis.4  gadetræ           nej  21293  2 Træer  2.3 Parktræer   \n",
       "4  trae_basis.5  gadetræ           nej  21294  2 Træer  2.3 Parktræer   \n",
       "\n",
       "  under_element ny_dm_element ny_dm_under_element  arbsted_tekst_id  \\\n",
       "0           NaN     Gadetræer             Gadetræ  Gadet_Gadet_3421   \n",
       "1           NaN     Gadetræer             Gadetræ  Gadet_Gadet_3421   \n",
       "2           NaN     Gadetræer             Gadetræ  Gadet_Gadet_3421   \n",
       "3           NaN     Gadetræer             Gadetræ  Gadet_Gadet_3421   \n",
       "4           NaN     Gadetræer             Gadetræ  Gadet_Gadet_3421   \n",
       "\n",
       "                   driftsplan_navn enhedsomraade              traeart  \\\n",
       "0  Gadetræer Vesterbro-Kgs Enghave         Valby  Tilia platyphyllos    \n",
       "1  Gadetræer Vesterbro-Kgs Enghave         Valby  Tilia platyphyllos    \n",
       "2  Gadetræer Vesterbro-Kgs Enghave         Valby  Tilia platyphyllos    \n",
       "3  Gadetræer Vesterbro-Kgs Enghave         Valby  Tilia platyphyllos    \n",
       "4  Gadetræer Vesterbro-Kgs Enghave         Valby  Tilia platyphyllos    \n",
       "\n",
       "        dansk_navn slaegtsnavn  planteaar   plantet_halvaar     faeldningsaar  \\\n",
       "0  Storbladet lind        Lind     1953.0  Ikke registreret  Ikke registreret   \n",
       "1  Storbladet lind        Lind     1953.0  Ikke registreret  Ikke registreret   \n",
       "2  Storbladet lind        Lind     1953.0  Ikke registreret  Ikke registreret   \n",
       "3  Storbladet lind        Lind     1953.0  Ikke registreret  Ikke registreret   \n",
       "4  Storbladet lind        Lind     1953.0  Ikke registreret  Ikke registreret   \n",
       "\n",
       "                  bydelsnavn               omraade      vejnavn     vejklasse  \\\n",
       "0  Vesterbro-Kongens Enghave  Center Drift Syd CDS  Scandiagade  regional vej   \n",
       "1  Vesterbro-Kongens Enghave  Center Drift Syd CDS  Scandiagade  regional vej   \n",
       "2  Vesterbro-Kongens Enghave  Center Drift Syd CDS  Scandiagade  regional vej   \n",
       "3  Vesterbro-Kongens Enghave  Center Drift Syd CDS  Scandiagade  regional vej   \n",
       "4  Vesterbro-Kongens Enghave  Center Drift Syd CDS  Scandiagade  regional vej   \n",
       "\n",
       "    vejstatus fritrumsprofil stammeomfang     kronediameter    placering  \\\n",
       "0  Kommunevej          4,5 m      30 - 40  Ikke registreret  Midterrabat   \n",
       "1  Kommunevej          4,5 m      30 - 40  Ikke registreret  Midterrabat   \n",
       "2  Kommunevej          4,5 m      30 - 40  Ikke registreret  Midterrabat   \n",
       "3  Kommunevej          4,5 m      30 - 40  Ikke registreret  Midterrabat   \n",
       "4  Kommunevej          4,5 m      30 - 40  Ikke registreret  Midterrabat   \n",
       "\n",
       "  afgraensning plantemetode omgivelse vaekstmedie       beskyttelse sundhed  \\\n",
       "0     Med kant         Muld      Græs     > 15 m2  Ikke registreret     God   \n",
       "1     Med kant         Muld      Græs     > 15 m2  Ikke registreret     God   \n",
       "2     Med kant         Muld      Græs     > 15 m2  Ikke registreret     God   \n",
       "3     Med kant         Muld      Græs     > 15 m2  Ikke registreret     God   \n",
       "4     Med kant         Muld      Græs     > 15 m2  Ikke registreret     God   \n",
       "\n",
       "      skudtilvaekst andre_vaekstforhold   bevaringsvaerdi  \\\n",
       "0  Ikke registreret                 NaN  Ikke registreret   \n",
       "1  Ikke registreret                 NaN  Ikke registreret   \n",
       "2  Ikke registreret                 NaN  Ikke registreret   \n",
       "3  Ikke registreret                 NaN  Ikke registreret   \n",
       "4  Ikke registreret                 NaN  Ikke registreret   \n",
       "\n",
       "                     registrering_type driftstatus_gadetrae ejer  \\\n",
       "0  Gadetræ registreret før sommer 2009     Ikke registreret  TMF   \n",
       "1  Gadetræ registreret før sommer 2009     Ikke registreret  TMF   \n",
       "2  Gadetræ registreret før sommer 2009     Ikke registreret  TMF   \n",
       "3  Gadetræ registreret før sommer 2009     Ikke registreret  TMF   \n",
       "4  Gadetræ registreret før sommer 2009     Ikke registreret  TMF   \n",
       "\n",
       "  driftsorganisation garantiperioden_udloeber driftsaftale_edoc_nr  \\\n",
       "0    TMF-Byens Drift         Ikke registreret                  NaN   \n",
       "1    TMF-Byens Drift         Ikke registreret                  NaN   \n",
       "2    TMF-Byens Drift         Ikke registreret                  NaN   \n",
       "3    TMF-Byens Drift         Ikke registreret                  NaN   \n",
       "4    TMF-Byens Drift         Ikke registreret                  NaN   \n",
       "\n",
       "  fredet_beskyttet_trae fredningsmyndighed     trae_historie  \\\n",
       "0      Ikke registreret   Ikke registreret  Ikke registreret   \n",
       "1      Ikke registreret   Ikke registreret  Ikke registreret   \n",
       "2      Ikke registreret   Ikke registreret  Ikke registreret   \n",
       "3      Ikke registreret   Ikke registreret  Ikke registreret   \n",
       "4      Ikke registreret   Ikke registreret  Ikke registreret   \n",
       "\n",
       "  botanisk_interesse fredet_trae_foto donor anledning saerlig_trae_bem  \\\n",
       "0   Ikke registreret              NaN   NaN       NaN              NaN   \n",
       "1   Ikke registreret              NaN   NaN       NaN              NaN   \n",
       "2   Ikke registreret              NaN   NaN       NaN              NaN   \n",
       "3   Ikke registreret              NaN   NaN       NaN              NaN   \n",
       "4   Ikke registreret              NaN   NaN       NaN              NaN   \n",
       "\n",
       "  fredning_edoc_nr  ikonisk_trae      evighedstrae bemaerkning  \\\n",
       "0              NaN           NaN  Ikke registreret         NaN   \n",
       "1              NaN           NaN  Ikke registreret         NaN   \n",
       "2              NaN           NaN  Ikke registreret         NaN   \n",
       "3              NaN           NaN  Ikke registreret         NaN   \n",
       "4              NaN           NaN  Ikke registreret         NaN   \n",
       "\n",
       "              reg_dato           opdateret_dato r_tidsstempel r_risikofaktor  \\\n",
       "0  2007-09-21T00:00:00  2020-02-11T09:34:00.102           NaN            NaN   \n",
       "1  2007-09-21T00:00:00  2020-02-11T09:34:00.102           NaN            NaN   \n",
       "2  2007-09-21T00:00:00  2020-02-11T09:34:00.102           NaN            NaN   \n",
       "3  2007-09-21T00:00:00  2020-02-11T09:34:00.102           NaN            NaN   \n",
       "4  2007-09-21T00:00:00  2020-02-11T09:34:00.102           NaN            NaN   \n",
       "\n",
       "  r_vaerdi r_omgivelser r_registrant  r_registreringsnummer  \\\n",
       "0      NaN          NaN          NaN                    NaN   \n",
       "1      NaN          NaN          NaN                    NaN   \n",
       "2      NaN          NaN          NaN                    NaN   \n",
       "3      NaN          NaN          NaN                    NaN   \n",
       "4      NaN          NaN          NaN                    NaN   \n",
       "\n",
       "  r_aendringer_rodzone_andet r_gravearbejde_i_rodzonen r_gravearbejde_dato  \\\n",
       "0                        NaN                       NaN                 NaN   \n",
       "1                        NaN                       NaN                 NaN   \n",
       "2                        NaN                       NaN                 NaN   \n",
       "3                        NaN                       NaN                 NaN   \n",
       "4                        NaN                       NaN                 NaN   \n",
       "\n",
       "  r_graveansvarlig r_terraenaendring  r_terraenaendring_dato  \\\n",
       "0              NaN               NaN                     NaN   \n",
       "1              NaN               NaN                     NaN   \n",
       "2              NaN               NaN                     NaN   \n",
       "3              NaN               NaN                     NaN   \n",
       "4              NaN               NaN                     NaN   \n",
       "\n",
       "  r_belaegningsaendring_rodzonen r_belaegningsaendring_dato  \\\n",
       "0                            NaN                        NaN   \n",
       "1                            NaN                        NaN   \n",
       "2                            NaN                        NaN   \n",
       "3                            NaN                        NaN   \n",
       "4                            NaN                        NaN   \n",
       "\n",
       "  r_beplantningsaendring r_beplantningsaendring_dato r_aendring_i_graespleje  \\\n",
       "0                    NaN                         NaN                     NaN   \n",
       "1                    NaN                         NaN                     NaN   \n",
       "2                    NaN                         NaN                     NaN   \n",
       "3                    NaN                         NaN                     NaN   \n",
       "4                    NaN                         NaN                     NaN   \n",
       "\n",
       "  r_aendring_i_graespleje_dato r_grundvandsaendring  \\\n",
       "0                          NaN                  NaN   \n",
       "1                          NaN                  NaN   \n",
       "2                          NaN                  NaN   \n",
       "3                          NaN                  NaN   \n",
       "4                          NaN                  NaN   \n",
       "\n",
       "   r_grundvandsaendring_dato r_sygdomme_skadedyr_andet r_sygdomme r_skadedyr  \\\n",
       "0                        NaN                       NaN        NaN        NaN   \n",
       "1                        NaN                       NaN        NaN        NaN   \n",
       "2                        NaN                       NaN        NaN        NaN   \n",
       "3                        NaN                       NaN        NaN        NaN   \n",
       "4                        NaN                       NaN        NaN        NaN   \n",
       "\n",
       "  r_stammestruktur_andet r_tvege r_flerstammet r_haeldning  \\\n",
       "0                    NaN     NaN           NaN         NaN   \n",
       "1                    NaN     NaN           NaN         NaN   \n",
       "2                    NaN     NaN           NaN         NaN   \n",
       "3                    NaN     NaN           NaN         NaN   \n",
       "4                    NaN     NaN           NaN         NaN   \n",
       "\n",
       "  r_kronestruktur_andet r_ensidig r_spidse_grenvinkler r_lange_tunge_grene  \\\n",
       "0                   NaN       NaN                  NaN                 NaN   \n",
       "1                   NaN       NaN                  NaN                 NaN   \n",
       "2                   NaN       NaN                  NaN                 NaN   \n",
       "3                   NaN       NaN                  NaN                 NaN   \n",
       "4                   NaN       NaN                  NaN                 NaN   \n",
       "\n",
       "  r_stammeagtige_sidegrene r_svag_grensammenhaeftning r_kronen_andet  \\\n",
       "0                      NaN                        NaN            NaN   \n",
       "1                      NaN                        NaN            NaN   \n",
       "2                      NaN                        NaN            NaN   \n",
       "3                      NaN                        NaN            NaN   \n",
       "4                      NaN                        NaN            NaN   \n",
       "\n",
       "  r_unormal_bladstoerrelse r_tidligt_bladtab_hoestfarver r_grene_mange_saar  \\\n",
       "0                      NaN                           NaN                NaN   \n",
       "1                      NaN                           NaN                NaN   \n",
       "2                      NaN                           NaN                NaN   \n",
       "3                      NaN                           NaN                NaN   \n",
       "4                      NaN                           NaN                NaN   \n",
       "\n",
       "  r_saar_kritiske_steder_krone r_daarlig_saarheling_krone  \\\n",
       "0                          NaN                        NaN   \n",
       "1                          NaN                        NaN   \n",
       "2                          NaN                        NaN   \n",
       "3                          NaN                        NaN   \n",
       "4                          NaN                        NaN   \n",
       "\n",
       "  r_doede_grene_braekket_revne r_revner_i_grene r_maengden_af_doede_grene  \\\n",
       "0                          NaN              NaN                       NaN   \n",
       "1                          NaN              NaN                       NaN   \n",
       "2                          NaN              NaN                       NaN   \n",
       "3                          NaN              NaN                       NaN   \n",
       "4                          NaN              NaN                       NaN   \n",
       "\n",
       "  r_stoerrelse_defekte_grene r_toptoerhed r_tyndloevet r_beskaering  \\\n",
       "0                        NaN          NaN          NaN          NaN   \n",
       "1                        NaN          NaN          NaN          NaN   \n",
       "2                        NaN          NaN          NaN          NaN   \n",
       "3                        NaN          NaN          NaN          NaN   \n",
       "4                        NaN          NaN          NaN          NaN   \n",
       "\n",
       "  r_doedt_trae_staaende r_stammen_andet r_doed_bark r_unormal_bark  \\\n",
       "0                   NaN             NaN         NaN            NaN   \n",
       "1                   NaN             NaN         NaN            NaN   \n",
       "2                   NaN             NaN         NaN            NaN   \n",
       "3                   NaN             NaN         NaN            NaN   \n",
       "4                   NaN             NaN         NaN            NaN   \n",
       "\n",
       "  r_slimflaad r_indsunken_bark r_indvokset_bark r_store_gamle_saar  \\\n",
       "0         NaN              NaN              NaN                NaN   \n",
       "1         NaN              NaN              NaN                NaN   \n",
       "2         NaN              NaN              NaN                NaN   \n",
       "3         NaN              NaN              NaN                NaN   \n",
       "4         NaN              NaN              NaN                NaN   \n",
       "\n",
       "  r_mange_saar_paa_stammen r_saar_kritiske_steder_stamme  \\\n",
       "0                      NaN                           NaN   \n",
       "1                      NaN                           NaN   \n",
       "2                      NaN                           NaN   \n",
       "3                      NaN                           NaN   \n",
       "4                      NaN                           NaN   \n",
       "\n",
       "  r_daarlig_saarheling_stamme r_revner r_defekter r_stammeraad_hulhed_aaben  \\\n",
       "0                         NaN      NaN        NaN                       NaN   \n",
       "1                         NaN      NaN        NaN                       NaN   \n",
       "2                         NaN      NaN        NaN                       NaN   \n",
       "3                         NaN      NaN        NaN                       NaN   \n",
       "4                         NaN      NaN        NaN                       NaN   \n",
       "\n",
       "  r_stammeraad_hulhed_lukket r_rodzonen_andet r_overfladisk_rodnet  \\\n",
       "0                        NaN              NaN                  NaN   \n",
       "1                        NaN              NaN                  NaN   \n",
       "2                        NaN              NaN                  NaN   \n",
       "3                        NaN              NaN                  NaN   \n",
       "4                        NaN              NaN                  NaN   \n",
       "\n",
       "  r_omvoksende_roedder r_rodskader r_rodkageloesning r_svamp_andet  \\\n",
       "0                  NaN         NaN               NaN           NaN   \n",
       "1                  NaN         NaN               NaN           NaN   \n",
       "2                  NaN         NaN               NaN           NaN   \n",
       "3                  NaN         NaN               NaN           NaN   \n",
       "4                  NaN         NaN               NaN           NaN   \n",
       "\n",
       "  r_honningsvamp r_krumskaellet_skaelhat r_kulsvamp r_kaempe_poresvamp  \\\n",
       "0            NaN                     NaN        NaN                NaN   \n",
       "1            NaN                     NaN        NaN                NaN   \n",
       "2            NaN                     NaN        NaN                NaN   \n",
       "3            NaN                     NaN        NaN                NaN   \n",
       "4            NaN                     NaN        NaN                NaN   \n",
       "\n",
       "  r_lakporesvamp r_skaellet_stilkporesvamp r_svovlporesvamp r_toendersvamp  \\\n",
       "0            NaN                       NaN              NaN            NaN   \n",
       "1            NaN                       NaN              NaN            NaN   \n",
       "2            NaN                       NaN              NaN            NaN   \n",
       "3            NaN                       NaN              NaN            NaN   \n",
       "4            NaN                       NaN              NaN            NaN   \n",
       "\n",
       "  r_oestershat r_floejlsfod r_laedersvamp r_ukendt_svamp  \\\n",
       "0          NaN          NaN           NaN            NaN   \n",
       "1          NaN          NaN           NaN            NaN   \n",
       "2          NaN          NaN           NaN            NaN   \n",
       "3          NaN          NaN           NaN            NaN   \n",
       "4          NaN          NaN           NaN            NaN   \n",
       "\n",
       "  r_ukendt_svamp_beskrivelse r_birkeporesvamp r_tilsynsaarsag_andet  \\\n",
       "0                        NaN              NaN                   NaN   \n",
       "1                        NaN              NaN                   NaN   \n",
       "2                        NaN              NaN                   NaN   \n",
       "3                        NaN              NaN                   NaN   \n",
       "4                        NaN              NaN                   NaN   \n",
       "\n",
       "  r_kronesymptomer r_struktur r_svamp r_skade_paa_roedder  \\\n",
       "0              NaN        NaN     NaN                 NaN   \n",
       "1              NaN        NaN     NaN                 NaN   \n",
       "2              NaN        NaN     NaN                 NaN   \n",
       "3              NaN        NaN     NaN                 NaN   \n",
       "4              NaN        NaN     NaN                 NaN   \n",
       "\n",
       "   r_raadmaaling_andet  r_raadmaaling_dato r_naeste_raadmaaling_aar  \\\n",
       "0                  NaN                 NaN                      NaN   \n",
       "1                  NaN                 NaN                      NaN   \n",
       "2                  NaN                 NaN                      NaN   \n",
       "3                  NaN                 NaN                      NaN   \n",
       "4                  NaN                 NaN                      NaN   \n",
       "\n",
       "   r_undersoegelse_lift_andet  r_undersoegelse_lift_dato r_handling_andet  \\\n",
       "0                         NaN                        NaN              NaN   \n",
       "1                         NaN                        NaN              NaN   \n",
       "2                         NaN                        NaN              NaN   \n",
       "3                         NaN                        NaN              NaN   \n",
       "4                         NaN                        NaN              NaN   \n",
       "\n",
       "  r_handling r_tid_for_handling r_beskaeringsaar r_tilsynsfrekvens  \\\n",
       "0        NaN                NaN              NaN               NaN   \n",
       "1        NaN                NaN              NaN               NaN   \n",
       "2        NaN                NaN              NaN               NaN   \n",
       "3        NaN                NaN              NaN               NaN   \n",
       "4        NaN                NaN              NaN               NaN   \n",
       "\n",
       "  r_naeste_tilsyn_halvaar  r_skader_andet r_materiel r_person  \\\n",
       "0                     NaN             NaN        NaN      NaN   \n",
       "1                     NaN             NaN        NaN      NaN   \n",
       "2                     NaN             NaN        NaN      NaN   \n",
       "3                     NaN             NaN        NaN      NaN   \n",
       "4                     NaN             NaN        NaN      NaN   \n",
       "\n",
       "  r_link_til_edoc_sag r_generelt_beplantning_andet r_handling_for_beplantning  \\\n",
       "0                 NaN                          NaN                        NaN   \n",
       "1                 NaN                          NaN                        NaN   \n",
       "2                 NaN                          NaN                        NaN   \n",
       "3                 NaN                          NaN                        NaN   \n",
       "4                 NaN                          NaN                        NaN   \n",
       "\n",
       "  r_img01 r_img02 r_img03 r_img04 r_img05 r_img06 r_img07 r_img08 r_img09  \\\n",
       "0     NaN     NaN     NaN     NaN     NaN     NaN     NaN     NaN     NaN   \n",
       "1     NaN     NaN     NaN     NaN     NaN     NaN     NaN     NaN     NaN   \n",
       "2     NaN     NaN     NaN     NaN     NaN     NaN     NaN     NaN     NaN   \n",
       "3     NaN     NaN     NaN     NaN     NaN     NaN     NaN     NaN     NaN   \n",
       "4     NaN     NaN     NaN     NaN     NaN     NaN     NaN     NaN     NaN   \n",
       "\n",
       "  r_img10  r_img11  r_img12  r_img13  r_img14  r_img15 torso_hoejde  \\\n",
       "0     NaN      NaN      NaN      NaN      NaN      NaN          NaN   \n",
       "1     NaN      NaN      NaN      NaN      NaN      NaN          NaN   \n",
       "2     NaN      NaN      NaN      NaN      NaN      NaN          NaN   \n",
       "3     NaN      NaN      NaN      NaN      NaN      NaN          NaN   \n",
       "4     NaN      NaN      NaN      NaN      NaN      NaN          NaN   \n",
       "\n",
       "  torso_omkreds torso_stamme torso_sidst_stynet torso_frekvens_styning  \\\n",
       "0           NaN          NaN                NaN                    NaN   \n",
       "1           NaN          NaN                NaN                    NaN   \n",
       "2           NaN          NaN                NaN                    NaN   \n",
       "3           NaN          NaN                NaN                    NaN   \n",
       "4           NaN          NaN                NaN                    NaN   \n",
       "\n",
       "  torso_naeste_styning torso_skaeres_ned_til torso_bemaerkning  \\\n",
       "0                  NaN                   NaN               NaN   \n",
       "1                  NaN                   NaN               NaN   \n",
       "2                  NaN                   NaN               NaN   \n",
       "3                  NaN                   NaN               NaN   \n",
       "4                  NaN                   NaN               NaN   \n",
       "\n",
       "                                    wkb_geometry  \n",
       "0      POINT (12.5370471883976 55.6486340745573)  \n",
       "1   POINT (12.536925020477707 55.64867988581558)  \n",
       "2   POINT (12.537000905330974 55.64876361021244)  \n",
       "3   POINT (12.537133269649273 55.64872321507861)  \n",
       "4  POINT (12.537399549194998 55.648992732825036)  "
      ]
     },
     "execution_count": 117,
     "metadata": {},
     "output_type": "execute_result"
    }
   ],
   "source": [
    "df2 = pd.read_csv(\"trae_basis.csv\")\n",
    "df2.head()"
   ]
  },
  {
   "cell_type": "code",
   "execution_count": 111,
   "metadata": {},
   "outputs": [
    {
     "data": {
      "text/plain": [
       "(59627, 183)"
      ]
     },
     "execution_count": 111,
     "metadata": {},
     "output_type": "execute_result"
    }
   ],
   "source": [
    "df2.shape"
   ]
  },
  {
   "cell_type": "code",
   "execution_count": 118,
   "metadata": {},
   "outputs": [],
   "source": [
    "traer = df2.groupby(['slaegtsnavn']).count().id\n",
    "traer = traer.sort_values(ascending=False)"
   ]
  },
  {
   "cell_type": "code",
   "execution_count": 119,
   "metadata": {},
   "outputs": [
    {
     "data": {
      "image/png": "[encoded data removed]",
      "text/plain": [
       "<Figure size 864x360 with 1 Axes>"
      ]
     },
     "metadata": {
      "needs_background": "light"
     },
     "output_type": "display_data"
    }
   ],
   "source": [
    "plt.rcParams['figure.figsize'] = (12, 5)\n",
    "plt.bar(traer.index,traer.values)\n",
    "plt.title(\"Tree familyname\")\n",
    "plt.ylabel(\"Tree counts\")\n",
    "plt.xticks(rotation=90)\n",
    "plt.show()"
   ]
  },
  {
   "cell_type": "markdown",
   "metadata": {},
   "source": [
    "We can see that there is a lot of trees, looks like if we remove these trees the two datasets might be the same?"
   ]
  },
  {
   "cell_type": "code",
   "execution_count": 121,
   "metadata": {},
   "outputs": [
    {
     "data": {
      "text/plain": [
       "(29790, 183)"
      ]
     },
     "execution_count": 121,
     "metadata": {},
     "output_type": "execute_result"
    }
   ],
   "source": [
    "df2[df2['slaegtsnavn'] != 'Ikke registreret'].shape"
   ]
  },
  {
   "cell_type": "markdown",
   "metadata": {},
   "source": [
    "This does not appear to be the case, there are still allmost 10.000 more observations in this dataset, so lets remove the none registred trees and start the fun."
   ]
  },
  {
   "cell_type": "code",
   "execution_count": 122,
   "metadata": {},
   "outputs": [],
   "source": [
    "df2 = df2[df2['slaegtsnavn'] != 'Ikke registreret']"
   ]
  },
  {
   "cell_type": "code",
   "execution_count": 124,
   "metadata": {},
   "outputs": [
    {
     "data": {
      "image/png": "[encoded data removed]",
      "text/plain": [
       "<Figure size 864x360 with 1 Axes>"
      ]
     },
     "metadata": {
      "needs_background": "light"
     },
     "output_type": "display_data"
    },
    {
     "name": "stdout",
     "output_type": "stream",
     "text": [
      "Different tree families: 73\n"
     ]
    }
   ],
   "source": [
    "traer = df2.groupby(['slaegtsnavn']).count().id\n",
    "traer = traer.sort_values(ascending=False)\n",
    "plt.rcParams['figure.figsize'] = (12, 5)\n",
    "plt.bar(traer.index,traer.values)\n",
    "plt.title(\"Tree familyname\")\n",
    "plt.ylabel(\"Tree counts\")\n",
    "plt.xticks(rotation=90)\n",
    "plt.show()\n",
    "print(\"Different tree families:\", len(traer))"
   ]
  },
  {
   "cell_type": "markdown",
   "metadata": {},
   "source": [
    "Lets go for that top-10 view again in plotly"
   ]
  },
  {
   "cell_type": "code",
   "execution_count": 127,
   "metadata": {},
   "outputs": [
    {
     "data": {
      "application/vnd.plotly.v1+json": {
       "config": {
        "plotlyServerURL": "https://plot.ly"
       },
       "data": [
        {
         "text": [
          7260,
          2482,
          2208,
          2179,
          2176,
          1963,
          1685,
          1561,
          889,
          842
         ],
         "textposition": "auto",
         "type": "bar",
         "x": [
          "Lind",
          "Platan",
          "Kirsebær/Blomme",
          "Røn",
          "Løn",
          "Ask",
          "Eg",
          "Robinie",
          "Hestekastanie",
          "Birk"
         ],
         "y": [
          7260,
          2482,
          2208,
          2179,
          2176,
          1963,
          1685,
          1561,
          889,
          842
         ]
        }
       ],
       "layout": {
        "template": {
         "data": {
          "bar": [
           {
            "error_x": {
             "color": "#2a3f5f"
            },
            "error_y": {
             "color": "#2a3f5f"
            },
            "marker": {
             "line": {
              "color": "#E5ECF6",
              "width": 0.5
             }
            },
            "type": "bar"
           }
          ],
          "barpolar": [
           {
            "marker": {
             "line": {
              "color": "#E5ECF6",
              "width": 0.5
             }
            },
            "type": "barpolar"
           }
          ],
          "carpet": [
           {
            "aaxis": {
             "endlinecolor": "#2a3f5f",
             "gridcolor": "white",
             "linecolor": "white",
             "minorgridcolor": "white",
             "startlinecolor": "#2a3f5f"
            },
            "baxis": {
             "endlinecolor": "#2a3f5f",
             "gridcolor": "white",
             "linecolor": "white",
             "minorgridcolor": "white",
             "startlinecolor": "#2a3f5f"
            },
            "type": "carpet"
           }
          ],
          "choropleth": [
           {
            "colorbar": {
             "outlinewidth": 0,
             "ticks": ""
            },
            "type": "choropleth"
           }
          ],
          "contour": [
           {
            "colorbar": {
             "outlinewidth": 0,
             "ticks": ""
            },
            "colorscale": [
             [
              0,
              "#0d0887"
             ],
             [
              0.1111111111111111,
              "#46039f"
             ],
             [
              0.2222222222222222,
              "#7201a8"
             ],
             [
              0.3333333333333333,
              "#9c179e"
             ],
             [
              0.4444444444444444,
              "#bd3786"
             ],
             [
              0.5555555555555556,
              "#d8576b"
             ],
             [
              0.6666666666666666,
              "#ed7953"
             ],
             [
              0.7777777777777778,
              "#fb9f3a"
             ],
             [
              0.8888888888888888,
              "#fdca26"
             ],
             [
              1,
              "#f0f921"
             ]
            ],
            "type": "contour"
           }
          ],
          "contourcarpet": [
           {
            "colorbar": {
             "outlinewidth": 0,
             "ticks": ""
            },
            "type": "contourcarpet"
           }
          ],
          "heatmap": [
           {
            "colorbar": {
             "outlinewidth": 0,
             "ticks": ""
            },
            "colorscale": [
             [
              0,
              "#0d0887"
             ],
             [
              0.1111111111111111,
              "#46039f"
             ],
             [
              0.2222222222222222,
              "#7201a8"
             ],
             [
              0.3333333333333333,
              "#9c179e"
             ],
             [
              0.4444444444444444,
              "#bd3786"
             ],
             [
              0.5555555555555556,
              "#d8576b"
             ],
             [
              0.6666666666666666,
              "#ed7953"
             ],
             [
              0.7777777777777778,
              "#fb9f3a"
             ],
             [
              0.8888888888888888,
              "#fdca26"
             ],
             [
              1,
              "#f0f921"
             ]
            ],
            "type": "heatmap"
           }
          ],
          "heatmapgl": [
           {
            "colorbar": {
             "outlinewidth": 0,
             "ticks": ""
            },
            "colorscale": [
             [
              0,
              "#0d0887"
             ],
             [
              0.1111111111111111,
              "#46039f"
             ],
             [
              0.2222222222222222,
              "#7201a8"
             ],
             [
              0.3333333333333333,
              "#9c179e"
             ],
             [
              0.4444444444444444,
              "#bd3786"
             ],
             [
              0.5555555555555556,
              "#d8576b"
             ],
             [
              0.6666666666666666,
              "#ed7953"
             ],
             [
              0.7777777777777778,
              "#fb9f3a"
             ],
             [
              0.8888888888888888,
              "#fdca26"
             ],
             [
              1,
              "#f0f921"
             ]
            ],
            "type": "heatmapgl"
           }
          ],
          "histogram": [
           {
            "marker": {
             "colorbar": {
              "outlinewidth": 0,
              "ticks": ""
             }
            },
            "type": "histogram"
           }
          ],
          "histogram2d": [
           {
            "colorbar": {
             "outlinewidth": 0,
             "ticks": ""
            },
            "colorscale": [
             [
              0,
              "#0d0887"
             ],
             [
              0.1111111111111111,
              "#46039f"
             ],
             [
              0.2222222222222222,
              "#7201a8"
             ],
             [
              0.3333333333333333,
              "#9c179e"
             ],
             [
              0.4444444444444444,
              "#bd3786"
             ],
             [
              0.5555555555555556,
              "#d8576b"
             ],
             [
              0.6666666666666666,
              "#ed7953"
             ],
             [
              0.7777777777777778,
              "#fb9f3a"
             ],
             [
              0.8888888888888888,
              "#fdca26"
             ],
             [
              1,
              "#f0f921"
             ]
            ],
            "type": "histogram2d"
           }
          ],
          "histogram2dcontour": [
           {
            "colorbar": {
             "outlinewidth": 0,
             "ticks": ""
            },
            "colorscale": [
             [
              0,
              "#0d0887"
             ],
             [
              0.1111111111111111,
              "#46039f"
             ],
             [
              0.2222222222222222,
              "#7201a8"
             ],
             [
              0.3333333333333333,
              "#9c179e"
             ],
             [
              0.4444444444444444,
              "#bd3786"
             ],
             [
              0.5555555555555556,
              "#d8576b"
             ],
             [
              0.6666666666666666,
              "#ed7953"
             ],
             [
              0.7777777777777778,
              "#fb9f3a"
             ],
             [
              0.8888888888888888,
              "#fdca26"
             ],
             [
              1,
              "#f0f921"
             ]
            ],
            "type": "histogram2dcontour"
           }
          ],
          "mesh3d": [
           {
            "colorbar": {
             "outlinewidth": 0,
             "ticks": ""
            },
            "type": "mesh3d"
           }
          ],
          "parcoords": [
           {
            "line": {
             "colorbar": {
              "outlinewidth": 0,
              "ticks": ""
             }
            },
            "type": "parcoords"
           }
          ],
          "pie": [
           {
            "automargin": true,
            "type": "pie"
           }
          ],
          "scatter": [
           {
            "marker": {
             "colorbar": {
              "outlinewidth": 0,
              "ticks": ""
             }
            },
            "type": "scatter"
           }
          ],
          "scatter3d": [
           {
            "line": {
             "colorbar": {
              "outlinewidth": 0,
              "ticks": ""
             }
            },
            "marker": {
             "colorbar": {
              "outlinewidth": 0,
              "ticks": ""
             }
            },
            "type": "scatter3d"
           }
          ],
          "scattercarpet": [
           {
            "marker": {
             "colorbar": {
              "outlinewidth": 0,
              "ticks": ""
             }
            },
            "type": "scattercarpet"
           }
          ],
          "scattergeo": [
           {
            "marker": {
             "colorbar": {
              "outlinewidth": 0,
              "ticks": ""
             }
            },
            "type": "scattergeo"
           }
          ],
          "scattergl": [
           {
            "marker": {
             "colorbar": {
              "outlinewidth": 0,
              "ticks": ""
             }
            },
            "type": "scattergl"
           }
          ],
          "scattermapbox": [
           {
            "marker": {
             "colorbar": {
              "outlinewidth": 0,
              "ticks": ""
             }
            },
            "type": "scattermapbox"
           }
          ],
          "scatterpolar": [
           {
            "marker": {
             "colorbar": {
              "outlinewidth": 0,
              "ticks": ""
             }
            },
            "type": "scatterpolar"
           }
          ],
          "scatterpolargl": [
           {
            "marker": {
             "colorbar": {
              "outlinewidth": 0,
              "ticks": ""
             }
            },
            "type": "scatterpolargl"
           }
          ],
          "scatterternary": [
           {
            "marker": {
             "colorbar": {
              "outlinewidth": 0,
              "ticks": ""
             }
            },
            "type": "scatterternary"
           }
          ],
          "surface": [
           {
            "colorbar": {
             "outlinewidth": 0,
             "ticks": ""
            },
            "colorscale": [
             [
              0,
              "#0d0887"
             ],
             [
              0.1111111111111111,
              "#46039f"
             ],
             [
              0.2222222222222222,
              "#7201a8"
             ],
             [
              0.3333333333333333,
              "#9c179e"
             ],
             [
              0.4444444444444444,
              "#bd3786"
             ],
             [
              0.5555555555555556,
              "#d8576b"
             ],
             [
              0.6666666666666666,
              "#ed7953"
             ],
             [
              0.7777777777777778,
              "#fb9f3a"
             ],
             [
              0.8888888888888888,
              "#fdca26"
             ],
             [
              1,
              "#f0f921"
             ]
            ],
            "type": "surface"
           }
          ],
          "table": [
           {
            "cells": {
             "fill": {
              "color": "#EBF0F8"
             },
             "line": {
              "color": "white"
             }
            },
            "header": {
             "fill": {
              "color": "#C8D4E3"
             },
             "line": {
              "color": "white"
             }
            },
            "type": "table"
           }
          ]
         },
         "layout": {
          "annotationdefaults": {
           "arrowcolor": "#2a3f5f",
           "arrowhead": 0,
           "arrowwidth": 1
          },
          "coloraxis": {
           "colorbar": {
            "outlinewidth": 0,
            "ticks": ""
           }
          },
          "colorscale": {
           "diverging": [
            [
             0,
             "#8e0152"
            ],
            [
             0.1,
             "#c51b7d"
            ],
            [
             0.2,
             "#de77ae"
            ],
            [
             0.3,
             "#f1b6da"
            ],
            [
             0.4,
             "#fde0ef"
            ],
            [
             0.5,
             "#f7f7f7"
            ],
            [
             0.6,
             "#e6f5d0"
            ],
            [
             0.7,
             "#b8e186"
            ],
            [
             0.8,
             "#7fbc41"
            ],
            [
             0.9,
             "#4d9221"
            ],
            [
             1,
             "#276419"
            ]
           ],
           "sequential": [
            [
             0,
             "#0d0887"
            ],
            [
             0.1111111111111111,
             "#46039f"
            ],
            [
             0.2222222222222222,
             "#7201a8"
            ],
            [
             0.3333333333333333,
             "#9c179e"
            ],
            [
             0.4444444444444444,
             "#bd3786"
            ],
            [
             0.5555555555555556,
             "#d8576b"
            ],
            [
             0.6666666666666666,
             "#ed7953"
            ],
            [
             0.7777777777777778,
             "#fb9f3a"
            ],
            [
             0.8888888888888888,
             "#fdca26"
            ],
            [
             1,
             "#f0f921"
            ]
           ],
           "sequentialminus": [
            [
             0,
             "#0d0887"
            ],
            [
             0.1111111111111111,
             "#46039f"
            ],
            [
             0.2222222222222222,
             "#7201a8"
            ],
            [
             0.3333333333333333,
             "#9c179e"
            ],
            [
             0.4444444444444444,
             "#bd3786"
            ],
            [
             0.5555555555555556,
             "#d8576b"
            ],
            [
             0.6666666666666666,
             "#ed7953"
            ],
            [
             0.7777777777777778,
             "#fb9f3a"
            ],
            [
             0.8888888888888888,
             "#fdca26"
            ],
            [
             1,
             "#f0f921"
            ]
           ]
          },
          "colorway": [
           "#636efa",
           "#EF553B",
           "#00cc96",
           "#ab63fa",
           "#FFA15A",
           "#19d3f3",
           "#FF6692",
           "#B6E880",
           "#FF97FF",
           "#FECB52"
          ],
          "font": {
           "color": "#2a3f5f"
          },
          "geo": {
           "bgcolor": "white",
           "lakecolor": "white",
           "landcolor": "#E5ECF6",
           "showlakes": true,
           "showland": true,
           "subunitcolor": "white"
          },
          "hoverlabel": {
           "align": "left"
          },
          "hovermode": "closest",
          "mapbox": {
           "style": "light"
          },
          "paper_bgcolor": "white",
          "plot_bgcolor": "#E5ECF6",
          "polar": {
           "angularaxis": {
            "gridcolor": "white",
            "linecolor": "white",
            "ticks": ""
           },
           "bgcolor": "#E5ECF6",
           "radialaxis": {
            "gridcolor": "white",
            "linecolor": "white",
            "ticks": ""
           }
          },
          "scene": {
           "xaxis": {
            "backgroundcolor": "#E5ECF6",
            "gridcolor": "white",
            "gridwidth": 2,
            "linecolor": "white",
            "showbackground": true,
            "ticks": "",
            "zerolinecolor": "white"
           },
           "yaxis": {
            "backgroundcolor": "#E5ECF6",
            "gridcolor": "white",
            "gridwidth": 2,
            "linecolor": "white",
            "showbackground": true,
            "ticks": "",
            "zerolinecolor": "white"
           },
           "zaxis": {
            "backgroundcolor": "#E5ECF6",
            "gridcolor": "white",
            "gridwidth": 2,
            "linecolor": "white",
            "showbackground": true,
            "ticks": "",
            "zerolinecolor": "white"
           }
          },
          "shapedefaults": {
           "line": {
            "color": "#2a3f5f"
           }
          },
          "ternary": {
           "aaxis": {
            "gridcolor": "white",
            "linecolor": "white",
            "ticks": ""
           },
           "baxis": {
            "gridcolor": "white",
            "linecolor": "white",
            "ticks": ""
           },
           "bgcolor": "#E5ECF6",
           "caxis": {
            "gridcolor": "white",
            "linecolor": "white",
            "ticks": ""
           }
          },
          "title": {
           "x": 0.05
          },
          "xaxis": {
           "automargin": true,
           "gridcolor": "white",
           "linecolor": "white",
           "ticks": "",
           "title": {
            "standoff": 15
           },
           "zerolinecolor": "white",
           "zerolinewidth": 2
          },
          "yaxis": {
           "automargin": true,
           "gridcolor": "white",
           "linecolor": "white",
           "ticks": "",
           "title": {
            "standoff": 15
           },
           "zerolinecolor": "white",
           "zerolinewidth": 2
          }
         }
        }
       }
      },
      "text/html": [
       "<div>\n",
       "        \n",
       "        \n",
       "            <div id=\"8b169f81-eacf-4aca-be15-de720a154baf\" class=\"plotly-graph-div\" style=\"height:525px; width:100%;\"></div>\n",
       "            <script type=\"text/javascript\">\n",
       "                require([\"plotly\"], function(Plotly) {\n",
       "                    window.PLOTLYENV=window.PLOTLYENV || {};\n",
       "                    \n",
       "                if (document.getElementById(\"8b169f81-eacf-4aca-be15-de720a154baf\")) {\n",
       "                    Plotly.newPlot(\n",
       "                        '8b169f81-eacf-4aca-be15-de720a154baf',\n",
       "                        [{\"text\": [7260.0, 2482.0, 2208.0, 2179.0, 2176.0, 1963.0, 1685.0, 1561.0, 889.0, 842.0], \"textposition\": \"auto\", \"type\": \"bar\", \"x\": [\"Lind\", \"Platan\", \"Kirseb\\u00e6r/Blomme\", \"R\\u00f8n\", \"L\\u00f8n\", \"Ask\", \"Eg\", \"Robinie\", \"Hestekastanie\", \"Birk\"], \"y\": [7260, 2482, 2208, 2179, 2176, 1963, 1685, 1561, 889, 842]}],\n",
       "                        {\"template\": {\"data\": {\"bar\": [{\"error_x\": {\"color\": \"#2a3f5f\"}, \"error_y\": {\"color\": \"#2a3f5f\"}, \"marker\": {\"line\": {\"color\": \"#E5ECF6\", \"width\": 0.5}}, \"type\": \"bar\"}], \"barpolar\": [{\"marker\": {\"line\": {\"color\": \"#E5ECF6\", \"width\": 0.5}}, \"type\": \"barpolar\"}], \"carpet\": [{\"aaxis\": {\"endlinecolor\": \"#2a3f5f\", \"gridcolor\": \"white\", \"linecolor\": \"white\", \"minorgridcolor\": \"white\", \"startlinecolor\": \"#2a3f5f\"}, \"baxis\": {\"endlinecolor\": \"#2a3f5f\", \"gridcolor\": \"white\", \"linecolor\": \"white\", \"minorgridcolor\": \"white\", \"startlinecolor\": \"#2a3f5f\"}, \"type\": \"carpet\"}], \"choropleth\": [{\"colorbar\": {\"outlinewidth\": 0, \"ticks\": \"\"}, \"type\": \"choropleth\"}], \"contour\": [{\"colorbar\": {\"outlinewidth\": 0, \"ticks\": \"\"}, \"colorscale\": [[0.0, \"#0d0887\"], [0.1111111111111111, \"#46039f\"], [0.2222222222222222, \"#7201a8\"], [0.3333333333333333, \"#9c179e\"], [0.4444444444444444, \"#bd3786\"], [0.5555555555555556, \"#d8576b\"], [0.6666666666666666, \"#ed7953\"], [0.7777777777777778, \"#fb9f3a\"], [0.8888888888888888, \"#fdca26\"], [1.0, \"#f0f921\"]], \"type\": \"contour\"}], \"contourcarpet\": [{\"colorbar\": {\"outlinewidth\": 0, \"ticks\": \"\"}, \"type\": \"contourcarpet\"}], \"heatmap\": [{\"colorbar\": {\"outlinewidth\": 0, \"ticks\": \"\"}, \"colorscale\": [[0.0, \"#0d0887\"], [0.1111111111111111, \"#46039f\"], [0.2222222222222222, \"#7201a8\"], [0.3333333333333333, \"#9c179e\"], [0.4444444444444444, \"#bd3786\"], [0.5555555555555556, \"#d8576b\"], [0.6666666666666666, \"#ed7953\"], [0.7777777777777778, \"#fb9f3a\"], [0.8888888888888888, \"#fdca26\"], [1.0, \"#f0f921\"]], \"type\": \"heatmap\"}], \"heatmapgl\": [{\"colorbar\": {\"outlinewidth\": 0, \"ticks\": \"\"}, \"colorscale\": [[0.0, \"#0d0887\"], [0.1111111111111111, \"#46039f\"], [0.2222222222222222, \"#7201a8\"], [0.3333333333333333, \"#9c179e\"], [0.4444444444444444, \"#bd3786\"], [0.5555555555555556, \"#d8576b\"], [0.6666666666666666, \"#ed7953\"], [0.7777777777777778, \"#fb9f3a\"], [0.8888888888888888, \"#fdca26\"], [1.0, \"#f0f921\"]], \"type\": \"heatmapgl\"}], \"histogram\": [{\"marker\": {\"colorbar\": {\"outlinewidth\": 0, \"ticks\": \"\"}}, \"type\": \"histogram\"}], \"histogram2d\": [{\"colorbar\": {\"outlinewidth\": 0, \"ticks\": \"\"}, \"colorscale\": [[0.0, \"#0d0887\"], [0.1111111111111111, \"#46039f\"], [0.2222222222222222, \"#7201a8\"], [0.3333333333333333, \"#9c179e\"], [0.4444444444444444, \"#bd3786\"], [0.5555555555555556, \"#d8576b\"], [0.6666666666666666, \"#ed7953\"], [0.7777777777777778, \"#fb9f3a\"], [0.8888888888888888, \"#fdca26\"], [1.0, \"#f0f921\"]], \"type\": \"histogram2d\"}], \"histogram2dcontour\": [{\"colorbar\": {\"outlinewidth\": 0, \"ticks\": \"\"}, \"colorscale\": [[0.0, \"#0d0887\"], [0.1111111111111111, \"#46039f\"], [0.2222222222222222, \"#7201a8\"], [0.3333333333333333, \"#9c179e\"], [0.4444444444444444, \"#bd3786\"], [0.5555555555555556, \"#d8576b\"], [0.6666666666666666, \"#ed7953\"], [0.7777777777777778, \"#fb9f3a\"], [0.8888888888888888, \"#fdca26\"], [1.0, \"#f0f921\"]], \"type\": \"histogram2dcontour\"}], \"mesh3d\": [{\"colorbar\": {\"outlinewidth\": 0, \"ticks\": \"\"}, \"type\": \"mesh3d\"}], \"parcoords\": [{\"line\": {\"colorbar\": {\"outlinewidth\": 0, \"ticks\": \"\"}}, \"type\": \"parcoords\"}], \"pie\": [{\"automargin\": true, \"type\": \"pie\"}], \"scatter\": [{\"marker\": {\"colorbar\": {\"outlinewidth\": 0, \"ticks\": \"\"}}, \"type\": \"scatter\"}], \"scatter3d\": [{\"line\": {\"colorbar\": {\"outlinewidth\": 0, \"ticks\": \"\"}}, \"marker\": {\"colorbar\": {\"outlinewidth\": 0, \"ticks\": \"\"}}, \"type\": \"scatter3d\"}], \"scattercarpet\": [{\"marker\": {\"colorbar\": {\"outlinewidth\": 0, \"ticks\": \"\"}}, \"type\": \"scattercarpet\"}], \"scattergeo\": [{\"marker\": {\"colorbar\": {\"outlinewidth\": 0, \"ticks\": \"\"}}, \"type\": \"scattergeo\"}], \"scattergl\": [{\"marker\": {\"colorbar\": {\"outlinewidth\": 0, \"ticks\": \"\"}}, \"type\": \"scattergl\"}], \"scattermapbox\": [{\"marker\": {\"colorbar\": {\"outlinewidth\": 0, \"ticks\": \"\"}}, \"type\": \"scattermapbox\"}], \"scatterpolar\": [{\"marker\": {\"colorbar\": {\"outlinewidth\": 0, \"ticks\": \"\"}}, \"type\": \"scatterpolar\"}], \"scatterpolargl\": [{\"marker\": {\"colorbar\": {\"outlinewidth\": 0, \"ticks\": \"\"}}, \"type\": \"scatterpolargl\"}], \"scatterternary\": [{\"marker\": {\"colorbar\": {\"outlinewidth\": 0, \"ticks\": \"\"}}, \"type\": \"scatterternary\"}], \"surface\": [{\"colorbar\": {\"outlinewidth\": 0, \"ticks\": \"\"}, \"colorscale\": [[0.0, \"#0d0887\"], [0.1111111111111111, \"#46039f\"], [0.2222222222222222, \"#7201a8\"], [0.3333333333333333, \"#9c179e\"], [0.4444444444444444, \"#bd3786\"], [0.5555555555555556, \"#d8576b\"], [0.6666666666666666, \"#ed7953\"], [0.7777777777777778, \"#fb9f3a\"], [0.8888888888888888, \"#fdca26\"], [1.0, \"#f0f921\"]], \"type\": \"surface\"}], \"table\": [{\"cells\": {\"fill\": {\"color\": \"#EBF0F8\"}, \"line\": {\"color\": \"white\"}}, \"header\": {\"fill\": {\"color\": \"#C8D4E3\"}, \"line\": {\"color\": \"white\"}}, \"type\": \"table\"}]}, \"layout\": {\"annotationdefaults\": {\"arrowcolor\": \"#2a3f5f\", \"arrowhead\": 0, \"arrowwidth\": 1}, \"coloraxis\": {\"colorbar\": {\"outlinewidth\": 0, \"ticks\": \"\"}}, \"colorscale\": {\"diverging\": [[0, \"#8e0152\"], [0.1, \"#c51b7d\"], [0.2, \"#de77ae\"], [0.3, \"#f1b6da\"], [0.4, \"#fde0ef\"], [0.5, \"#f7f7f7\"], [0.6, \"#e6f5d0\"], [0.7, \"#b8e186\"], [0.8, \"#7fbc41\"], [0.9, \"#4d9221\"], [1, \"#276419\"]], \"sequential\": [[0.0, \"#0d0887\"], [0.1111111111111111, \"#46039f\"], [0.2222222222222222, \"#7201a8\"], [0.3333333333333333, \"#9c179e\"], [0.4444444444444444, \"#bd3786\"], [0.5555555555555556, \"#d8576b\"], [0.6666666666666666, \"#ed7953\"], [0.7777777777777778, \"#fb9f3a\"], [0.8888888888888888, \"#fdca26\"], [1.0, \"#f0f921\"]], \"sequentialminus\": [[0.0, \"#0d0887\"], [0.1111111111111111, \"#46039f\"], [0.2222222222222222, \"#7201a8\"], [0.3333333333333333, \"#9c179e\"], [0.4444444444444444, \"#bd3786\"], [0.5555555555555556, \"#d8576b\"], [0.6666666666666666, \"#ed7953\"], [0.7777777777777778, \"#fb9f3a\"], [0.8888888888888888, \"#fdca26\"], [1.0, \"#f0f921\"]]}, \"colorway\": [\"#636efa\", \"#EF553B\", \"#00cc96\", \"#ab63fa\", \"#FFA15A\", \"#19d3f3\", \"#FF6692\", \"#B6E880\", \"#FF97FF\", \"#FECB52\"], \"font\": {\"color\": \"#2a3f5f\"}, \"geo\": {\"bgcolor\": \"white\", \"lakecolor\": \"white\", \"landcolor\": \"#E5ECF6\", \"showlakes\": true, \"showland\": true, \"subunitcolor\": \"white\"}, \"hoverlabel\": {\"align\": \"left\"}, \"hovermode\": \"closest\", \"mapbox\": {\"style\": \"light\"}, \"paper_bgcolor\": \"white\", \"plot_bgcolor\": \"#E5ECF6\", \"polar\": {\"angularaxis\": {\"gridcolor\": \"white\", \"linecolor\": \"white\", \"ticks\": \"\"}, \"bgcolor\": \"#E5ECF6\", \"radialaxis\": {\"gridcolor\": \"white\", \"linecolor\": \"white\", \"ticks\": \"\"}}, \"scene\": {\"xaxis\": {\"backgroundcolor\": \"#E5ECF6\", \"gridcolor\": \"white\", \"gridwidth\": 2, \"linecolor\": \"white\", \"showbackground\": true, \"ticks\": \"\", \"zerolinecolor\": \"white\"}, \"yaxis\": {\"backgroundcolor\": \"#E5ECF6\", \"gridcolor\": \"white\", \"gridwidth\": 2, \"linecolor\": \"white\", \"showbackground\": true, \"ticks\": \"\", \"zerolinecolor\": \"white\"}, \"zaxis\": {\"backgroundcolor\": \"#E5ECF6\", \"gridcolor\": \"white\", \"gridwidth\": 2, \"linecolor\": \"white\", \"showbackground\": true, \"ticks\": \"\", \"zerolinecolor\": \"white\"}}, \"shapedefaults\": {\"line\": {\"color\": \"#2a3f5f\"}}, \"ternary\": {\"aaxis\": {\"gridcolor\": \"white\", \"linecolor\": \"white\", \"ticks\": \"\"}, \"baxis\": {\"gridcolor\": \"white\", \"linecolor\": \"white\", \"ticks\": \"\"}, \"bgcolor\": \"#E5ECF6\", \"caxis\": {\"gridcolor\": \"white\", \"linecolor\": \"white\", \"ticks\": \"\"}}, \"title\": {\"x\": 0.05}, \"xaxis\": {\"automargin\": true, \"gridcolor\": \"white\", \"linecolor\": \"white\", \"ticks\": \"\", \"title\": {\"standoff\": 15}, \"zerolinecolor\": \"white\", \"zerolinewidth\": 2}, \"yaxis\": {\"automargin\": true, \"gridcolor\": \"white\", \"linecolor\": \"white\", \"ticks\": \"\", \"title\": {\"standoff\": 15}, \"zerolinecolor\": \"white\", \"zerolinewidth\": 2}}}},\n",
       "                        {\"responsive\": true}\n",
       "                    ).then(function(){\n",
       "                            \n",
       "var gd = document.getElementById('8b169f81-eacf-4aca-be15-de720a154baf');\n",
       "var x = new MutationObserver(function (mutations, observer) {{\n",
       "        var display = window.getComputedStyle(gd).display;\n",
       "        if (!display || display === 'none') {{\n",
       "            console.log([gd, 'removed!']);\n",
       "            Plotly.purge(gd);\n",
       "            observer.disconnect();\n",
       "        }}\n",
       "}});\n",
       "\n",
       "// Listen for the removal of the full notebook cells\n",
       "var notebookContainer = gd.closest('#notebook-container');\n",
       "if (notebookContainer) {{\n",
       "    x.observe(notebookContainer, {childList: true});\n",
       "}}\n",
       "\n",
       "// Listen for the clearing of the current output cell\n",
       "var outputEl = gd.closest('.output');\n",
       "if (outputEl) {{\n",
       "    x.observe(outputEl, {childList: true});\n",
       "}}\n",
       "\n",
       "                        })\n",
       "                };\n",
       "                });\n",
       "            </script>\n",
       "        </div>"
      ]
     },
     "metadata": {},
     "output_type": "display_data"
    }
   ],
   "source": [
    "fig = go.Figure([go.Bar(x=traer.index[:10], y=traer.values[:10],\n",
    "                 text=traer.values[:10],textposition=\"auto\")])\n",
    "fig.show()"
   ]
  },
  {
   "cell_type": "markdown",
   "metadata": {},
   "source": [
    "And let's see how it is distributed between the districts"
   ]
  },
  {
   "cell_type": "code",
   "execution_count": 125,
   "metadata": {},
   "outputs": [],
   "source": [
    "byer = df1.groupby(['bydelsnavn']).count().id\n",
    "byer = byer.sort_values(ascending=False)"
   ]
  },
  {
   "cell_type": "code",
   "execution_count": 132,
   "metadata": {},
   "outputs": [
    {
     "data": {
      "application/vnd.plotly.v1+json": {
       "config": {
        "plotlyServerURL": "https://plot.ly"
       },
       "data": [
        {
         "text": [
          4119,
          2803,
          2701,
          2239,
          2159,
          1778,
          1232,
          1026,
          953,
          946
         ],
         "textposition": "auto",
         "type": "bar",
         "x": [
          "Østerbro",
          "Indre By",
          "Amager Vest",
          "Nørrebro",
          "Vesterbro-Kongens Enghave",
          "Valby",
          "Amager Øst",
          "Vanløse",
          "Bispebjerg",
          "Brønshøj-Husum"
         ],
         "y": [
          4119,
          2803,
          2701,
          2239,
          2159,
          1778,
          1232,
          1026,
          953,
          946
         ]
        }
       ],
       "layout": {
        "template": {
         "data": {
          "bar": [
           {
            "error_x": {
             "color": "#2a3f5f"
            },
            "error_y": {
             "color": "#2a3f5f"
            },
            "marker": {
             "line": {
              "color": "#E5ECF6",
              "width": 0.5
             }
            },
            "type": "bar"
           }
          ],
          "barpolar": [
           {
            "marker": {
             "line": {
              "color": "#E5ECF6",
              "width": 0.5
             }
            },
            "type": "barpolar"
           }
          ],
          "carpet": [
           {
            "aaxis": {
             "endlinecolor": "#2a3f5f",
             "gridcolor": "white",
             "linecolor": "white",
             "minorgridcolor": "white",
             "startlinecolor": "#2a3f5f"
            },
            "baxis": {
             "endlinecolor": "#2a3f5f",
             "gridcolor": "white",
             "linecolor": "white",
             "minorgridcolor": "white",
             "startlinecolor": "#2a3f5f"
            },
            "type": "carpet"
           }
          ],
          "choropleth": [
           {
            "colorbar": {
             "outlinewidth": 0,
             "ticks": ""
            },
            "type": "choropleth"
           }
          ],
          "contour": [
           {
            "colorbar": {
             "outlinewidth": 0,
             "ticks": ""
            },
            "colorscale": [
             [
              0,
              "#0d0887"
             ],
             [
              0.1111111111111111,
              "#46039f"
             ],
             [
              0.2222222222222222,
              "#7201a8"
             ],
             [
              0.3333333333333333,
              "#9c179e"
             ],
             [
              0.4444444444444444,
              "#bd3786"
             ],
             [
              0.5555555555555556,
              "#d8576b"
             ],
             [
              0.6666666666666666,
              "#ed7953"
             ],
             [
              0.7777777777777778,
              "#fb9f3a"
             ],
             [
              0.8888888888888888,
              "#fdca26"
             ],
             [
              1,
              "#f0f921"
             ]
            ],
            "type": "contour"
           }
          ],
          "contourcarpet": [
           {
            "colorbar": {
             "outlinewidth": 0,
             "ticks": ""
            },
            "type": "contourcarpet"
           }
          ],
          "heatmap": [
           {
            "colorbar": {
             "outlinewidth": 0,
             "ticks": ""
            },
            "colorscale": [
             [
              0,
              "#0d0887"
             ],
             [
              0.1111111111111111,
              "#46039f"
             ],
             [
              0.2222222222222222,
              "#7201a8"
             ],
             [
              0.3333333333333333,
              "#9c179e"
             ],
             [
              0.4444444444444444,
              "#bd3786"
             ],
             [
              0.5555555555555556,
              "#d8576b"
             ],
             [
              0.6666666666666666,
              "#ed7953"
             ],
             [
              0.7777777777777778,
              "#fb9f3a"
             ],
             [
              0.8888888888888888,
              "#fdca26"
             ],
             [
              1,
              "#f0f921"
             ]
            ],
            "type": "heatmap"
           }
          ],
          "heatmapgl": [
           {
            "colorbar": {
             "outlinewidth": 0,
             "ticks": ""
            },
            "colorscale": [
             [
              0,
              "#0d0887"
             ],
             [
              0.1111111111111111,
              "#46039f"
             ],
             [
              0.2222222222222222,
              "#7201a8"
             ],
             [
              0.3333333333333333,
              "#9c179e"
             ],
             [
              0.4444444444444444,
              "#bd3786"
             ],
             [
              0.5555555555555556,
              "#d8576b"
             ],
             [
              0.6666666666666666,
              "#ed7953"
             ],
             [
              0.7777777777777778,
              "#fb9f3a"
             ],
             [
              0.8888888888888888,
              "#fdca26"
             ],
             [
              1,
              "#f0f921"
             ]
            ],
            "type": "heatmapgl"
           }
          ],
          "histogram": [
           {
            "marker": {
             "colorbar": {
              "outlinewidth": 0,
              "ticks": ""
             }
            },
            "type": "histogram"
           }
          ],
          "histogram2d": [
           {
            "colorbar": {
             "outlinewidth": 0,
             "ticks": ""
            },
            "colorscale": [
             [
              0,
              "#0d0887"
             ],
             [
              0.1111111111111111,
              "#46039f"
             ],
             [
              0.2222222222222222,
              "#7201a8"
             ],
             [
              0.3333333333333333,
              "#9c179e"
             ],
             [
              0.4444444444444444,
              "#bd3786"
             ],
             [
              0.5555555555555556,
              "#d8576b"
             ],
             [
              0.6666666666666666,
              "#ed7953"
             ],
             [
              0.7777777777777778,
              "#fb9f3a"
             ],
             [
              0.8888888888888888,
              "#fdca26"
             ],
             [
              1,
              "#f0f921"
             ]
            ],
            "type": "histogram2d"
           }
          ],
          "histogram2dcontour": [
           {
            "colorbar": {
             "outlinewidth": 0,
             "ticks": ""
            },
            "colorscale": [
             [
              0,
              "#0d0887"
             ],
             [
              0.1111111111111111,
              "#46039f"
             ],
             [
              0.2222222222222222,
              "#7201a8"
             ],
             [
              0.3333333333333333,
              "#9c179e"
             ],
             [
              0.4444444444444444,
              "#bd3786"
             ],
             [
              0.5555555555555556,
              "#d8576b"
             ],
             [
              0.6666666666666666,
              "#ed7953"
             ],
             [
              0.7777777777777778,
              "#fb9f3a"
             ],
             [
              0.8888888888888888,
              "#fdca26"
             ],
             [
              1,
              "#f0f921"
             ]
            ],
            "type": "histogram2dcontour"
           }
          ],
          "mesh3d": [
           {
            "colorbar": {
             "outlinewidth": 0,
             "ticks": ""
            },
            "type": "mesh3d"
           }
          ],
          "parcoords": [
           {
            "line": {
             "colorbar": {
              "outlinewidth": 0,
              "ticks": ""
             }
            },
            "type": "parcoords"
           }
          ],
          "pie": [
           {
            "automargin": true,
            "type": "pie"
           }
          ],
          "scatter": [
           {
            "marker": {
             "colorbar": {
              "outlinewidth": 0,
              "ticks": ""
             }
            },
            "type": "scatter"
           }
          ],
          "scatter3d": [
           {
            "line": {
             "colorbar": {
              "outlinewidth": 0,
              "ticks": ""
             }
            },
            "marker": {
             "colorbar": {
              "outlinewidth": 0,
              "ticks": ""
             }
            },
            "type": "scatter3d"
           }
          ],
          "scattercarpet": [
           {
            "marker": {
             "colorbar": {
              "outlinewidth": 0,
              "ticks": ""
             }
            },
            "type": "scattercarpet"
           }
          ],
          "scattergeo": [
           {
            "marker": {
             "colorbar": {
              "outlinewidth": 0,
              "ticks": ""
             }
            },
            "type": "scattergeo"
           }
          ],
          "scattergl": [
           {
            "marker": {
             "colorbar": {
              "outlinewidth": 0,
              "ticks": ""
             }
            },
            "type": "scattergl"
           }
          ],
          "scattermapbox": [
           {
            "marker": {
             "colorbar": {
              "outlinewidth": 0,
              "ticks": ""
             }
            },
            "type": "scattermapbox"
           }
          ],
          "scatterpolar": [
           {
            "marker": {
             "colorbar": {
              "outlinewidth": 0,
              "ticks": ""
             }
            },
            "type": "scatterpolar"
           }
          ],
          "scatterpolargl": [
           {
            "marker": {
             "colorbar": {
              "outlinewidth": 0,
              "ticks": ""
             }
            },
            "type": "scatterpolargl"
           }
          ],
          "scatterternary": [
           {
            "marker": {
             "colorbar": {
              "outlinewidth": 0,
              "ticks": ""
             }
            },
            "type": "scatterternary"
           }
          ],
          "surface": [
           {
            "colorbar": {
             "outlinewidth": 0,
             "ticks": ""
            },
            "colorscale": [
             [
              0,
              "#0d0887"
             ],
             [
              0.1111111111111111,
              "#46039f"
             ],
             [
              0.2222222222222222,
              "#7201a8"
             ],
             [
              0.3333333333333333,
              "#9c179e"
             ],
             [
              0.4444444444444444,
              "#bd3786"
             ],
             [
              0.5555555555555556,
              "#d8576b"
             ],
             [
              0.6666666666666666,
              "#ed7953"
             ],
             [
              0.7777777777777778,
              "#fb9f3a"
             ],
             [
              0.8888888888888888,
              "#fdca26"
             ],
             [
              1,
              "#f0f921"
             ]
            ],
            "type": "surface"
           }
          ],
          "table": [
           {
            "cells": {
             "fill": {
              "color": "#EBF0F8"
             },
             "line": {
              "color": "white"
             }
            },
            "header": {
             "fill": {
              "color": "#C8D4E3"
             },
             "line": {
              "color": "white"
             }
            },
            "type": "table"
           }
          ]
         },
         "layout": {
          "annotationdefaults": {
           "arrowcolor": "#2a3f5f",
           "arrowhead": 0,
           "arrowwidth": 1
          },
          "coloraxis": {
           "colorbar": {
            "outlinewidth": 0,
            "ticks": ""
           }
          },
          "colorscale": {
           "diverging": [
            [
             0,
             "#8e0152"
            ],
            [
             0.1,
             "#c51b7d"
            ],
            [
             0.2,
             "#de77ae"
            ],
            [
             0.3,
             "#f1b6da"
            ],
            [
             0.4,
             "#fde0ef"
            ],
            [
             0.5,
             "#f7f7f7"
            ],
            [
             0.6,
             "#e6f5d0"
            ],
            [
             0.7,
             "#b8e186"
            ],
            [
             0.8,
             "#7fbc41"
            ],
            [
             0.9,
             "#4d9221"
            ],
            [
             1,
             "#276419"
            ]
           ],
           "sequential": [
            [
             0,
             "#0d0887"
            ],
            [
             0.1111111111111111,
             "#46039f"
            ],
            [
             0.2222222222222222,
             "#7201a8"
            ],
            [
             0.3333333333333333,
             "#9c179e"
            ],
            [
             0.4444444444444444,
             "#bd3786"
            ],
            [
             0.5555555555555556,
             "#d8576b"
            ],
            [
             0.6666666666666666,
             "#ed7953"
            ],
            [
             0.7777777777777778,
             "#fb9f3a"
            ],
            [
             0.8888888888888888,
             "#fdca26"
            ],
            [
             1,
             "#f0f921"
            ]
           ],
           "sequentialminus": [
            [
             0,
             "#0d0887"
            ],
            [
             0.1111111111111111,
             "#46039f"
            ],
            [
             0.2222222222222222,
             "#7201a8"
            ],
            [
             0.3333333333333333,
             "#9c179e"
            ],
            [
             0.4444444444444444,
             "#bd3786"
            ],
            [
             0.5555555555555556,
             "#d8576b"
            ],
            [
             0.6666666666666666,
             "#ed7953"
            ],
            [
             0.7777777777777778,
             "#fb9f3a"
            ],
            [
             0.8888888888888888,
             "#fdca26"
            ],
            [
             1,
             "#f0f921"
            ]
           ]
          },
          "colorway": [
           "#636efa",
           "#EF553B",
           "#00cc96",
           "#ab63fa",
           "#FFA15A",
           "#19d3f3",
           "#FF6692",
           "#B6E880",
           "#FF97FF",
           "#FECB52"
          ],
          "font": {
           "color": "#2a3f5f"
          },
          "geo": {
           "bgcolor": "white",
           "lakecolor": "white",
           "landcolor": "#E5ECF6",
           "showlakes": true,
           "showland": true,
           "subunitcolor": "white"
          },
          "hoverlabel": {
           "align": "left"
          },
          "hovermode": "closest",
          "mapbox": {
           "style": "light"
          },
          "paper_bgcolor": "white",
          "plot_bgcolor": "#E5ECF6",
          "polar": {
           "angularaxis": {
            "gridcolor": "white",
            "linecolor": "white",
            "ticks": ""
           },
           "bgcolor": "#E5ECF6",
           "radialaxis": {
            "gridcolor": "white",
            "linecolor": "white",
            "ticks": ""
           }
          },
          "scene": {
           "xaxis": {
            "backgroundcolor": "#E5ECF6",
            "gridcolor": "white",
            "gridwidth": 2,
            "linecolor": "white",
            "showbackground": true,
            "ticks": "",
            "zerolinecolor": "white"
           },
           "yaxis": {
            "backgroundcolor": "#E5ECF6",
            "gridcolor": "white",
            "gridwidth": 2,
            "linecolor": "white",
            "showbackground": true,
            "ticks": "",
            "zerolinecolor": "white"
           },
           "zaxis": {
            "backgroundcolor": "#E5ECF6",
            "gridcolor": "white",
            "gridwidth": 2,
            "linecolor": "white",
            "showbackground": true,
            "ticks": "",
            "zerolinecolor": "white"
           }
          },
          "shapedefaults": {
           "line": {
            "color": "#2a3f5f"
           }
          },
          "ternary": {
           "aaxis": {
            "gridcolor": "white",
            "linecolor": "white",
            "ticks": ""
           },
           "baxis": {
            "gridcolor": "white",
            "linecolor": "white",
            "ticks": ""
           },
           "bgcolor": "#E5ECF6",
           "caxis": {
            "gridcolor": "white",
            "linecolor": "white",
            "ticks": ""
           }
          },
          "title": {
           "x": 0.05
          },
          "xaxis": {
           "automargin": true,
           "gridcolor": "white",
           "linecolor": "white",
           "ticks": "",
           "title": {
            "standoff": 15
           },
           "zerolinecolor": "white",
           "zerolinewidth": 2
          },
          "yaxis": {
           "automargin": true,
           "gridcolor": "white",
           "linecolor": "white",
           "ticks": "",
           "title": {
            "standoff": 15
           },
           "zerolinecolor": "white",
           "zerolinewidth": 2
          }
         }
        },
        "title": {
         "text": "Tree counts for each district"
        },
        "yaxis": {
         "title": {
          "text": "Tree counts"
         }
        }
       }
      },
      "text/html": [
       "<div>\n",
       "        \n",
       "        \n",
       "            <div id=\"fb930890-716f-49f7-b51d-4a07d0c49884\" class=\"plotly-graph-div\" style=\"height:525px; width:100%;\"></div>\n",
       "            <script type=\"text/javascript\">\n",
       "                require([\"plotly\"], function(Plotly) {\n",
       "                    window.PLOTLYENV=window.PLOTLYENV || {};\n",
       "                    \n",
       "                if (document.getElementById(\"fb930890-716f-49f7-b51d-4a07d0c49884\")) {\n",
       "                    Plotly.newPlot(\n",
       "                        'fb930890-716f-49f7-b51d-4a07d0c49884',\n",
       "                        [{\"text\": [4119.0, 2803.0, 2701.0, 2239.0, 2159.0, 1778.0, 1232.0, 1026.0, 953.0, 946.0], \"textposition\": \"auto\", \"type\": \"bar\", \"x\": [\"\\u00d8sterbro\", \"Indre By\", \"Amager Vest\", \"N\\u00f8rrebro\", \"Vesterbro-Kongens Enghave\", \"Valby\", \"Amager \\u00d8st\", \"Vanl\\u00f8se\", \"Bispebjerg\", \"Br\\u00f8nsh\\u00f8j-Husum\"], \"y\": [4119, 2803, 2701, 2239, 2159, 1778, 1232, 1026, 953, 946]}],\n",
       "                        {\"template\": {\"data\": {\"bar\": [{\"error_x\": {\"color\": \"#2a3f5f\"}, \"error_y\": {\"color\": \"#2a3f5f\"}, \"marker\": {\"line\": {\"color\": \"#E5ECF6\", \"width\": 0.5}}, \"type\": \"bar\"}], \"barpolar\": [{\"marker\": {\"line\": {\"color\": \"#E5ECF6\", \"width\": 0.5}}, \"type\": \"barpolar\"}], \"carpet\": [{\"aaxis\": {\"endlinecolor\": \"#2a3f5f\", \"gridcolor\": \"white\", \"linecolor\": \"white\", \"minorgridcolor\": \"white\", \"startlinecolor\": \"#2a3f5f\"}, \"baxis\": {\"endlinecolor\": \"#2a3f5f\", \"gridcolor\": \"white\", \"linecolor\": \"white\", \"minorgridcolor\": \"white\", \"startlinecolor\": \"#2a3f5f\"}, \"type\": \"carpet\"}], \"choropleth\": [{\"colorbar\": {\"outlinewidth\": 0, \"ticks\": \"\"}, \"type\": \"choropleth\"}], \"contour\": [{\"colorbar\": {\"outlinewidth\": 0, \"ticks\": \"\"}, \"colorscale\": [[0.0, \"#0d0887\"], [0.1111111111111111, \"#46039f\"], [0.2222222222222222, \"#7201a8\"], [0.3333333333333333, \"#9c179e\"], [0.4444444444444444, \"#bd3786\"], [0.5555555555555556, \"#d8576b\"], [0.6666666666666666, \"#ed7953\"], [0.7777777777777778, \"#fb9f3a\"], [0.8888888888888888, \"#fdca26\"], [1.0, \"#f0f921\"]], \"type\": \"contour\"}], \"contourcarpet\": [{\"colorbar\": {\"outlinewidth\": 0, \"ticks\": \"\"}, \"type\": \"contourcarpet\"}], \"heatmap\": [{\"colorbar\": {\"outlinewidth\": 0, \"ticks\": \"\"}, \"colorscale\": [[0.0, \"#0d0887\"], [0.1111111111111111, \"#46039f\"], [0.2222222222222222, \"#7201a8\"], [0.3333333333333333, \"#9c179e\"], [0.4444444444444444, \"#bd3786\"], [0.5555555555555556, \"#d8576b\"], [0.6666666666666666, \"#ed7953\"], [0.7777777777777778, \"#fb9f3a\"], [0.8888888888888888, \"#fdca26\"], [1.0, \"#f0f921\"]], \"type\": \"heatmap\"}], \"heatmapgl\": [{\"colorbar\": {\"outlinewidth\": 0, \"ticks\": \"\"}, \"colorscale\": [[0.0, \"#0d0887\"], [0.1111111111111111, \"#46039f\"], [0.2222222222222222, \"#7201a8\"], [0.3333333333333333, \"#9c179e\"], [0.4444444444444444, \"#bd3786\"], [0.5555555555555556, \"#d8576b\"], [0.6666666666666666, \"#ed7953\"], [0.7777777777777778, \"#fb9f3a\"], [0.8888888888888888, \"#fdca26\"], [1.0, \"#f0f921\"]], \"type\": \"heatmapgl\"}], \"histogram\": [{\"marker\": {\"colorbar\": {\"outlinewidth\": 0, \"ticks\": \"\"}}, \"type\": \"histogram\"}], \"histogram2d\": [{\"colorbar\": {\"outlinewidth\": 0, \"ticks\": \"\"}, \"colorscale\": [[0.0, \"#0d0887\"], [0.1111111111111111, \"#46039f\"], [0.2222222222222222, \"#7201a8\"], [0.3333333333333333, \"#9c179e\"], [0.4444444444444444, \"#bd3786\"], [0.5555555555555556, \"#d8576b\"], [0.6666666666666666, \"#ed7953\"], [0.7777777777777778, \"#fb9f3a\"], [0.8888888888888888, \"#fdca26\"], [1.0, \"#f0f921\"]], \"type\": \"histogram2d\"}], \"histogram2dcontour\": [{\"colorbar\": {\"outlinewidth\": 0, \"ticks\": \"\"}, \"colorscale\": [[0.0, \"#0d0887\"], [0.1111111111111111, \"#46039f\"], [0.2222222222222222, \"#7201a8\"], [0.3333333333333333, \"#9c179e\"], [0.4444444444444444, \"#bd3786\"], [0.5555555555555556, \"#d8576b\"], [0.6666666666666666, \"#ed7953\"], [0.7777777777777778, \"#fb9f3a\"], [0.8888888888888888, \"#fdca26\"], [1.0, \"#f0f921\"]], \"type\": \"histogram2dcontour\"}], \"mesh3d\": [{\"colorbar\": {\"outlinewidth\": 0, \"ticks\": \"\"}, \"type\": \"mesh3d\"}], \"parcoords\": [{\"line\": {\"colorbar\": {\"outlinewidth\": 0, \"ticks\": \"\"}}, \"type\": \"parcoords\"}], \"pie\": [{\"automargin\": true, \"type\": \"pie\"}], \"scatter\": [{\"marker\": {\"colorbar\": {\"outlinewidth\": 0, \"ticks\": \"\"}}, \"type\": \"scatter\"}], \"scatter3d\": [{\"line\": {\"colorbar\": {\"outlinewidth\": 0, \"ticks\": \"\"}}, \"marker\": {\"colorbar\": {\"outlinewidth\": 0, \"ticks\": \"\"}}, \"type\": \"scatter3d\"}], \"scattercarpet\": [{\"marker\": {\"colorbar\": {\"outlinewidth\": 0, \"ticks\": \"\"}}, \"type\": \"scattercarpet\"}], \"scattergeo\": [{\"marker\": {\"colorbar\": {\"outlinewidth\": 0, \"ticks\": \"\"}}, \"type\": \"scattergeo\"}], \"scattergl\": [{\"marker\": {\"colorbar\": {\"outlinewidth\": 0, \"ticks\": \"\"}}, \"type\": \"scattergl\"}], \"scattermapbox\": [{\"marker\": {\"colorbar\": {\"outlinewidth\": 0, \"ticks\": \"\"}}, \"type\": \"scattermapbox\"}], \"scatterpolar\": [{\"marker\": {\"colorbar\": {\"outlinewidth\": 0, \"ticks\": \"\"}}, \"type\": \"scatterpolar\"}], \"scatterpolargl\": [{\"marker\": {\"colorbar\": {\"outlinewidth\": 0, \"ticks\": \"\"}}, \"type\": \"scatterpolargl\"}], \"scatterternary\": [{\"marker\": {\"colorbar\": {\"outlinewidth\": 0, \"ticks\": \"\"}}, \"type\": \"scatterternary\"}], \"surface\": [{\"colorbar\": {\"outlinewidth\": 0, \"ticks\": \"\"}, \"colorscale\": [[0.0, \"#0d0887\"], [0.1111111111111111, \"#46039f\"], [0.2222222222222222, \"#7201a8\"], [0.3333333333333333, \"#9c179e\"], [0.4444444444444444, \"#bd3786\"], [0.5555555555555556, \"#d8576b\"], [0.6666666666666666, \"#ed7953\"], [0.7777777777777778, \"#fb9f3a\"], [0.8888888888888888, \"#fdca26\"], [1.0, \"#f0f921\"]], \"type\": \"surface\"}], \"table\": [{\"cells\": {\"fill\": {\"color\": \"#EBF0F8\"}, \"line\": {\"color\": \"white\"}}, \"header\": {\"fill\": {\"color\": \"#C8D4E3\"}, \"line\": {\"color\": \"white\"}}, \"type\": \"table\"}]}, \"layout\": {\"annotationdefaults\": {\"arrowcolor\": \"#2a3f5f\", \"arrowhead\": 0, \"arrowwidth\": 1}, \"coloraxis\": {\"colorbar\": {\"outlinewidth\": 0, \"ticks\": \"\"}}, \"colorscale\": {\"diverging\": [[0, \"#8e0152\"], [0.1, \"#c51b7d\"], [0.2, \"#de77ae\"], [0.3, \"#f1b6da\"], [0.4, \"#fde0ef\"], [0.5, \"#f7f7f7\"], [0.6, \"#e6f5d0\"], [0.7, \"#b8e186\"], [0.8, \"#7fbc41\"], [0.9, \"#4d9221\"], [1, \"#276419\"]], \"sequential\": [[0.0, \"#0d0887\"], [0.1111111111111111, \"#46039f\"], [0.2222222222222222, \"#7201a8\"], [0.3333333333333333, \"#9c179e\"], [0.4444444444444444, \"#bd3786\"], [0.5555555555555556, \"#d8576b\"], [0.6666666666666666, \"#ed7953\"], [0.7777777777777778, \"#fb9f3a\"], [0.8888888888888888, \"#fdca26\"], [1.0, \"#f0f921\"]], \"sequentialminus\": [[0.0, \"#0d0887\"], [0.1111111111111111, \"#46039f\"], [0.2222222222222222, \"#7201a8\"], [0.3333333333333333, \"#9c179e\"], [0.4444444444444444, \"#bd3786\"], [0.5555555555555556, \"#d8576b\"], [0.6666666666666666, \"#ed7953\"], [0.7777777777777778, \"#fb9f3a\"], [0.8888888888888888, \"#fdca26\"], [1.0, \"#f0f921\"]]}, \"colorway\": [\"#636efa\", \"#EF553B\", \"#00cc96\", \"#ab63fa\", \"#FFA15A\", \"#19d3f3\", \"#FF6692\", \"#B6E880\", \"#FF97FF\", \"#FECB52\"], \"font\": {\"color\": \"#2a3f5f\"}, \"geo\": {\"bgcolor\": \"white\", \"lakecolor\": \"white\", \"landcolor\": \"#E5ECF6\", \"showlakes\": true, \"showland\": true, \"subunitcolor\": \"white\"}, \"hoverlabel\": {\"align\": \"left\"}, \"hovermode\": \"closest\", \"mapbox\": {\"style\": \"light\"}, \"paper_bgcolor\": \"white\", \"plot_bgcolor\": \"#E5ECF6\", \"polar\": {\"angularaxis\": {\"gridcolor\": \"white\", \"linecolor\": \"white\", \"ticks\": \"\"}, \"bgcolor\": \"#E5ECF6\", \"radialaxis\": {\"gridcolor\": \"white\", \"linecolor\": \"white\", \"ticks\": \"\"}}, \"scene\": {\"xaxis\": {\"backgroundcolor\": \"#E5ECF6\", \"gridcolor\": \"white\", \"gridwidth\": 2, \"linecolor\": \"white\", \"showbackground\": true, \"ticks\": \"\", \"zerolinecolor\": \"white\"}, \"yaxis\": {\"backgroundcolor\": \"#E5ECF6\", \"gridcolor\": \"white\", \"gridwidth\": 2, \"linecolor\": \"white\", \"showbackground\": true, \"ticks\": \"\", \"zerolinecolor\": \"white\"}, \"zaxis\": {\"backgroundcolor\": \"#E5ECF6\", \"gridcolor\": \"white\", \"gridwidth\": 2, \"linecolor\": \"white\", \"showbackground\": true, \"ticks\": \"\", \"zerolinecolor\": \"white\"}}, \"shapedefaults\": {\"line\": {\"color\": \"#2a3f5f\"}}, \"ternary\": {\"aaxis\": {\"gridcolor\": \"white\", \"linecolor\": \"white\", \"ticks\": \"\"}, \"baxis\": {\"gridcolor\": \"white\", \"linecolor\": \"white\", \"ticks\": \"\"}, \"bgcolor\": \"#E5ECF6\", \"caxis\": {\"gridcolor\": \"white\", \"linecolor\": \"white\", \"ticks\": \"\"}}, \"title\": {\"x\": 0.05}, \"xaxis\": {\"automargin\": true, \"gridcolor\": \"white\", \"linecolor\": \"white\", \"ticks\": \"\", \"title\": {\"standoff\": 15}, \"zerolinecolor\": \"white\", \"zerolinewidth\": 2}, \"yaxis\": {\"automargin\": true, \"gridcolor\": \"white\", \"linecolor\": \"white\", \"ticks\": \"\", \"title\": {\"standoff\": 15}, \"zerolinecolor\": \"white\", \"zerolinewidth\": 2}}}, \"title\": {\"text\": \"Tree counts for each district\"}, \"yaxis\": {\"title\": {\"text\": \"Tree counts\"}}},\n",
       "                        {\"responsive\": true}\n",
       "                    ).then(function(){\n",
       "                            \n",
       "var gd = document.getElementById('fb930890-716f-49f7-b51d-4a07d0c49884');\n",
       "var x = new MutationObserver(function (mutations, observer) {{\n",
       "        var display = window.getComputedStyle(gd).display;\n",
       "        if (!display || display === 'none') {{\n",
       "            console.log([gd, 'removed!']);\n",
       "            Plotly.purge(gd);\n",
       "            observer.disconnect();\n",
       "        }}\n",
       "}});\n",
       "\n",
       "// Listen for the removal of the full notebook cells\n",
       "var notebookContainer = gd.closest('#notebook-container');\n",
       "if (notebookContainer) {{\n",
       "    x.observe(notebookContainer, {childList: true});\n",
       "}}\n",
       "\n",
       "// Listen for the clearing of the current output cell\n",
       "var outputEl = gd.closest('.output');\n",
       "if (outputEl) {{\n",
       "    x.observe(outputEl, {childList: true});\n",
       "}}\n",
       "\n",
       "                        })\n",
       "                };\n",
       "                });\n",
       "            </script>\n",
       "        </div>"
      ]
     },
     "metadata": {},
     "output_type": "display_data"
    }
   ],
   "source": [
    "fig = go.Figure([go.Bar(x=byer.index, y=byer.values,\n",
    "                 text=byer.values,textposition=\"auto\")])\n",
    "fig.update_layout(title = \"Tree counts for each district\",\n",
    "                 yaxis_title = \"Tree counts\")\n",
    "fig.show()"
   ]
  },
  {
   "cell_type": "code",
   "execution_count": 133,
   "metadata": {},
   "outputs": [
    {
     "data": {
      "image/png": "[encoded data removed]",
      "text/plain": [
       "<Figure size 1080x1800 with 10 Axes>"
      ]
     },
     "metadata": {
      "needs_background": "light"
     },
     "output_type": "display_data"
    }
   ],
   "source": [
    "# Define district names\n",
    "districts = byer.index\n",
    "# Figure size\n",
    "plt.rcParams['figure.figsize'] = (15, 25)\n",
    "# Initialize the figure\n",
    "fig, axs = plt.subplots(5,2)\n",
    "p=0\n",
    "\n",
    "for i in range(0,5):\n",
    "    for j in range(0,2):\n",
    "        # slice dataframe to only the districs\n",
    "        temp = df2[df2['bydelsnavn'] == districts[p]]\n",
    "        treeTemp = temp.groupby(['slaegtsnavn']).count().id\n",
    "        treeTemp = treeTemp.sort_values(ascending=False) \n",
    "        # Plot\n",
    "        axs[i,j].bar(treeTemp.index[:10],treeTemp.values[:10])\n",
    "        axs[i,j].set_title(districts[p])\n",
    "        axs[i,j].set_ylabel(\"Tree counts\")\n",
    "        axs[i,j].set_xticklabels(treeTemp.index[:10],rotation=45)\n",
    "        p += 1\n",
    "\n",
    "plt.suptitle(\"Top 10 most commen trees in each district\", size = 20)\n",
    "# Tight fit\n",
    "plt.tight_layout(rect = [0,0.03,1,0.95])\n",
    "plt.show()"
   ]
  },
  {
   "cell_type": "code",
   "execution_count": null,
   "metadata": {},
   "outputs": [],
   "source": []
  }
 ],
 "metadata": {
  "kernelspec": {
   "display_name": "Python 3",
   "language": "python",
   "name": "python3"
  },
  "language_info": {
   "codemirror_mode": {
    "name": "ipython",
    "version": 3
   },
   "file_extension": ".py",
   "mimetype": "text/x-python",
   "name": "python",
   "nbconvert_exporter": "python",
   "pygments_lexer": "ipython3",
   "version": "3.7.3"
  }
 },
 "nbformat": 4,
 "nbformat_minor": 2
}
