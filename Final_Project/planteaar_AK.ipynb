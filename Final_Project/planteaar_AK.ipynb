{
 "cells": [
  {
   "cell_type": "markdown",
   "metadata": {},
   "source": [
    "# Planteaar"
   ]
  },
  {
   "cell_type": "code",
   "execution_count": 1,
   "metadata": {},
   "outputs": [],
   "source": [
    "import numpy as np\n",
    "import pandas as pd"
   ]
  },
  {
   "cell_type": "code",
   "execution_count": 2,
   "metadata": {},
   "outputs": [
    {
     "data": {
      "text/html": [
       "<div>\n",
       "<style scoped>\n",
       "    .dataframe tbody tr th:only-of-type {\n",
       "        vertical-align: middle;\n",
       "    }\n",
       "\n",
       "    .dataframe tbody tr th {\n",
       "        vertical-align: top;\n",
       "    }\n",
       "\n",
       "    .dataframe thead th {\n",
       "        text-align: right;\n",
       "    }\n",
       "</style>\n",
       "<table border=\"1\" class=\"dataframe\">\n",
       "  <thead>\n",
       "    <tr style=\"text-align: right;\">\n",
       "      <th></th>\n",
       "      <th>Unnamed: 0</th>\n",
       "      <th>dansk_navn</th>\n",
       "      <th>id</th>\n",
       "      <th>slaegtsnavn</th>\n",
       "      <th>slaegtsnavn_eng</th>\n",
       "      <th>bydelsnavn</th>\n",
       "      <th>wkb_geometry</th>\n",
       "      <th>planteaar</th>\n",
       "    </tr>\n",
       "  </thead>\n",
       "  <tbody>\n",
       "    <tr>\n",
       "      <th>0</th>\n",
       "      <td>0</td>\n",
       "      <td>Storbladet lind</td>\n",
       "      <td>18611</td>\n",
       "      <td>Lind</td>\n",
       "      <td>Linden</td>\n",
       "      <td>Vesterbro</td>\n",
       "      <td>POINT (12.5370471883976 55.6486340745573)</td>\n",
       "      <td>1953.0</td>\n",
       "    </tr>\n",
       "    <tr>\n",
       "      <th>1</th>\n",
       "      <td>1</td>\n",
       "      <td>Storbladet lind</td>\n",
       "      <td>21291</td>\n",
       "      <td>Lind</td>\n",
       "      <td>Linden</td>\n",
       "      <td>Vesterbro</td>\n",
       "      <td>POINT (12.536925020477707 55.64867988581558)</td>\n",
       "      <td>1953.0</td>\n",
       "    </tr>\n",
       "    <tr>\n",
       "      <th>2</th>\n",
       "      <td>2</td>\n",
       "      <td>Storbladet lind</td>\n",
       "      <td>21292</td>\n",
       "      <td>Lind</td>\n",
       "      <td>Linden</td>\n",
       "      <td>Vesterbro</td>\n",
       "      <td>POINT (12.537000905330974 55.64876361021244)</td>\n",
       "      <td>1953.0</td>\n",
       "    </tr>\n",
       "    <tr>\n",
       "      <th>3</th>\n",
       "      <td>3</td>\n",
       "      <td>Storbladet lind</td>\n",
       "      <td>21293</td>\n",
       "      <td>Lind</td>\n",
       "      <td>Linden</td>\n",
       "      <td>Vesterbro</td>\n",
       "      <td>POINT (12.537133269649273 55.64872321507861)</td>\n",
       "      <td>1953.0</td>\n",
       "    </tr>\n",
       "    <tr>\n",
       "      <th>4</th>\n",
       "      <td>4</td>\n",
       "      <td>Storbladet lind</td>\n",
       "      <td>21294</td>\n",
       "      <td>Lind</td>\n",
       "      <td>Linden</td>\n",
       "      <td>Vesterbro</td>\n",
       "      <td>POINT (12.537399549194998 55.648992732825036)</td>\n",
       "      <td>1953.0</td>\n",
       "    </tr>\n",
       "  </tbody>\n",
       "</table>\n",
       "</div>"
      ],
      "text/plain": [
       "   Unnamed: 0       dansk_navn     id slaegtsnavn slaegtsnavn_eng bydelsnavn  \\\n",
       "0           0  Storbladet lind  18611        Lind          Linden  Vesterbro   \n",
       "1           1  Storbladet lind  21291        Lind          Linden  Vesterbro   \n",
       "2           2  Storbladet lind  21292        Lind          Linden  Vesterbro   \n",
       "3           3  Storbladet lind  21293        Lind          Linden  Vesterbro   \n",
       "4           4  Storbladet lind  21294        Lind          Linden  Vesterbro   \n",
       "\n",
       "                                    wkb_geometry planteaar  \n",
       "0      POINT (12.5370471883976 55.6486340745573)    1953.0  \n",
       "1   POINT (12.536925020477707 55.64867988581558)    1953.0  \n",
       "2   POINT (12.537000905330974 55.64876361021244)    1953.0  \n",
       "3   POINT (12.537133269649273 55.64872321507861)    1953.0  \n",
       "4  POINT (12.537399549194998 55.648992732825036)    1953.0  "
      ]
     },
     "execution_count": 2,
     "metadata": {},
     "output_type": "execute_result"
    }
   ],
   "source": [
    "df = pd.read_csv(\"DataTransformed.csv\")\n",
    "df.head()"
   ]
  },
  {
   "cell_type": "code",
   "execution_count": 5,
   "metadata": {},
   "outputs": [
    {
     "data": {
      "text/plain": [
       "(array(['1773.0', '1850.0', '1860.0', '1880.0', '1886.0', '1890.0',\n",
       "        '1891.0', '1892.0', '1895.0', '1899.0', '1900.0', '1901.0',\n",
       "        '1902.0', '1905.0', '1906.0', '1907.0', '1908.0', '1909.0',\n",
       "        '1910.0', '1912.0', '1913.0', '1914.0', '1916.0', '1918.0',\n",
       "        '1919.0', '1920.0', '1922.0', '1923.0', '1924.0', '1925.0',\n",
       "        '1926.0', '1927.0', '1928.0', '1930.0', '1931.0', '1932.0',\n",
       "        '1933.0', '1934.0', '1935.0', '1936.0', '1937.0', '1938.0',\n",
       "        '1939.0', '1940.0', '1941.0', '1942.0', '1943.0', '1944.0',\n",
       "        '1945.0', '1946.0', '1947.0', '1948.0', '1950.0', '1951.0',\n",
       "        '1952.0', '1953.0', '1954.0', '1955.0', '1957.0', '1959.0',\n",
       "        '1960.0', '1961.0', '1964.0', '1965.0', '1967.0', '1968.0',\n",
       "        '1969.0', '1970.0', '1971.0', '1972.0', '1973.0', '1974.0',\n",
       "        '1975.0', '1976.0', '1977.0', '1978.0', '1979.0', '1980.0',\n",
       "        '1981.0', '1982.0', '1983.0', '1984.0', '1985.0', '1986.0',\n",
       "        '1987.0', '1988.0', '1989.0', '1990.0', '1991.0', '1992.0',\n",
       "        '1993.0', '1994.0', '1995.0', '1996.0', '1997.0', '1998.0',\n",
       "        '1999.0', '2000.0', '2001.0', '2002.0', '2003.0', '2004.0',\n",
       "        '2005.0', '2006.0', '2007.0', '2008.0', '2009.0', '2010.0',\n",
       "        '2011.0', '2012.0', '2013.0', '2014.0', '2015.0', '2016.0',\n",
       "        '2017.0', '2018.0', '2019.0', '2020.0', 'Not registered'],\n",
       "       dtype=object),\n",
       " array([    7,     8,     1,    14,     7,     2,    45,     9,    48,\n",
       "           42,   874,    15,   219,    90,    64,    10,    11,    10,\n",
       "           81,    59,     7,     5,     7,     8,     4,   156,     3,\n",
       "           26,    24,     5,    61,    45,     8,   331,    51,    15,\n",
       "           62,    90,     8,   145,    28,    11,     1,   185,    30,\n",
       "           72,   108,    13,   197,     6,    49,    51,   262,    14,\n",
       "            6,    43,    40,   227,    14,    24,   453,     5,     5,\n",
       "          127,     7,    21,    70,   459,    88,   160,    52,   307,\n",
       "          696,   605,   249,    95,    95,   923,    51,   105,    61,\n",
       "          132,   565,    70,    98,   172,    84,  1117,    50,   295,\n",
       "          106,    46,  1356,    25,   267,   210,   362,   698,   999,\n",
       "          312,   582,   191,   864,   313,   496,   526,   778,   656,\n",
       "         1519,  3087,   753,  1024,   551,  1596,   384,   916,  1193,\n",
       "          189, 25742], dtype=int64))"
      ]
     },
     "execution_count": 5,
     "metadata": {},
     "output_type": "execute_result"
    }
   ],
   "source": [
    "np.unique(df['planteaar'],return_counts=True)"
   ]
  },
  {
   "cell_type": "code",
   "execution_count": null,
   "metadata": {},
   "outputs": [],
   "source": []
  }
 ],
 "metadata": {
  "kernelspec": {
   "display_name": "Python 3",
   "language": "python",
   "name": "python3"
  },
  "language_info": {
   "codemirror_mode": {
    "name": "ipython",
    "version": 3
   },
   "file_extension": ".py",
   "mimetype": "text/x-python",
   "name": "python",
   "nbconvert_exporter": "python",
   "pygments_lexer": "ipython3",
   "version": "3.7.3"
  }
 },
 "nbformat": 4,
 "nbformat_minor": 2
}
