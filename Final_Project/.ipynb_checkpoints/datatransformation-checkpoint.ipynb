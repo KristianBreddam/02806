{
 "cells": [
  {
   "cell_type": "code",
   "execution_count": 1,
   "metadata": {},
   "outputs": [],
   "source": [
    "import pandas as pd\n",
    "import numpy as np"
   ]
  },
  {
   "cell_type": "code",
   "execution_count": null,
   "metadata": {},
   "outputs": [],
   "source": []
  },
  {
   "cell_type": "code",
   "execution_count": 5,
   "metadata": {},
   "outputs": [],
   "source": [
    "from googletrans import Translator\n",
    "translator = Translator()"
   ]
  },
  {
   "cell_type": "code",
   "execution_count": 23,
   "metadata": {},
   "outputs": [],
   "source": []
  },
  {
   "cell_type": "code",
   "execution_count": 88,
   "metadata": {},
   "outputs": [
    {
     "data": {
      "text/plain": [
       "array(['Albizia (Ærteblomst-fam,)', 'Ambratræ', 'Aralie', 'Ask', 'Avnbøg',\n",
       "       'Benved', 'Birk', 'Bjergthe', 'Bærmispel', 'Bøg', 'Ceder',\n",
       "       'Douglasgran', 'Duetræ', 'Dværgcypres', 'Eg', 'El', 'Elm', 'Ene',\n",
       "       'Fyr', 'Gingko', 'Gran', 'Guldregn', 'Hassel', 'Hemlock',\n",
       "       'Hestekastanie', 'Hibiscus-slægten', 'Hjertetræ', 'Humlebøg',\n",
       "       'Hønsebenstræ', 'Ikke registreret', 'Kastanie', 'Kirsebær/Blomme',\n",
       "       'Kornel', 'Kristtorn', 'Kvæde', 'Lind', 'Lærk', 'Løn', 'Magnolia',\n",
       "       'Mispel', 'Morbær', 'Nyssa', 'Osagetorn',\n",
       "       'Parrotia, ikke navngivet på dansk', 'Paulównia', 'Pil', 'Platan',\n",
       "       'Poppel', 'Pære', 'Robinie', 'Røn',\n",
       "       'Sequoiadendron, ikke navngivet på dansk', 'Skyrækker', 'Snebolle',\n",
       "       'Sophora', 'Stennnød', 'Storaks', 'Sydbøg', 'Syren-slægten',\n",
       "       'Sølvblad ', 'Taks', 'Taxodium, ikke navngivet på dansk', 'Thuja',\n",
       "       'Tjørn', 'Tretorn', 'Trompetkrone', 'Tulipantræ', 'Valnød',\n",
       "       'Vandgran', 'Vingevalnød', 'Zelkova, ikke navngivet på dansk',\n",
       "       'Æble', 'Ædelgran', 'Ægte kastanie'], dtype=object)"
      ]
     },
     "execution_count": 88,
     "metadata": {},
     "output_type": "execute_result"
    }
   ],
   "source": [
    "df = pd.read_csv(\"trae_basis.csv\", low_memory=False)\n",
    "df = df[df.slaegtsnavn.notna()]\n"
   ]
  },
  {
   "cell_type": "code",
   "execution_count": null,
   "metadata": {},
   "outputs": [],
   "source": []
  },
  {
   "cell_type": "code",
   "execution_count": null,
   "metadata": {},
   "outputs": [],
   "source": []
  },
  {
   "cell_type": "code",
   "execution_count": 89,
   "metadata": {},
   "outputs": [],
   "source": [
    "minority= df.groupby('slaegtsnavn').count()['id'][:]<25\n",
    "minority=minority[minority==True]"
   ]
  },
  {
   "cell_type": "code",
   "execution_count": 91,
   "metadata": {},
   "outputs": [
    {
     "data": {
      "text/plain": [
       "0                Linden\n",
       "1                Linden\n",
       "2                Linden\n",
       "3                Linden\n",
       "4                Linden\n",
       "5                Linden\n",
       "6                Linden\n",
       "7                Linden\n",
       "8                Linden\n",
       "9                Linden\n",
       "10               Linden\n",
       "11               Linden\n",
       "12               Linden\n",
       "13               Linden\n",
       "14               Linden\n",
       "15               Linden\n",
       "16               Linden\n",
       "17               Linden\n",
       "18               Linden\n",
       "19               Linden\n",
       "20               Linden\n",
       "21               Linden\n",
       "22               Linden\n",
       "23               Linden\n",
       "24               Linden\n",
       "25               Linden\n",
       "26               Linden\n",
       "27               Linden\n",
       "28               Linden\n",
       "29       Not registered\n",
       "              ...      \n",
       "59550    Not registered\n",
       "59551    Not registered\n",
       "59552    Not registered\n",
       "59553    Not registered\n",
       "59554    Not registered\n",
       "59555    Not registered\n",
       "59556    Not registered\n",
       "59557    Not registered\n",
       "59558    Not registered\n",
       "59559    Not registered\n",
       "59560    Not registered\n",
       "59561    Not registered\n",
       "59562    Not registered\n",
       "59563    Not registered\n",
       "59564    Not registered\n",
       "59565    Not registered\n",
       "59566    Not registered\n",
       "59567    Not registered\n",
       "59568             Maple\n",
       "59569    Not registered\n",
       "59570    Tree of heaven\n",
       "59571    Not registered\n",
       "59572    Not registered\n",
       "59573    Not registered\n",
       "59574    Not registered\n",
       "59575             Apple\n",
       "59576             Maple\n",
       "59577              Pine\n",
       "59578              Pine\n",
       "59579              Pine\n",
       "Name: slaegtsnavn_eng, Length: 59557, dtype: object"
      ]
     },
     "execution_count": 91,
     "metadata": {},
     "output_type": "execute_result"
    }
   ],
   "source": [
    "df = pd.read_csv(\"trae_basis.csv\", low_memory=False)\n",
    "df = df[df.slaegtsnavn.notna()]\n",
    "df['slaegtsnavn_eng']=df['slaegtsnavn']\n",
    "df['slaegtsnavn_eng']=df['slaegtsnavn_eng'].str.replace('Ikke registreret', 'Not registered', regex=False)\n",
    "df['slaegtsnavn_eng']=df['slaegtsnavn_eng'].str.replace('Lind', 'Linden', regex=False)\n",
    "df['slaegtsnavn_eng']=df['slaegtsnavn_eng'].str.replace('Platan', 'Plane', regex=False)\n",
    "df['slaegtsnavn_eng']=df['slaegtsnavn_eng'].str.replace('Kirsebær/Blomme', 'Cherry/Plum', regex=False)\n",
    "df['slaegtsnavn_eng']=df['slaegtsnavn_eng'].str.replace('Røn', 'Rowan', regex=False)\n",
    "df['slaegtsnavn_eng']=df['slaegtsnavn_eng'].str.replace('Løn', 'Maple', regex=False)\n",
    "df['slaegtsnavn_eng']=df['slaegtsnavn_eng'].str.replace('Ask', 'Ash', regex=False)\n",
    "df['slaegtsnavn_eng']=df['slaegtsnavn_eng'].str.replace('Eg', 'Oak', regex=False)\n",
    "df['slaegtsnavn_eng']=df['slaegtsnavn_eng'].str.replace('Løn', 'Maple', regex=False)\n",
    "df['slaegtsnavn_eng']=df['slaegtsnavn_eng'].str.replace('Robinie', 'Black locust', regex=False)\n",
    "df['slaegtsnavn_eng']=df['slaegtsnavn_eng'].str.replace('Hestekastanie', 'Horse chestnut', regex=False)\n",
    "df['slaegtsnavn_eng']=df['slaegtsnavn_eng'].str.replace('Birk', 'Birch', regex=False)\n",
    "df['slaegtsnavn_eng']=df['slaegtsnavn_eng'].str.replace('Poppel', 'Poplar', regex=False)\n",
    "df['slaegtsnavn_eng']=df['slaegtsnavn_eng'].str.replace('Æble', 'Apple', regex=False)\n",
    "df['slaegtsnavn_eng']=df['slaegtsnavn_eng'].str.replace('Tjørn', 'Hawthorn', regex=False)\n",
    "df['slaegtsnavn_eng']=df['slaegtsnavn_eng'].str.replace('Avnbøg', 'Hornbeam', regex=False)\n",
    "df['slaegtsnavn_eng']=df['slaegtsnavn_eng'].str.replace('Fyr', 'Pine', regex=False)\n",
    "df['slaegtsnavn_eng']=df['slaegtsnavn_eng'].str.replace('Pil', 'Willow', regex=False)\n",
    "df['slaegtsnavn_eng']=df['slaegtsnavn_eng'].str.replace('El', 'Alder', regex=False)\n",
    "df['slaegtsnavn_eng']=df['slaegtsnavn_eng'].str.replace('Hassel', 'Hazel', regex=False)\n",
    "df['slaegtsnavn_eng']=df['slaegtsnavn_eng'].str.replace('Tretorn', 'Honey locust', regex=False)\n",
    "df['slaegtsnavn_eng']=df['slaegtsnavn_eng'].str.replace('Gran', 'Spruce', regex=False)\n",
    "df['slaegtsnavn_eng']=df['slaegtsnavn_eng'].str.replace('Pære', 'Pear', regex=False)\n",
    "df['slaegtsnavn_eng']=df['slaegtsnavn_eng'].str.replace('Vandgran', 'dawn redwood', regex=False)\n",
    "df['slaegtsnavn_eng']=df['slaegtsnavn_eng'].str.replace('Taks', 'Yew', regex=False)\n",
    "df['slaegtsnavn_eng']=df['slaegtsnavn_eng'].str.replace('Skyrækker', 'Tree of heaven', regex=False)\n",
    "df['slaegtsnavn_eng']=df['slaegtsnavn_eng'].str.replace('Bøg', 'Beech', regex=False)\n",
    "df['slaegtsnavn_eng']=df['slaegtsnavn_eng'].str.replace('Tulipantræ', 'Tulip tree', regex=False)\n",
    "df['slaegtsnavn_eng']=df['slaegtsnavn_eng'].str.replace('Ambratræ', 'Sweetgum', regex=False)\n",
    "df['slaegtsnavn_eng']=df['slaegtsnavn_eng'].str.replace('Dværgcypres', 'False cypress', regex=False)\n",
    "df['slaegtsnavn_eng']=df['slaegtsnavn_eng'].str.replace('Bærmispel', 'Juneberry', regex=False)\n",
    "df['slaegtsnavn_eng']=df['slaegtsnavn_eng'].str.replace('Lærk', 'Larch', regex=False)\n",
    "df['slaegtsnavn_eng']=df['slaegtsnavn_eng'].str.replace('Kastanie', 'Chestnut', regex=False)\n",
    "df['slaegtsnavn_eng']=df['slaegtsnavn_eng'].str.replace('Guldregn', 'Golden rain', regex=False)\n",
    "df['slaegtsnavn_eng']=df['slaegtsnavn_eng'].str.replace('Kornel', 'Cornus', regex=False)\n",
    "df['slaegtsnavn_eng']=df['slaegtsnavn_eng'].str.replace('Ceder', 'Cedar', regex=False)\n",
    "df['slaegtsnavn_eng']=df['slaegtsnavn_eng'].str.replace('Valnød', 'Walnut', regex=False)\n",
    "\n",
    "df['slaegtsnavn_eng']"
   ]
  },
  {
   "cell_type": "code",
   "execution_count": null,
   "metadata": {},
   "outputs": [],
   "source": []
  }
 ],
 "metadata": {
  "kernelspec": {
   "display_name": "Python 3",
   "language": "python",
   "name": "python3"
  },
  "language_info": {
   "codemirror_mode": {
    "name": "ipython",
    "version": 3
   },
   "file_extension": ".py",
   "mimetype": "text/x-python",
   "name": "python",
   "nbconvert_exporter": "python",
   "pygments_lexer": "ipython3",
   "version": "3.7.3"
  }
 },
 "nbformat": 4,
 "nbformat_minor": 2
}
