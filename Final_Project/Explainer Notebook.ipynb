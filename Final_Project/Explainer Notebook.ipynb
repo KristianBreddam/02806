{
 "cells": [
  {
   "cell_type": "markdown",
   "metadata": {},
   "source": [
    "# Final Project - Explainer Notebook"
   ]
  },
  {
   "cell_type": "markdown",
   "metadata": {},
   "source": [
    "**FROM PROJECT DESCRIPTION:** The explainer notebook should contain all the behind the scenes data-analysis stuff, details on the dataset, why you've selected these particular visualizations, explanations methodology, etc.\n",
    "\n",
    "        **--Make sure that you use references when they're needed and follow academic standards--**"
   ]
  },
  {
   "cell_type": "markdown",
   "metadata": {},
   "source": [
    "## Motivation\n",
    "\n",
    "**FROM PROJECT DESCRIPTION:** What is your dataset? Why did you choose this/these particular dataset(s)? What was your goal for the end user's experience?"
   ]
  },
  {
   "cell_type": "markdown",
   "metadata": {},
   "source": [
    "Data link:\n",
    "- https://www.opendata.dk/city-of-copenhagen/trae_basis (We are only using the big dataset)\n",
    "\n",
    "Inspiration from:\n",
    "- https://www.cloudred.com/labprojects/nyctrees/"
   ]
  },
  {
   "cell_type": "code",
   "execution_count": null,
   "metadata": {},
   "outputs": [],
   "source": []
  },
  {
   "cell_type": "markdown",
   "metadata": {},
   "source": [
    "## Basic Stats"
   ]
  },
  {
   "cell_type": "markdown",
   "metadata": {},
   "source": [
    "**FROM PROJECT DESCRIPTION:** Write about your choices in data cleaning and preprocessing. Write a short section that discusses the dataset stats, containing key points/plots from your exploratory data analysis."
   ]
  },
  {
   "cell_type": "code",
   "execution_count": 1,
   "metadata": {},
   "outputs": [],
   "source": [
    "# Standard imports\n",
    "import pandas as pd\n",
    "import numpy as np\n",
    "import matplotlib.pyplot as plt\n",
    "plt.style.use('ggplot')\n",
    "%matplotlib inline"
   ]
  },
  {
   "cell_type": "code",
   "execution_count": 5,
   "metadata": {},
   "outputs": [
    {
     "data": {
      "text/html": [
       "<div>\n",
       "<style scoped>\n",
       "    .dataframe tbody tr th:only-of-type {\n",
       "        vertical-align: middle;\n",
       "    }\n",
       "\n",
       "    .dataframe tbody tr th {\n",
       "        vertical-align: top;\n",
       "    }\n",
       "\n",
       "    .dataframe thead th {\n",
       "        text-align: right;\n",
       "    }\n",
       "</style>\n",
       "<table border=\"1\" class=\"dataframe\">\n",
       "  <thead>\n",
       "    <tr style=\"text-align: right;\">\n",
       "      <th></th>\n",
       "      <th>FID</th>\n",
       "      <th>kategori</th>\n",
       "      <th>saerligt_trae</th>\n",
       "      <th>id</th>\n",
       "      <th>type</th>\n",
       "      <th>element</th>\n",
       "      <th>under_element</th>\n",
       "      <th>ny_dm_element</th>\n",
       "      <th>ny_dm_under_element</th>\n",
       "      <th>arbsted_tekst_id</th>\n",
       "      <th>...</th>\n",
       "      <th>r_img15</th>\n",
       "      <th>torso_hoejde</th>\n",
       "      <th>torso_omkreds</th>\n",
       "      <th>torso_stamme</th>\n",
       "      <th>torso_sidst_stynet</th>\n",
       "      <th>torso_frekvens_styning</th>\n",
       "      <th>torso_naeste_styning</th>\n",
       "      <th>torso_skaeres_ned_til</th>\n",
       "      <th>torso_bemaerkning</th>\n",
       "      <th>wkb_geometry</th>\n",
       "    </tr>\n",
       "  </thead>\n",
       "  <tbody>\n",
       "    <tr>\n",
       "      <td>0</td>\n",
       "      <td>trae_basis.1</td>\n",
       "      <td>gadetræ</td>\n",
       "      <td>nej</td>\n",
       "      <td>18611</td>\n",
       "      <td>2 Træer</td>\n",
       "      <td>2.3 Parktræer</td>\n",
       "      <td>NaN</td>\n",
       "      <td>Gadetræer</td>\n",
       "      <td>Gadetræ</td>\n",
       "      <td>Gadet_Gadet_3421</td>\n",
       "      <td>...</td>\n",
       "      <td>NaN</td>\n",
       "      <td>NaN</td>\n",
       "      <td>NaN</td>\n",
       "      <td>NaN</td>\n",
       "      <td>NaN</td>\n",
       "      <td>NaN</td>\n",
       "      <td>NaN</td>\n",
       "      <td>NaN</td>\n",
       "      <td>NaN</td>\n",
       "      <td>POINT (12.5370471883976 55.6486340745573)</td>\n",
       "    </tr>\n",
       "    <tr>\n",
       "      <td>1</td>\n",
       "      <td>trae_basis.2</td>\n",
       "      <td>gadetræ</td>\n",
       "      <td>nej</td>\n",
       "      <td>21291</td>\n",
       "      <td>2 Træer</td>\n",
       "      <td>2.3 Parktræer</td>\n",
       "      <td>NaN</td>\n",
       "      <td>Gadetræer</td>\n",
       "      <td>Gadetræ</td>\n",
       "      <td>Gadet_Gadet_3421</td>\n",
       "      <td>...</td>\n",
       "      <td>NaN</td>\n",
       "      <td>NaN</td>\n",
       "      <td>NaN</td>\n",
       "      <td>NaN</td>\n",
       "      <td>NaN</td>\n",
       "      <td>NaN</td>\n",
       "      <td>NaN</td>\n",
       "      <td>NaN</td>\n",
       "      <td>NaN</td>\n",
       "      <td>POINT (12.536925020477707 55.64867988581558)</td>\n",
       "    </tr>\n",
       "    <tr>\n",
       "      <td>2</td>\n",
       "      <td>trae_basis.3</td>\n",
       "      <td>gadetræ</td>\n",
       "      <td>nej</td>\n",
       "      <td>21292</td>\n",
       "      <td>2 Træer</td>\n",
       "      <td>2.3 Parktræer</td>\n",
       "      <td>NaN</td>\n",
       "      <td>Gadetræer</td>\n",
       "      <td>Gadetræ</td>\n",
       "      <td>Gadet_Gadet_3421</td>\n",
       "      <td>...</td>\n",
       "      <td>NaN</td>\n",
       "      <td>NaN</td>\n",
       "      <td>NaN</td>\n",
       "      <td>NaN</td>\n",
       "      <td>NaN</td>\n",
       "      <td>NaN</td>\n",
       "      <td>NaN</td>\n",
       "      <td>NaN</td>\n",
       "      <td>NaN</td>\n",
       "      <td>POINT (12.537000905330974 55.64876361021244)</td>\n",
       "    </tr>\n",
       "  </tbody>\n",
       "</table>\n",
       "<p>3 rows × 183 columns</p>\n",
       "</div>"
      ],
      "text/plain": [
       "            FID kategori saerligt_trae     id     type        element  \\\n",
       "0  trae_basis.1  gadetræ           nej  18611  2 Træer  2.3 Parktræer   \n",
       "1  trae_basis.2  gadetræ           nej  21291  2 Træer  2.3 Parktræer   \n",
       "2  trae_basis.3  gadetræ           nej  21292  2 Træer  2.3 Parktræer   \n",
       "\n",
       "  under_element ny_dm_element ny_dm_under_element  arbsted_tekst_id  ...  \\\n",
       "0           NaN     Gadetræer             Gadetræ  Gadet_Gadet_3421  ...   \n",
       "1           NaN     Gadetræer             Gadetræ  Gadet_Gadet_3421  ...   \n",
       "2           NaN     Gadetræer             Gadetræ  Gadet_Gadet_3421  ...   \n",
       "\n",
       "  r_img15 torso_hoejde torso_omkreds torso_stamme torso_sidst_stynet  \\\n",
       "0     NaN          NaN           NaN          NaN                NaN   \n",
       "1     NaN          NaN           NaN          NaN                NaN   \n",
       "2     NaN          NaN           NaN          NaN                NaN   \n",
       "\n",
       "   torso_frekvens_styning torso_naeste_styning torso_skaeres_ned_til  \\\n",
       "0                     NaN                  NaN                   NaN   \n",
       "1                     NaN                  NaN                   NaN   \n",
       "2                     NaN                  NaN                   NaN   \n",
       "\n",
       "  torso_bemaerkning                                  wkb_geometry  \n",
       "0               NaN     POINT (12.5370471883976 55.6486340745573)  \n",
       "1               NaN  POINT (12.536925020477707 55.64867988581558)  \n",
       "2               NaN  POINT (12.537000905330974 55.64876361021244)  \n",
       "\n",
       "[3 rows x 183 columns]"
      ]
     },
     "execution_count": 5,
     "metadata": {},
     "output_type": "execute_result"
    }
   ],
   "source": [
    "# Set path\n",
    "import os\n",
    "path=\"/Users/jesperdybkjaer/Documents/DTU/Kandidat/4.semester/3_SocialDataanalysisAndVisualization/Final_project\"\n",
    "os.chdir(path);\n",
    "\n",
    "# Import data\n",
    "df = pd.read_csv(\"trae_basis.csv\")\n",
    "df.head(3)"
   ]
  },
  {
   "cell_type": "code",
   "execution_count": null,
   "metadata": {},
   "outputs": [],
   "source": []
  },
  {
   "cell_type": "markdown",
   "metadata": {},
   "source": [
    "## Data analysis\n",
    "**FROM PROJECT DESCRIPTION:** Describe your data analysis and explain what you've learned about the dataset.\n",
    "If relevant, talk about your machine-learning."
   ]
  },
  {
   "cell_type": "code",
   "execution_count": null,
   "metadata": {},
   "outputs": [],
   "source": []
  },
  {
   "cell_type": "markdown",
   "metadata": {},
   "source": [
    "## Genre\n",
    "**FROM PROJECT DESCRIPTION:** Which genre of data story did you use? Which tools did you use from each of the 3 categories of Visual Narrative (Figure 7 in Segal and Heer). Why?\n",
    "Which tools did you use from each of the 3 categories of Narrative Structure (Figure 7 in Segal and Heer). Why?"
   ]
  },
  {
   "cell_type": "code",
   "execution_count": null,
   "metadata": {},
   "outputs": [],
   "source": []
  },
  {
   "cell_type": "markdown",
   "metadata": {},
   "source": [
    "## Visualization\n",
    "**FROM PROJECT DESCRIPTION:** Explain the visualizations you've chosen. Why are they right for the story you want to tell?"
   ]
  },
  {
   "cell_type": "code",
   "execution_count": null,
   "metadata": {},
   "outputs": [],
   "source": []
  },
  {
   "cell_type": "markdown",
   "metadata": {},
   "source": [
    "## Discussion \n",
    "**FROM PROJECT DESCRIPTION:** Think critically about your creation. What went well? What is still missing? What could be improved?, Why?"
   ]
  },
  {
   "cell_type": "code",
   "execution_count": null,
   "metadata": {},
   "outputs": [],
   "source": []
  },
  {
   "cell_type": "markdown",
   "metadata": {},
   "source": [
    "## Contribution\n",
    "**FROM PROJECT DESCRIPTION:** You should write (just briefly) which group member was the main responsible for which elements of the assignment. (I want you guys to understand every part of the assignment, but usually there is someone who took lead role on certain portions of the work. That's what you should explain).\n",
    "It is not OK simply to write \"All group members contributed equally\"."
   ]
  },
  {
   "cell_type": "code",
   "execution_count": null,
   "metadata": {},
   "outputs": [],
   "source": []
  }
 ],
 "metadata": {
  "kernelspec": {
   "display_name": "Python 3",
   "language": "python",
   "name": "python3"
  },
  "language_info": {
   "codemirror_mode": {
    "name": "ipython",
    "version": 3
   },
   "file_extension": ".py",
   "mimetype": "text/x-python",
   "name": "python",
   "nbconvert_exporter": "python",
   "pygments_lexer": "ipython3",
   "version": "3.7.3"
  }
 },
 "nbformat": 4,
 "nbformat_minor": 2
}
