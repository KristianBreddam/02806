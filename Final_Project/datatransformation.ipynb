{
 "cells": [
  {
   "cell_type": "code",
   "execution_count": 1,
   "metadata": {},
   "outputs": [],
   "source": [
    "import pandas as pd\n",
    "import numpy as np"
   ]
  },
  {
   "cell_type": "code",
   "execution_count": 2,
   "metadata": {},
   "outputs": [],
   "source": [
    "from googletrans import Translator\n",
    "translator = Translator()"
   ]
  },
  {
   "cell_type": "code",
   "execution_count": 3,
   "metadata": {},
   "outputs": [],
   "source": [
    "df = pd.read_csv(\"trae_basis.csv\", low_memory=False)\n",
    "df = df[df.slaegtsnavn.notna()]\n",
    "df = df[df.bydelsnavn.notna()]\n",
    "\n",
    "df['bydelsnavn']=df['bydelsnavn'].str.replace('Vesterbro-Kongens Enghave', 'Vesterbro', regex=False)\n"
   ]
  },
  {
   "cell_type": "code",
   "execution_count": 4,
   "metadata": {},
   "outputs": [],
   "source": [
    "minority= df.groupby('slaegtsnavn').count()['id'][:]<25\n",
    "minority=minority[minority==True]"
   ]
  },
  {
   "cell_type": "code",
   "execution_count": 5,
   "metadata": {},
   "outputs": [],
   "source": [
    "df['slaegtsnavn_eng']=df['slaegtsnavn']\n",
    "df['slaegtsnavn_eng']=df['slaegtsnavn_eng'].str.replace('Ikke registreret', 'Not registered', regex=False)\n",
    "df['slaegtsnavn_eng']=df['slaegtsnavn_eng'].str.replace('Lind', 'Linden', regex=False)\n",
    "df['slaegtsnavn_eng']=df['slaegtsnavn_eng'].str.replace('Platan', 'Plane', regex=False)\n",
    "df['slaegtsnavn_eng']=df['slaegtsnavn_eng'].str.replace('Kirsebær/Blomme', 'Cherry/Plum', regex=False)\n",
    "df['slaegtsnavn_eng']=df['slaegtsnavn_eng'].str.replace('Røn', 'Rowan', regex=False)\n",
    "df['slaegtsnavn_eng']=df['slaegtsnavn_eng'].str.replace('Løn', 'Maple', regex=False)\n",
    "df['slaegtsnavn_eng']=df['slaegtsnavn_eng'].str.replace('Ask', 'Ash', regex=False)\n",
    "df['slaegtsnavn_eng']=df['slaegtsnavn_eng'].str.replace('Eg', 'Oak', regex=False)\n",
    "df['slaegtsnavn_eng']=df['slaegtsnavn_eng'].str.replace('Løn', 'Maple', regex=False)\n",
    "df['slaegtsnavn_eng']=df['slaegtsnavn_eng'].str.replace('Robinie', 'Black locust', regex=False)\n",
    "df['slaegtsnavn_eng']=df['slaegtsnavn_eng'].str.replace('Hestekastanie', 'Horse chestnut', regex=False)\n",
    "df['slaegtsnavn_eng']=df['slaegtsnavn_eng'].str.replace('Birk', 'Birch', regex=False)\n",
    "df['slaegtsnavn_eng']=df['slaegtsnavn_eng'].str.replace('Poppel', 'Poplar', regex=False)\n",
    "df['slaegtsnavn_eng']=df['slaegtsnavn_eng'].str.replace('Æble', 'Apple', regex=False)\n",
    "df['slaegtsnavn_eng']=df['slaegtsnavn_eng'].str.replace('Tjørn', 'Hawthorn', regex=False)\n",
    "df['slaegtsnavn_eng']=df['slaegtsnavn_eng'].str.replace('Avnbøg', 'Hornbeam', regex=False)\n",
    "df['slaegtsnavn_eng']=df['slaegtsnavn_eng'].str.replace('Fyr', 'Pine', regex=False)\n",
    "df['slaegtsnavn_eng']=df['slaegtsnavn_eng'].str.replace('Pil', 'Willow', regex=False)\n",
    "df['slaegtsnavn_eng']=df['slaegtsnavn_eng'].str.replace('El', 'Alder', regex=False)\n",
    "df['slaegtsnavn_eng']=df['slaegtsnavn_eng'].str.replace('Hassel', 'Hazel', regex=False)\n",
    "df['slaegtsnavn_eng']=df['slaegtsnavn_eng'].str.replace('Tretorn', 'Honey locust', regex=False)\n",
    "df['slaegtsnavn_eng']=df['slaegtsnavn_eng'].str.replace('Gran', 'Spruce', regex=False)\n",
    "df['slaegtsnavn_eng']=df['slaegtsnavn_eng'].str.replace('Pære', 'Pear', regex=False)\n",
    "df['slaegtsnavn_eng']=df['slaegtsnavn_eng'].str.replace('Vandgran', 'Dawn redwood', regex=False)\n",
    "df['slaegtsnavn_eng']=df['slaegtsnavn_eng'].str.replace('Taks', 'Yew', regex=False)\n",
    "df['slaegtsnavn_eng']=df['slaegtsnavn_eng'].str.replace('Skyrækker', 'Tree of heaven', regex=False)\n",
    "df['slaegtsnavn_eng']=df['slaegtsnavn_eng'].str.replace('Bøg', 'Beech', regex=False)\n",
    "df['slaegtsnavn_eng']=df['slaegtsnavn_eng'].str.replace('Tulipantræ', 'Tulip tree', regex=False)\n",
    "df['slaegtsnavn_eng']=df['slaegtsnavn_eng'].str.replace('Ambratræ', 'Sweetgum', regex=False)\n",
    "df['slaegtsnavn_eng']=df['slaegtsnavn_eng'].str.replace('Dværgcypres', 'False cypress', regex=False)\n",
    "df['slaegtsnavn_eng']=df['slaegtsnavn_eng'].str.replace('Bærmispel', 'Juneberry', regex=False)\n",
    "df['slaegtsnavn_eng']=df['slaegtsnavn_eng'].str.replace('Lærk', 'Larch', regex=False)\n",
    "df['slaegtsnavn_eng']=df['slaegtsnavn_eng'].str.replace('Kastanie', 'Chestnut', regex=False)\n",
    "df['slaegtsnavn_eng']=df['slaegtsnavn_eng'].str.replace('Guldregn', 'Golden rain', regex=False)\n",
    "df['slaegtsnavn_eng']=df['slaegtsnavn_eng'].str.replace('Kornel', 'Cornus', regex=False)\n",
    "df['slaegtsnavn_eng']=df['slaegtsnavn_eng'].str.replace('Ceder', 'Cedar', regex=False)\n",
    "df['slaegtsnavn_eng']=df['slaegtsnavn_eng'].str.replace('Valnød', 'Walnut', regex=False)"
   ]
  },
  {
   "cell_type": "code",
   "execution_count": 6,
   "metadata": {},
   "outputs": [],
   "source": [
    "minority= df.groupby('slaegtsnavn').count()['id'][:]<25\n",
    "minority=minority[minority==True]"
   ]
  },
  {
   "cell_type": "code",
   "execution_count": 7,
   "metadata": {},
   "outputs": [],
   "source": [
    "df['planteaar'].replace(0, 'Not registered', inplace=True)\n"
   ]
  },
  {
   "cell_type": "code",
   "execution_count": 8,
   "metadata": {},
   "outputs": [
    {
     "data": {
      "text/plain": [
       "array([1953.0, 1948.0, nan, 2001.0, 1993.0, 2019.0, 1995.0, 2012.0,\n",
       "       2013.0, 2005.0, 2018.0, 2016.0, 1900.0, 1978.0, 1992.0, 2014.0,\n",
       "       1950.0, 1970.0, 1960.0, 1986.0, 1930.0, 1990.0, 1980.0, 1971.0,\n",
       "       1985.0, 2000.0, 2004.0, 1945.0, 1955.0, 1910.0, 1880.0, 2003.0,\n",
       "       2006.0, 1975.0, 1940.0, 1969.0, 1920.0, 2009.0, 2010.0, 1982.0,\n",
       "       1954.0, 2015.0, 1999.0, 2007.0, 1983.0, 1890.0, 1997.0, 1942.0,\n",
       "       1998.0, 1984.0, 2020.0, 1939.0, 1926.0, 1991.0, 2011.0, 1974.0,\n",
       "       1951.0, 2008.0, 1946.0, 2002.0, 1965.0, 2017.0, 1902.0, 1952.0,\n",
       "       1932.0, 1988.0, 1850.0, 1944.0, 1976.0, 1923.0, 1967.0, 1924.0,\n",
       "       'Not registered', 1977.0, 1987.0, 1941.0, 1931.0, 1901.0, 1936.0,\n",
       "       1973.0, 1908.0, 1907.0, 1933.0, 1916.0, 1957.0, 1919.0, 1925.0,\n",
       "       1906.0, 1943.0, 1935.0, 1981.0, 1927.0, 1972.0, 1979.0, 1989.0,\n",
       "       1909.0, 1912.0, 1994.0, 1947.0, 1934.0, 1891.0, 1922.0, 1895.0,\n",
       "       1914.0, 1886.0, 1928.0, 1899.0, 1996.0, 1964.0, 1961.0, 1918.0,\n",
       "       1937.0, 1968.0, 1913.0, 1860.0, 1773.0, 1892.0, 1959.0, 1938.0,\n",
       "       1905.0], dtype=object)"
      ]
     },
     "execution_count": 8,
     "metadata": {},
     "output_type": "execute_result"
    }
   ],
   "source": [
    "df['planteaar'].unique()"
   ]
  },
  {
   "cell_type": "code",
   "execution_count": 9,
   "metadata": {},
   "outputs": [
    {
     "name": "stderr",
     "output_type": "stream",
     "text": [
      "C:\\Users\\Krist\\Anaconda3\\lib\\site-packages\\pandas\\core\\indexing.py:671: SettingWithCopyWarning: \n",
      "A value is trying to be set on a copy of a slice from a DataFrame\n",
      "\n",
      "See the caveats in the documentation: https://pandas.pydata.org/pandas-docs/stable/user_guide/indexing.html#returning-a-view-versus-a-copy\n",
      "  self._setitem_with_indexer(indexer, value)\n"
     ]
    }
   ],
   "source": [
    "\n",
    "for i in range(len(df['slaegtsnavn'])):\n",
    "    if(df['slaegtsnavn'].iloc[i] in minority):\n",
    "           df['slaegtsnavn_eng'].iloc[i]='Minority tree'\n"
   ]
  },
  {
   "cell_type": "code",
   "execution_count": null,
   "metadata": {},
   "outputs": [],
   "source": []
  },
  {
   "cell_type": "code",
   "execution_count": 10,
   "metadata": {},
   "outputs": [],
   "source": [
    "df=df[['dansk_navn','id','slaegtsnavn','slaegtsnavn_eng','bydelsnavn','wkb_geometry','planteaar']]"
   ]
  },
  {
   "cell_type": "code",
   "execution_count": 11,
   "metadata": {},
   "outputs": [],
   "source": [
    "df.to_csv('DataTransformed.csv')\n"
   ]
  },
  {
   "cell_type": "code",
   "execution_count": 12,
   "metadata": {
    "scrolled": true
   },
   "outputs": [],
   "source": [
    "## Befolkning pr. 31 jan 2019: https://statistikbanken.kk.dk/1050dc07-e88c-4206-ae4e-645718e26ab9/ReportSection\n",
    "district1 = ['Indre By', 'Østerbro','Nørrebro','Vesterbro','Valby','Vanløse',\n",
    "        'Brønshøj-Husum','Bispebjerg','Amager Øst','Amager Vest']\n",
    "\n",
    "population = [55866,79803,80254,72688,60308,41195,44784,55172,59803,78973]\n",
    "\n",
    "temp1 = pd.DataFrame({'district':district1,'population':population})\n",
    "## Gnm. indkomst, 2017\n",
    "## Fra 'Status på København 2019' pdf'en\n",
    "\n",
    "district2 = ['Brønshøj-Husum','Bispebjerg','Østerbro','Vanløse','Nørrebro',\n",
    "        'Indre By','Valby','Vesterbro','Amager Vest',\n",
    "        'Amager Øst']\n",
    "\n",
    "income = [213,182,247,234,187,286,217,219,229,217] ## gennemsnitlig disponibel indkomst i 1000 kr. \n",
    "\n",
    "temp2 = pd.DataFrame({'district':district2,'income':income})\n",
    "district3 = ['Indre By','Østerbro','Nørrebro','Vesterbro','Valby',\n",
    "            'Vanløse','Brønshøj-Husum','Bispebjerg','Amager Øst','Amager Vest']\n",
    "\n",
    "area = [9,8.7,4.1,8.2,9.2,6.7,8.7,6.8,9.1,19.2] # area in km^2\n",
    "\n",
    "temp3 = pd.DataFrame({'district':district3,'area':area})\n",
    "## The tree counts\n",
    "trees = df.groupby(['bydelsnavn']).count().id\n",
    "temp4 = pd.DataFrame({'district':trees.index,'trees':trees.values})\n",
    "\n",
    "temp11 = pd.merge(temp1,temp2,on='district')\n",
    "temp22 = pd.merge(temp11,temp3,on='district')\n",
    "df2 = pd.merge(temp22,temp4,on='district')\n",
    "df2['popRatio'] = df2['trees']/(df2['population'])\n",
    "df2['areaRatio'] = df2['trees']/df2['area']\n",
    "df2['incomeRatio'] = df2['trees']/df2['income']\n",
    "df2.to_csv('DataTransformedRegions.csv')"
   ]
  }
 ],
 "metadata": {
  "kernelspec": {
   "display_name": "Python 3",
   "language": "python",
   "name": "python3"
  },
  "language_info": {
   "codemirror_mode": {
    "name": "ipython",
    "version": 3
   },
   "file_extension": ".py",
   "mimetype": "text/x-python",
   "name": "python",
   "nbconvert_exporter": "python",
   "pygments_lexer": "ipython3",
   "version": "3.7.3"
  }
 },
 "nbformat": 4,
 "nbformat_minor": 2
}
