{
 "cells": [
  {
   "cell_type": "code",
   "execution_count": 1,
   "metadata": {},
   "outputs": [],
   "source": [
    "import pandas as pd\n",
    "import numpy as np"
   ]
  },
  {
   "cell_type": "code",
   "execution_count": 2,
   "metadata": {},
   "outputs": [],
   "source": [
    "from googletrans import Translator\n",
    "translator = Translator()"
   ]
  },
  {
   "cell_type": "code",
   "execution_count": 3,
   "metadata": {},
   "outputs": [],
   "source": [
    "df = pd.read_csv(\"trae_basis.csv\", low_memory=False)\n",
    "df = df[df.slaegtsnavn.notna()]\n",
    "df = df[df.bydelsnavn.notna()]\n",
    "\n",
    "df['bydelsnavn']=df['bydelsnavn'].str.replace('Vesterbro-Kongens Enghave', 'Vesterbro', regex=False)\n"
   ]
  },
  {
   "cell_type": "code",
   "execution_count": 4,
   "metadata": {},
   "outputs": [],
   "source": [
    "minority= df.groupby('slaegtsnavn').count()['id'][:]<25\n",
    "minority=minority[minority==True]"
   ]
  },
  {
   "cell_type": "code",
   "execution_count": 5,
   "metadata": {},
   "outputs": [],
   "source": [
    "df['slaegtsnavn_eng']=df['slaegtsnavn']\n",
    "df['slaegtsnavn_eng']=df['slaegtsnavn_eng'].str.replace('Ikke registreret', 'Not registered', regex=False)\n",
    "df['slaegtsnavn_eng']=df['slaegtsnavn_eng'].str.replace('Lind', 'Linden', regex=False)\n",
    "df['slaegtsnavn_eng']=df['slaegtsnavn_eng'].str.replace('Platan', 'Plane', regex=False)\n",
    "df['slaegtsnavn_eng']=df['slaegtsnavn_eng'].str.replace('Kirsebær/Blomme', 'Cherry/Plum', regex=False)\n",
    "df['slaegtsnavn_eng']=df['slaegtsnavn_eng'].str.replace('Røn', 'Rowan', regex=False)\n",
    "df['slaegtsnavn_eng']=df['slaegtsnavn_eng'].str.replace('Løn', 'Maple', regex=False)\n",
    "df['slaegtsnavn_eng']=df['slaegtsnavn_eng'].str.replace('Ask', 'Ash', regex=False)\n",
    "df['slaegtsnavn_eng']=df['slaegtsnavn_eng'].str.replace('Eg', 'Oak', regex=False)\n",
    "df['slaegtsnavn_eng']=df['slaegtsnavn_eng'].str.replace('Løn', 'Maple', regex=False)\n",
    "df['slaegtsnavn_eng']=df['slaegtsnavn_eng'].str.replace('Robinie', 'Black locust', regex=False)\n",
    "df['slaegtsnavn_eng']=df['slaegtsnavn_eng'].str.replace('Hestekastanie', 'Horse chestnut', regex=False)\n",
    "df['slaegtsnavn_eng']=df['slaegtsnavn_eng'].str.replace('Birk', 'Birch', regex=False)\n",
    "df['slaegtsnavn_eng']=df['slaegtsnavn_eng'].str.replace('Poppel', 'Poplar', regex=False)\n",
    "df['slaegtsnavn_eng']=df['slaegtsnavn_eng'].str.replace('Æble', 'Apple', regex=False)\n",
    "df['slaegtsnavn_eng']=df['slaegtsnavn_eng'].str.replace('Tjørn', 'Hawthorn', regex=False)\n",
    "df['slaegtsnavn_eng']=df['slaegtsnavn_eng'].str.replace('Avnbøg', 'Hornbeam', regex=False)\n",
    "df['slaegtsnavn_eng']=df['slaegtsnavn_eng'].str.replace('Fyr', 'Pine', regex=False)\n",
    "df['slaegtsnavn_eng']=df['slaegtsnavn_eng'].str.replace('Pil', 'Willow', regex=False)\n",
    "df['slaegtsnavn_eng']=df['slaegtsnavn_eng'].str.replace('El', 'Alder', regex=False)\n",
    "df['slaegtsnavn_eng']=df['slaegtsnavn_eng'].str.replace('Hassel', 'Hazel', regex=False)\n",
    "df['slaegtsnavn_eng']=df['slaegtsnavn_eng'].str.replace('Tretorn', 'Honey locust', regex=False)\n",
    "df['slaegtsnavn_eng']=df['slaegtsnavn_eng'].str.replace('Gran', 'Spruce', regex=False)\n",
    "df['slaegtsnavn_eng']=df['slaegtsnavn_eng'].str.replace('Pære', 'Pear', regex=False)\n",
    "df['slaegtsnavn_eng']=df['slaegtsnavn_eng'].str.replace('Vandgran', 'dawn redwood', regex=False)\n",
    "df['slaegtsnavn_eng']=df['slaegtsnavn_eng'].str.replace('Taks', 'Yew', regex=False)\n",
    "df['slaegtsnavn_eng']=df['slaegtsnavn_eng'].str.replace('Skyrækker', 'Tree of heaven', regex=False)\n",
    "df['slaegtsnavn_eng']=df['slaegtsnavn_eng'].str.replace('Bøg', 'Beech', regex=False)\n",
    "df['slaegtsnavn_eng']=df['slaegtsnavn_eng'].str.replace('Tulipantræ', 'Tulip tree', regex=False)\n",
    "df['slaegtsnavn_eng']=df['slaegtsnavn_eng'].str.replace('Ambratræ', 'Sweetgum', regex=False)\n",
    "df['slaegtsnavn_eng']=df['slaegtsnavn_eng'].str.replace('Dværgcypres', 'False cypress', regex=False)\n",
    "df['slaegtsnavn_eng']=df['slaegtsnavn_eng'].str.replace('Bærmispel', 'Juneberry', regex=False)\n",
    "df['slaegtsnavn_eng']=df['slaegtsnavn_eng'].str.replace('Lærk', 'Larch', regex=False)\n",
    "df['slaegtsnavn_eng']=df['slaegtsnavn_eng'].str.replace('Kastanie', 'Chestnut', regex=False)\n",
    "df['slaegtsnavn_eng']=df['slaegtsnavn_eng'].str.replace('Guldregn', 'Golden rain', regex=False)\n",
    "df['slaegtsnavn_eng']=df['slaegtsnavn_eng'].str.replace('Kornel', 'Cornus', regex=False)\n",
    "df['slaegtsnavn_eng']=df['slaegtsnavn_eng'].str.replace('Ceder', 'Cedar', regex=False)\n",
    "df['slaegtsnavn_eng']=df['slaegtsnavn_eng'].str.replace('Valnød', 'Walnut', regex=False)"
   ]
  },
  {
   "cell_type": "code",
   "execution_count": 6,
   "metadata": {},
   "outputs": [],
   "source": [
    "minority= df.groupby('slaegtsnavn').count()['id'][:]<25\n",
    "minority=minority[minority==True]"
   ]
  },
  {
   "cell_type": "code",
   "execution_count": null,
   "metadata": {},
   "outputs": [],
   "source": []
  },
  {
   "cell_type": "code",
   "execution_count": null,
   "metadata": {},
   "outputs": [],
   "source": []
  },
  {
   "cell_type": "code",
   "execution_count": 7,
   "metadata": {},
   "outputs": [
    {
     "name": "stderr",
     "output_type": "stream",
     "text": [
      "C:\\Users\\Krist\\Anaconda3\\lib\\site-packages\\pandas\\core\\indexing.py:190: SettingWithCopyWarning: \n",
      "A value is trying to be set on a copy of a slice from a DataFrame\n",
      "\n",
      "See the caveats in the documentation: http://pandas.pydata.org/pandas-docs/stable/indexing.html#indexing-view-versus-copy\n",
      "  self._setitem_with_indexer(indexer, value)\n"
     ]
    }
   ],
   "source": [
    "\n",
    "for i in range(len(df['slaegtsnavn'])):\n",
    "    if(df['slaegtsnavn'].iloc[i] in minority):\n",
    "           df['slaegtsnavn_eng'].iloc[i]='Minority tree'\n"
   ]
  },
  {
   "cell_type": "code",
   "execution_count": null,
   "metadata": {},
   "outputs": [],
   "source": []
  },
  {
   "cell_type": "code",
   "execution_count": 8,
   "metadata": {},
   "outputs": [],
   "source": [
    "df=df[['dansk_navn','id','slaegtsnavn','slaegtsnavn_eng','bydelsnavn','wkb_geometry','planteaar']]"
   ]
  },
  {
   "cell_type": "code",
   "execution_count": 9,
   "metadata": {},
   "outputs": [],
   "source": [
    "df.to_csv('DataTransformed.csv')\n"
   ]
  },
  {
   "cell_type": "code",
   "execution_count": 10,
   "metadata": {
    "scrolled": true
   },
   "outputs": [],
   "source": [
    "## Befolkning pr. 31 jan 2019: https://statistikbanken.kk.dk/1050dc07-e88c-4206-ae4e-645718e26ab9/ReportSection\n",
    "district1 = ['Indre By', 'Østerbro','Nørrebro','Vesterbro','Valby','Vanløse',\n",
    "        'Brønshøj-Husum','Bispebjerg','Amager Øst','Amager Vest']\n",
    "\n",
    "population = [55866,79803,80254,72688,60308,41195,44784,55172,59803,78973]\n",
    "\n",
    "temp1 = pd.DataFrame({'district':district1,'population':population})\n",
    "## Gnm. indkomst, 2017\n",
    "## Fra 'Status på København 2019' pdf'en\n",
    "\n",
    "district2 = ['Brønshøj-Husum','Bispebjerg','Østerbro','Vanløse','Nørrebro',\n",
    "        'Indre By','Valby','Vesterbro','Amager Vest',\n",
    "        'Amager Øst']\n",
    "\n",
    "income = [213,182,247,234,187,286,217,219,229,217] ## gennemsnitlig disponibel indkomst i 1000 kr. \n",
    "\n",
    "temp2 = pd.DataFrame({'district':district2,'income':income})\n",
    "district3 = ['Indre By','Østerbro','Nørrebro','Vesterbro','Valby',\n",
    "            'Vanløse','Brønshøj-Husum','Bispebjerg','Amager Øst','Amager Vest']\n",
    "\n",
    "area = [9,8.7,4.1,8.2,9.2,6.7,8.7,6.8,9.1,19.2] # area in km^2\n",
    "\n",
    "temp3 = pd.DataFrame({'district':district3,'area':area})\n",
    "## The tree counts\n",
    "trees = df.groupby(['bydelsnavn']).count().id\n",
    "temp4 = pd.DataFrame({'district':trees.index,'trees':trees.values})\n",
    "\n",
    "temp11 = pd.merge(temp1,temp2,on='district')\n",
    "temp22 = pd.merge(temp11,temp3,on='district')\n",
    "df2 = pd.merge(temp22,temp4,on='district')\n",
    "df2['popRatio'] = df2['trees']/(df2['population'])\n",
    "df2['areaRatio'] = df2['trees']/df2['area']\n",
    "df2['incomeRatio'] = df2['trees']/df2['income']\n",
    "df2.to_csv('DataTransformedRegions.csv')"
   ]
  }
 ],
 "metadata": {
  "kernelspec": {
   "display_name": "Python 3",
   "language": "python",
   "name": "python3"
  },
  "language_info": {
   "codemirror_mode": {
    "name": "ipython",
    "version": 3
   },
   "file_extension": ".py",
   "mimetype": "text/x-python",
   "name": "python",
   "nbconvert_exporter": "python",
   "pygments_lexer": "ipython3",
   "version": "3.7.3"
  }
 },
 "nbformat": 4,
 "nbformat_minor": 2
}
