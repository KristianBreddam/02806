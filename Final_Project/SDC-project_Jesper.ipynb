{
 "cells": [
  {
   "cell_type": "markdown",
   "metadata": {},
   "source": [
    "# Project in Social Data Analysis\n",
    "\n",
    "Data links:\n",
    "- https://www.opendata.dk/city-of-copenhagen/trae_basis \n",
    "- https://www.opendata.dk/city-of-copenhagen/gadetraeer\n",
    "\n",
    "Inspiration til vores illustration:\n",
    "https://www.cloudred.com/labprojects/nyctrees/"
   ]
  },
  {
   "cell_type": "markdown",
   "metadata": {},
   "source": [
    "ANSWER ON the questions:\n",
    "\tThe movie must contain the following: \n",
    "    \n",
    "**- An explanation of the central idea behind your final project (what is the idea? which datasets do you need to explore the idea?, why is it interesting?)**\n",
    "    Inspiration from an website displacing the trees in five neighbourghood in NY. So we want to make the same over CPH. Right now we have two datasets, of different sizes and with different features. (Choose one or merges?). It is interesting to see want we can find in the data. What patterns will reveal itself? \n",
    "    \n",
    "Be ready to safe the trees from corona.\n",
    "\n",
    "**- A mock up of the visualization that you wish to build. (Anything is fine here. Pen and paper, MS Paint, Inkscape, D3, anything.).**\n",
    "    \n",
    "    - Make sure you answer the questions:\n",
    "        - What genre is it? (for Genres, see section 4.3 of the Segel and Heer paper) \n",
    "        - Why is that genre right for telling the story you want to communicate with the data\n",
    "    - An outline on the elements you'll need to get to your goal.\n",
    "    - The implementation plan.\n",
    "    - A walk-through of your preliminary data-analysis, addressing\n",
    "        - What is the total size of your data? (MB, number of rows, number of variables, etc)\n",
    "        - What are other properties? (What is the date range? Is is it geo-data?, then a quick plot of locations, etc.)\n",
    "        - Show the fundamental distributions of the data (similar to the work we did on SF crime data for lecture 3) But other than that, there are no constraints. And we do appreciate funny/inventive/beautiful movies, although the academic content is most important. Note that we'll display the movie to the entire class.**\n",
    "\n",
    "**Genre:** A mix between an **Annotated chart** and **Partitioned poster**, it suits good to our data and the ideas we have about telling a story and connections over the trees of CPH. \n",
    "\n",
    "**Outline of elements:** Interaction between barchart and maps. Decide on features to investigate further. How has the longest distance to a tree. \n",
    "\n",
    "**Implementation plan:** Basically how we want to build up an interactive webpage from github. \n",
    "\n",
    "**Preliminary data-analysis:** Size between (19956, 28) and (59580, 183) (observations, features)."
   ]
  },
  {
   "cell_type": "code",
   "execution_count": 1,
   "metadata": {},
   "outputs": [],
   "source": [
    "import pandas as pd\n",
    "import numpy as np\n",
    "import matplotlib.pyplot as plt"
   ]
  },
  {
   "cell_type": "code",
   "execution_count": 2,
   "metadata": {},
   "outputs": [],
   "source": [
    "import os\n",
    "path=\"/Users/jesperdybkjaer/Documents/DTU/Kandidat/4.semester/3_SocialDataanalysisAndVisualization/Final_project\"\n",
    "os.chdir(path)"
   ]
  },
  {
   "cell_type": "code",
   "execution_count": 3,
   "metadata": {},
   "outputs": [
    {
     "name": "stderr",
     "output_type": "stream",
     "text": [
      "/Users/jesperdybkjaer/anaconda3/lib/python3.7/site-packages/IPython/core/interactiveshell.py:3058: DtypeWarning: Columns (6,41,46,47,48,49,50,62,64,65,69,71,73,76,79,83,89,103,117,122,135,136,137,147,156,157,158,167,168,174,175,176,177,178,179,180,181) have mixed types. Specify dtype option on import or set low_memory=False.\n",
      "  interactivity=interactivity, compiler=compiler, result=result)\n"
     ]
    }
   ],
   "source": [
    "df1 = pd.read_csv(\"gadetraer.csv\") #The first data found\n",
    "df2 = pd.read_csv(\"trae_basis.csv\") #The second dataset found (bigger and more features)"
   ]
  },
  {
   "cell_type": "code",
   "execution_count": 4,
   "metadata": {},
   "outputs": [
    {
     "name": "stdout",
     "output_type": "stream",
     "text": [
      "The shape of dataset 1 is: (19956, 28)\n",
      "The shape of dataset 2 is: (59580, 183)\n"
     ]
    }
   ],
   "source": [
    "print(f\"The shape of dataset 1 is: {df1.shape}\")\n",
    "print(f\"The shape of dataset 2 is: {df2.shape}\")"
   ]
  },
  {
   "cell_type": "code",
   "execution_count": 5,
   "metadata": {},
   "outputs": [
    {
     "data": {
      "text/html": [
       "<div>\n",
       "<style scoped>\n",
       "    .dataframe tbody tr th:only-of-type {\n",
       "        vertical-align: middle;\n",
       "    }\n",
       "\n",
       "    .dataframe tbody tr th {\n",
       "        vertical-align: top;\n",
       "    }\n",
       "\n",
       "    .dataframe thead th {\n",
       "        text-align: right;\n",
       "    }\n",
       "</style>\n",
       "<table border=\"1\" class=\"dataframe\">\n",
       "  <thead>\n",
       "    <tr style=\"text-align: right;\">\n",
       "      <th></th>\n",
       "      <th>FID</th>\n",
       "      <th>id</th>\n",
       "      <th>traeart</th>\n",
       "      <th>slaegt</th>\n",
       "      <th>dansk_navn</th>\n",
       "      <th>slaegtsnavn</th>\n",
       "      <th>planteaar</th>\n",
       "      <th>plantet_halvaar</th>\n",
       "      <th>garantiperioden_udloeber</th>\n",
       "      <th>plantemetode</th>\n",
       "      <th>...</th>\n",
       "      <th>trae_historie</th>\n",
       "      <th>botanisk_interesse</th>\n",
       "      <th>donor</th>\n",
       "      <th>anledning</th>\n",
       "      <th>saerligt_trae</th>\n",
       "      <th>saerlig_trae_bem</th>\n",
       "      <th>bydelsnavn</th>\n",
       "      <th>fredet_trae_foto</th>\n",
       "      <th>vejstatus</th>\n",
       "      <th>wkb_geometry</th>\n",
       "    </tr>\n",
       "  </thead>\n",
       "  <tbody>\n",
       "    <tr>\n",
       "      <td>0</td>\n",
       "      <td>gadetraer.1</td>\n",
       "      <td>18611</td>\n",
       "      <td>Tilia platyphyllos</td>\n",
       "      <td>Tilia sp.</td>\n",
       "      <td>Storbladet lind</td>\n",
       "      <td>Lind</td>\n",
       "      <td>1953.0</td>\n",
       "      <td>Ikke registreret</td>\n",
       "      <td>Ikke registreret</td>\n",
       "      <td>Muld</td>\n",
       "      <td>...</td>\n",
       "      <td>Ikke registreret</td>\n",
       "      <td>Ikke registreret</td>\n",
       "      <td>NaN</td>\n",
       "      <td>NaN</td>\n",
       "      <td>nej</td>\n",
       "      <td>NaN</td>\n",
       "      <td>Vesterbro-Kongens Enghave</td>\n",
       "      <td>NaN</td>\n",
       "      <td>2.0</td>\n",
       "      <td>POINT (12.5370471883976 55.6486340745573)</td>\n",
       "    </tr>\n",
       "    <tr>\n",
       "      <td>1</td>\n",
       "      <td>gadetraer.2</td>\n",
       "      <td>21291</td>\n",
       "      <td>Tilia platyphyllos</td>\n",
       "      <td>Tilia sp.</td>\n",
       "      <td>Storbladet lind</td>\n",
       "      <td>Lind</td>\n",
       "      <td>1953.0</td>\n",
       "      <td>Ikke registreret</td>\n",
       "      <td>Ikke registreret</td>\n",
       "      <td>Muld</td>\n",
       "      <td>...</td>\n",
       "      <td>Ikke registreret</td>\n",
       "      <td>Ikke registreret</td>\n",
       "      <td>NaN</td>\n",
       "      <td>NaN</td>\n",
       "      <td>nej</td>\n",
       "      <td>NaN</td>\n",
       "      <td>Vesterbro-Kongens Enghave</td>\n",
       "      <td>NaN</td>\n",
       "      <td>2.0</td>\n",
       "      <td>POINT (12.536925020477707 55.64867988581558)</td>\n",
       "    </tr>\n",
       "    <tr>\n",
       "      <td>2</td>\n",
       "      <td>gadetraer.3</td>\n",
       "      <td>21292</td>\n",
       "      <td>Tilia platyphyllos</td>\n",
       "      <td>Tilia sp.</td>\n",
       "      <td>Storbladet lind</td>\n",
       "      <td>Lind</td>\n",
       "      <td>1953.0</td>\n",
       "      <td>Ikke registreret</td>\n",
       "      <td>Ikke registreret</td>\n",
       "      <td>Muld</td>\n",
       "      <td>...</td>\n",
       "      <td>Ikke registreret</td>\n",
       "      <td>Ikke registreret</td>\n",
       "      <td>NaN</td>\n",
       "      <td>NaN</td>\n",
       "      <td>nej</td>\n",
       "      <td>NaN</td>\n",
       "      <td>Vesterbro-Kongens Enghave</td>\n",
       "      <td>NaN</td>\n",
       "      <td>2.0</td>\n",
       "      <td>POINT (12.537000905330974 55.64876361021244)</td>\n",
       "    </tr>\n",
       "  </tbody>\n",
       "</table>\n",
       "<p>3 rows × 28 columns</p>\n",
       "</div>"
      ],
      "text/plain": [
       "           FID     id              traeart     slaegt       dansk_navn  \\\n",
       "0  gadetraer.1  18611  Tilia platyphyllos   Tilia sp.  Storbladet lind   \n",
       "1  gadetraer.2  21291  Tilia platyphyllos   Tilia sp.  Storbladet lind   \n",
       "2  gadetraer.3  21292  Tilia platyphyllos   Tilia sp.  Storbladet lind   \n",
       "\n",
       "  slaegtsnavn  planteaar   plantet_halvaar garantiperioden_udloeber  \\\n",
       "0        Lind     1953.0  Ikke registreret         Ikke registreret   \n",
       "1        Lind     1953.0  Ikke registreret         Ikke registreret   \n",
       "2        Lind     1953.0  Ikke registreret         Ikke registreret   \n",
       "\n",
       "  plantemetode  ...     trae_historie botanisk_interesse donor anledning  \\\n",
       "0         Muld  ...  Ikke registreret   Ikke registreret   NaN       NaN   \n",
       "1         Muld  ...  Ikke registreret   Ikke registreret   NaN       NaN   \n",
       "2         Muld  ...  Ikke registreret   Ikke registreret   NaN       NaN   \n",
       "\n",
       "  saerligt_trae saerlig_trae_bem                 bydelsnavn fredet_trae_foto  \\\n",
       "0           nej              NaN  Vesterbro-Kongens Enghave              NaN   \n",
       "1           nej              NaN  Vesterbro-Kongens Enghave              NaN   \n",
       "2           nej              NaN  Vesterbro-Kongens Enghave              NaN   \n",
       "\n",
       "  vejstatus                                  wkb_geometry  \n",
       "0       2.0     POINT (12.5370471883976 55.6486340745573)  \n",
       "1       2.0  POINT (12.536925020477707 55.64867988581558)  \n",
       "2       2.0  POINT (12.537000905330974 55.64876361021244)  \n",
       "\n",
       "[3 rows x 28 columns]"
      ]
     },
     "execution_count": 5,
     "metadata": {},
     "output_type": "execute_result"
    }
   ],
   "source": [
    "df1.head(3) "
   ]
  },
  {
   "cell_type": "code",
   "execution_count": 6,
   "metadata": {},
   "outputs": [
    {
     "data": {
      "text/html": [
       "<div>\n",
       "<style scoped>\n",
       "    .dataframe tbody tr th:only-of-type {\n",
       "        vertical-align: middle;\n",
       "    }\n",
       "\n",
       "    .dataframe tbody tr th {\n",
       "        vertical-align: top;\n",
       "    }\n",
       "\n",
       "    .dataframe thead th {\n",
       "        text-align: right;\n",
       "    }\n",
       "</style>\n",
       "<table border=\"1\" class=\"dataframe\">\n",
       "  <thead>\n",
       "    <tr style=\"text-align: right;\">\n",
       "      <th></th>\n",
       "      <th>FID</th>\n",
       "      <th>kategori</th>\n",
       "      <th>saerligt_trae</th>\n",
       "      <th>id</th>\n",
       "      <th>type</th>\n",
       "      <th>element</th>\n",
       "      <th>under_element</th>\n",
       "      <th>ny_dm_element</th>\n",
       "      <th>ny_dm_under_element</th>\n",
       "      <th>arbsted_tekst_id</th>\n",
       "      <th>...</th>\n",
       "      <th>r_img15</th>\n",
       "      <th>torso_hoejde</th>\n",
       "      <th>torso_omkreds</th>\n",
       "      <th>torso_stamme</th>\n",
       "      <th>torso_sidst_stynet</th>\n",
       "      <th>torso_frekvens_styning</th>\n",
       "      <th>torso_naeste_styning</th>\n",
       "      <th>torso_skaeres_ned_til</th>\n",
       "      <th>torso_bemaerkning</th>\n",
       "      <th>wkb_geometry</th>\n",
       "    </tr>\n",
       "  </thead>\n",
       "  <tbody>\n",
       "    <tr>\n",
       "      <td>0</td>\n",
       "      <td>trae_basis.1</td>\n",
       "      <td>gadetræ</td>\n",
       "      <td>nej</td>\n",
       "      <td>18611</td>\n",
       "      <td>2 Træer</td>\n",
       "      <td>2.3 Parktræer</td>\n",
       "      <td>NaN</td>\n",
       "      <td>Gadetræer</td>\n",
       "      <td>Gadetræ</td>\n",
       "      <td>Gadet_Gadet_3421</td>\n",
       "      <td>...</td>\n",
       "      <td>NaN</td>\n",
       "      <td>NaN</td>\n",
       "      <td>NaN</td>\n",
       "      <td>NaN</td>\n",
       "      <td>NaN</td>\n",
       "      <td>NaN</td>\n",
       "      <td>NaN</td>\n",
       "      <td>NaN</td>\n",
       "      <td>NaN</td>\n",
       "      <td>POINT (12.5370471883976 55.6486340745573)</td>\n",
       "    </tr>\n",
       "    <tr>\n",
       "      <td>1</td>\n",
       "      <td>trae_basis.2</td>\n",
       "      <td>gadetræ</td>\n",
       "      <td>nej</td>\n",
       "      <td>21291</td>\n",
       "      <td>2 Træer</td>\n",
       "      <td>2.3 Parktræer</td>\n",
       "      <td>NaN</td>\n",
       "      <td>Gadetræer</td>\n",
       "      <td>Gadetræ</td>\n",
       "      <td>Gadet_Gadet_3421</td>\n",
       "      <td>...</td>\n",
       "      <td>NaN</td>\n",
       "      <td>NaN</td>\n",
       "      <td>NaN</td>\n",
       "      <td>NaN</td>\n",
       "      <td>NaN</td>\n",
       "      <td>NaN</td>\n",
       "      <td>NaN</td>\n",
       "      <td>NaN</td>\n",
       "      <td>NaN</td>\n",
       "      <td>POINT (12.536925020477707 55.64867988581558)</td>\n",
       "    </tr>\n",
       "    <tr>\n",
       "      <td>2</td>\n",
       "      <td>trae_basis.3</td>\n",
       "      <td>gadetræ</td>\n",
       "      <td>nej</td>\n",
       "      <td>21292</td>\n",
       "      <td>2 Træer</td>\n",
       "      <td>2.3 Parktræer</td>\n",
       "      <td>NaN</td>\n",
       "      <td>Gadetræer</td>\n",
       "      <td>Gadetræ</td>\n",
       "      <td>Gadet_Gadet_3421</td>\n",
       "      <td>...</td>\n",
       "      <td>NaN</td>\n",
       "      <td>NaN</td>\n",
       "      <td>NaN</td>\n",
       "      <td>NaN</td>\n",
       "      <td>NaN</td>\n",
       "      <td>NaN</td>\n",
       "      <td>NaN</td>\n",
       "      <td>NaN</td>\n",
       "      <td>NaN</td>\n",
       "      <td>POINT (12.537000905330974 55.64876361021244)</td>\n",
       "    </tr>\n",
       "  </tbody>\n",
       "</table>\n",
       "<p>3 rows × 183 columns</p>\n",
       "</div>"
      ],
      "text/plain": [
       "            FID kategori saerligt_trae     id     type        element  \\\n",
       "0  trae_basis.1  gadetræ           nej  18611  2 Træer  2.3 Parktræer   \n",
       "1  trae_basis.2  gadetræ           nej  21291  2 Træer  2.3 Parktræer   \n",
       "2  trae_basis.3  gadetræ           nej  21292  2 Træer  2.3 Parktræer   \n",
       "\n",
       "  under_element ny_dm_element ny_dm_under_element  arbsted_tekst_id  ...  \\\n",
       "0           NaN     Gadetræer             Gadetræ  Gadet_Gadet_3421  ...   \n",
       "1           NaN     Gadetræer             Gadetræ  Gadet_Gadet_3421  ...   \n",
       "2           NaN     Gadetræer             Gadetræ  Gadet_Gadet_3421  ...   \n",
       "\n",
       "  r_img15 torso_hoejde torso_omkreds torso_stamme torso_sidst_stynet  \\\n",
       "0     NaN          NaN           NaN          NaN                NaN   \n",
       "1     NaN          NaN           NaN          NaN                NaN   \n",
       "2     NaN          NaN           NaN          NaN                NaN   \n",
       "\n",
       "   torso_frekvens_styning torso_naeste_styning torso_skaeres_ned_til  \\\n",
       "0                     NaN                  NaN                   NaN   \n",
       "1                     NaN                  NaN                   NaN   \n",
       "2                     NaN                  NaN                   NaN   \n",
       "\n",
       "  torso_bemaerkning                                  wkb_geometry  \n",
       "0               NaN     POINT (12.5370471883976 55.6486340745573)  \n",
       "1               NaN  POINT (12.536925020477707 55.64867988581558)  \n",
       "2               NaN  POINT (12.537000905330974 55.64876361021244)  \n",
       "\n",
       "[3 rows x 183 columns]"
      ]
     },
     "execution_count": 6,
     "metadata": {},
     "output_type": "execute_result"
    }
   ],
   "source": [
    "df2.head(3)"
   ]
  },
  {
   "cell_type": "code",
   "execution_count": 9,
   "metadata": {},
   "outputs": [
    {
     "data": {
      "text/plain": [
       "array([  nan,   66.,   76., ..., 1753., 1394., 1560.])"
      ]
     },
     "execution_count": 9,
     "metadata": {},
     "output_type": "execute_result"
    }
   ],
   "source": [
    "df2['ikonisk_trae'].unique()"
   ]
  },
  {
   "cell_type": "code",
   "execution_count": 11,
   "metadata": {},
   "outputs": [
    {
     "data": {
      "text/html": [
       "<div>\n",
       "<style scoped>\n",
       "    .dataframe tbody tr th:only-of-type {\n",
       "        vertical-align: middle;\n",
       "    }\n",
       "\n",
       "    .dataframe tbody tr th {\n",
       "        vertical-align: top;\n",
       "    }\n",
       "\n",
       "    .dataframe thead th {\n",
       "        text-align: right;\n",
       "    }\n",
       "</style>\n",
       "<table border=\"1\" class=\"dataframe\">\n",
       "  <thead>\n",
       "    <tr style=\"text-align: right;\">\n",
       "      <th></th>\n",
       "      <th>Antal</th>\n",
       "    </tr>\n",
       "    <tr>\n",
       "      <th>ikonisk_trae</th>\n",
       "      <th></th>\n",
       "    </tr>\n",
       "  </thead>\n",
       "  <tbody>\n",
       "    <tr>\n",
       "      <td>0.0</td>\n",
       "      <td>2760</td>\n",
       "    </tr>\n",
       "    <tr>\n",
       "      <td>1.0</td>\n",
       "      <td>1</td>\n",
       "    </tr>\n",
       "    <tr>\n",
       "      <td>2.0</td>\n",
       "      <td>1</td>\n",
       "    </tr>\n",
       "    <tr>\n",
       "      <td>3.0</td>\n",
       "      <td>1</td>\n",
       "    </tr>\n",
       "    <tr>\n",
       "      <td>4.0</td>\n",
       "      <td>1</td>\n",
       "    </tr>\n",
       "    <tr>\n",
       "      <td>...</td>\n",
       "      <td>...</td>\n",
       "    </tr>\n",
       "    <tr>\n",
       "      <td>3315.0</td>\n",
       "      <td>1</td>\n",
       "    </tr>\n",
       "    <tr>\n",
       "      <td>3316.0</td>\n",
       "      <td>1</td>\n",
       "    </tr>\n",
       "    <tr>\n",
       "      <td>3317.0</td>\n",
       "      <td>1</td>\n",
       "    </tr>\n",
       "    <tr>\n",
       "      <td>3318.0</td>\n",
       "      <td>1</td>\n",
       "    </tr>\n",
       "    <tr>\n",
       "      <td>3319.0</td>\n",
       "      <td>1</td>\n",
       "    </tr>\n",
       "  </tbody>\n",
       "</table>\n",
       "<p>3111 rows × 1 columns</p>\n",
       "</div>"
      ],
      "text/plain": [
       "              Antal\n",
       "ikonisk_trae       \n",
       "0.0            2760\n",
       "1.0               1\n",
       "2.0               1\n",
       "3.0               1\n",
       "4.0               1\n",
       "...             ...\n",
       "3315.0            1\n",
       "3316.0            1\n",
       "3317.0            1\n",
       "3318.0            1\n",
       "3319.0            1\n",
       "\n",
       "[3111 rows x 1 columns]"
      ]
     },
     "execution_count": 11,
     "metadata": {},
     "output_type": "execute_result"
    }
   ],
   "source": [
    "# How to sort the slaegtsnavn_eng after amount of trees\n",
    "temp_group3 = df2.groupby(['ikonisk_trae']).size()\n",
    "temp_group3=pd.DataFrame(temp_group3)\n",
    "temp_group3=temp_group3.rename(columns={0:'Antal'})\n",
    "temp_group3=temp_group3.sort_index(ascending=True)\n",
    "temp_group3"
   ]
  },
  {
   "cell_type": "markdown",
   "metadata": {},
   "source": [
    "# Features"
   ]
  },
  {
   "cell_type": "code",
   "execution_count": 7,
   "metadata": {},
   "outputs": [
    {
     "name": "stdout",
     "output_type": "stream",
     "text": [
      "Features in the two datasets:\n",
      "\n",
      "Dataset1: Index(['FID', 'id', 'traeart', 'slaegt', 'dansk_navn', 'slaegtsnavn',\n",
      "       'planteaar', 'plantet_halvaar', 'garantiperioden_udloeber',\n",
      "       'plantemetode', 'ejer', 'driftsorganisation', 'driftsplan_navn',\n",
      "       'driftsaftale_edoc_nr', 'bemaerkning', 'andre_vaekstforhold',\n",
      "       'fredet_beskyttet_trae', 'fredning_edoc_nr', 'trae_historie',\n",
      "       'botanisk_interesse', 'donor', 'anledning', 'saerligt_trae',\n",
      "       'saerlig_trae_bem', 'bydelsnavn', 'fredet_trae_foto', 'vejstatus',\n",
      "       'wkb_geometry'],\n",
      "      dtype='object')\n",
      "\n",
      "Dataset2: Index(['FID', 'kategori', 'saerligt_trae', 'id', 'type', 'element',\n",
      "       'under_element', 'ny_dm_element', 'ny_dm_under_element',\n",
      "       'arbsted_tekst_id', 'driftsplan_navn', 'enhedsomraade', 'traeart',\n",
      "       'dansk_navn', 'slaegtsnavn', 'planteaar', 'plantet_halvaar',\n",
      "       'faeldningsaar', 'bydelsnavn', 'omraade', 'vejnavn', 'vejklasse',\n",
      "       'vejstatus', 'fritrumsprofil', 'stammeomfang', 'kronediameter',\n",
      "       'placering', 'afgraensning', 'plantemetode', 'omgivelse', 'vaekstmedie',\n",
      "       'beskyttelse', 'sundhed', 'skudtilvaekst', 'andre_vaekstforhold',\n",
      "       'bevaringsvaerdi', 'registrering_type', 'driftstatus_gadetrae', 'ejer',\n",
      "       'driftsorganisation', 'garantiperioden_udloeber',\n",
      "       'driftsaftale_edoc_nr', 'fredet_beskyttet_trae', 'fredningsmyndighed',\n",
      "       'trae_historie', 'botanisk_interesse', 'fredet_trae_foto', 'donor',\n",
      "       'anledning', 'saerlig_trae_bem', 'fredning_edoc_nr', 'ikonisk_trae',\n",
      "       'evighedstrae', 'bemaerkning', 'reg_dato', 'opdateret_dato',\n",
      "       'r_tidsstempel', 'r_risikofaktor', 'r_vaerdi', 'r_omgivelser',\n",
      "       'r_registrant', 'r_registreringsnummer', 'r_aendringer_rodzone_andet',\n",
      "       'r_gravearbejde_i_rodzonen', 'r_gravearbejde_dato', 'r_graveansvarlig',\n",
      "       'r_terraenaendring', 'r_terraenaendring_dato',\n",
      "       'r_belaegningsaendring_rodzonen', 'r_belaegningsaendring_dato',\n",
      "       'r_beplantningsaendring', 'r_beplantningsaendring_dato',\n",
      "       'r_aendring_i_graespleje', 'r_aendring_i_graespleje_dato',\n",
      "       'r_grundvandsaendring', 'r_grundvandsaendring_dato',\n",
      "       'r_sygdomme_skadedyr_andet', 'r_sygdomme', 'r_skadedyr',\n",
      "       'r_stammestruktur_andet', 'r_tvege', 'r_flerstammet', 'r_haeldning',\n",
      "       'r_kronestruktur_andet', 'r_ensidig', 'r_spidse_grenvinkler',\n",
      "       'r_lange_tunge_grene', 'r_stammeagtige_sidegrene',\n",
      "       'r_svag_grensammenhaeftning', 'r_kronen_andet',\n",
      "       'r_unormal_bladstoerrelse', 'r_tidligt_bladtab_hoestfarver',\n",
      "       'r_grene_mange_saar', 'r_saar_kritiske_steder_krone',\n",
      "       'r_daarlig_saarheling_krone', 'r_doede_grene_braekket_revne',\n",
      "       'r_revner_i_grene', 'r_maengden_af_doede_grene',\n",
      "       'r_stoerrelse_defekte_grene', 'r_toptoerhed'],\n",
      "      dtype='object')Index(['r_tyndloevet', 'r_beskaering', 'r_doedt_trae_staaende',\n",
      "       'r_stammen_andet', 'r_doed_bark', 'r_unormal_bark', 'r_slimflaad',\n",
      "       'r_indsunken_bark', 'r_indvokset_bark', 'r_store_gamle_saar',\n",
      "       'r_mange_saar_paa_stammen', 'r_saar_kritiske_steder_stamme',\n",
      "       'r_daarlig_saarheling_stamme', 'r_revner', 'r_defekter',\n",
      "       'r_stammeraad_hulhed_aaben', 'r_stammeraad_hulhed_lukket',\n",
      "       'r_rodzonen_andet', 'r_overfladisk_rodnet', 'r_omvoksende_roedder',\n",
      "       'r_rodskader', 'r_rodkageloesning', 'r_svamp_andet', 'r_honningsvamp',\n",
      "       'r_krumskaellet_skaelhat', 'r_kulsvamp', 'r_kaempe_poresvamp',\n",
      "       'r_lakporesvamp', 'r_skaellet_stilkporesvamp', 'r_svovlporesvamp',\n",
      "       'r_toendersvamp', 'r_oestershat', 'r_floejlsfod', 'r_laedersvamp',\n",
      "       'r_ukendt_svamp', 'r_ukendt_svamp_beskrivelse', 'r_birkeporesvamp',\n",
      "       'r_tilsynsaarsag_andet', 'r_kronesymptomer', 'r_struktur', 'r_svamp',\n",
      "       'r_skade_paa_roedder', 'r_raadmaaling_andet', 'r_raadmaaling_dato',\n",
      "       'r_naeste_raadmaaling_aar', 'r_undersoegelse_lift_andet',\n",
      "       'r_undersoegelse_lift_dato', 'r_handling_andet', 'r_handling',\n",
      "       'r_tid_for_handling', 'r_beskaeringsaar', 'r_tilsynsfrekvens',\n",
      "       'r_naeste_tilsyn_halvaar', 'r_skader_andet', 'r_materiel', 'r_person',\n",
      "       'r_link_til_edoc_sag', 'r_generelt_beplantning_andet',\n",
      "       'r_handling_for_beplantning', 'r_img01', 'r_img02', 'r_img03',\n",
      "       'r_img04', 'r_img05', 'r_img06', 'r_img07', 'r_img08', 'r_img09',\n",
      "       'r_img10', 'r_img11', 'r_img12', 'r_img13', 'r_img14', 'r_img15',\n",
      "       'torso_hoejde', 'torso_omkreds', 'torso_stamme', 'torso_sidst_stynet',\n",
      "       'torso_frekvens_styning', 'torso_naeste_styning',\n",
      "       'torso_skaeres_ned_til', 'torso_bemaerkning', 'wkb_geometry'],\n",
      "      dtype='object')\n"
     ]
    }
   ],
   "source": [
    "col1 = df1.columns\n",
    "col2 = df2.columns\n",
    "print(f'Features in the two datasets:\\n')\n",
    "print(f'Dataset1: {col1}\\n')\n",
    "print(f'Dataset2: {col2[0:100]}{col2[100:184]}')"
   ]
  },
  {
   "cell_type": "markdown",
   "metadata": {},
   "source": [
    "# Feature: ``Slaegtnavne``\n"
   ]
  },
  {
   "cell_type": "code",
   "execution_count": 8,
   "metadata": {},
   "outputs": [
    {
     "name": "stdout",
     "output_type": "stream",
     "text": [
      "Amount of different tree type (slægtsnavne) in the two dataset:\n",
      "df1: 60\n",
      "df2: 75\n",
      "\n",
      "Dataset 1: \n",
      "['Lind' 'Elm' 'Røn' 'Gran' 'Løn' 'Eg' 'Avnbøg' 'Lærk' 'Kirsebær/Blomme'\n",
      " 'Pil' 'Tjørn' 'Robinie' 'Valnød' 'Ask' 'Platan' 'Sydbøg' 'Fyr' 'Æble'\n",
      " 'Tulipantræ' 'Poppel' 'Paulównia' 'El' 'Bærmispel' 'Ikke registreret'\n",
      " 'Tretorn' 'Hassel' 'Pære' 'Ceder' nan 'Birk' 'Hestekastanie' 'Ambratræ'\n",
      " 'Gingko' 'Bøg' 'Sophora' 'Skyrækker' 'Vandgran' 'Guldregn' 'Kornel'\n",
      " 'Kristtorn' 'Kastanie' 'Snebolle' 'Taks' 'Hibiscus-slægten' 'Sølvblad '\n",
      " 'Storaks' 'Vingevalnød' 'Nyssa' 'Bjergthe' 'Osagetorn'\n",
      " 'Parrotia, ikke navngivet på dansk' 'Mispel' 'Albizia (Ærteblomst-fam,)'\n",
      " 'Zelkova, ikke navngivet på dansk' 'Morbær'\n",
      " 'Taxodium, ikke navngivet på dansk' 'Humlebøg' 'Hjertetræ' 'Hemlock'\n",
      " 'Thuja']\n",
      "\n",
      "Dataset 2: \n",
      "['Lind' 'Ikke registreret' 'Kirsebær/Blomme' 'Tjørn' 'Robinie' 'Kastanie'\n",
      " 'Valnød' 'Hestekastanie' 'Poppel' 'Ask' 'Eg' 'Løn' 'Platan' 'Avnbøg'\n",
      " 'Røn' 'Skyrækker' 'Tretorn' 'Trompetkrone' 'Pil' 'Tulipantræ' 'Hassel'\n",
      " 'Birk' 'Sequoiadendron, ikke navngivet på dansk' 'Gingko' 'Bøg'\n",
      " 'Vandgran' 'Æble' 'El' 'Stennnød' 'Sydbøg' 'Ambratræ' 'Paulównia' 'Fyr'\n",
      " 'Elm' 'Hemlock' 'Lærk' 'Kornel' 'Morbær' 'Bærmispel' 'Thuja' 'Taks'\n",
      " 'Dværgcypres' 'Ægte kastanie' 'Gran' 'Ædelgran' 'Kristtorn' 'Guldregn'\n",
      " 'Ceder' 'Sophora' 'Humlebøg' 'Kvæde' 'Benved' 'Magnolia' 'Aralie'\n",
      " 'Douglasgran' 'Hønsebenstræ' 'Ene' 'Pære' nan 'Syren-slægten' 'Mispel'\n",
      " 'Hjertetræ' 'Duetræ' 'Taxodium, ikke navngivet på dansk' 'Snebolle'\n",
      " 'Hibiscus-slægten' 'Sølvblad ' 'Storaks' 'Vingevalnød' 'Nyssa' 'Bjergthe'\n",
      " 'Osagetorn' 'Parrotia, ikke navngivet på dansk'\n",
      " 'Albizia (Ærteblomst-fam,)' 'Zelkova, ikke navngivet på dansk']\n"
     ]
    }
   ],
   "source": [
    "print(f'Amount of different tree type (slægtsnavne) in the two dataset:')\n",
    "print(f'df1: {len(df1.slaegtsnavn.unique())}')\n",
    "print(f'df2: {len(df2.slaegtsnavn.unique())}\\n')\n",
    "print(f'Dataset 1: \\n{df1.slaegtsnavn.unique()}\\n')\n",
    "print(f'Dataset 2: \\n{df2.slaegtsnavn.unique()}')"
   ]
  },
  {
   "cell_type": "code",
   "execution_count": 9,
   "metadata": {},
   "outputs": [],
   "source": [
    "df1_slaegt = df1.groupby('slaegtsnavn')['id'].count() # Group by 'slaegtsnavn'\n",
    "df1_slaegt = pd.DataFrame(df1_slaegt) # Make it to a dataframe\n",
    "df1_slaegt.rename(columns={'id': 'Count'}, inplace=True) # Rename the column so it is now called count\n",
    "df1_slaegt.sort_values(by=['Count'],ascending=False, inplace=True) # Sort it by largest first"
   ]
  },
  {
   "cell_type": "code",
   "execution_count": 10,
   "metadata": {},
   "outputs": [
    {
     "name": "stdout",
     "output_type": "stream",
     "text": [
      "Noticed that there has been dropped 23 NaN values, as they is not taking by the groupby.\n",
      "Because the lenght has went from 75 to 74\n",
      "\n"
     ]
    }
   ],
   "source": [
    "df2_slaegt = df2.groupby('slaegtsnavn')['id'].count() # Group by 'slaegtsnavn'\n",
    "df2_slaegt = pd.DataFrame(df2_slaegt) # Make it to a dataframe\n",
    "df2_slaegt.rename(columns={'id': 'Count'}, inplace=True) # Rename the column to Count\n",
    "df2_slaegt.sort_values(by=['Count'],ascending=False, inplace=True) # Sort it by largest first\n",
    "\n",
    "print(f'Noticed that there has been dropped {df2.slaegtsnavn.isna().sum()} NaN values, as they is not taking by the groupby.')\n",
    "print(f'Because the lenght has went from {len(df2.slaegtsnavn.unique())} to {len(df2_slaegt)}\\n')"
   ]
  },
  {
   "cell_type": "code",
   "execution_count": 11,
   "metadata": {},
   "outputs": [
    {
     "data": {
      "image/png": "[encoded data removed]",
      "text/plain": [
       "<Figure size 1080x720 with 2 Axes>"
      ]
     },
     "metadata": {
      "needs_background": "light"
     },
     "output_type": "display_data"
    }
   ],
   "source": [
    "## If we want the subplots next to eachother:\n",
    "#fig, (axs1, axs2) = plt.subplots(1, 2, figsize=(15,8))\n",
    "#fig.suptitle('Plots of both dataframes Slaegtscount')\n",
    "#axs1.bar(df1_slaegt.index, df1_slaegt['Count']);\n",
    "#axs1.set_title('Dataset 1')\n",
    "#axs1.bar(df2_slaegt.index, df2_slaegt['Count']);\n",
    "#axs1.set_title('Dataset 2')\n",
    "\n",
    "# Vertical subplots:\n",
    "fig, axs = plt.subplots(2, figsize=(15,10))\n",
    "fig.suptitle('Plots of both dataframes Slaegtscount')\n",
    "axs[0].bar(df1_slaegt.index, df1_slaegt['Count']);\n",
    "axs[0].set_title('Dataset 1')\n",
    "axs[1].bar(df2_slaegt.index, df2_slaegt['Count']);\n",
    "axs[1].set_title('Dataset 2')\n",
    "\n",
    "for ax in fig.axes:\n",
    "    plt.sca(ax)\n",
    "    plt.xticks(rotation=90) # Rotate axis text for each subplot\n",
    "\n",
    "plt.subplots_adjust(hspace=1.2) # Vertical spacing #wspace (horizontal spacing)"
   ]
  },
  {
   "cell_type": "markdown",
   "metadata": {},
   "source": [
    "**IDEA:** It could be an idea to merge the two above plots in one (two bars different colors) Ordered A,B,C,.."
   ]
  },
  {
   "cell_type": "code",
   "execution_count": null,
   "metadata": {},
   "outputs": [],
   "source": []
  },
  {
   "cell_type": "markdown",
   "metadata": {},
   "source": [
    "# Feature: ``Neighbourhood``"
   ]
  },
  {
   "cell_type": "code",
   "execution_count": 12,
   "metadata": {},
   "outputs": [
    {
     "data": {
      "text/plain": [
       "array(['Vesterbro-Kongens Enghave', 'Valby', 'Nørrebro', 'Indre By',\n",
       "       'Amager Øst', 'Vanløse', 'Østerbro', 'Amager Vest', 'Bispebjerg',\n",
       "       'Brønshøj-Husum'], dtype=object)"
      ]
     },
     "execution_count": 12,
     "metadata": {},
     "output_type": "execute_result"
    }
   ],
   "source": [
    "df1['bydelsnavn'].unique()"
   ]
  },
  {
   "cell_type": "code",
   "execution_count": 13,
   "metadata": {},
   "outputs": [
    {
     "data": {
      "text/plain": [
       "array(['Vesterbro-Kongens Enghave', nan, 'Indre By', 'Nørrebro', 'Valby',\n",
       "       'Vanløse', 'Bispebjerg', 'Brønshøj-Husum', 'Amager Øst',\n",
       "       'Østerbro', 'Amager Vest'], dtype=object)"
      ]
     },
     "execution_count": 13,
     "metadata": {},
     "output_type": "execute_result"
    }
   ],
   "source": [
    "df2['bydelsnavn'].unique()"
   ]
  },
  {
   "cell_type": "code",
   "execution_count": 14,
   "metadata": {},
   "outputs": [
    {
     "name": "stdout",
     "output_type": "stream",
     "text": [
      "Amount of NaNs in dataset 2 (feature -> bydelsnavn): 23\n"
     ]
    }
   ],
   "source": [
    "print(f'Amount of NaNs in dataset 2 (feature -> bydelsnavn): {df2.slaegtsnavn.isna().sum()}')"
   ]
  },
  {
   "cell_type": "code",
   "execution_count": 15,
   "metadata": {},
   "outputs": [
    {
     "data": {
      "text/plain": [
       "bydelsnavn\n",
       "Amager Vest                  2701\n",
       "Amager Øst                   1232\n",
       "Bispebjerg                    953\n",
       "Brønshøj-Husum                946\n",
       "Indre By                     2803\n",
       "Nørrebro                     2239\n",
       "Valby                        1778\n",
       "Vanløse                      1026\n",
       "Vesterbro-Kongens Enghave    2159\n",
       "Østerbro                     4119\n",
       "Name: id, dtype: int64"
      ]
     },
     "execution_count": 15,
     "metadata": {},
     "output_type": "execute_result"
    }
   ],
   "source": [
    "df1.groupby('bydelsnavn')['id'].count()"
   ]
  },
  {
   "cell_type": "code",
   "execution_count": 16,
   "metadata": {},
   "outputs": [
    {
     "data": {
      "text/plain": [
       "bydelsnavn\n",
       "Amager Vest                  4477\n",
       "Amager Øst                   3930\n",
       "Bispebjerg                   8268\n",
       "Brønshøj-Husum               4160\n",
       "Indre By                     6105\n",
       "Nørrebro                     6770\n",
       "Valby                        4878\n",
       "Vanløse                      3915\n",
       "Vesterbro-Kongens Enghave    6679\n",
       "Østerbro                     7824\n",
       "Name: id, dtype: int64"
      ]
     },
     "execution_count": 16,
     "metadata": {},
     "output_type": "execute_result"
    }
   ],
   "source": [
    "df2.groupby('bydelsnavn')['id'].count()"
   ]
  },
  {
   "cell_type": "markdown",
   "metadata": {},
   "source": [
    "**IDEA:** All neighbourhoods have more trees in the second dataset? **WHY?** Could investigate what trees are added?"
   ]
  },
  {
   "cell_type": "code",
   "execution_count": 17,
   "metadata": {},
   "outputs": [],
   "source": [
    "df2_IB = df2[df2['bydelsnavn'] == 'Indre By'] # Only interested in one neighbourhood (Indre By)"
   ]
  },
  {
   "cell_type": "code",
   "execution_count": 18,
   "metadata": {},
   "outputs": [],
   "source": [
    "df2_IB_group = df2_IB.groupby('slaegtsnavn')['id'].count() # Group by 'slaegtsnavn'\n",
    "df2_IB_group = pd.DataFrame(df2_IB_group) # Make it to a dataframe\n",
    "df2_IB_group.rename(columns={'id': 'Count'}, inplace=True) # Rename the column so it is now called count\n",
    "df2_IB_group.sort_values(by=['Count'],ascending=False, inplace=True) # Sort it by largest first"
   ]
  },
  {
   "cell_type": "code",
   "execution_count": 19,
   "metadata": {},
   "outputs": [],
   "source": [
    "#df2_IB_group # Distribution of tree sorts in the Indre By neighbourhood"
   ]
  },
  {
   "cell_type": "markdown",
   "metadata": {},
   "source": [
    "# Feature: ``Trae_historie``\n",
    "Small numbers but it could be funny to find out more about this"
   ]
  },
  {
   "cell_type": "code",
   "execution_count": 20,
   "metadata": {},
   "outputs": [
    {
     "data": {
      "text/plain": [
       "array(['Ikke registreret', 'Beskyttet via frivillig aftale', 'Hæderstræ',\n",
       "       'Donationstræ', 'Kulturhistorisk'], dtype=object)"
      ]
     },
     "execution_count": 20,
     "metadata": {},
     "output_type": "execute_result"
    }
   ],
   "source": [
    "df2['trae_historie'].unique()"
   ]
  },
  {
   "cell_type": "code",
   "execution_count": 21,
   "metadata": {},
   "outputs": [
    {
     "data": {
      "text/plain": [
       "trae_historie\n",
       "Beskyttet via frivillig aftale       14\n",
       "Donationstræ                         35\n",
       "Hæderstræ                            12\n",
       "Ikke registreret                  59515\n",
       "Kulturhistorisk                       4\n",
       "Name: id, dtype: int64"
      ]
     },
     "execution_count": 21,
     "metadata": {},
     "output_type": "execute_result"
    }
   ],
   "source": [
    "df2.groupby('trae_historie')['id'].count()"
   ]
  },
  {
   "cell_type": "markdown",
   "metadata": {},
   "source": [
    "**IDEA:** Interesting to investigate where in the city trees with a history is distributed."
   ]
  },
  {
   "cell_type": "markdown",
   "metadata": {},
   "source": [
    "# Check amount of NaN and 'Ikke registrerede' values in dataset"
   ]
  },
  {
   "cell_type": "code",
   "execution_count": 39,
   "metadata": {},
   "outputs": [
    {
     "name": "stdout",
     "output_type": "stream",
     "text": [
      "Number of observations in dataset 1: 19956\n"
     ]
    },
    {
     "data": {
      "text/plain": [
       "FID                             0\n",
       "id                              0\n",
       "traeart                         0\n",
       "slaegt                          0\n",
       "dansk_navn                      1\n",
       "slaegtsnavn                    16\n",
       "planteaar                       2\n",
       "plantet_halvaar                 0\n",
       "garantiperioden_udloeber        0\n",
       "plantemetode                    0\n",
       "ejer                            0\n",
       "driftsorganisation              0\n",
       "driftsplan_navn                 0\n",
       "driftsaftale_edoc_nr        19884\n",
       "bemaerkning                 15687\n",
       "andre_vaekstforhold         19449\n",
       "fredet_beskyttet_trae           0\n",
       "fredning_edoc_nr            19713\n",
       "trae_historie                   0\n",
       "botanisk_interesse              0\n",
       "donor                       19932\n",
       "anledning                   19954\n",
       "saerligt_trae                   0\n",
       "saerlig_trae_bem            19653\n",
       "bydelsnavn                      0\n",
       "fredet_trae_foto            19759\n",
       "vejstatus                     831\n",
       "wkb_geometry                    0\n",
       "dtype: int64"
      ]
     },
     "execution_count": 39,
     "metadata": {},
     "output_type": "execute_result"
    }
   ],
   "source": [
    "print(f'Number of observations in dataset 1: {len(df1)}')\n",
    "df1.isna().sum()"
   ]
  },
  {
   "cell_type": "markdown",
   "metadata": {},
   "source": [
    "It should be noted that many of the features are only containing NaN values."
   ]
  },
  {
   "cell_type": "code",
   "execution_count": 42,
   "metadata": {},
   "outputs": [
    {
     "name": "stdout",
     "output_type": "stream",
     "text": [
      "Number of observations in dataset 2: 59580\n",
      "The first 20 features are printed below:\n"
     ]
    },
    {
     "data": {
      "text/plain": [
       "FID                        0\n",
       "kategori                   0\n",
       "saerligt_trae              0\n",
       "id                         0\n",
       "type                       0\n",
       "element                 1068\n",
       "under_element          54625\n",
       "ny_dm_element           1778\n",
       "ny_dm_under_element     1778\n",
       "arbsted_tekst_id        1236\n",
       "driftsplan_navn          296\n",
       "enhedsomraade            224\n",
       "traeart                    2\n",
       "dansk_navn                 3\n",
       "slaegtsnavn               23\n",
       "planteaar              26783\n",
       "plantet_halvaar            0\n",
       "faeldningsaar              0\n",
       "bydelsnavn              2574\n",
       "omraade                    0\n",
       "dtype: int64"
      ]
     },
     "execution_count": 42,
     "metadata": {},
     "output_type": "execute_result"
    }
   ],
   "source": [
    "print(f'Number of observations in dataset 2: {len(df2)}')\n",
    "new = df2.isna().sum()\n",
    "print(f'The first 20 features are printed below:')\n",
    "new[0:20]"
   ]
  },
  {
   "cell_type": "markdown",
   "metadata": {},
   "source": [
    "Note that the feature ``fealningsaar`` don't contain any NaN-values. However by inspecting it further it is seen that all observations in the dataset will have *Ikke registreret* in this column."
   ]
  },
  {
   "cell_type": "code",
   "execution_count": 43,
   "metadata": {},
   "outputs": [
    {
     "data": {
      "text/plain": [
       "59580"
      ]
     },
     "execution_count": 43,
     "metadata": {},
     "output_type": "execute_result"
    }
   ],
   "source": [
    "df2[df2['faeldningsaar']== 'Ikke registreret'].count()['faeldningsaar']"
   ]
  },
  {
   "cell_type": "markdown",
   "metadata": {},
   "source": [
    "Lets therefor check all the features. First 20 is displayed."
   ]
  },
  {
   "cell_type": "code",
   "execution_count": 57,
   "metadata": {},
   "outputs": [
    {
     "data": {
      "text/plain": [
       "FID                        0\n",
       "kategori                   0\n",
       "saerligt_trae              0\n",
       "id                         0\n",
       "type                       0\n",
       "element                    0\n",
       "under_element              0\n",
       "ny_dm_element              0\n",
       "ny_dm_under_element        0\n",
       "arbsted_tekst_id           0\n",
       "driftsplan_navn            0\n",
       "enhedsomraade              0\n",
       "traeart                25368\n",
       "dansk_navn             25368\n",
       "slaegtsnavn            29806\n",
       "planteaar                  0\n",
       "plantet_halvaar        46321\n",
       "faeldningsaar          59580\n",
       "bydelsnavn                 0\n",
       "omraade                 4330\n",
       "dtype: int64"
      ]
     },
     "execution_count": 57,
     "metadata": {},
     "output_type": "execute_result"
    }
   ],
   "source": [
    "df2[df2=='Ikke registreret'].count()[0:20]"
   ]
  },
  {
   "cell_type": "code",
   "execution_count": 59,
   "metadata": {},
   "outputs": [
    {
     "data": {
      "text/plain": [
       "FID                             0\n",
       "id                              0\n",
       "traeart                       126\n",
       "slaegt                        106\n",
       "dansk_navn                    126\n",
       "slaegtsnavn                   106\n",
       "planteaar                       0\n",
       "plantet_halvaar             14075\n",
       "garantiperioden_udloeber    17969\n",
       "plantemetode                  616\n",
       "ejer                          268\n",
       "driftsorganisation             51\n",
       "driftsplan_navn                 0\n",
       "driftsaftale_edoc_nr            0\n",
       "bemaerkning                     0\n",
       "andre_vaekstforhold             0\n",
       "fredet_beskyttet_trae       19658\n",
       "fredning_edoc_nr                0\n",
       "trae_historie               19929\n",
       "botanisk_interesse          19955\n",
       "donor                           0\n",
       "anledning                       0\n",
       "saerligt_trae                   0\n",
       "saerlig_trae_bem                0\n",
       "bydelsnavn                      0\n",
       "fredet_trae_foto                0\n",
       "vejstatus                       0\n",
       "wkb_geometry                    0\n",
       "dtype: int64"
      ]
     },
     "execution_count": 59,
     "metadata": {},
     "output_type": "execute_result"
    }
   ],
   "source": [
    "df1[df1=='Ikke registreret'].count()"
   ]
  },
  {
   "cell_type": "markdown",
   "metadata": {},
   "source": [
    "# Feature: ``Planteaar investigated``"
   ]
  },
  {
   "cell_type": "code",
   "execution_count": 56,
   "metadata": {},
   "outputs": [
    {
     "data": {
      "text/plain": [
       "planteaar\n",
       "2019.0    1119\n",
       "2016.0     950\n",
       "1995.0     913\n",
       "2001.0     823\n",
       "2005.0     823\n",
       "1980.0     769\n",
       "2018.0     680\n",
       "2009.0     664\n",
       "1990.0     645\n",
       "1976.0     605\n",
       "Name: id, dtype: int64"
      ]
     },
     "execution_count": 56,
     "metadata": {},
     "output_type": "execute_result"
    }
   ],
   "source": [
    "planteaar = df1.groupby('planteaar')['id'].count()\n",
    "planteaar = planteaar.sort_values(ascending=False)\n",
    "planteaar.iloc[0:10]\n"
   ]
  },
  {
   "cell_type": "markdown",
   "metadata": {},
   "source": [
    "We could go in and have a look at *'Lokal planerne'* for the municipality, to see why there planted almost the double amunt of tree from 2018 to 2019. It could be because of the metro and the opening of the stations (can see where they have been planted and thereby try to couple it to the metro stations and maybe find that they are placed the same places), or it could be because the municipality agreed to plant more trees? "
   ]
  },
  {
   "cell_type": "markdown",
   "metadata": {},
   "source": [
    "# Feature: ``Ejer forhold``"
   ]
  },
  {
   "cell_type": "code",
   "execution_count": 48,
   "metadata": {},
   "outputs": [
    {
     "data": {
      "text/plain": [
       "ejer\n",
       "Ikke registreret      268\n",
       "KK andre end TMF        4\n",
       "Privat                 32\n",
       "TMF                 19652\n",
       "Name: id, dtype: int64"
      ]
     },
     "execution_count": 48,
     "metadata": {},
     "output_type": "execute_result"
    }
   ],
   "source": [
    "df1.groupby('ejer')['id'].count() ## KK = Københavns kommune, TMF = Teknik og miljøforvaltningen"
   ]
  },
  {
   "cell_type": "code",
   "execution_count": 46,
   "metadata": {},
   "outputs": [
    {
     "data": {
      "text/plain": [
       "ejer\n",
       "Ikke registreret    35588\n",
       "KK andre end TMF       57\n",
       "Privat               1003\n",
       "TMF                 22932\n",
       "Name: id, dtype: int64"
      ]
     },
     "execution_count": 46,
     "metadata": {},
     "output_type": "execute_result"
    }
   ],
   "source": [
    "df2.groupby('ejer')['id'].count()"
   ]
  },
  {
   "cell_type": "markdown",
   "metadata": {},
   "source": [
    "# Feature: ``doner``"
   ]
  },
  {
   "cell_type": "code",
   "execution_count": 60,
   "metadata": {},
   "outputs": [
    {
     "data": {
      "text/plain": [
       "donor\n",
       "DSB                                          1\n",
       "Det Kgl. Danske Kunstakademi                 1\n",
       "FTM                                          1\n",
       "Foreningen til Hovedstadens Forskønnelse     2\n",
       "Lions Club                                   1\n",
       "Plant et træ                                 2\n",
       "SITAS                                        2\n",
       "SITAS planteskole                            2\n",
       "Valby Rotary Club                           12\n",
       "Name: id, dtype: int64"
      ]
     },
     "execution_count": 60,
     "metadata": {},
     "output_type": "execute_result"
    }
   ],
   "source": [
    "df1.groupby('donor')['id'].count()"
   ]
  },
  {
   "cell_type": "code",
   "execution_count": 61,
   "metadata": {},
   "outputs": [
    {
     "data": {
      "text/plain": [
       "donor\n",
       "DSB                                                    1\n",
       "Danmarks naturfrednings Forening                       1\n",
       "Den makedonske Ambassade                               1\n",
       "Det Danske samfund i Østrig v. Barbara Kauders         1\n",
       "Det Kgl. Danske Kunstakademi                           1\n",
       "Eventyrernes klub                                      1\n",
       "FTM                                                    6\n",
       "Foreningen til Hovedstadens Forskønnelse               3\n",
       "Gartneribrugets afsætningsudvalg                       1\n",
       "Guangzhou International Award for Urban Innovation    10\n",
       "Indsamling i England og Danmark                        1\n",
       "Jf Peder Clement, modtaget fra Ålholm Arboret          6\n",
       "Journalistforbundet, American Red Wood Association     2\n",
       "Jugendaustauschwerk im Kreis Gütersloh E.V.            1\n",
       "Lions Club                                             1\n",
       "Plant et træ                                           2\n",
       "SITAS                                                  4\n",
       "SITAS planteskole                                      2\n",
       "Tokyo by v. Dr.Ryotaro Azuma, Governor of Tokyo        3\n",
       "Valby Rotary Club                                     12\n",
       "Name: id, dtype: int64"
      ]
     },
     "execution_count": 61,
     "metadata": {},
     "output_type": "execute_result"
    }
   ],
   "source": [
    "df2.groupby('donor')['id'].count()"
   ]
  },
  {
   "cell_type": "code",
   "execution_count": null,
   "metadata": {},
   "outputs": [],
   "source": []
  },
  {
   "cell_type": "markdown",
   "metadata": {},
   "source": [
    "# Feature: ``botanisk_interesse``"
   ]
  },
  {
   "cell_type": "code",
   "execution_count": 64,
   "metadata": {},
   "outputs": [
    {
     "data": {
      "text/plain": [
       "botanisk_interesse\n",
       "Ikke registreret    59427\n",
       "Ja                    153\n",
       "Name: id, dtype: int64"
      ]
     },
     "execution_count": 64,
     "metadata": {},
     "output_type": "execute_result"
    }
   ],
   "source": [
    "df2.groupby('botanisk_interesse')['id'].count()"
   ]
  },
  {
   "cell_type": "markdown",
   "metadata": {},
   "source": [
    "What kind of trees have a *'botanisk_interesse'* and where are they placed in Copenhagen?"
   ]
  },
  {
   "cell_type": "code",
   "execution_count": 6,
   "metadata": {},
   "outputs": [
    {
     "data": {
      "text/plain": [
       "torso_hoejde\n",
       "0-3 meter        64\n",
       "3-6 meter       179\n",
       "over 6 meter     36\n",
       "Name: id, dtype: int64"
      ]
     },
     "execution_count": 6,
     "metadata": {},
     "output_type": "execute_result"
    }
   ],
   "source": [
    "df2.groupby('torso_hoejde')['id'].count()"
   ]
  },
  {
   "cell_type": "code",
   "execution_count": 7,
   "metadata": {},
   "outputs": [
    {
     "data": {
      "text/plain": [
       "array([nan, '0-3 meter', '3-6 meter', 'over 6 meter'], dtype=object)"
      ]
     },
     "execution_count": 7,
     "metadata": {},
     "output_type": "execute_result"
    }
   ],
   "source": [
    "df2['torso_hoejde'].unique()"
   ]
  },
  {
   "cell_type": "markdown",
   "metadata": {},
   "source": [
    "- Sammenligne med luftforurening?\n",
    "- "
   ]
  }
 ],
 "metadata": {
  "kernelspec": {
   "display_name": "Python 3",
   "language": "python",
   "name": "python3"
  },
  "language_info": {
   "codemirror_mode": {
    "name": "ipython",
    "version": 3
   },
   "file_extension": ".py",
   "mimetype": "text/x-python",
   "name": "python",
   "nbconvert_exporter": "python",
   "pygments_lexer": "ipython3",
   "version": "3.7.3"
  }
 },
 "nbformat": 4,
 "nbformat_minor": 2
}
