{
 "cells": [
  {
   "cell_type": "markdown",
   "metadata": {},
   "source": [
    "# Project in Social Data Analysis\n",
    "\n",
    "Data links:\n",
    "- https://www.opendata.dk/city-of-copenhagen/trae_basis \n",
    "- https://www.opendata.dk/city-of-copenhagen/gadetraeer\n",
    "\n",
    "Inspiration til vores illustration:\n",
    "https://www.cloudred.com/labprojects/nyctrees/"
   ]
  },
  {
   "cell_type": "code",
   "execution_count": 1,
   "metadata": {},
   "outputs": [],
   "source": [
    "import pandas as pd\n",
    "import numpy as np\n",
    "import matplotlib.pyplot as plt"
   ]
  },
  {
   "cell_type": "code",
   "execution_count": 2,
   "metadata": {},
   "outputs": [],
   "source": [
    "df = pd.read_csv(\"gadetraer.csv\")"
   ]
  },
  {
   "cell_type": "code",
   "execution_count": 3,
   "metadata": {},
   "outputs": [
    {
     "data": {
      "text/html": [
       "<div>\n",
       "<style scoped>\n",
       "    .dataframe tbody tr th:only-of-type {\n",
       "        vertical-align: middle;\n",
       "    }\n",
       "\n",
       "    .dataframe tbody tr th {\n",
       "        vertical-align: top;\n",
       "    }\n",
       "\n",
       "    .dataframe thead th {\n",
       "        text-align: right;\n",
       "    }\n",
       "</style>\n",
       "<table border=\"1\" class=\"dataframe\">\n",
       "  <thead>\n",
       "    <tr style=\"text-align: right;\">\n",
       "      <th></th>\n",
       "      <th>FID</th>\n",
       "      <th>id</th>\n",
       "      <th>traeart</th>\n",
       "      <th>slaegt</th>\n",
       "      <th>dansk_navn</th>\n",
       "      <th>slaegtsnavn</th>\n",
       "      <th>planteaar</th>\n",
       "      <th>plantet_halvaar</th>\n",
       "      <th>garantiperioden_udloeber</th>\n",
       "      <th>plantemetode</th>\n",
       "      <th>...</th>\n",
       "      <th>trae_historie</th>\n",
       "      <th>botanisk_interesse</th>\n",
       "      <th>donor</th>\n",
       "      <th>anledning</th>\n",
       "      <th>saerligt_trae</th>\n",
       "      <th>saerlig_trae_bem</th>\n",
       "      <th>bydelsnavn</th>\n",
       "      <th>fredet_trae_foto</th>\n",
       "      <th>vejstatus</th>\n",
       "      <th>wkb_geometry</th>\n",
       "    </tr>\n",
       "  </thead>\n",
       "  <tbody>\n",
       "    <tr>\n",
       "      <th>0</th>\n",
       "      <td>gadetraer.1</td>\n",
       "      <td>18611</td>\n",
       "      <td>Tilia platyphyllos</td>\n",
       "      <td>Tilia sp.</td>\n",
       "      <td>Storbladet lind</td>\n",
       "      <td>Lind</td>\n",
       "      <td>1953</td>\n",
       "      <td>Ikke registreret</td>\n",
       "      <td>Ikke registreret</td>\n",
       "      <td>Muld</td>\n",
       "      <td>...</td>\n",
       "      <td>Ikke registreret</td>\n",
       "      <td>Ikke registreret</td>\n",
       "      <td>NaN</td>\n",
       "      <td>NaN</td>\n",
       "      <td>nej</td>\n",
       "      <td>NaN</td>\n",
       "      <td>Vesterbro-Kongens Enghave</td>\n",
       "      <td>NaN</td>\n",
       "      <td>2.0</td>\n",
       "      <td>POINT (12.5370471883976 55.6486340745573)</td>\n",
       "    </tr>\n",
       "    <tr>\n",
       "      <th>1</th>\n",
       "      <td>gadetraer.2</td>\n",
       "      <td>21291</td>\n",
       "      <td>Tilia platyphyllos</td>\n",
       "      <td>Tilia sp.</td>\n",
       "      <td>Storbladet lind</td>\n",
       "      <td>Lind</td>\n",
       "      <td>1953</td>\n",
       "      <td>Ikke registreret</td>\n",
       "      <td>Ikke registreret</td>\n",
       "      <td>Muld</td>\n",
       "      <td>...</td>\n",
       "      <td>Ikke registreret</td>\n",
       "      <td>Ikke registreret</td>\n",
       "      <td>NaN</td>\n",
       "      <td>NaN</td>\n",
       "      <td>nej</td>\n",
       "      <td>NaN</td>\n",
       "      <td>Vesterbro-Kongens Enghave</td>\n",
       "      <td>NaN</td>\n",
       "      <td>2.0</td>\n",
       "      <td>POINT (12.536925020477707 55.64867988581558)</td>\n",
       "    </tr>\n",
       "    <tr>\n",
       "      <th>2</th>\n",
       "      <td>gadetraer.3</td>\n",
       "      <td>21292</td>\n",
       "      <td>Tilia platyphyllos</td>\n",
       "      <td>Tilia sp.</td>\n",
       "      <td>Storbladet lind</td>\n",
       "      <td>Lind</td>\n",
       "      <td>1953</td>\n",
       "      <td>Ikke registreret</td>\n",
       "      <td>Ikke registreret</td>\n",
       "      <td>Muld</td>\n",
       "      <td>...</td>\n",
       "      <td>Ikke registreret</td>\n",
       "      <td>Ikke registreret</td>\n",
       "      <td>NaN</td>\n",
       "      <td>NaN</td>\n",
       "      <td>nej</td>\n",
       "      <td>NaN</td>\n",
       "      <td>Vesterbro-Kongens Enghave</td>\n",
       "      <td>NaN</td>\n",
       "      <td>2.0</td>\n",
       "      <td>POINT (12.537000905330974 55.64876361021244)</td>\n",
       "    </tr>\n",
       "    <tr>\n",
       "      <th>3</th>\n",
       "      <td>gadetraer.4</td>\n",
       "      <td>21293</td>\n",
       "      <td>Tilia platyphyllos</td>\n",
       "      <td>Tilia sp.</td>\n",
       "      <td>Storbladet lind</td>\n",
       "      <td>Lind</td>\n",
       "      <td>1953</td>\n",
       "      <td>Ikke registreret</td>\n",
       "      <td>Ikke registreret</td>\n",
       "      <td>Muld</td>\n",
       "      <td>...</td>\n",
       "      <td>Ikke registreret</td>\n",
       "      <td>Ikke registreret</td>\n",
       "      <td>NaN</td>\n",
       "      <td>NaN</td>\n",
       "      <td>nej</td>\n",
       "      <td>NaN</td>\n",
       "      <td>Vesterbro-Kongens Enghave</td>\n",
       "      <td>NaN</td>\n",
       "      <td>2.0</td>\n",
       "      <td>POINT (12.537133269649273 55.64872321507861)</td>\n",
       "    </tr>\n",
       "    <tr>\n",
       "      <th>4</th>\n",
       "      <td>gadetraer.5</td>\n",
       "      <td>21294</td>\n",
       "      <td>Tilia platyphyllos</td>\n",
       "      <td>Tilia sp.</td>\n",
       "      <td>Storbladet lind</td>\n",
       "      <td>Lind</td>\n",
       "      <td>1953</td>\n",
       "      <td>Ikke registreret</td>\n",
       "      <td>Ikke registreret</td>\n",
       "      <td>Muld</td>\n",
       "      <td>...</td>\n",
       "      <td>Ikke registreret</td>\n",
       "      <td>Ikke registreret</td>\n",
       "      <td>NaN</td>\n",
       "      <td>NaN</td>\n",
       "      <td>nej</td>\n",
       "      <td>NaN</td>\n",
       "      <td>Vesterbro-Kongens Enghave</td>\n",
       "      <td>NaN</td>\n",
       "      <td>2.0</td>\n",
       "      <td>POINT (12.537399549194998 55.648992732825036)</td>\n",
       "    </tr>\n",
       "  </tbody>\n",
       "</table>\n",
       "<p>5 rows × 28 columns</p>\n",
       "</div>"
      ],
      "text/plain": [
       "           FID     id              traeart     slaegt       dansk_navn  \\\n",
       "0  gadetraer.1  18611  Tilia platyphyllos   Tilia sp.  Storbladet lind   \n",
       "1  gadetraer.2  21291  Tilia platyphyllos   Tilia sp.  Storbladet lind   \n",
       "2  gadetraer.3  21292  Tilia platyphyllos   Tilia sp.  Storbladet lind   \n",
       "3  gadetraer.4  21293  Tilia platyphyllos   Tilia sp.  Storbladet lind   \n",
       "4  gadetraer.5  21294  Tilia platyphyllos   Tilia sp.  Storbladet lind   \n",
       "\n",
       "  slaegtsnavn planteaar   plantet_halvaar garantiperioden_udloeber  \\\n",
       "0        Lind      1953  Ikke registreret         Ikke registreret   \n",
       "1        Lind      1953  Ikke registreret         Ikke registreret   \n",
       "2        Lind      1953  Ikke registreret         Ikke registreret   \n",
       "3        Lind      1953  Ikke registreret         Ikke registreret   \n",
       "4        Lind      1953  Ikke registreret         Ikke registreret   \n",
       "\n",
       "  plantemetode  ...     trae_historie botanisk_interesse donor anledning  \\\n",
       "0         Muld  ...  Ikke registreret   Ikke registreret   NaN       NaN   \n",
       "1         Muld  ...  Ikke registreret   Ikke registreret   NaN       NaN   \n",
       "2         Muld  ...  Ikke registreret   Ikke registreret   NaN       NaN   \n",
       "3         Muld  ...  Ikke registreret   Ikke registreret   NaN       NaN   \n",
       "4         Muld  ...  Ikke registreret   Ikke registreret   NaN       NaN   \n",
       "\n",
       "  saerligt_trae saerlig_trae_bem                 bydelsnavn fredet_trae_foto  \\\n",
       "0           nej              NaN  Vesterbro-Kongens Enghave              NaN   \n",
       "1           nej              NaN  Vesterbro-Kongens Enghave              NaN   \n",
       "2           nej              NaN  Vesterbro-Kongens Enghave              NaN   \n",
       "3           nej              NaN  Vesterbro-Kongens Enghave              NaN   \n",
       "4           nej              NaN  Vesterbro-Kongens Enghave              NaN   \n",
       "\n",
       "  vejstatus                                   wkb_geometry  \n",
       "0       2.0      POINT (12.5370471883976 55.6486340745573)  \n",
       "1       2.0   POINT (12.536925020477707 55.64867988581558)  \n",
       "2       2.0   POINT (12.537000905330974 55.64876361021244)  \n",
       "3       2.0   POINT (12.537133269649273 55.64872321507861)  \n",
       "4       2.0  POINT (12.537399549194998 55.648992732825036)  \n",
       "\n",
       "[5 rows x 28 columns]"
      ]
     },
     "execution_count": 3,
     "metadata": {},
     "output_type": "execute_result"
    }
   ],
   "source": [
    "df.head()"
   ]
  },
  {
   "cell_type": "code",
   "execution_count": 4,
   "metadata": {},
   "outputs": [],
   "source": [
    "import matplotlib.pyplot as plt"
   ]
  },
  {
   "cell_type": "code",
   "execution_count": 14,
   "metadata": {},
   "outputs": [],
   "source": [
    "traer = df.slaegtsnavn.count()"
   ]
  },
  {
   "cell_type": "code",
   "execution_count": 15,
   "metadata": {},
   "outputs": [
    {
     "data": {
      "text/plain": [
       "17123"
      ]
     },
     "execution_count": 15,
     "metadata": {},
     "output_type": "execute_result"
    }
   ],
   "source": [
    "traer"
   ]
  },
  {
   "cell_type": "code",
   "execution_count": 13,
   "metadata": {},
   "outputs": [
    {
     "data": {
      "text/plain": [
       "array(['Vesterbro-Kongens Enghave', 'Valby', 'Nørrebro', 'Indre By',\n",
       "       'Amager Øst', nan, 'Vanløse', 'Østerbro', 'Amager Vest',\n",
       "       'Bispebjerg', 'Brønshøj-Husum',\n",
       "       'POINT (12.616383285580074 55.64228414230211)', '2'], dtype=object)"
      ]
     },
     "execution_count": 13,
     "metadata": {},
     "output_type": "execute_result"
    }
   ],
   "source": [
    "df.bydelsnavn.unique()"
   ]
  }
 ],
 "metadata": {
  "kernelspec": {
   "display_name": "Python 3",
   "language": "python",
   "name": "python3"
  },
  "language_info": {
   "codemirror_mode": {
    "name": "ipython",
    "version": 3
   },
   "file_extension": ".py",
   "mimetype": "text/x-python",
   "name": "python",
   "nbconvert_exporter": "python",
   "pygments_lexer": "ipython3",
   "version": "3.7.3"
  }
 },
 "nbformat": 4,
 "nbformat_minor": 2
}
